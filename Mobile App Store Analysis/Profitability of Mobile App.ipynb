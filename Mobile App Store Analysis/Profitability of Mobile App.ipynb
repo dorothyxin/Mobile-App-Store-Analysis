{
 "cells": [
  {
   "cell_type": "markdown",
   "id": "069c922b",
   "metadata": {
    "toc": true
   },
   "source": [
    "<h1>Table of Contents<span class=\"tocSkip\"></span></h1>\n",
    "<div class=\"toc\"><ul class=\"toc-item\"><li><span><a href=\"#Introduction\" data-toc-modified-id=\"Introduction-1\"><span class=\"toc-item-num\">1&nbsp;&nbsp;</span>Introduction</a></span></li><li><span><a href=\"#Loading-libraries-and-data\" data-toc-modified-id=\"Loading-libraries-and-data-2\"><span class=\"toc-item-num\">2&nbsp;&nbsp;</span>Loading libraries and data</a></span></li><li><span><a href=\"#Undertanding-the-data\" data-toc-modified-id=\"Undertanding-the-data-3\"><span class=\"toc-item-num\">3&nbsp;&nbsp;</span>Undertanding the data</a></span></li><li><span><a href=\"#Data-Visualization\" data-toc-modified-id=\"Data-Visualization-4\"><span class=\"toc-item-num\">4&nbsp;&nbsp;</span>Data Visualization</a></span></li><li><span><a href=\"#Feature-Engineering\" data-toc-modified-id=\"Feature-Engineering-5\"><span class=\"toc-item-num\">5&nbsp;&nbsp;</span>Feature Engineering</a></span></li><li><span><a href=\"#Prediction\" data-toc-modified-id=\"Prediction-6\"><span class=\"toc-item-num\">6&nbsp;&nbsp;</span>Prediction</a></span></li></ul></div>"
   ]
  },
  {
   "cell_type": "markdown",
   "id": "1ac72ed1",
   "metadata": {},
   "source": [
    "# Introduction"
   ]
  },
  {
   "cell_type": "markdown",
   "id": "927edfd0",
   "metadata": {},
   "source": [
    "The ever-changing mobile landscape is a challenging space to navigate. . The percentage of mobile over desktop is only increasing. Android holds about 53.2% of the smartphone market, while iOS is 43%. To get more people to download your app, you need to make sure they can easily find your app. Mobile app analytics is a great way to understand the existing strategy to drive growth and retention of future user."
   ]
  },
  {
   "cell_type": "markdown",
   "id": "779aa02e",
   "metadata": {},
   "source": [
    "# Loading libraries and data"
   ]
  },
  {
   "cell_type": "code",
   "execution_count": 1,
   "id": "46cd34e4",
   "metadata": {},
   "outputs": [
    {
     "data": {
      "text/html": [
       "        <script type=\"text/javascript\">\n",
       "        window.PlotlyConfig = {MathJaxConfig: 'local'};\n",
       "        if (window.MathJax) {MathJax.Hub.Config({SVG: {font: \"STIX-Web\"}});}\n",
       "        if (typeof require !== 'undefined') {\n",
       "        require.undef(\"plotly\");\n",
       "        requirejs.config({\n",
       "            paths: {\n",
       "                'plotly': ['https://cdn.plot.ly/plotly-2.4.2.min']\n",
       "            }\n",
       "        });\n",
       "        require(['plotly'], function(Plotly) {\n",
       "            window._Plotly = Plotly;\n",
       "        });\n",
       "        }\n",
       "        </script>\n",
       "        "
      ]
     },
     "metadata": {},
     "output_type": "display_data"
    }
   ],
   "source": [
    "import pandas as pd\n",
    "import numpy as np\n",
    "\n",
    "import matplotlib.pyplot as plt\n",
    "import seaborn as sns\n",
    "plt.style.use('seaborn')\n",
    "sns.set(font_scale=1.8)\n",
    "\n",
    "import plotly.offline as py\n",
    "from plotly import tools\n",
    "py.init_notebook_mode(connected=True)\n",
    "import plotly.graph_objs as go\n",
    "import missingno as msno\n",
    "import random\n",
    "\n",
    "from plotly import tools\n",
    "\n",
    "# Supress unnecessary warnings so that presentation looks clean\n",
    "import warnings\n",
    "warnings.filterwarnings(\"ignore\")"
   ]
  },
  {
   "cell_type": "code",
   "execution_count": 13,
   "id": "099ce7a9",
   "metadata": {},
   "outputs": [],
   "source": [
    "df_app = pd.read_csv('AppleStore.csv')\n",
    "df_description = pd.read_csv('appleStore_description.csv')"
   ]
  },
  {
   "cell_type": "markdown",
   "id": "05f0f7c9",
   "metadata": {},
   "source": [
    "# Undertanding the data"
   ]
  },
  {
   "cell_type": "code",
   "execution_count": 14,
   "id": "2bbfa8d9",
   "metadata": {},
   "outputs": [
    {
     "data": {
      "text/html": [
       "<div>\n",
       "<style scoped>\n",
       "    .dataframe tbody tr th:only-of-type {\n",
       "        vertical-align: middle;\n",
       "    }\n",
       "\n",
       "    .dataframe tbody tr th {\n",
       "        vertical-align: top;\n",
       "    }\n",
       "\n",
       "    .dataframe thead th {\n",
       "        text-align: right;\n",
       "    }\n",
       "</style>\n",
       "<table border=\"1\" class=\"dataframe\">\n",
       "  <thead>\n",
       "    <tr style=\"text-align: right;\">\n",
       "      <th></th>\n",
       "      <th>Unnamed: 0</th>\n",
       "      <th>id</th>\n",
       "      <th>track_name</th>\n",
       "      <th>size_bytes</th>\n",
       "      <th>currency</th>\n",
       "      <th>price</th>\n",
       "      <th>rating_count_tot</th>\n",
       "      <th>rating_count_ver</th>\n",
       "      <th>user_rating</th>\n",
       "      <th>user_rating_ver</th>\n",
       "      <th>ver</th>\n",
       "      <th>cont_rating</th>\n",
       "      <th>prime_genre</th>\n",
       "      <th>sup_devices.num</th>\n",
       "      <th>ipadSc_urls.num</th>\n",
       "      <th>lang.num</th>\n",
       "      <th>vpp_lic</th>\n",
       "    </tr>\n",
       "  </thead>\n",
       "  <tbody>\n",
       "    <tr>\n",
       "      <th>0</th>\n",
       "      <td>1</td>\n",
       "      <td>281656475</td>\n",
       "      <td>PAC-MAN Premium</td>\n",
       "      <td>100788224</td>\n",
       "      <td>USD</td>\n",
       "      <td>3.99</td>\n",
       "      <td>21292</td>\n",
       "      <td>26</td>\n",
       "      <td>4.0</td>\n",
       "      <td>4.5</td>\n",
       "      <td>6.3.5</td>\n",
       "      <td>4+</td>\n",
       "      <td>Games</td>\n",
       "      <td>38</td>\n",
       "      <td>5</td>\n",
       "      <td>10</td>\n",
       "      <td>1</td>\n",
       "    </tr>\n",
       "    <tr>\n",
       "      <th>1</th>\n",
       "      <td>2</td>\n",
       "      <td>281796108</td>\n",
       "      <td>Evernote - stay organized</td>\n",
       "      <td>158578688</td>\n",
       "      <td>USD</td>\n",
       "      <td>0.00</td>\n",
       "      <td>161065</td>\n",
       "      <td>26</td>\n",
       "      <td>4.0</td>\n",
       "      <td>3.5</td>\n",
       "      <td>8.2.2</td>\n",
       "      <td>4+</td>\n",
       "      <td>Productivity</td>\n",
       "      <td>37</td>\n",
       "      <td>5</td>\n",
       "      <td>23</td>\n",
       "      <td>1</td>\n",
       "    </tr>\n",
       "    <tr>\n",
       "      <th>2</th>\n",
       "      <td>3</td>\n",
       "      <td>281940292</td>\n",
       "      <td>WeatherBug - Local Weather, Radar, Maps, Alerts</td>\n",
       "      <td>100524032</td>\n",
       "      <td>USD</td>\n",
       "      <td>0.00</td>\n",
       "      <td>188583</td>\n",
       "      <td>2822</td>\n",
       "      <td>3.5</td>\n",
       "      <td>4.5</td>\n",
       "      <td>5.0.0</td>\n",
       "      <td>4+</td>\n",
       "      <td>Weather</td>\n",
       "      <td>37</td>\n",
       "      <td>5</td>\n",
       "      <td>3</td>\n",
       "      <td>1</td>\n",
       "    </tr>\n",
       "    <tr>\n",
       "      <th>3</th>\n",
       "      <td>4</td>\n",
       "      <td>282614216</td>\n",
       "      <td>eBay: Best App to Buy, Sell, Save! Online Shop...</td>\n",
       "      <td>128512000</td>\n",
       "      <td>USD</td>\n",
       "      <td>0.00</td>\n",
       "      <td>262241</td>\n",
       "      <td>649</td>\n",
       "      <td>4.0</td>\n",
       "      <td>4.5</td>\n",
       "      <td>5.10.0</td>\n",
       "      <td>12+</td>\n",
       "      <td>Shopping</td>\n",
       "      <td>37</td>\n",
       "      <td>5</td>\n",
       "      <td>9</td>\n",
       "      <td>1</td>\n",
       "    </tr>\n",
       "    <tr>\n",
       "      <th>4</th>\n",
       "      <td>5</td>\n",
       "      <td>282935706</td>\n",
       "      <td>Bible</td>\n",
       "      <td>92774400</td>\n",
       "      <td>USD</td>\n",
       "      <td>0.00</td>\n",
       "      <td>985920</td>\n",
       "      <td>5320</td>\n",
       "      <td>4.5</td>\n",
       "      <td>5.0</td>\n",
       "      <td>7.5.1</td>\n",
       "      <td>4+</td>\n",
       "      <td>Reference</td>\n",
       "      <td>37</td>\n",
       "      <td>5</td>\n",
       "      <td>45</td>\n",
       "      <td>1</td>\n",
       "    </tr>\n",
       "  </tbody>\n",
       "</table>\n",
       "</div>"
      ],
      "text/plain": [
       "   Unnamed: 0         id                                         track_name  \\\n",
       "0           1  281656475                                    PAC-MAN Premium   \n",
       "1           2  281796108                          Evernote - stay organized   \n",
       "2           3  281940292    WeatherBug - Local Weather, Radar, Maps, Alerts   \n",
       "3           4  282614216  eBay: Best App to Buy, Sell, Save! Online Shop...   \n",
       "4           5  282935706                                              Bible   \n",
       "\n",
       "   size_bytes currency  price  rating_count_tot  rating_count_ver  \\\n",
       "0   100788224      USD   3.99             21292                26   \n",
       "1   158578688      USD   0.00            161065                26   \n",
       "2   100524032      USD   0.00            188583              2822   \n",
       "3   128512000      USD   0.00            262241               649   \n",
       "4    92774400      USD   0.00            985920              5320   \n",
       "\n",
       "   user_rating  user_rating_ver     ver cont_rating   prime_genre  \\\n",
       "0          4.0              4.5   6.3.5          4+         Games   \n",
       "1          4.0              3.5   8.2.2          4+  Productivity   \n",
       "2          3.5              4.5   5.0.0          4+       Weather   \n",
       "3          4.0              4.5  5.10.0         12+      Shopping   \n",
       "4          4.5              5.0   7.5.1          4+     Reference   \n",
       "\n",
       "   sup_devices.num  ipadSc_urls.num  lang.num  vpp_lic  \n",
       "0               38                5        10        1  \n",
       "1               37                5        23        1  \n",
       "2               37                5         3        1  \n",
       "3               37                5         9        1  \n",
       "4               37                5        45        1  "
      ]
     },
     "execution_count": 14,
     "metadata": {},
     "output_type": "execute_result"
    }
   ],
   "source": [
    "df_app.head()"
   ]
  },
  {
   "cell_type": "code",
   "execution_count": 3,
   "id": "c2b6a90b",
   "metadata": {},
   "outputs": [
    {
     "data": {
      "text/plain": [
       "Unnamed: 0          0\n",
       "id                  0\n",
       "track_name          0\n",
       "size_bytes          0\n",
       "currency            0\n",
       "price               0\n",
       "rating_count_tot    0\n",
       "rating_count_ver    0\n",
       "user_rating         0\n",
       "user_rating_ver     0\n",
       "ver                 0\n",
       "cont_rating         0\n",
       "prime_genre         0\n",
       "sup_devices.num     0\n",
       "ipadSc_urls.num     0\n",
       "lang.num            0\n",
       "vpp_lic             0\n",
       "dtype: int64"
      ]
     },
     "execution_count": 3,
     "metadata": {},
     "output_type": "execute_result"
    }
   ],
   "source": [
    "df_app.isnull().sum()"
   ]
  },
  {
   "cell_type": "code",
   "execution_count": 4,
   "id": "7f1e466f",
   "metadata": {},
   "outputs": [
    {
     "data": {
      "text/html": [
       "<div>\n",
       "<style scoped>\n",
       "    .dataframe tbody tr th:only-of-type {\n",
       "        vertical-align: middle;\n",
       "    }\n",
       "\n",
       "    .dataframe tbody tr th {\n",
       "        vertical-align: top;\n",
       "    }\n",
       "\n",
       "    .dataframe thead th {\n",
       "        text-align: right;\n",
       "    }\n",
       "</style>\n",
       "<table border=\"1\" class=\"dataframe\">\n",
       "  <thead>\n",
       "    <tr style=\"text-align: right;\">\n",
       "      <th></th>\n",
       "      <th>id</th>\n",
       "      <th>track_name</th>\n",
       "      <th>size_bytes</th>\n",
       "      <th>app_desc</th>\n",
       "    </tr>\n",
       "  </thead>\n",
       "  <tbody>\n",
       "    <tr>\n",
       "      <th>0</th>\n",
       "      <td>281656475</td>\n",
       "      <td>PAC-MAN Premium</td>\n",
       "      <td>100788224</td>\n",
       "      <td>SAVE 20%, now only $3.99 for a limited time!\\n...</td>\n",
       "    </tr>\n",
       "    <tr>\n",
       "      <th>1</th>\n",
       "      <td>281796108</td>\n",
       "      <td>Evernote - stay organized</td>\n",
       "      <td>158578688</td>\n",
       "      <td>Let Evernote change the way you organize your ...</td>\n",
       "    </tr>\n",
       "    <tr>\n",
       "      <th>2</th>\n",
       "      <td>281940292</td>\n",
       "      <td>WeatherBug - Local Weather, Radar, Maps, Alerts</td>\n",
       "      <td>100524032</td>\n",
       "      <td>Download the most popular free weather app pow...</td>\n",
       "    </tr>\n",
       "    <tr>\n",
       "      <th>3</th>\n",
       "      <td>282614216</td>\n",
       "      <td>eBay: Best App to Buy, Sell, Save! Online Shop...</td>\n",
       "      <td>128512000</td>\n",
       "      <td>The eBay app is the best way to find anything ...</td>\n",
       "    </tr>\n",
       "    <tr>\n",
       "      <th>4</th>\n",
       "      <td>282935706</td>\n",
       "      <td>Bible</td>\n",
       "      <td>92774400</td>\n",
       "      <td>On more than 250 million devices around the wo...</td>\n",
       "    </tr>\n",
       "  </tbody>\n",
       "</table>\n",
       "</div>"
      ],
      "text/plain": [
       "          id                                         track_name  size_bytes  \\\n",
       "0  281656475                                    PAC-MAN Premium   100788224   \n",
       "1  281796108                          Evernote - stay organized   158578688   \n",
       "2  281940292    WeatherBug - Local Weather, Radar, Maps, Alerts   100524032   \n",
       "3  282614216  eBay: Best App to Buy, Sell, Save! Online Shop...   128512000   \n",
       "4  282935706                                              Bible    92774400   \n",
       "\n",
       "                                            app_desc  \n",
       "0  SAVE 20%, now only $3.99 for a limited time!\\n...  \n",
       "1  Let Evernote change the way you organize your ...  \n",
       "2  Download the most popular free weather app pow...  \n",
       "3  The eBay app is the best way to find anything ...  \n",
       "4  On more than 250 million devices around the wo...  "
      ]
     },
     "execution_count": 4,
     "metadata": {},
     "output_type": "execute_result"
    }
   ],
   "source": [
    "df_description.head()"
   ]
  },
  {
   "cell_type": "code",
   "execution_count": 5,
   "id": "7270dc2c",
   "metadata": {},
   "outputs": [
    {
     "data": {
      "text/plain": [
       "id            0\n",
       "track_name    0\n",
       "size_bytes    0\n",
       "app_desc      0\n",
       "dtype: int64"
      ]
     },
     "execution_count": 5,
     "metadata": {},
     "output_type": "execute_result"
    }
   ],
   "source": [
    "df_description.isnull().sum()"
   ]
  },
  {
   "cell_type": "markdown",
   "id": "61e605be",
   "metadata": {},
   "source": [
    "Merge datasets"
   ]
  },
  {
   "cell_type": "code",
   "execution_count": 39,
   "id": "a550f625",
   "metadata": {},
   "outputs": [],
   "source": [
    "df_app['app_desc'] = df_description['app_desc']"
   ]
  },
  {
   "cell_type": "code",
   "execution_count": 15,
   "id": "85098464",
   "metadata": {},
   "outputs": [],
   "source": [
    "df_app = df_app.iloc[:, 1:]"
   ]
  },
  {
   "cell_type": "code",
   "execution_count": 40,
   "id": "5c8a354e",
   "metadata": {},
   "outputs": [
    {
     "data": {
      "text/html": [
       "<div>\n",
       "<style scoped>\n",
       "    .dataframe tbody tr th:only-of-type {\n",
       "        vertical-align: middle;\n",
       "    }\n",
       "\n",
       "    .dataframe tbody tr th {\n",
       "        vertical-align: top;\n",
       "    }\n",
       "\n",
       "    .dataframe thead th {\n",
       "        text-align: right;\n",
       "    }\n",
       "</style>\n",
       "<table border=\"1\" class=\"dataframe\">\n",
       "  <thead>\n",
       "    <tr style=\"text-align: right;\">\n",
       "      <th></th>\n",
       "      <th>id</th>\n",
       "      <th>track_name</th>\n",
       "      <th>size_bytes</th>\n",
       "      <th>currency</th>\n",
       "      <th>price</th>\n",
       "      <th>rating_count_tot</th>\n",
       "      <th>rating_count_ver</th>\n",
       "      <th>user_rating</th>\n",
       "      <th>user_rating_ver</th>\n",
       "      <th>ver</th>\n",
       "      <th>cont_rating</th>\n",
       "      <th>prime_genre</th>\n",
       "      <th>sup_devices.num</th>\n",
       "      <th>ipadSc_urls.num</th>\n",
       "      <th>lang.num</th>\n",
       "      <th>vpp_lic</th>\n",
       "      <th>size_bytes_in_MB</th>\n",
       "      <th>isNotFree</th>\n",
       "      <th>app_desc</th>\n",
       "    </tr>\n",
       "  </thead>\n",
       "  <tbody>\n",
       "    <tr>\n",
       "      <th>0</th>\n",
       "      <td>281656475</td>\n",
       "      <td>PAC-MAN Premium</td>\n",
       "      <td>100788224</td>\n",
       "      <td>USD</td>\n",
       "      <td>3.99</td>\n",
       "      <td>21292</td>\n",
       "      <td>26</td>\n",
       "      <td>4.0</td>\n",
       "      <td>4.5</td>\n",
       "      <td>6.3.5</td>\n",
       "      <td>4+</td>\n",
       "      <td>Games</td>\n",
       "      <td>38</td>\n",
       "      <td>5</td>\n",
       "      <td>10</td>\n",
       "      <td>1</td>\n",
       "      <td>96.119141</td>\n",
       "      <td>1</td>\n",
       "      <td>SAVE 20%, now only $3.99 for a limited time!\\n...</td>\n",
       "    </tr>\n",
       "    <tr>\n",
       "      <th>1</th>\n",
       "      <td>281796108</td>\n",
       "      <td>Evernote - stay organized</td>\n",
       "      <td>158578688</td>\n",
       "      <td>USD</td>\n",
       "      <td>0.00</td>\n",
       "      <td>161065</td>\n",
       "      <td>26</td>\n",
       "      <td>4.0</td>\n",
       "      <td>3.5</td>\n",
       "      <td>8.2.2</td>\n",
       "      <td>4+</td>\n",
       "      <td>Productivity</td>\n",
       "      <td>37</td>\n",
       "      <td>5</td>\n",
       "      <td>23</td>\n",
       "      <td>1</td>\n",
       "      <td>151.232422</td>\n",
       "      <td>0</td>\n",
       "      <td>Let Evernote change the way you organize your ...</td>\n",
       "    </tr>\n",
       "    <tr>\n",
       "      <th>2</th>\n",
       "      <td>281940292</td>\n",
       "      <td>WeatherBug - Local Weather, Radar, Maps, Alerts</td>\n",
       "      <td>100524032</td>\n",
       "      <td>USD</td>\n",
       "      <td>0.00</td>\n",
       "      <td>188583</td>\n",
       "      <td>2822</td>\n",
       "      <td>3.5</td>\n",
       "      <td>4.5</td>\n",
       "      <td>5.0.0</td>\n",
       "      <td>4+</td>\n",
       "      <td>Weather</td>\n",
       "      <td>37</td>\n",
       "      <td>5</td>\n",
       "      <td>3</td>\n",
       "      <td>1</td>\n",
       "      <td>95.867188</td>\n",
       "      <td>0</td>\n",
       "      <td>Download the most popular free weather app pow...</td>\n",
       "    </tr>\n",
       "    <tr>\n",
       "      <th>3</th>\n",
       "      <td>282614216</td>\n",
       "      <td>eBay: Best App to Buy, Sell, Save! Online Shop...</td>\n",
       "      <td>128512000</td>\n",
       "      <td>USD</td>\n",
       "      <td>0.00</td>\n",
       "      <td>262241</td>\n",
       "      <td>649</td>\n",
       "      <td>4.0</td>\n",
       "      <td>4.5</td>\n",
       "      <td>5.10.0</td>\n",
       "      <td>12+</td>\n",
       "      <td>Shopping</td>\n",
       "      <td>37</td>\n",
       "      <td>5</td>\n",
       "      <td>9</td>\n",
       "      <td>1</td>\n",
       "      <td>122.558594</td>\n",
       "      <td>0</td>\n",
       "      <td>The eBay app is the best way to find anything ...</td>\n",
       "    </tr>\n",
       "    <tr>\n",
       "      <th>4</th>\n",
       "      <td>282935706</td>\n",
       "      <td>Bible</td>\n",
       "      <td>92774400</td>\n",
       "      <td>USD</td>\n",
       "      <td>0.00</td>\n",
       "      <td>985920</td>\n",
       "      <td>5320</td>\n",
       "      <td>4.5</td>\n",
       "      <td>5.0</td>\n",
       "      <td>7.5.1</td>\n",
       "      <td>4+</td>\n",
       "      <td>Reference</td>\n",
       "      <td>37</td>\n",
       "      <td>5</td>\n",
       "      <td>45</td>\n",
       "      <td>1</td>\n",
       "      <td>88.476562</td>\n",
       "      <td>0</td>\n",
       "      <td>On more than 250 million devices around the wo...</td>\n",
       "    </tr>\n",
       "  </tbody>\n",
       "</table>\n",
       "</div>"
      ],
      "text/plain": [
       "          id                                         track_name  size_bytes  \\\n",
       "0  281656475                                    PAC-MAN Premium   100788224   \n",
       "1  281796108                          Evernote - stay organized   158578688   \n",
       "2  281940292    WeatherBug - Local Weather, Radar, Maps, Alerts   100524032   \n",
       "3  282614216  eBay: Best App to Buy, Sell, Save! Online Shop...   128512000   \n",
       "4  282935706                                              Bible    92774400   \n",
       "\n",
       "  currency  price  rating_count_tot  rating_count_ver  user_rating  \\\n",
       "0      USD   3.99             21292                26          4.0   \n",
       "1      USD   0.00            161065                26          4.0   \n",
       "2      USD   0.00            188583              2822          3.5   \n",
       "3      USD   0.00            262241               649          4.0   \n",
       "4      USD   0.00            985920              5320          4.5   \n",
       "\n",
       "   user_rating_ver     ver cont_rating   prime_genre  sup_devices.num  \\\n",
       "0              4.5   6.3.5          4+         Games               38   \n",
       "1              3.5   8.2.2          4+  Productivity               37   \n",
       "2              4.5   5.0.0          4+       Weather               37   \n",
       "3              4.5  5.10.0         12+      Shopping               37   \n",
       "4              5.0   7.5.1          4+     Reference               37   \n",
       "\n",
       "   ipadSc_urls.num  lang.num  vpp_lic  size_bytes_in_MB  isNotFree  \\\n",
       "0                5        10        1         96.119141          1   \n",
       "1                5        23        1        151.232422          0   \n",
       "2                5         3        1         95.867188          0   \n",
       "3                5         9        1        122.558594          0   \n",
       "4                5        45        1         88.476562          0   \n",
       "\n",
       "                                            app_desc  \n",
       "0  SAVE 20%, now only $3.99 for a limited time!\\n...  \n",
       "1  Let Evernote change the way you organize your ...  \n",
       "2  Download the most popular free weather app pow...  \n",
       "3  The eBay app is the best way to find anything ...  \n",
       "4  On more than 250 million devices around the wo...  "
      ]
     },
     "execution_count": 40,
     "metadata": {},
     "output_type": "execute_result"
    }
   ],
   "source": [
    "df_app.head()"
   ]
  },
  {
   "cell_type": "markdown",
   "id": "ec33f532",
   "metadata": {},
   "source": [
    "Add new columns"
   ]
  },
  {
   "cell_type": "markdown",
   "id": "04494cd9",
   "metadata": {},
   "source": [
    "For convenience, Change the unit of size_bytes into Megabytes."
   ]
  },
  {
   "cell_type": "code",
   "execution_count": 17,
   "id": "1bf3ecc0",
   "metadata": {},
   "outputs": [],
   "source": [
    "df_app['size_bytes_in_MB'] = df_app['size_bytes'] / (1024 * 1024.0)"
   ]
  },
  {
   "cell_type": "markdown",
   "id": "622e953d",
   "metadata": {},
   "source": [
    "# Data Visualization"
   ]
  },
  {
   "cell_type": "markdown",
   "id": "7eb4b8e5",
   "metadata": {},
   "source": [
    "Free, Non Free¶"
   ]
  },
  {
   "cell_type": "code",
   "execution_count": 61,
   "id": "b3c4223d",
   "metadata": {},
   "outputs": [],
   "source": [
    "df_app['isNotFree'] = df_app['price'].apply(lambda x: 1 if x > 0 else 0)"
   ]
  },
  {
   "cell_type": "code",
   "execution_count": 20,
   "id": "744fe0cc",
   "metadata": {},
   "outputs": [
    {
     "data": {
      "image/png": "[encoded data removed]",
      "text/plain": [
       "<Figure size 576x396 with 1 Axes>"
      ]
     },
     "metadata": {},
     "output_type": "display_data"
    }
   ],
   "source": [
    "df_app['isNotFree'].value_counts().plot.bar()\n",
    "plt.xlabel('IsNotFree(Free == 0, NotFree == 1)')\n",
    "plt.ylabel('Count')\n",
    "plt.show()"
   ]
  },
  {
   "cell_type": "markdown",
   "id": "3b9401c1",
   "metadata": {},
   "source": [
    "As you can see, there are many free Apps. It will be interesting to analyze the df_app depending on free ore not free.\n",
    "\n",
    "Let's make the two dataframes for free and not-free."
   ]
  },
  {
   "cell_type": "code",
   "execution_count": 21,
   "id": "b51561ed",
   "metadata": {},
   "outputs": [
    {
     "name": "stdout",
     "output_type": "stream",
     "text": [
      "There are 3141 Not-Free Apps in this dataset\n",
      "There are 4056 Free Apps in this dataset\n"
     ]
    }
   ],
   "source": [
    "df_app_notfree = df_app[df_app['isNotFree'] == 1]\n",
    "df_app_free = df_app[df_app['isNotFree'] == 0]\n",
    "\n",
    "print('There are {} Not-Free Apps in this dataset'.format(df_app_notfree.shape[0]))\n",
    "print('There are {} Free Apps in this dataset'.format(df_app_free.shape[0]))"
   ]
  },
  {
   "cell_type": "markdown",
   "id": "62364e89",
   "metadata": {},
   "source": [
    "Prime_genre"
   ]
  },
  {
   "cell_type": "markdown",
   "id": "7a9b3e53",
   "metadata": {},
   "source": [
    "Countplot for each type of Prime_genre"
   ]
  },
  {
   "cell_type": "code",
   "execution_count": 22,
   "id": "638d3b75",
   "metadata": {},
   "outputs": [
    {
     "data": {
      "application/vnd.plotly.v1+json": {
       "config": {
        "linkText": "Export to plot.ly",
        "plotlyServerURL": "https://plot.ly",
        "showLink": false
       },
       "data": [
        {
         "marker": {
          "color": [
           "#0BB8FF",
           "#B8D0DE",
           "#E4832D",
           "#A7E3C3",
           "#5D18CD",
           "#C57898",
           "#AD5901",
           "#3CFD60",
           "#BBF375",
           "#A15C7F",
           "#A992A2",
           "#C8190C",
           "#9A6CF6",
           "#FA3E5F",
           "#C75DEB",
           "#BD910E",
           "#9C87D5",
           "#3C7EBD",
           "#480FE5",
           "#BE3783",
           "#AF6477",
           "#90660D",
           "#6F7F65",
           "#0E28F6",
           "#183B20",
           "#4244DA",
           "#6EE23A",
           "#3B5E66",
           "#3E58D0",
           "#0555EB",
           "#FC053E",
           "#CAEEB1",
           "#DC0D15",
           "#00F7E5",
           "#13E21C",
           "#484517",
           "#2FFA33",
           "#CE3699",
           "#E97D6C",
           "#9720AC",
           "#3138DB",
           "#C1695C",
           "#A41F7A",
           "#2D0EA1",
           "#1A21B0",
           "#AB72ED",
           "#1164A4",
           "#6DD397",
           "#9A41EB",
           "#582A21",
           "#E38F2F",
           "#CF83D0",
           "#CAC2ED",
           "#007D5C",
           "#0233AD",
           "#87CAE8",
           "#D3B647",
           "#8D8830",
           "#7E2535",
           "#E28C15",
           "#4E3440",
           "#29B774",
           "#5C628A",
           "#38D428",
           "#BA199E",
           "#40BE7F",
           "#217248",
           "#BAE990",
           "#3345B6",
           "#DABD71",
           "#41F0BE",
           "#E5E159",
           "#615DE1",
           "#437C31",
           "#4F2CFB",
           "#A8DE3D",
           "#A4AFDD",
           "#1F2B82",
           "#48002B",
           "#283225",
           "#68B0CC",
           "#84259A",
           "#D75491",
           "#E87EEC",
           "#58D7A3",
           "#3A3648",
           "#0CF6D2",
           "#12A48A",
           "#739E86",
           "#BF1083",
           "#0619D4",
           "#E2DE9B",
           "#E440DA",
           "#987784",
           "#7C4EAC",
           "#F935E4",
           "#88D913",
           "#B6845B",
           "#31ACF3",
           "#FE158E"
          ],
          "line": {
           "color": "rgb(8, 48, 107)",
           "width": 1.5
          }
         },
         "opacity": 0.7,
         "text": [
          "53.66%",
          "7.43%",
          "6.29%",
          "4.85%",
          "3.45%",
          "2.50%",
          "2.47%",
          "2.32%",
          "2.00%",
          "1.92%",
          "1.70%",
          "1.58%",
          "1.56%",
          "1.45%",
          "1.13%",
          "1.04%",
          "1.00%",
          "0.89%",
          "0.88%",
          "0.79%",
          "0.64%",
          "0.32%",
          "0.14%"
         ],
         "type": "bar",
         "x": [
          "Games",
          "Entertainment",
          "Education",
          "Photo & Video",
          "Utilities",
          "Health & Fitness",
          "Productivity",
          "Social Networking",
          "Lifestyle",
          "Music",
          "Shopping",
          "Sports",
          "Book",
          "Finance",
          "Travel",
          "News",
          "Weather",
          "Reference",
          "Food & Drink",
          "Business",
          "Navigation",
          "Medical",
          "Catalogs"
         ],
         "y": [
          3862,
          535,
          453,
          349,
          248,
          180,
          178,
          167,
          144,
          138,
          122,
          114,
          112,
          104,
          81,
          75,
          72,
          64,
          63,
          57,
          46,
          23,
          10
         ]
        }
       ],
       "layout": {
        "height": 500,
        "margin": {
         "l": 100
        },
        "template": {
         "data": {
          "bar": [
           {
            "error_x": {
             "color": "#2a3f5f"
            },
            "error_y": {
             "color": "#2a3f5f"
            },
            "marker": {
             "line": {
              "color": "#E5ECF6",
              "width": 0.5
             },
             "pattern": {
              "fillmode": "overlay",
              "size": 10,
              "solidity": 0.2
             }
            },
            "type": "bar"
           }
          ],
          "barpolar": [
           {
            "marker": {
             "line": {
              "color": "#E5ECF6",
              "width": 0.5
             },
             "pattern": {
              "fillmode": "overlay",
              "size": 10,
              "solidity": 0.2
             }
            },
            "type": "barpolar"
           }
          ],
          "carpet": [
           {
            "aaxis": {
             "endlinecolor": "#2a3f5f",
             "gridcolor": "white",
             "linecolor": "white",
             "minorgridcolor": "white",
             "startlinecolor": "#2a3f5f"
            },
            "baxis": {
             "endlinecolor": "#2a3f5f",
             "gridcolor": "white",
             "linecolor": "white",
             "minorgridcolor": "white",
             "startlinecolor": "#2a3f5f"
            },
            "type": "carpet"
           }
          ],
          "choropleth": [
           {
            "colorbar": {
             "outlinewidth": 0,
             "ticks": ""
            },
            "type": "choropleth"
           }
          ],
          "contour": [
           {
            "colorbar": {
             "outlinewidth": 0,
             "ticks": ""
            },
            "colorscale": [
             [
              0,
              "#0d0887"
             ],
             [
              0.1111111111111111,
              "#46039f"
             ],
             [
              0.2222222222222222,
              "#7201a8"
             ],
             [
              0.3333333333333333,
              "#9c179e"
             ],
             [
              0.4444444444444444,
              "#bd3786"
             ],
             [
              0.5555555555555556,
              "#d8576b"
             ],
             [
              0.6666666666666666,
              "#ed7953"
             ],
             [
              0.7777777777777778,
              "#fb9f3a"
             ],
             [
              0.8888888888888888,
              "#fdca26"
             ],
             [
              1,
              "#f0f921"
             ]
            ],
            "type": "contour"
           }
          ],
          "contourcarpet": [
           {
            "colorbar": {
             "outlinewidth": 0,
             "ticks": ""
            },
            "type": "contourcarpet"
           }
          ],
          "heatmap": [
           {
            "colorbar": {
             "outlinewidth": 0,
             "ticks": ""
            },
            "colorscale": [
             [
              0,
              "#0d0887"
             ],
             [
              0.1111111111111111,
              "#46039f"
             ],
             [
              0.2222222222222222,
              "#7201a8"
             ],
             [
              0.3333333333333333,
              "#9c179e"
             ],
             [
              0.4444444444444444,
              "#bd3786"
             ],
             [
              0.5555555555555556,
              "#d8576b"
             ],
             [
              0.6666666666666666,
              "#ed7953"
             ],
             [
              0.7777777777777778,
              "#fb9f3a"
             ],
             [
              0.8888888888888888,
              "#fdca26"
             ],
             [
              1,
              "#f0f921"
             ]
            ],
            "type": "heatmap"
           }
          ],
          "heatmapgl": [
           {
            "colorbar": {
             "outlinewidth": 0,
             "ticks": ""
            },
            "colorscale": [
             [
              0,
              "#0d0887"
             ],
             [
              0.1111111111111111,
              "#46039f"
             ],
             [
              0.2222222222222222,
              "#7201a8"
             ],
             [
              0.3333333333333333,
              "#9c179e"
             ],
             [
              0.4444444444444444,
              "#bd3786"
             ],
             [
              0.5555555555555556,
              "#d8576b"
             ],
             [
              0.6666666666666666,
              "#ed7953"
             ],
             [
              0.7777777777777778,
              "#fb9f3a"
             ],
             [
              0.8888888888888888,
              "#fdca26"
             ],
             [
              1,
              "#f0f921"
             ]
            ],
            "type": "heatmapgl"
           }
          ],
          "histogram": [
           {
            "marker": {
             "pattern": {
              "fillmode": "overlay",
              "size": 10,
              "solidity": 0.2
             }
            },
            "type": "histogram"
           }
          ],
          "histogram2d": [
           {
            "colorbar": {
             "outlinewidth": 0,
             "ticks": ""
            },
            "colorscale": [
             [
              0,
              "#0d0887"
             ],
             [
              0.1111111111111111,
              "#46039f"
             ],
             [
              0.2222222222222222,
              "#7201a8"
             ],
             [
              0.3333333333333333,
              "#9c179e"
             ],
             [
              0.4444444444444444,
              "#bd3786"
             ],
             [
              0.5555555555555556,
              "#d8576b"
             ],
             [
              0.6666666666666666,
              "#ed7953"
             ],
             [
              0.7777777777777778,
              "#fb9f3a"
             ],
             [
              0.8888888888888888,
              "#fdca26"
             ],
             [
              1,
              "#f0f921"
             ]
            ],
            "type": "histogram2d"
           }
          ],
          "histogram2dcontour": [
           {
            "colorbar": {
             "outlinewidth": 0,
             "ticks": ""
            },
            "colorscale": [
             [
              0,
              "#0d0887"
             ],
             [
              0.1111111111111111,
              "#46039f"
             ],
             [
              0.2222222222222222,
              "#7201a8"
             ],
             [
              0.3333333333333333,
              "#9c179e"
             ],
             [
              0.4444444444444444,
              "#bd3786"
             ],
             [
              0.5555555555555556,
              "#d8576b"
             ],
             [
              0.6666666666666666,
              "#ed7953"
             ],
             [
              0.7777777777777778,
              "#fb9f3a"
             ],
             [
              0.8888888888888888,
              "#fdca26"
             ],
             [
              1,
              "#f0f921"
             ]
            ],
            "type": "histogram2dcontour"
           }
          ],
          "mesh3d": [
           {
            "colorbar": {
             "outlinewidth": 0,
             "ticks": ""
            },
            "type": "mesh3d"
           }
          ],
          "parcoords": [
           {
            "line": {
             "colorbar": {
              "outlinewidth": 0,
              "ticks": ""
             }
            },
            "type": "parcoords"
           }
          ],
          "pie": [
           {
            "automargin": true,
            "type": "pie"
           }
          ],
          "scatter": [
           {
            "marker": {
             "colorbar": {
              "outlinewidth": 0,
              "ticks": ""
             }
            },
            "type": "scatter"
           }
          ],
          "scatter3d": [
           {
            "line": {
             "colorbar": {
              "outlinewidth": 0,
              "ticks": ""
             }
            },
            "marker": {
             "colorbar": {
              "outlinewidth": 0,
              "ticks": ""
             }
            },
            "type": "scatter3d"
           }
          ],
          "scattercarpet": [
           {
            "marker": {
             "colorbar": {
              "outlinewidth": 0,
              "ticks": ""
             }
            },
            "type": "scattercarpet"
           }
          ],
          "scattergeo": [
           {
            "marker": {
             "colorbar": {
              "outlinewidth": 0,
              "ticks": ""
             }
            },
            "type": "scattergeo"
           }
          ],
          "scattergl": [
           {
            "marker": {
             "colorbar": {
              "outlinewidth": 0,
              "ticks": ""
             }
            },
            "type": "scattergl"
           }
          ],
          "scattermapbox": [
           {
            "marker": {
             "colorbar": {
              "outlinewidth": 0,
              "ticks": ""
             }
            },
            "type": "scattermapbox"
           }
          ],
          "scatterpolar": [
           {
            "marker": {
             "colorbar": {
              "outlinewidth": 0,
              "ticks": ""
             }
            },
            "type": "scatterpolar"
           }
          ],
          "scatterpolargl": [
           {
            "marker": {
             "colorbar": {
              "outlinewidth": 0,
              "ticks": ""
             }
            },
            "type": "scatterpolargl"
           }
          ],
          "scatterternary": [
           {
            "marker": {
             "colorbar": {
              "outlinewidth": 0,
              "ticks": ""
             }
            },
            "type": "scatterternary"
           }
          ],
          "surface": [
           {
            "colorbar": {
             "outlinewidth": 0,
             "ticks": ""
            },
            "colorscale": [
             [
              0,
              "#0d0887"
             ],
             [
              0.1111111111111111,
              "#46039f"
             ],
             [
              0.2222222222222222,
              "#7201a8"
             ],
             [
              0.3333333333333333,
              "#9c179e"
             ],
             [
              0.4444444444444444,
              "#bd3786"
             ],
             [
              0.5555555555555556,
              "#d8576b"
             ],
             [
              0.6666666666666666,
              "#ed7953"
             ],
             [
              0.7777777777777778,
              "#fb9f3a"
             ],
             [
              0.8888888888888888,
              "#fdca26"
             ],
             [
              1,
              "#f0f921"
             ]
            ],
            "type": "surface"
           }
          ],
          "table": [
           {
            "cells": {
             "fill": {
              "color": "#EBF0F8"
             },
             "line": {
              "color": "white"
             }
            },
            "header": {
             "fill": {
              "color": "#C8D4E3"
             },
             "line": {
              "color": "white"
             }
            },
            "type": "table"
           }
          ]
         },
         "layout": {
          "annotationdefaults": {
           "arrowcolor": "#2a3f5f",
           "arrowhead": 0,
           "arrowwidth": 1
          },
          "autotypenumbers": "strict",
          "coloraxis": {
           "colorbar": {
            "outlinewidth": 0,
            "ticks": ""
           }
          },
          "colorscale": {
           "diverging": [
            [
             0,
             "#8e0152"
            ],
            [
             0.1,
             "#c51b7d"
            ],
            [
             0.2,
             "#de77ae"
            ],
            [
             0.3,
             "#f1b6da"
            ],
            [
             0.4,
             "#fde0ef"
            ],
            [
             0.5,
             "#f7f7f7"
            ],
            [
             0.6,
             "#e6f5d0"
            ],
            [
             0.7,
             "#b8e186"
            ],
            [
             0.8,
             "#7fbc41"
            ],
            [
             0.9,
             "#4d9221"
            ],
            [
             1,
             "#276419"
            ]
           ],
           "sequential": [
            [
             0,
             "#0d0887"
            ],
            [
             0.1111111111111111,
             "#46039f"
            ],
            [
             0.2222222222222222,
             "#7201a8"
            ],
            [
             0.3333333333333333,
             "#9c179e"
            ],
            [
             0.4444444444444444,
             "#bd3786"
            ],
            [
             0.5555555555555556,
             "#d8576b"
            ],
            [
             0.6666666666666666,
             "#ed7953"
            ],
            [
             0.7777777777777778,
             "#fb9f3a"
            ],
            [
             0.8888888888888888,
             "#fdca26"
            ],
            [
             1,
             "#f0f921"
            ]
           ],
           "sequentialminus": [
            [
             0,
             "#0d0887"
            ],
            [
             0.1111111111111111,
             "#46039f"
            ],
            [
             0.2222222222222222,
             "#7201a8"
            ],
            [
             0.3333333333333333,
             "#9c179e"
            ],
            [
             0.4444444444444444,
             "#bd3786"
            ],
            [
             0.5555555555555556,
             "#d8576b"
            ],
            [
             0.6666666666666666,
             "#ed7953"
            ],
            [
             0.7777777777777778,
             "#fb9f3a"
            ],
            [
             0.8888888888888888,
             "#fdca26"
            ],
            [
             1,
             "#f0f921"
            ]
           ]
          },
          "colorway": [
           "#636efa",
           "#EF553B",
           "#00cc96",
           "#ab63fa",
           "#FFA15A",
           "#19d3f3",
           "#FF6692",
           "#B6E880",
           "#FF97FF",
           "#FECB52"
          ],
          "font": {
           "color": "#2a3f5f"
          },
          "geo": {
           "bgcolor": "white",
           "lakecolor": "white",
           "landcolor": "#E5ECF6",
           "showlakes": true,
           "showland": true,
           "subunitcolor": "white"
          },
          "hoverlabel": {
           "align": "left"
          },
          "hovermode": "closest",
          "mapbox": {
           "style": "light"
          },
          "paper_bgcolor": "white",
          "plot_bgcolor": "#E5ECF6",
          "polar": {
           "angularaxis": {
            "gridcolor": "white",
            "linecolor": "white",
            "ticks": ""
           },
           "bgcolor": "#E5ECF6",
           "radialaxis": {
            "gridcolor": "white",
            "linecolor": "white",
            "ticks": ""
           }
          },
          "scene": {
           "xaxis": {
            "backgroundcolor": "#E5ECF6",
            "gridcolor": "white",
            "gridwidth": 2,
            "linecolor": "white",
            "showbackground": true,
            "ticks": "",
            "zerolinecolor": "white"
           },
           "yaxis": {
            "backgroundcolor": "#E5ECF6",
            "gridcolor": "white",
            "gridwidth": 2,
            "linecolor": "white",
            "showbackground": true,
            "ticks": "",
            "zerolinecolor": "white"
           },
           "zaxis": {
            "backgroundcolor": "#E5ECF6",
            "gridcolor": "white",
            "gridwidth": 2,
            "linecolor": "white",
            "showbackground": true,
            "ticks": "",
            "zerolinecolor": "white"
           }
          },
          "shapedefaults": {
           "line": {
            "color": "#2a3f5f"
           }
          },
          "ternary": {
           "aaxis": {
            "gridcolor": "white",
            "linecolor": "white",
            "ticks": ""
           },
           "baxis": {
            "gridcolor": "white",
            "linecolor": "white",
            "ticks": ""
           },
           "bgcolor": "#E5ECF6",
           "caxis": {
            "gridcolor": "white",
            "linecolor": "white",
            "ticks": ""
           }
          },
          "title": {
           "x": 0.05
          },
          "xaxis": {
           "automargin": true,
           "gridcolor": "white",
           "linecolor": "white",
           "ticks": "",
           "title": {
            "standoff": 15
           },
           "zerolinecolor": "white",
           "zerolinewidth": 2
          },
          "yaxis": {
           "automargin": true,
           "gridcolor": "white",
           "linecolor": "white",
           "ticks": "",
           "title": {
            "standoff": 15
           },
           "zerolinecolor": "white",
           "zerolinewidth": 2
          }
         }
        },
        "title": {
         "text": "Prime genre"
        },
        "width": 800,
        "xaxis": {
         "title": {
          "text": "Genre"
         }
        },
        "yaxis": {
         "title": {
          "text": "Count"
         }
        }
       }
      },
      "text/html": [
       "<div>                            <div id=\"86c6374b-4a32-4e6e-a88d-31623f668313\" class=\"plotly-graph-div\" style=\"height:500px; width:800px;\"></div>            <script type=\"text/javascript\">                require([\"plotly\"], function(Plotly) {                    window.PLOTLYENV=window.PLOTLYENV || {};                                    if (document.getElementById(\"86c6374b-4a32-4e6e-a88d-31623f668313\")) {                    Plotly.newPlot(                        \"86c6374b-4a32-4e6e-a88d-31623f668313\",                        [{\"marker\":{\"color\":[\"#0BB8FF\",\"#B8D0DE\",\"#E4832D\",\"#A7E3C3\",\"#5D18CD\",\"#C57898\",\"#AD5901\",\"#3CFD60\",\"#BBF375\",\"#A15C7F\",\"#A992A2\",\"#C8190C\",\"#9A6CF6\",\"#FA3E5F\",\"#C75DEB\",\"#BD910E\",\"#9C87D5\",\"#3C7EBD\",\"#480FE5\",\"#BE3783\",\"#AF6477\",\"#90660D\",\"#6F7F65\",\"#0E28F6\",\"#183B20\",\"#4244DA\",\"#6EE23A\",\"#3B5E66\",\"#3E58D0\",\"#0555EB\",\"#FC053E\",\"#CAEEB1\",\"#DC0D15\",\"#00F7E5\",\"#13E21C\",\"#484517\",\"#2FFA33\",\"#CE3699\",\"#E97D6C\",\"#9720AC\",\"#3138DB\",\"#C1695C\",\"#A41F7A\",\"#2D0EA1\",\"#1A21B0\",\"#AB72ED\",\"#1164A4\",\"#6DD397\",\"#9A41EB\",\"#582A21\",\"#E38F2F\",\"#CF83D0\",\"#CAC2ED\",\"#007D5C\",\"#0233AD\",\"#87CAE8\",\"#D3B647\",\"#8D8830\",\"#7E2535\",\"#E28C15\",\"#4E3440\",\"#29B774\",\"#5C628A\",\"#38D428\",\"#BA199E\",\"#40BE7F\",\"#217248\",\"#BAE990\",\"#3345B6\",\"#DABD71\",\"#41F0BE\",\"#E5E159\",\"#615DE1\",\"#437C31\",\"#4F2CFB\",\"#A8DE3D\",\"#A4AFDD\",\"#1F2B82\",\"#48002B\",\"#283225\",\"#68B0CC\",\"#84259A\",\"#D75491\",\"#E87EEC\",\"#58D7A3\",\"#3A3648\",\"#0CF6D2\",\"#12A48A\",\"#739E86\",\"#BF1083\",\"#0619D4\",\"#E2DE9B\",\"#E440DA\",\"#987784\",\"#7C4EAC\",\"#F935E4\",\"#88D913\",\"#B6845B\",\"#31ACF3\",\"#FE158E\"],\"line\":{\"color\":\"rgb(8, 48, 107)\",\"width\":1.5}},\"opacity\":0.7,\"text\":[\"53.66%\",\"7.43%\",\"6.29%\",\"4.85%\",\"3.45%\",\"2.50%\",\"2.47%\",\"2.32%\",\"2.00%\",\"1.92%\",\"1.70%\",\"1.58%\",\"1.56%\",\"1.45%\",\"1.13%\",\"1.04%\",\"1.00%\",\"0.89%\",\"0.88%\",\"0.79%\",\"0.64%\",\"0.32%\",\"0.14%\"],\"type\":\"bar\",\"x\":[\"Games\",\"Entertainment\",\"Education\",\"Photo & Video\",\"Utilities\",\"Health & Fitness\",\"Productivity\",\"Social Networking\",\"Lifestyle\",\"Music\",\"Shopping\",\"Sports\",\"Book\",\"Finance\",\"Travel\",\"News\",\"Weather\",\"Reference\",\"Food & Drink\",\"Business\",\"Navigation\",\"Medical\",\"Catalogs\"],\"y\":[3862,535,453,349,248,180,178,167,144,138,122,114,112,104,81,75,72,64,63,57,46,23,10]}],                        {\"height\":500,\"margin\":{\"l\":100},\"template\":{\"data\":{\"bar\":[{\"error_x\":{\"color\":\"#2a3f5f\"},\"error_y\":{\"color\":\"#2a3f5f\"},\"marker\":{\"line\":{\"color\":\"#E5ECF6\",\"width\":0.5},\"pattern\":{\"fillmode\":\"overlay\",\"size\":10,\"solidity\":0.2}},\"type\":\"bar\"}],\"barpolar\":[{\"marker\":{\"line\":{\"color\":\"#E5ECF6\",\"width\":0.5},\"pattern\":{\"fillmode\":\"overlay\",\"size\":10,\"solidity\":0.2}},\"type\":\"barpolar\"}],\"carpet\":[{\"aaxis\":{\"endlinecolor\":\"#2a3f5f\",\"gridcolor\":\"white\",\"linecolor\":\"white\",\"minorgridcolor\":\"white\",\"startlinecolor\":\"#2a3f5f\"},\"baxis\":{\"endlinecolor\":\"#2a3f5f\",\"gridcolor\":\"white\",\"linecolor\":\"white\",\"minorgridcolor\":\"white\",\"startlinecolor\":\"#2a3f5f\"},\"type\":\"carpet\"}],\"choropleth\":[{\"colorbar\":{\"outlinewidth\":0,\"ticks\":\"\"},\"type\":\"choropleth\"}],\"contour\":[{\"colorbar\":{\"outlinewidth\":0,\"ticks\":\"\"},\"colorscale\":[[0.0,\"#0d0887\"],[0.1111111111111111,\"#46039f\"],[0.2222222222222222,\"#7201a8\"],[0.3333333333333333,\"#9c179e\"],[0.4444444444444444,\"#bd3786\"],[0.5555555555555556,\"#d8576b\"],[0.6666666666666666,\"#ed7953\"],[0.7777777777777778,\"#fb9f3a\"],[0.8888888888888888,\"#fdca26\"],[1.0,\"#f0f921\"]],\"type\":\"contour\"}],\"contourcarpet\":[{\"colorbar\":{\"outlinewidth\":0,\"ticks\":\"\"},\"type\":\"contourcarpet\"}],\"heatmap\":[{\"colorbar\":{\"outlinewidth\":0,\"ticks\":\"\"},\"colorscale\":[[0.0,\"#0d0887\"],[0.1111111111111111,\"#46039f\"],[0.2222222222222222,\"#7201a8\"],[0.3333333333333333,\"#9c179e\"],[0.4444444444444444,\"#bd3786\"],[0.5555555555555556,\"#d8576b\"],[0.6666666666666666,\"#ed7953\"],[0.7777777777777778,\"#fb9f3a\"],[0.8888888888888888,\"#fdca26\"],[1.0,\"#f0f921\"]],\"type\":\"heatmap\"}],\"heatmapgl\":[{\"colorbar\":{\"outlinewidth\":0,\"ticks\":\"\"},\"colorscale\":[[0.0,\"#0d0887\"],[0.1111111111111111,\"#46039f\"],[0.2222222222222222,\"#7201a8\"],[0.3333333333333333,\"#9c179e\"],[0.4444444444444444,\"#bd3786\"],[0.5555555555555556,\"#d8576b\"],[0.6666666666666666,\"#ed7953\"],[0.7777777777777778,\"#fb9f3a\"],[0.8888888888888888,\"#fdca26\"],[1.0,\"#f0f921\"]],\"type\":\"heatmapgl\"}],\"histogram\":[{\"marker\":{\"pattern\":{\"fillmode\":\"overlay\",\"size\":10,\"solidity\":0.2}},\"type\":\"histogram\"}],\"histogram2d\":[{\"colorbar\":{\"outlinewidth\":0,\"ticks\":\"\"},\"colorscale\":[[0.0,\"#0d0887\"],[0.1111111111111111,\"#46039f\"],[0.2222222222222222,\"#7201a8\"],[0.3333333333333333,\"#9c179e\"],[0.4444444444444444,\"#bd3786\"],[0.5555555555555556,\"#d8576b\"],[0.6666666666666666,\"#ed7953\"],[0.7777777777777778,\"#fb9f3a\"],[0.8888888888888888,\"#fdca26\"],[1.0,\"#f0f921\"]],\"type\":\"histogram2d\"}],\"histogram2dcontour\":[{\"colorbar\":{\"outlinewidth\":0,\"ticks\":\"\"},\"colorscale\":[[0.0,\"#0d0887\"],[0.1111111111111111,\"#46039f\"],[0.2222222222222222,\"#7201a8\"],[0.3333333333333333,\"#9c179e\"],[0.4444444444444444,\"#bd3786\"],[0.5555555555555556,\"#d8576b\"],[0.6666666666666666,\"#ed7953\"],[0.7777777777777778,\"#fb9f3a\"],[0.8888888888888888,\"#fdca26\"],[1.0,\"#f0f921\"]],\"type\":\"histogram2dcontour\"}],\"mesh3d\":[{\"colorbar\":{\"outlinewidth\":0,\"ticks\":\"\"},\"type\":\"mesh3d\"}],\"parcoords\":[{\"line\":{\"colorbar\":{\"outlinewidth\":0,\"ticks\":\"\"}},\"type\":\"parcoords\"}],\"pie\":[{\"automargin\":true,\"type\":\"pie\"}],\"scatter\":[{\"marker\":{\"colorbar\":{\"outlinewidth\":0,\"ticks\":\"\"}},\"type\":\"scatter\"}],\"scatter3d\":[{\"line\":{\"colorbar\":{\"outlinewidth\":0,\"ticks\":\"\"}},\"marker\":{\"colorbar\":{\"outlinewidth\":0,\"ticks\":\"\"}},\"type\":\"scatter3d\"}],\"scattercarpet\":[{\"marker\":{\"colorbar\":{\"outlinewidth\":0,\"ticks\":\"\"}},\"type\":\"scattercarpet\"}],\"scattergeo\":[{\"marker\":{\"colorbar\":{\"outlinewidth\":0,\"ticks\":\"\"}},\"type\":\"scattergeo\"}],\"scattergl\":[{\"marker\":{\"colorbar\":{\"outlinewidth\":0,\"ticks\":\"\"}},\"type\":\"scattergl\"}],\"scattermapbox\":[{\"marker\":{\"colorbar\":{\"outlinewidth\":0,\"ticks\":\"\"}},\"type\":\"scattermapbox\"}],\"scatterpolar\":[{\"marker\":{\"colorbar\":{\"outlinewidth\":0,\"ticks\":\"\"}},\"type\":\"scatterpolar\"}],\"scatterpolargl\":[{\"marker\":{\"colorbar\":{\"outlinewidth\":0,\"ticks\":\"\"}},\"type\":\"scatterpolargl\"}],\"scatterternary\":[{\"marker\":{\"colorbar\":{\"outlinewidth\":0,\"ticks\":\"\"}},\"type\":\"scatterternary\"}],\"surface\":[{\"colorbar\":{\"outlinewidth\":0,\"ticks\":\"\"},\"colorscale\":[[0.0,\"#0d0887\"],[0.1111111111111111,\"#46039f\"],[0.2222222222222222,\"#7201a8\"],[0.3333333333333333,\"#9c179e\"],[0.4444444444444444,\"#bd3786\"],[0.5555555555555556,\"#d8576b\"],[0.6666666666666666,\"#ed7953\"],[0.7777777777777778,\"#fb9f3a\"],[0.8888888888888888,\"#fdca26\"],[1.0,\"#f0f921\"]],\"type\":\"surface\"}],\"table\":[{\"cells\":{\"fill\":{\"color\":\"#EBF0F8\"},\"line\":{\"color\":\"white\"}},\"header\":{\"fill\":{\"color\":\"#C8D4E3\"},\"line\":{\"color\":\"white\"}},\"type\":\"table\"}]},\"layout\":{\"annotationdefaults\":{\"arrowcolor\":\"#2a3f5f\",\"arrowhead\":0,\"arrowwidth\":1},\"autotypenumbers\":\"strict\",\"coloraxis\":{\"colorbar\":{\"outlinewidth\":0,\"ticks\":\"\"}},\"colorscale\":{\"diverging\":[[0,\"#8e0152\"],[0.1,\"#c51b7d\"],[0.2,\"#de77ae\"],[0.3,\"#f1b6da\"],[0.4,\"#fde0ef\"],[0.5,\"#f7f7f7\"],[0.6,\"#e6f5d0\"],[0.7,\"#b8e186\"],[0.8,\"#7fbc41\"],[0.9,\"#4d9221\"],[1,\"#276419\"]],\"sequential\":[[0.0,\"#0d0887\"],[0.1111111111111111,\"#46039f\"],[0.2222222222222222,\"#7201a8\"],[0.3333333333333333,\"#9c179e\"],[0.4444444444444444,\"#bd3786\"],[0.5555555555555556,\"#d8576b\"],[0.6666666666666666,\"#ed7953\"],[0.7777777777777778,\"#fb9f3a\"],[0.8888888888888888,\"#fdca26\"],[1.0,\"#f0f921\"]],\"sequentialminus\":[[0.0,\"#0d0887\"],[0.1111111111111111,\"#46039f\"],[0.2222222222222222,\"#7201a8\"],[0.3333333333333333,\"#9c179e\"],[0.4444444444444444,\"#bd3786\"],[0.5555555555555556,\"#d8576b\"],[0.6666666666666666,\"#ed7953\"],[0.7777777777777778,\"#fb9f3a\"],[0.8888888888888888,\"#fdca26\"],[1.0,\"#f0f921\"]]},\"colorway\":[\"#636efa\",\"#EF553B\",\"#00cc96\",\"#ab63fa\",\"#FFA15A\",\"#19d3f3\",\"#FF6692\",\"#B6E880\",\"#FF97FF\",\"#FECB52\"],\"font\":{\"color\":\"#2a3f5f\"},\"geo\":{\"bgcolor\":\"white\",\"lakecolor\":\"white\",\"landcolor\":\"#E5ECF6\",\"showlakes\":true,\"showland\":true,\"subunitcolor\":\"white\"},\"hoverlabel\":{\"align\":\"left\"},\"hovermode\":\"closest\",\"mapbox\":{\"style\":\"light\"},\"paper_bgcolor\":\"white\",\"plot_bgcolor\":\"#E5ECF6\",\"polar\":{\"angularaxis\":{\"gridcolor\":\"white\",\"linecolor\":\"white\",\"ticks\":\"\"},\"bgcolor\":\"#E5ECF6\",\"radialaxis\":{\"gridcolor\":\"white\",\"linecolor\":\"white\",\"ticks\":\"\"}},\"scene\":{\"xaxis\":{\"backgroundcolor\":\"#E5ECF6\",\"gridcolor\":\"white\",\"gridwidth\":2,\"linecolor\":\"white\",\"showbackground\":true,\"ticks\":\"\",\"zerolinecolor\":\"white\"},\"yaxis\":{\"backgroundcolor\":\"#E5ECF6\",\"gridcolor\":\"white\",\"gridwidth\":2,\"linecolor\":\"white\",\"showbackground\":true,\"ticks\":\"\",\"zerolinecolor\":\"white\"},\"zaxis\":{\"backgroundcolor\":\"#E5ECF6\",\"gridcolor\":\"white\",\"gridwidth\":2,\"linecolor\":\"white\",\"showbackground\":true,\"ticks\":\"\",\"zerolinecolor\":\"white\"}},\"shapedefaults\":{\"line\":{\"color\":\"#2a3f5f\"}},\"ternary\":{\"aaxis\":{\"gridcolor\":\"white\",\"linecolor\":\"white\",\"ticks\":\"\"},\"baxis\":{\"gridcolor\":\"white\",\"linecolor\":\"white\",\"ticks\":\"\"},\"bgcolor\":\"#E5ECF6\",\"caxis\":{\"gridcolor\":\"white\",\"linecolor\":\"white\",\"ticks\":\"\"}},\"title\":{\"x\":0.05},\"xaxis\":{\"automargin\":true,\"gridcolor\":\"white\",\"linecolor\":\"white\",\"ticks\":\"\",\"title\":{\"standoff\":15},\"zerolinecolor\":\"white\",\"zerolinewidth\":2},\"yaxis\":{\"automargin\":true,\"gridcolor\":\"white\",\"linecolor\":\"white\",\"ticks\":\"\",\"title\":{\"standoff\":15},\"zerolinecolor\":\"white\",\"zerolinewidth\":2}}},\"title\":{\"text\":\"Prime genre\"},\"width\":800,\"xaxis\":{\"title\":{\"text\":\"Genre\"}},\"yaxis\":{\"title\":{\"text\":\"Count\"}}},                        {\"responsive\": true}                    ).then(function(){\n",
       "                            \n",
       "var gd = document.getElementById('86c6374b-4a32-4e6e-a88d-31623f668313');\n",
       "var x = new MutationObserver(function (mutations, observer) {{\n",
       "        var display = window.getComputedStyle(gd).display;\n",
       "        if (!display || display === 'none') {{\n",
       "            console.log([gd, 'removed!']);\n",
       "            Plotly.purge(gd);\n",
       "            observer.disconnect();\n",
       "        }}\n",
       "}});\n",
       "\n",
       "// Listen for the removal of the full notebook cells\n",
       "var notebookContainer = gd.closest('#notebook-container');\n",
       "if (notebookContainer) {{\n",
       "    x.observe(notebookContainer, {childList: true});\n",
       "}}\n",
       "\n",
       "// Listen for the clearing of the current output cell\n",
       "var outputEl = gd.closest('.output');\n",
       "if (outputEl) {{\n",
       "    x.observe(outputEl, {childList: true});\n",
       "}}\n",
       "\n",
       "                        })                };                });            </script>        </div>"
      ]
     },
     "metadata": {},
     "output_type": "display_data"
    }
   ],
   "source": [
    "def random_color_generator(number_of_colors):\n",
    "    color = [\"#\"+''.join([random.choice('0123456789ABCDEF') for j in range(6)])\n",
    "                 for i in range(number_of_colors)]\n",
    "    return color\n",
    "\n",
    "cnt_srs = df_app['prime_genre'].value_counts()\n",
    "text = ['{:.2f}%'.format(100 * (value / cnt_srs.sum())) for value in cnt_srs.values]\n",
    "\n",
    "trace = go.Bar(\n",
    "    x = cnt_srs.index,\n",
    "    y = cnt_srs.values,\n",
    "    text = text,\n",
    "    marker = dict(\n",
    "        color = random_color_generator(100),\n",
    "        line = dict(color='rgb(8, 48, 107)',\n",
    "                    width = 1.5)\n",
    "    ),\n",
    "    opacity = 0.7\n",
    ")\n",
    "data = [trace]\n",
    "\n",
    "layout = go.Layout(\n",
    "    title = 'Prime genre',\n",
    "    margin = dict(\n",
    "        l = 100\n",
    "    ),\n",
    "    xaxis = dict(\n",
    "        title = 'Genre'\n",
    "    ),\n",
    "    yaxis = dict(\n",
    "        title = 'Count'\n",
    "    ),\n",
    "    width = 800,\n",
    "    height = 500\n",
    ")\n",
    "\n",
    "fig = go.Figure(data=data, layout=layout)\n",
    "py.iplot(fig)"
   ]
  },
  {
   "cell_type": "markdown",
   "id": "8130e4d1",
   "metadata": {},
   "source": [
    "With not considering 'isNotFree', Games are the most numerous, followed by Entertainment, Education, Photo & Video."
   ]
  },
  {
   "cell_type": "code",
   "execution_count": 23,
   "id": "b211c9e7",
   "metadata": {},
   "outputs": [
    {
     "data": {
      "application/vnd.plotly.v1+json": {
       "config": {
        "linkText": "Export to plot.ly",
        "plotlyServerURL": "https://plot.ly",
        "showLink": false
       },
       "data": [
        {
         "marker": {
          "color": [
           "#D7FABC",
           "#17AE42",
           "#41C5E1",
           "#7CB5CD",
           "#622073",
           "#C64DF4",
           "#DE226D",
           "#B86574",
           "#7C3D7B",
           "#F4214F",
           "#1865F4",
           "#B67F46",
           "#8A5003",
           "#4E209A",
           "#44A0E6",
           "#2274A1",
           "#D2E77B",
           "#2663FD",
           "#02F7F4",
           "#D4E230",
           "#E30002",
           "#9E6371",
           "#614FE1",
           "#80D6DA",
           "#8BDBDD",
           "#F68619",
           "#5FD7E5",
           "#73577C",
           "#FB4268",
           "#8701F0",
           "#F5DCBE",
           "#9C8F1B",
           "#043FCD",
           "#F90EE1",
           "#B1AB8E",
           "#09767D",
           "#B3D75C",
           "#884D0E",
           "#FF84E3",
           "#3F3EDF",
           "#F8D689",
           "#503385",
           "#11413C",
           "#B886C7",
           "#999E8F",
           "#4007E9",
           "#8386AD",
           "#ABFBED",
           "#B67317",
           "#84DEA1",
           "#807F1B",
           "#745BAD",
           "#8B1441",
           "#F6C942",
           "#D4CA53",
           "#40F736",
           "#978E83",
           "#6DA183",
           "#15ADCE",
           "#FCD0B3",
           "#1D2842",
           "#D25E07",
           "#D1ED2E",
           "#EDC778",
           "#A0A931",
           "#2640BB",
           "#4AD622",
           "#44C916",
           "#BCED25",
           "#1FFB22",
           "#B7CEA5",
           "#E324DE",
           "#72407D",
           "#A423B2",
           "#8C8C31",
           "#FF9961",
           "#C10056",
           "#052B81",
           "#0C67C4",
           "#6B6CF3",
           "#87FEDC",
           "#D0DD5A",
           "#2AF1EC",
           "#D15EB3",
           "#CCEB26",
           "#8CCF37",
           "#201C9B",
           "#DBCDC2",
           "#83D5D9",
           "#D6243A",
           "#78589A",
           "#C015C7",
           "#ECA524",
           "#1691B9",
           "#93C7AF",
           "#9592F1",
           "#577D7E",
           "#EFD908",
           "#2B672F",
           "#985DCF"
          ],
          "line": {
           "color": "rgb(8, 48, 107)",
           "width": 1.5
          }
         },
         "opacity": 0.7,
         "text": [
          "55.65%",
          "8.23%",
          "4.12%",
          "3.53%",
          "3.25%",
          "2.98%",
          "2.69%",
          "2.32%",
          "2.07%",
          "1.95%",
          "1.87%",
          "1.65%",
          "1.63%",
          "1.53%",
          "1.43%",
          "1.38%",
          "1.06%",
          "0.76%",
          "0.49%",
          "0.49%",
          "0.49%",
          "0.22%",
          "0.20%"
         ],
         "type": "bar",
         "x": [
          "Games",
          "Entertainment",
          "Photo & Video",
          "Social Networking",
          "Education",
          "Shopping",
          "Utilities",
          "Lifestyle",
          "Finance",
          "Sports",
          "Health & Fitness",
          "Music",
          "Book",
          "Productivity",
          "News",
          "Travel",
          "Food & Drink",
          "Weather",
          "Reference",
          "Business",
          "Navigation",
          "Catalogs",
          "Medical"
         ],
         "xaxis": "x",
         "y": [
          2257,
          334,
          167,
          143,
          132,
          121,
          109,
          94,
          84,
          79,
          76,
          67,
          66,
          62,
          58,
          56,
          43,
          31,
          20,
          20,
          20,
          9,
          8
         ],
         "yaxis": "y"
        },
        {
         "marker": {
          "color": [
           "#B54117",
           "#358E08",
           "#CA39CB",
           "#241B4C",
           "#F0DDD5",
           "#94CA47",
           "#1B33DE",
           "#B84AB2",
           "#C8FA93",
           "#4992DF",
           "#5214C4",
           "#A507AC",
           "#3D262E",
           "#A70732",
           "#8DBC02",
           "#9BBEAC",
           "#5EB0B4",
           "#02BD47",
           "#CF6B90",
           "#363B65",
           "#71352E",
           "#1AA78B",
           "#CA00D6",
           "#7FF755",
           "#C52014",
           "#5C2D7E",
           "#866582",
           "#A8FEF9",
           "#4456B0",
           "#710AC7",
           "#BE8333",
           "#8ADBDD",
           "#07071B",
           "#F494BD",
           "#3E46F7",
           "#3D4E47",
           "#AC97A2",
           "#F6A85B",
           "#E342F0",
           "#F2E4B7",
           "#9B0A31",
           "#17ED75",
           "#21577F",
           "#BD00E3",
           "#F0B857",
           "#55E6F0",
           "#442812",
           "#5358A6",
           "#3E6EC7",
           "#2A06FD",
           "#E583A9",
           "#B267A8",
           "#3A9C0F",
           "#D20875",
           "#A55F8E",
           "#CFB61D",
           "#01DDD9",
           "#2B1B46",
           "#84A52D",
           "#C6F3DA",
           "#433993",
           "#98F100",
           "#509AF3",
           "#29BECB",
           "#7CA4F9",
           "#D96D88",
           "#5644CC",
           "#7BE6A2",
           "#D6D8FF",
           "#C3B252",
           "#036A1E",
           "#025AEE",
           "#6F70C6",
           "#5F659F",
           "#634BC3",
           "#6E9A99",
           "#E0208F",
           "#E3F916",
           "#99BA48",
           "#4AF62A",
           "#524CF5",
           "#0C2498",
           "#3610A0",
           "#1B4DEB",
           "#5EB561",
           "#482DC2",
           "#76BF63",
           "#8428CA",
           "#C4A553",
           "#D9DA99",
           "#671EDE",
           "#D60A4E",
           "#A81530",
           "#F3BD51",
           "#B13B68",
           "#893554",
           "#F29F21",
           "#4E0A2D",
           "#184301",
           "#CD71D0"
          ],
          "line": {
           "color": "rgb(8, 48, 107)",
           "width": 1.5
          }
         },
         "opacity": 0.7,
         "text": [
          "51.10%",
          "10.22%",
          "6.40%",
          "5.79%",
          "4.43%",
          "3.69%",
          "3.31%",
          "2.26%",
          "1.59%",
          "1.46%",
          "1.40%",
          "1.31%",
          "1.18%",
          "1.11%",
          "0.83%",
          "0.80%",
          "0.76%",
          "0.64%",
          "0.64%",
          "0.54%",
          "0.48%",
          "0.03%",
          "0.03%"
         ],
         "type": "bar",
         "x": [
          "Games",
          "Education",
          "Entertainment",
          "Photo & Video",
          "Utilities",
          "Productivity",
          "Health & Fitness",
          "Music",
          "Lifestyle",
          "Book",
          "Reference",
          "Weather",
          "Business",
          "Sports",
          "Navigation",
          "Travel",
          "Social Networking",
          "Finance",
          "Food & Drink",
          "News",
          "Medical",
          "Shopping",
          "Catalogs"
         ],
         "xaxis": "x2",
         "y": [
          1605,
          321,
          201,
          182,
          139,
          116,
          104,
          71,
          50,
          46,
          44,
          41,
          37,
          35,
          26,
          25,
          24,
          20,
          20,
          17,
          15,
          1,
          1
         ],
         "yaxis": "y2"
        },
        {
         "name": "Free",
         "opacity": 0.7,
         "text": [
          "55.65%",
          "8.23%",
          "4.12%",
          "3.53%",
          "3.25%",
          "2.98%",
          "2.69%",
          "2.32%",
          "2.07%",
          "1.95%",
          "1.87%",
          "1.65%",
          "1.63%",
          "1.53%",
          "1.43%",
          "1.38%",
          "1.06%",
          "0.76%",
          "0.49%",
          "0.49%",
          "0.49%",
          "0.22%",
          "0.20%"
         ],
         "type": "bar",
         "x": [
          "Games",
          "Entertainment",
          "Photo & Video",
          "Social Networking",
          "Education",
          "Shopping",
          "Utilities",
          "Lifestyle",
          "Finance",
          "Sports",
          "Health & Fitness",
          "Music",
          "Book",
          "Productivity",
          "News",
          "Travel",
          "Food & Drink",
          "Weather",
          "Reference",
          "Business",
          "Navigation",
          "Catalogs",
          "Medical"
         ],
         "xaxis": "x3",
         "y": [
          2257,
          334,
          167,
          143,
          132,
          121,
          109,
          94,
          84,
          79,
          76,
          67,
          66,
          62,
          58,
          56,
          43,
          31,
          20,
          20,
          20,
          9,
          8
         ],
         "yaxis": "y3"
        },
        {
         "name": "Not-Free",
         "opacity": 0.7,
         "text": [
          "51.10%",
          "10.22%",
          "6.40%",
          "5.79%",
          "4.43%",
          "3.69%",
          "3.31%",
          "2.26%",
          "1.59%",
          "1.46%",
          "1.40%",
          "1.31%",
          "1.18%",
          "1.11%",
          "0.83%",
          "0.80%",
          "0.76%",
          "0.64%",
          "0.64%",
          "0.54%",
          "0.48%",
          "0.03%",
          "0.03%"
         ],
         "type": "bar",
         "x": [
          "Games",
          "Education",
          "Entertainment",
          "Photo & Video",
          "Utilities",
          "Productivity",
          "Health & Fitness",
          "Music",
          "Lifestyle",
          "Book",
          "Reference",
          "Weather",
          "Business",
          "Sports",
          "Navigation",
          "Travel",
          "Social Networking",
          "Finance",
          "Food & Drink",
          "News",
          "Medical",
          "Shopping",
          "Catalogs"
         ],
         "xaxis": "x3",
         "y": [
          1605,
          321,
          201,
          182,
          139,
          116,
          104,
          71,
          50,
          46,
          44,
          41,
          37,
          35,
          26,
          25,
          24,
          20,
          20,
          17,
          15,
          1,
          1
         ],
         "yaxis": "y3"
        }
       ],
       "layout": {
        "annotations": [
         {
          "font": {
           "size": 16
          },
          "showarrow": false,
          "text": "(1) Countplot for Prime_genre of Free",
          "x": 0.225,
          "xanchor": "center",
          "xref": "paper",
          "y": 1,
          "yanchor": "bottom",
          "yref": "paper"
         },
         {
          "font": {
           "size": 16
          },
          "showarrow": false,
          "text": "(2) Countplot for Prime_genre of Not-Free",
          "x": 0.775,
          "xanchor": "center",
          "xref": "paper",
          "y": 1,
          "yanchor": "bottom",
          "yref": "paper"
         },
         {
          "font": {
           "size": 16
          },
          "showarrow": false,
          "text": "(3) Grouped barplot containing Free(green) and Not-Free(red)",
          "x": 0.5,
          "xanchor": "center",
          "xref": "paper",
          "y": 0.375,
          "yanchor": "bottom",
          "yref": "paper"
         }
        ],
        "height": 800,
        "showlegend": false,
        "template": {
         "data": {
          "bar": [
           {
            "error_x": {
             "color": "#2a3f5f"
            },
            "error_y": {
             "color": "#2a3f5f"
            },
            "marker": {
             "line": {
              "color": "#E5ECF6",
              "width": 0.5
             },
             "pattern": {
              "fillmode": "overlay",
              "size": 10,
              "solidity": 0.2
             }
            },
            "type": "bar"
           }
          ],
          "barpolar": [
           {
            "marker": {
             "line": {
              "color": "#E5ECF6",
              "width": 0.5
             },
             "pattern": {
              "fillmode": "overlay",
              "size": 10,
              "solidity": 0.2
             }
            },
            "type": "barpolar"
           }
          ],
          "carpet": [
           {
            "aaxis": {
             "endlinecolor": "#2a3f5f",
             "gridcolor": "white",
             "linecolor": "white",
             "minorgridcolor": "white",
             "startlinecolor": "#2a3f5f"
            },
            "baxis": {
             "endlinecolor": "#2a3f5f",
             "gridcolor": "white",
             "linecolor": "white",
             "minorgridcolor": "white",
             "startlinecolor": "#2a3f5f"
            },
            "type": "carpet"
           }
          ],
          "choropleth": [
           {
            "colorbar": {
             "outlinewidth": 0,
             "ticks": ""
            },
            "type": "choropleth"
           }
          ],
          "contour": [
           {
            "colorbar": {
             "outlinewidth": 0,
             "ticks": ""
            },
            "colorscale": [
             [
              0,
              "#0d0887"
             ],
             [
              0.1111111111111111,
              "#46039f"
             ],
             [
              0.2222222222222222,
              "#7201a8"
             ],
             [
              0.3333333333333333,
              "#9c179e"
             ],
             [
              0.4444444444444444,
              "#bd3786"
             ],
             [
              0.5555555555555556,
              "#d8576b"
             ],
             [
              0.6666666666666666,
              "#ed7953"
             ],
             [
              0.7777777777777778,
              "#fb9f3a"
             ],
             [
              0.8888888888888888,
              "#fdca26"
             ],
             [
              1,
              "#f0f921"
             ]
            ],
            "type": "contour"
           }
          ],
          "contourcarpet": [
           {
            "colorbar": {
             "outlinewidth": 0,
             "ticks": ""
            },
            "type": "contourcarpet"
           }
          ],
          "heatmap": [
           {
            "colorbar": {
             "outlinewidth": 0,
             "ticks": ""
            },
            "colorscale": [
             [
              0,
              "#0d0887"
             ],
             [
              0.1111111111111111,
              "#46039f"
             ],
             [
              0.2222222222222222,
              "#7201a8"
             ],
             [
              0.3333333333333333,
              "#9c179e"
             ],
             [
              0.4444444444444444,
              "#bd3786"
             ],
             [
              0.5555555555555556,
              "#d8576b"
             ],
             [
              0.6666666666666666,
              "#ed7953"
             ],
             [
              0.7777777777777778,
              "#fb9f3a"
             ],
             [
              0.8888888888888888,
              "#fdca26"
             ],
             [
              1,
              "#f0f921"
             ]
            ],
            "type": "heatmap"
           }
          ],
          "heatmapgl": [
           {
            "colorbar": {
             "outlinewidth": 0,
             "ticks": ""
            },
            "colorscale": [
             [
              0,
              "#0d0887"
             ],
             [
              0.1111111111111111,
              "#46039f"
             ],
             [
              0.2222222222222222,
              "#7201a8"
             ],
             [
              0.3333333333333333,
              "#9c179e"
             ],
             [
              0.4444444444444444,
              "#bd3786"
             ],
             [
              0.5555555555555556,
              "#d8576b"
             ],
             [
              0.6666666666666666,
              "#ed7953"
             ],
             [
              0.7777777777777778,
              "#fb9f3a"
             ],
             [
              0.8888888888888888,
              "#fdca26"
             ],
             [
              1,
              "#f0f921"
             ]
            ],
            "type": "heatmapgl"
           }
          ],
          "histogram": [
           {
            "marker": {
             "pattern": {
              "fillmode": "overlay",
              "size": 10,
              "solidity": 0.2
             }
            },
            "type": "histogram"
           }
          ],
          "histogram2d": [
           {
            "colorbar": {
             "outlinewidth": 0,
             "ticks": ""
            },
            "colorscale": [
             [
              0,
              "#0d0887"
             ],
             [
              0.1111111111111111,
              "#46039f"
             ],
             [
              0.2222222222222222,
              "#7201a8"
             ],
             [
              0.3333333333333333,
              "#9c179e"
             ],
             [
              0.4444444444444444,
              "#bd3786"
             ],
             [
              0.5555555555555556,
              "#d8576b"
             ],
             [
              0.6666666666666666,
              "#ed7953"
             ],
             [
              0.7777777777777778,
              "#fb9f3a"
             ],
             [
              0.8888888888888888,
              "#fdca26"
             ],
             [
              1,
              "#f0f921"
             ]
            ],
            "type": "histogram2d"
           }
          ],
          "histogram2dcontour": [
           {
            "colorbar": {
             "outlinewidth": 0,
             "ticks": ""
            },
            "colorscale": [
             [
              0,
              "#0d0887"
             ],
             [
              0.1111111111111111,
              "#46039f"
             ],
             [
              0.2222222222222222,
              "#7201a8"
             ],
             [
              0.3333333333333333,
              "#9c179e"
             ],
             [
              0.4444444444444444,
              "#bd3786"
             ],
             [
              0.5555555555555556,
              "#d8576b"
             ],
             [
              0.6666666666666666,
              "#ed7953"
             ],
             [
              0.7777777777777778,
              "#fb9f3a"
             ],
             [
              0.8888888888888888,
              "#fdca26"
             ],
             [
              1,
              "#f0f921"
             ]
            ],
            "type": "histogram2dcontour"
           }
          ],
          "mesh3d": [
           {
            "colorbar": {
             "outlinewidth": 0,
             "ticks": ""
            },
            "type": "mesh3d"
           }
          ],
          "parcoords": [
           {
            "line": {
             "colorbar": {
              "outlinewidth": 0,
              "ticks": ""
             }
            },
            "type": "parcoords"
           }
          ],
          "pie": [
           {
            "automargin": true,
            "type": "pie"
           }
          ],
          "scatter": [
           {
            "marker": {
             "colorbar": {
              "outlinewidth": 0,
              "ticks": ""
             }
            },
            "type": "scatter"
           }
          ],
          "scatter3d": [
           {
            "line": {
             "colorbar": {
              "outlinewidth": 0,
              "ticks": ""
             }
            },
            "marker": {
             "colorbar": {
              "outlinewidth": 0,
              "ticks": ""
             }
            },
            "type": "scatter3d"
           }
          ],
          "scattercarpet": [
           {
            "marker": {
             "colorbar": {
              "outlinewidth": 0,
              "ticks": ""
             }
            },
            "type": "scattercarpet"
           }
          ],
          "scattergeo": [
           {
            "marker": {
             "colorbar": {
              "outlinewidth": 0,
              "ticks": ""
             }
            },
            "type": "scattergeo"
           }
          ],
          "scattergl": [
           {
            "marker": {
             "colorbar": {
              "outlinewidth": 0,
              "ticks": ""
             }
            },
            "type": "scattergl"
           }
          ],
          "scattermapbox": [
           {
            "marker": {
             "colorbar": {
              "outlinewidth": 0,
              "ticks": ""
             }
            },
            "type": "scattermapbox"
           }
          ],
          "scatterpolar": [
           {
            "marker": {
             "colorbar": {
              "outlinewidth": 0,
              "ticks": ""
             }
            },
            "type": "scatterpolar"
           }
          ],
          "scatterpolargl": [
           {
            "marker": {
             "colorbar": {
              "outlinewidth": 0,
              "ticks": ""
             }
            },
            "type": "scatterpolargl"
           }
          ],
          "scatterternary": [
           {
            "marker": {
             "colorbar": {
              "outlinewidth": 0,
              "ticks": ""
             }
            },
            "type": "scatterternary"
           }
          ],
          "surface": [
           {
            "colorbar": {
             "outlinewidth": 0,
             "ticks": ""
            },
            "colorscale": [
             [
              0,
              "#0d0887"
             ],
             [
              0.1111111111111111,
              "#46039f"
             ],
             [
              0.2222222222222222,
              "#7201a8"
             ],
             [
              0.3333333333333333,
              "#9c179e"
             ],
             [
              0.4444444444444444,
              "#bd3786"
             ],
             [
              0.5555555555555556,
              "#d8576b"
             ],
             [
              0.6666666666666666,
              "#ed7953"
             ],
             [
              0.7777777777777778,
              "#fb9f3a"
             ],
             [
              0.8888888888888888,
              "#fdca26"
             ],
             [
              1,
              "#f0f921"
             ]
            ],
            "type": "surface"
           }
          ],
          "table": [
           {
            "cells": {
             "fill": {
              "color": "#EBF0F8"
             },
             "line": {
              "color": "white"
             }
            },
            "header": {
             "fill": {
              "color": "#C8D4E3"
             },
             "line": {
              "color": "white"
             }
            },
            "type": "table"
           }
          ]
         },
         "layout": {
          "annotationdefaults": {
           "arrowcolor": "#2a3f5f",
           "arrowhead": 0,
           "arrowwidth": 1
          },
          "autotypenumbers": "strict",
          "coloraxis": {
           "colorbar": {
            "outlinewidth": 0,
            "ticks": ""
           }
          },
          "colorscale": {
           "diverging": [
            [
             0,
             "#8e0152"
            ],
            [
             0.1,
             "#c51b7d"
            ],
            [
             0.2,
             "#de77ae"
            ],
            [
             0.3,
             "#f1b6da"
            ],
            [
             0.4,
             "#fde0ef"
            ],
            [
             0.5,
             "#f7f7f7"
            ],
            [
             0.6,
             "#e6f5d0"
            ],
            [
             0.7,
             "#b8e186"
            ],
            [
             0.8,
             "#7fbc41"
            ],
            [
             0.9,
             "#4d9221"
            ],
            [
             1,
             "#276419"
            ]
           ],
           "sequential": [
            [
             0,
             "#0d0887"
            ],
            [
             0.1111111111111111,
             "#46039f"
            ],
            [
             0.2222222222222222,
             "#7201a8"
            ],
            [
             0.3333333333333333,
             "#9c179e"
            ],
            [
             0.4444444444444444,
             "#bd3786"
            ],
            [
             0.5555555555555556,
             "#d8576b"
            ],
            [
             0.6666666666666666,
             "#ed7953"
            ],
            [
             0.7777777777777778,
             "#fb9f3a"
            ],
            [
             0.8888888888888888,
             "#fdca26"
            ],
            [
             1,
             "#f0f921"
            ]
           ],
           "sequentialminus": [
            [
             0,
             "#0d0887"
            ],
            [
             0.1111111111111111,
             "#46039f"
            ],
            [
             0.2222222222222222,
             "#7201a8"
            ],
            [
             0.3333333333333333,
             "#9c179e"
            ],
            [
             0.4444444444444444,
             "#bd3786"
            ],
            [
             0.5555555555555556,
             "#d8576b"
            ],
            [
             0.6666666666666666,
             "#ed7953"
            ],
            [
             0.7777777777777778,
             "#fb9f3a"
            ],
            [
             0.8888888888888888,
             "#fdca26"
            ],
            [
             1,
             "#f0f921"
            ]
           ]
          },
          "colorway": [
           "#636efa",
           "#EF553B",
           "#00cc96",
           "#ab63fa",
           "#FFA15A",
           "#19d3f3",
           "#FF6692",
           "#B6E880",
           "#FF97FF",
           "#FECB52"
          ],
          "font": {
           "color": "#2a3f5f"
          },
          "geo": {
           "bgcolor": "white",
           "lakecolor": "white",
           "landcolor": "#E5ECF6",
           "showlakes": true,
           "showland": true,
           "subunitcolor": "white"
          },
          "hoverlabel": {
           "align": "left"
          },
          "hovermode": "closest",
          "mapbox": {
           "style": "light"
          },
          "paper_bgcolor": "white",
          "plot_bgcolor": "#E5ECF6",
          "polar": {
           "angularaxis": {
            "gridcolor": "white",
            "linecolor": "white",
            "ticks": ""
           },
           "bgcolor": "#E5ECF6",
           "radialaxis": {
            "gridcolor": "white",
            "linecolor": "white",
            "ticks": ""
           }
          },
          "scene": {
           "xaxis": {
            "backgroundcolor": "#E5ECF6",
            "gridcolor": "white",
            "gridwidth": 2,
            "linecolor": "white",
            "showbackground": true,
            "ticks": "",
            "zerolinecolor": "white"
           },
           "yaxis": {
            "backgroundcolor": "#E5ECF6",
            "gridcolor": "white",
            "gridwidth": 2,
            "linecolor": "white",
            "showbackground": true,
            "ticks": "",
            "zerolinecolor": "white"
           },
           "zaxis": {
            "backgroundcolor": "#E5ECF6",
            "gridcolor": "white",
            "gridwidth": 2,
            "linecolor": "white",
            "showbackground": true,
            "ticks": "",
            "zerolinecolor": "white"
           }
          },
          "shapedefaults": {
           "line": {
            "color": "#2a3f5f"
           }
          },
          "ternary": {
           "aaxis": {
            "gridcolor": "white",
            "linecolor": "white",
            "ticks": ""
           },
           "baxis": {
            "gridcolor": "white",
            "linecolor": "white",
            "ticks": ""
           },
           "bgcolor": "#E5ECF6",
           "caxis": {
            "gridcolor": "white",
            "linecolor": "white",
            "ticks": ""
           }
          },
          "title": {
           "x": 0.05
          },
          "xaxis": {
           "automargin": true,
           "gridcolor": "white",
           "linecolor": "white",
           "ticks": "",
           "title": {
            "standoff": 15
           },
           "zerolinecolor": "white",
           "zerolinewidth": 2
          },
          "yaxis": {
           "automargin": true,
           "gridcolor": "white",
           "linecolor": "white",
           "ticks": "",
           "title": {
            "standoff": 15
           },
           "zerolinecolor": "white",
           "zerolinewidth": 2
          }
         }
        },
        "width": 800,
        "xaxis": {
         "anchor": "y",
         "domain": [
          0,
          0.45
         ]
        },
        "xaxis2": {
         "anchor": "y2",
         "domain": [
          0.55,
          1
         ]
        },
        "xaxis3": {
         "anchor": "y3",
         "domain": [
          0,
          1
         ]
        },
        "yaxis": {
         "anchor": "x",
         "domain": [
          0.625,
          1
         ],
         "title": {
          "text": "Count"
         }
        },
        "yaxis2": {
         "anchor": "x2",
         "domain": [
          0.625,
          1
         ],
         "title": {
          "text": "Count"
         }
        },
        "yaxis3": {
         "anchor": "x3",
         "domain": [
          0,
          0.375
         ],
         "title": {
          "text": "Count"
         }
        }
       }
      },
      "text/html": [
       "<div>                            <div id=\"6ad9da47-9801-45e7-961b-f53537d9c0be\" class=\"plotly-graph-div\" style=\"height:800px; width:800px;\"></div>            <script type=\"text/javascript\">                require([\"plotly\"], function(Plotly) {                    window.PLOTLYENV=window.PLOTLYENV || {};                                    if (document.getElementById(\"6ad9da47-9801-45e7-961b-f53537d9c0be\")) {                    Plotly.newPlot(                        \"6ad9da47-9801-45e7-961b-f53537d9c0be\",                        [{\"marker\":{\"color\":[\"#D7FABC\",\"#17AE42\",\"#41C5E1\",\"#7CB5CD\",\"#622073\",\"#C64DF4\",\"#DE226D\",\"#B86574\",\"#7C3D7B\",\"#F4214F\",\"#1865F4\",\"#B67F46\",\"#8A5003\",\"#4E209A\",\"#44A0E6\",\"#2274A1\",\"#D2E77B\",\"#2663FD\",\"#02F7F4\",\"#D4E230\",\"#E30002\",\"#9E6371\",\"#614FE1\",\"#80D6DA\",\"#8BDBDD\",\"#F68619\",\"#5FD7E5\",\"#73577C\",\"#FB4268\",\"#8701F0\",\"#F5DCBE\",\"#9C8F1B\",\"#043FCD\",\"#F90EE1\",\"#B1AB8E\",\"#09767D\",\"#B3D75C\",\"#884D0E\",\"#FF84E3\",\"#3F3EDF\",\"#F8D689\",\"#503385\",\"#11413C\",\"#B886C7\",\"#999E8F\",\"#4007E9\",\"#8386AD\",\"#ABFBED\",\"#B67317\",\"#84DEA1\",\"#807F1B\",\"#745BAD\",\"#8B1441\",\"#F6C942\",\"#D4CA53\",\"#40F736\",\"#978E83\",\"#6DA183\",\"#15ADCE\",\"#FCD0B3\",\"#1D2842\",\"#D25E07\",\"#D1ED2E\",\"#EDC778\",\"#A0A931\",\"#2640BB\",\"#4AD622\",\"#44C916\",\"#BCED25\",\"#1FFB22\",\"#B7CEA5\",\"#E324DE\",\"#72407D\",\"#A423B2\",\"#8C8C31\",\"#FF9961\",\"#C10056\",\"#052B81\",\"#0C67C4\",\"#6B6CF3\",\"#87FEDC\",\"#D0DD5A\",\"#2AF1EC\",\"#D15EB3\",\"#CCEB26\",\"#8CCF37\",\"#201C9B\",\"#DBCDC2\",\"#83D5D9\",\"#D6243A\",\"#78589A\",\"#C015C7\",\"#ECA524\",\"#1691B9\",\"#93C7AF\",\"#9592F1\",\"#577D7E\",\"#EFD908\",\"#2B672F\",\"#985DCF\"],\"line\":{\"color\":\"rgb(8, 48, 107)\",\"width\":1.5}},\"opacity\":0.7,\"text\":[\"55.65%\",\"8.23%\",\"4.12%\",\"3.53%\",\"3.25%\",\"2.98%\",\"2.69%\",\"2.32%\",\"2.07%\",\"1.95%\",\"1.87%\",\"1.65%\",\"1.63%\",\"1.53%\",\"1.43%\",\"1.38%\",\"1.06%\",\"0.76%\",\"0.49%\",\"0.49%\",\"0.49%\",\"0.22%\",\"0.20%\"],\"type\":\"bar\",\"x\":[\"Games\",\"Entertainment\",\"Photo & Video\",\"Social Networking\",\"Education\",\"Shopping\",\"Utilities\",\"Lifestyle\",\"Finance\",\"Sports\",\"Health & Fitness\",\"Music\",\"Book\",\"Productivity\",\"News\",\"Travel\",\"Food & Drink\",\"Weather\",\"Reference\",\"Business\",\"Navigation\",\"Catalogs\",\"Medical\"],\"xaxis\":\"x\",\"y\":[2257,334,167,143,132,121,109,94,84,79,76,67,66,62,58,56,43,31,20,20,20,9,8],\"yaxis\":\"y\"},{\"marker\":{\"color\":[\"#B54117\",\"#358E08\",\"#CA39CB\",\"#241B4C\",\"#F0DDD5\",\"#94CA47\",\"#1B33DE\",\"#B84AB2\",\"#C8FA93\",\"#4992DF\",\"#5214C4\",\"#A507AC\",\"#3D262E\",\"#A70732\",\"#8DBC02\",\"#9BBEAC\",\"#5EB0B4\",\"#02BD47\",\"#CF6B90\",\"#363B65\",\"#71352E\",\"#1AA78B\",\"#CA00D6\",\"#7FF755\",\"#C52014\",\"#5C2D7E\",\"#866582\",\"#A8FEF9\",\"#4456B0\",\"#710AC7\",\"#BE8333\",\"#8ADBDD\",\"#07071B\",\"#F494BD\",\"#3E46F7\",\"#3D4E47\",\"#AC97A2\",\"#F6A85B\",\"#E342F0\",\"#F2E4B7\",\"#9B0A31\",\"#17ED75\",\"#21577F\",\"#BD00E3\",\"#F0B857\",\"#55E6F0\",\"#442812\",\"#5358A6\",\"#3E6EC7\",\"#2A06FD\",\"#E583A9\",\"#B267A8\",\"#3A9C0F\",\"#D20875\",\"#A55F8E\",\"#CFB61D\",\"#01DDD9\",\"#2B1B46\",\"#84A52D\",\"#C6F3DA\",\"#433993\",\"#98F100\",\"#509AF3\",\"#29BECB\",\"#7CA4F9\",\"#D96D88\",\"#5644CC\",\"#7BE6A2\",\"#D6D8FF\",\"#C3B252\",\"#036A1E\",\"#025AEE\",\"#6F70C6\",\"#5F659F\",\"#634BC3\",\"#6E9A99\",\"#E0208F\",\"#E3F916\",\"#99BA48\",\"#4AF62A\",\"#524CF5\",\"#0C2498\",\"#3610A0\",\"#1B4DEB\",\"#5EB561\",\"#482DC2\",\"#76BF63\",\"#8428CA\",\"#C4A553\",\"#D9DA99\",\"#671EDE\",\"#D60A4E\",\"#A81530\",\"#F3BD51\",\"#B13B68\",\"#893554\",\"#F29F21\",\"#4E0A2D\",\"#184301\",\"#CD71D0\"],\"line\":{\"color\":\"rgb(8, 48, 107)\",\"width\":1.5}},\"opacity\":0.7,\"text\":[\"51.10%\",\"10.22%\",\"6.40%\",\"5.79%\",\"4.43%\",\"3.69%\",\"3.31%\",\"2.26%\",\"1.59%\",\"1.46%\",\"1.40%\",\"1.31%\",\"1.18%\",\"1.11%\",\"0.83%\",\"0.80%\",\"0.76%\",\"0.64%\",\"0.64%\",\"0.54%\",\"0.48%\",\"0.03%\",\"0.03%\"],\"type\":\"bar\",\"x\":[\"Games\",\"Education\",\"Entertainment\",\"Photo & Video\",\"Utilities\",\"Productivity\",\"Health & Fitness\",\"Music\",\"Lifestyle\",\"Book\",\"Reference\",\"Weather\",\"Business\",\"Sports\",\"Navigation\",\"Travel\",\"Social Networking\",\"Finance\",\"Food & Drink\",\"News\",\"Medical\",\"Shopping\",\"Catalogs\"],\"xaxis\":\"x2\",\"y\":[1605,321,201,182,139,116,104,71,50,46,44,41,37,35,26,25,24,20,20,17,15,1,1],\"yaxis\":\"y2\"},{\"name\":\"Free\",\"opacity\":0.7,\"text\":[\"55.65%\",\"8.23%\",\"4.12%\",\"3.53%\",\"3.25%\",\"2.98%\",\"2.69%\",\"2.32%\",\"2.07%\",\"1.95%\",\"1.87%\",\"1.65%\",\"1.63%\",\"1.53%\",\"1.43%\",\"1.38%\",\"1.06%\",\"0.76%\",\"0.49%\",\"0.49%\",\"0.49%\",\"0.22%\",\"0.20%\"],\"type\":\"bar\",\"x\":[\"Games\",\"Entertainment\",\"Photo & Video\",\"Social Networking\",\"Education\",\"Shopping\",\"Utilities\",\"Lifestyle\",\"Finance\",\"Sports\",\"Health & Fitness\",\"Music\",\"Book\",\"Productivity\",\"News\",\"Travel\",\"Food & Drink\",\"Weather\",\"Reference\",\"Business\",\"Navigation\",\"Catalogs\",\"Medical\"],\"xaxis\":\"x3\",\"y\":[2257,334,167,143,132,121,109,94,84,79,76,67,66,62,58,56,43,31,20,20,20,9,8],\"yaxis\":\"y3\"},{\"name\":\"Not-Free\",\"opacity\":0.7,\"text\":[\"51.10%\",\"10.22%\",\"6.40%\",\"5.79%\",\"4.43%\",\"3.69%\",\"3.31%\",\"2.26%\",\"1.59%\",\"1.46%\",\"1.40%\",\"1.31%\",\"1.18%\",\"1.11%\",\"0.83%\",\"0.80%\",\"0.76%\",\"0.64%\",\"0.64%\",\"0.54%\",\"0.48%\",\"0.03%\",\"0.03%\"],\"type\":\"bar\",\"x\":[\"Games\",\"Education\",\"Entertainment\",\"Photo & Video\",\"Utilities\",\"Productivity\",\"Health & Fitness\",\"Music\",\"Lifestyle\",\"Book\",\"Reference\",\"Weather\",\"Business\",\"Sports\",\"Navigation\",\"Travel\",\"Social Networking\",\"Finance\",\"Food & Drink\",\"News\",\"Medical\",\"Shopping\",\"Catalogs\"],\"xaxis\":\"x3\",\"y\":[1605,321,201,182,139,116,104,71,50,46,44,41,37,35,26,25,24,20,20,17,15,1,1],\"yaxis\":\"y3\"}],                        {\"annotations\":[{\"font\":{\"size\":16},\"showarrow\":false,\"text\":\"(1) Countplot for Prime_genre of Free\",\"x\":0.225,\"xanchor\":\"center\",\"xref\":\"paper\",\"y\":1.0,\"yanchor\":\"bottom\",\"yref\":\"paper\"},{\"font\":{\"size\":16},\"showarrow\":false,\"text\":\"(2) Countplot for Prime_genre of Not-Free\",\"x\":0.775,\"xanchor\":\"center\",\"xref\":\"paper\",\"y\":1.0,\"yanchor\":\"bottom\",\"yref\":\"paper\"},{\"font\":{\"size\":16},\"showarrow\":false,\"text\":\"(3) Grouped barplot containing Free(green) and Not-Free(red)\",\"x\":0.5,\"xanchor\":\"center\",\"xref\":\"paper\",\"y\":0.375,\"yanchor\":\"bottom\",\"yref\":\"paper\"}],\"height\":800,\"showlegend\":false,\"template\":{\"data\":{\"bar\":[{\"error_x\":{\"color\":\"#2a3f5f\"},\"error_y\":{\"color\":\"#2a3f5f\"},\"marker\":{\"line\":{\"color\":\"#E5ECF6\",\"width\":0.5},\"pattern\":{\"fillmode\":\"overlay\",\"size\":10,\"solidity\":0.2}},\"type\":\"bar\"}],\"barpolar\":[{\"marker\":{\"line\":{\"color\":\"#E5ECF6\",\"width\":0.5},\"pattern\":{\"fillmode\":\"overlay\",\"size\":10,\"solidity\":0.2}},\"type\":\"barpolar\"}],\"carpet\":[{\"aaxis\":{\"endlinecolor\":\"#2a3f5f\",\"gridcolor\":\"white\",\"linecolor\":\"white\",\"minorgridcolor\":\"white\",\"startlinecolor\":\"#2a3f5f\"},\"baxis\":{\"endlinecolor\":\"#2a3f5f\",\"gridcolor\":\"white\",\"linecolor\":\"white\",\"minorgridcolor\":\"white\",\"startlinecolor\":\"#2a3f5f\"},\"type\":\"carpet\"}],\"choropleth\":[{\"colorbar\":{\"outlinewidth\":0,\"ticks\":\"\"},\"type\":\"choropleth\"}],\"contour\":[{\"colorbar\":{\"outlinewidth\":0,\"ticks\":\"\"},\"colorscale\":[[0.0,\"#0d0887\"],[0.1111111111111111,\"#46039f\"],[0.2222222222222222,\"#7201a8\"],[0.3333333333333333,\"#9c179e\"],[0.4444444444444444,\"#bd3786\"],[0.5555555555555556,\"#d8576b\"],[0.6666666666666666,\"#ed7953\"],[0.7777777777777778,\"#fb9f3a\"],[0.8888888888888888,\"#fdca26\"],[1.0,\"#f0f921\"]],\"type\":\"contour\"}],\"contourcarpet\":[{\"colorbar\":{\"outlinewidth\":0,\"ticks\":\"\"},\"type\":\"contourcarpet\"}],\"heatmap\":[{\"colorbar\":{\"outlinewidth\":0,\"ticks\":\"\"},\"colorscale\":[[0.0,\"#0d0887\"],[0.1111111111111111,\"#46039f\"],[0.2222222222222222,\"#7201a8\"],[0.3333333333333333,\"#9c179e\"],[0.4444444444444444,\"#bd3786\"],[0.5555555555555556,\"#d8576b\"],[0.6666666666666666,\"#ed7953\"],[0.7777777777777778,\"#fb9f3a\"],[0.8888888888888888,\"#fdca26\"],[1.0,\"#f0f921\"]],\"type\":\"heatmap\"}],\"heatmapgl\":[{\"colorbar\":{\"outlinewidth\":0,\"ticks\":\"\"},\"colorscale\":[[0.0,\"#0d0887\"],[0.1111111111111111,\"#46039f\"],[0.2222222222222222,\"#7201a8\"],[0.3333333333333333,\"#9c179e\"],[0.4444444444444444,\"#bd3786\"],[0.5555555555555556,\"#d8576b\"],[0.6666666666666666,\"#ed7953\"],[0.7777777777777778,\"#fb9f3a\"],[0.8888888888888888,\"#fdca26\"],[1.0,\"#f0f921\"]],\"type\":\"heatmapgl\"}],\"histogram\":[{\"marker\":{\"pattern\":{\"fillmode\":\"overlay\",\"size\":10,\"solidity\":0.2}},\"type\":\"histogram\"}],\"histogram2d\":[{\"colorbar\":{\"outlinewidth\":0,\"ticks\":\"\"},\"colorscale\":[[0.0,\"#0d0887\"],[0.1111111111111111,\"#46039f\"],[0.2222222222222222,\"#7201a8\"],[0.3333333333333333,\"#9c179e\"],[0.4444444444444444,\"#bd3786\"],[0.5555555555555556,\"#d8576b\"],[0.6666666666666666,\"#ed7953\"],[0.7777777777777778,\"#fb9f3a\"],[0.8888888888888888,\"#fdca26\"],[1.0,\"#f0f921\"]],\"type\":\"histogram2d\"}],\"histogram2dcontour\":[{\"colorbar\":{\"outlinewidth\":0,\"ticks\":\"\"},\"colorscale\":[[0.0,\"#0d0887\"],[0.1111111111111111,\"#46039f\"],[0.2222222222222222,\"#7201a8\"],[0.3333333333333333,\"#9c179e\"],[0.4444444444444444,\"#bd3786\"],[0.5555555555555556,\"#d8576b\"],[0.6666666666666666,\"#ed7953\"],[0.7777777777777778,\"#fb9f3a\"],[0.8888888888888888,\"#fdca26\"],[1.0,\"#f0f921\"]],\"type\":\"histogram2dcontour\"}],\"mesh3d\":[{\"colorbar\":{\"outlinewidth\":0,\"ticks\":\"\"},\"type\":\"mesh3d\"}],\"parcoords\":[{\"line\":{\"colorbar\":{\"outlinewidth\":0,\"ticks\":\"\"}},\"type\":\"parcoords\"}],\"pie\":[{\"automargin\":true,\"type\":\"pie\"}],\"scatter\":[{\"marker\":{\"colorbar\":{\"outlinewidth\":0,\"ticks\":\"\"}},\"type\":\"scatter\"}],\"scatter3d\":[{\"line\":{\"colorbar\":{\"outlinewidth\":0,\"ticks\":\"\"}},\"marker\":{\"colorbar\":{\"outlinewidth\":0,\"ticks\":\"\"}},\"type\":\"scatter3d\"}],\"scattercarpet\":[{\"marker\":{\"colorbar\":{\"outlinewidth\":0,\"ticks\":\"\"}},\"type\":\"scattercarpet\"}],\"scattergeo\":[{\"marker\":{\"colorbar\":{\"outlinewidth\":0,\"ticks\":\"\"}},\"type\":\"scattergeo\"}],\"scattergl\":[{\"marker\":{\"colorbar\":{\"outlinewidth\":0,\"ticks\":\"\"}},\"type\":\"scattergl\"}],\"scattermapbox\":[{\"marker\":{\"colorbar\":{\"outlinewidth\":0,\"ticks\":\"\"}},\"type\":\"scattermapbox\"}],\"scatterpolar\":[{\"marker\":{\"colorbar\":{\"outlinewidth\":0,\"ticks\":\"\"}},\"type\":\"scatterpolar\"}],\"scatterpolargl\":[{\"marker\":{\"colorbar\":{\"outlinewidth\":0,\"ticks\":\"\"}},\"type\":\"scatterpolargl\"}],\"scatterternary\":[{\"marker\":{\"colorbar\":{\"outlinewidth\":0,\"ticks\":\"\"}},\"type\":\"scatterternary\"}],\"surface\":[{\"colorbar\":{\"outlinewidth\":0,\"ticks\":\"\"},\"colorscale\":[[0.0,\"#0d0887\"],[0.1111111111111111,\"#46039f\"],[0.2222222222222222,\"#7201a8\"],[0.3333333333333333,\"#9c179e\"],[0.4444444444444444,\"#bd3786\"],[0.5555555555555556,\"#d8576b\"],[0.6666666666666666,\"#ed7953\"],[0.7777777777777778,\"#fb9f3a\"],[0.8888888888888888,\"#fdca26\"],[1.0,\"#f0f921\"]],\"type\":\"surface\"}],\"table\":[{\"cells\":{\"fill\":{\"color\":\"#EBF0F8\"},\"line\":{\"color\":\"white\"}},\"header\":{\"fill\":{\"color\":\"#C8D4E3\"},\"line\":{\"color\":\"white\"}},\"type\":\"table\"}]},\"layout\":{\"annotationdefaults\":{\"arrowcolor\":\"#2a3f5f\",\"arrowhead\":0,\"arrowwidth\":1},\"autotypenumbers\":\"strict\",\"coloraxis\":{\"colorbar\":{\"outlinewidth\":0,\"ticks\":\"\"}},\"colorscale\":{\"diverging\":[[0,\"#8e0152\"],[0.1,\"#c51b7d\"],[0.2,\"#de77ae\"],[0.3,\"#f1b6da\"],[0.4,\"#fde0ef\"],[0.5,\"#f7f7f7\"],[0.6,\"#e6f5d0\"],[0.7,\"#b8e186\"],[0.8,\"#7fbc41\"],[0.9,\"#4d9221\"],[1,\"#276419\"]],\"sequential\":[[0.0,\"#0d0887\"],[0.1111111111111111,\"#46039f\"],[0.2222222222222222,\"#7201a8\"],[0.3333333333333333,\"#9c179e\"],[0.4444444444444444,\"#bd3786\"],[0.5555555555555556,\"#d8576b\"],[0.6666666666666666,\"#ed7953\"],[0.7777777777777778,\"#fb9f3a\"],[0.8888888888888888,\"#fdca26\"],[1.0,\"#f0f921\"]],\"sequentialminus\":[[0.0,\"#0d0887\"],[0.1111111111111111,\"#46039f\"],[0.2222222222222222,\"#7201a8\"],[0.3333333333333333,\"#9c179e\"],[0.4444444444444444,\"#bd3786\"],[0.5555555555555556,\"#d8576b\"],[0.6666666666666666,\"#ed7953\"],[0.7777777777777778,\"#fb9f3a\"],[0.8888888888888888,\"#fdca26\"],[1.0,\"#f0f921\"]]},\"colorway\":[\"#636efa\",\"#EF553B\",\"#00cc96\",\"#ab63fa\",\"#FFA15A\",\"#19d3f3\",\"#FF6692\",\"#B6E880\",\"#FF97FF\",\"#FECB52\"],\"font\":{\"color\":\"#2a3f5f\"},\"geo\":{\"bgcolor\":\"white\",\"lakecolor\":\"white\",\"landcolor\":\"#E5ECF6\",\"showlakes\":true,\"showland\":true,\"subunitcolor\":\"white\"},\"hoverlabel\":{\"align\":\"left\"},\"hovermode\":\"closest\",\"mapbox\":{\"style\":\"light\"},\"paper_bgcolor\":\"white\",\"plot_bgcolor\":\"#E5ECF6\",\"polar\":{\"angularaxis\":{\"gridcolor\":\"white\",\"linecolor\":\"white\",\"ticks\":\"\"},\"bgcolor\":\"#E5ECF6\",\"radialaxis\":{\"gridcolor\":\"white\",\"linecolor\":\"white\",\"ticks\":\"\"}},\"scene\":{\"xaxis\":{\"backgroundcolor\":\"#E5ECF6\",\"gridcolor\":\"white\",\"gridwidth\":2,\"linecolor\":\"white\",\"showbackground\":true,\"ticks\":\"\",\"zerolinecolor\":\"white\"},\"yaxis\":{\"backgroundcolor\":\"#E5ECF6\",\"gridcolor\":\"white\",\"gridwidth\":2,\"linecolor\":\"white\",\"showbackground\":true,\"ticks\":\"\",\"zerolinecolor\":\"white\"},\"zaxis\":{\"backgroundcolor\":\"#E5ECF6\",\"gridcolor\":\"white\",\"gridwidth\":2,\"linecolor\":\"white\",\"showbackground\":true,\"ticks\":\"\",\"zerolinecolor\":\"white\"}},\"shapedefaults\":{\"line\":{\"color\":\"#2a3f5f\"}},\"ternary\":{\"aaxis\":{\"gridcolor\":\"white\",\"linecolor\":\"white\",\"ticks\":\"\"},\"baxis\":{\"gridcolor\":\"white\",\"linecolor\":\"white\",\"ticks\":\"\"},\"bgcolor\":\"#E5ECF6\",\"caxis\":{\"gridcolor\":\"white\",\"linecolor\":\"white\",\"ticks\":\"\"}},\"title\":{\"x\":0.05},\"xaxis\":{\"automargin\":true,\"gridcolor\":\"white\",\"linecolor\":\"white\",\"ticks\":\"\",\"title\":{\"standoff\":15},\"zerolinecolor\":\"white\",\"zerolinewidth\":2},\"yaxis\":{\"automargin\":true,\"gridcolor\":\"white\",\"linecolor\":\"white\",\"ticks\":\"\",\"title\":{\"standoff\":15},\"zerolinecolor\":\"white\",\"zerolinewidth\":2}}},\"width\":800,\"xaxis\":{\"anchor\":\"y\",\"domain\":[0.0,0.45]},\"xaxis2\":{\"anchor\":\"y2\",\"domain\":[0.55,1.0]},\"xaxis3\":{\"anchor\":\"y3\",\"domain\":[0.0,1.0]},\"yaxis\":{\"anchor\":\"x\",\"domain\":[0.625,1.0],\"title\":{\"text\":\"Count\"}},\"yaxis2\":{\"anchor\":\"x2\",\"domain\":[0.625,1.0],\"title\":{\"text\":\"Count\"}},\"yaxis3\":{\"anchor\":\"x3\",\"domain\":[0.0,0.375],\"title\":{\"text\":\"Count\"}}},                        {\"responsive\": true}                    ).then(function(){\n",
       "                            \n",
       "var gd = document.getElementById('6ad9da47-9801-45e7-961b-f53537d9c0be');\n",
       "var x = new MutationObserver(function (mutations, observer) {{\n",
       "        var display = window.getComputedStyle(gd).display;\n",
       "        if (!display || display === 'none') {{\n",
       "            console.log([gd, 'removed!']);\n",
       "            Plotly.purge(gd);\n",
       "            observer.disconnect();\n",
       "        }}\n",
       "}});\n",
       "\n",
       "// Listen for the removal of the full notebook cells\n",
       "var notebookContainer = gd.closest('#notebook-container');\n",
       "if (notebookContainer) {{\n",
       "    x.observe(notebookContainer, {childList: true});\n",
       "}}\n",
       "\n",
       "// Listen for the clearing of the current output cell\n",
       "var outputEl = gd.closest('.output');\n",
       "if (outputEl) {{\n",
       "    x.observe(outputEl, {childList: true});\n",
       "}}\n",
       "\n",
       "                        })                };                });            </script>        </div>"
      ]
     },
     "metadata": {},
     "output_type": "display_data"
    }
   ],
   "source": [
    "cnt_srs1 = df_app_free['prime_genre'].value_counts()\n",
    "text1 = ['{:.2f}%'.format(100 * (value / cnt_srs1.sum())) for value in cnt_srs1.values]\n",
    "\n",
    "trace1 = go.Bar(\n",
    "    x = cnt_srs1.index,\n",
    "    y = cnt_srs1.values,\n",
    "    text = text1,\n",
    "    marker = dict(\n",
    "        color = random_color_generator(100),\n",
    "        line = dict(color='rgb(8, 48, 107)',\n",
    "                    width = 1.5)\n",
    "    ),\n",
    "    opacity = 0.7\n",
    ")\n",
    "\n",
    "cnt_srs2 = df_app_notfree['prime_genre'].value_counts()\n",
    "text2 = ['{:.2f}%'.format(100 * (value / cnt_srs2.sum())) for value in cnt_srs2.values]\n",
    "\n",
    "trace2 = go.Bar(\n",
    "    x = cnt_srs2.index,\n",
    "    y = cnt_srs2.values,\n",
    "    text = text2,\n",
    "    marker = dict(\n",
    "        color = random_color_generator(100),\n",
    "        line = dict(color='rgb(8, 48, 107)',\n",
    "                    width = 1.5)\n",
    "    ),\n",
    "    opacity = 0.7\n",
    ")\n",
    "\n",
    "trace3 = go.Bar(\n",
    "    x = cnt_srs1.index,\n",
    "    y = cnt_srs1.values,\n",
    "    text = text1,\n",
    "    opacity = 0.7,\n",
    "    name='Free'\n",
    ")\n",
    "\n",
    "\n",
    "trace4 = go.Bar(\n",
    "    x = cnt_srs2.index,\n",
    "    y = cnt_srs2.values,\n",
    "    text = text2,\n",
    "    opacity = 0.7,\n",
    "    name='Not-Free'\n",
    ")\n",
    "\n",
    "\n",
    "\n",
    "fig = tools.make_subplots(rows=2, cols=2, specs = [[{}, {}], [{'colspan':2}, None]], \n",
    "                          subplot_titles=('(1) Countplot for Prime_genre of Free', '(2) Countplot for Prime_genre of Not-Free', \n",
    "                                          '(3) Grouped barplot containing Free(green) and Not-Free(red)'), print_grid=False)\n",
    "fig.append_trace(trace1, 1, 1)\n",
    "fig.append_trace(trace2, 1, 2)\n",
    "fig.append_trace(trace3, 2, 1)\n",
    "fig.append_trace(trace4, 2, 1)\n",
    "\n",
    "fig['layout']['yaxis1'].update(title='Count')\n",
    "fig['layout']['yaxis2'].update(title='Count')\n",
    "fig['layout']['yaxis3'].update(title='Count')\n",
    "\n",
    "fig['layout'].update(showlegend=False, width=800, height=800)\n",
    "\n",
    "py.iplot(fig)"
   ]
  },
  {
   "cell_type": "markdown",
   "id": "349beb2f",
   "metadata": {},
   "source": [
    "Figure 1\n",
    "\n",
    "For Free App, Top 3 is below.\n",
    "\n",
    "(1) Games (2) Entertainments (3) Photo & Video\n",
    "\n",
    "Figure 2\n",
    "\n",
    "For Not-Free App, Top 3 is below\n",
    "\n",
    "(1) Games (2) Education (3) Entertainments\n",
    "\n",
    "Figure 3\n",
    "\n",
    "Many social network App is free.\n",
    "\n",
    "below are Not-free social networking App. "
   ]
  },
  {
   "cell_type": "code",
   "execution_count": 24,
   "id": "9c819bbe",
   "metadata": {},
   "outputs": [
    {
     "name": "stdout",
     "output_type": "stream",
     "text": [
      "Bowitter for iPhone\n",
      "Badoo Premium - Meet new people. Extra features.\n",
      "Fake Location\n",
      "Who Deleted Me? for Facebook\n",
      "TeamSpeak 3\n",
      "Threema\n",
      "Followers + EA - Analytics for Instagram\n",
      "VVebo - 微博客户端\n",
      "feather for Twitter\n",
      "Repost It! for Instagram Pro - Video Photo Whiz\n",
      "InsSave - Download & Save Photos & Videos From Instagram With Ease!\n",
      "Love Msg\n",
      "Remove Caption for Snapchat* Screenshots\n",
      "WeicoPro 4\n",
      "一言-记录字句，发现共鸣\n",
      "Tweetbot 4 for Twitter\n",
      "狼人之夜\n",
      "InsPad - Instagram for iPad\n",
      "ChatMate for WhatsApp\n",
      "Todrick\n",
      "Littlebook - for Facebook on Watch\n",
      "求恋爱 专业版-高端恋爱相亲婚恋交友神器,同城寂寞单身男女聊天约会找对象平台\n",
      "Not Karlton Banks Emojis by Eboticons\n",
      "Demi Lovato Stickers\n"
     ]
    }
   ],
   "source": [
    "for app in df_app.loc[(df_app['isNotFree'] == 1) & (df_app['prime_genre'] == 'Social Networking'), 'track_name'].values:\n",
    "    print(app)"
   ]
  },
  {
   "cell_type": "markdown",
   "id": "f5a18a4f",
   "metadata": {},
   "source": [
    "User rating depending on price_genre"
   ]
  },
  {
   "cell_type": "code",
   "execution_count": 25,
   "id": "78cb2f7a",
   "metadata": {},
   "outputs": [
    {
     "data": {
      "application/vnd.plotly.v1+json": {
       "config": {
        "linkText": "Export to plot.ly",
        "plotlyServerURL": "https://plot.ly",
        "showLink": false
       },
       "data": [
        {
         "marker": {
          "color": [
           "#83C2C1",
           "#056347",
           "#BB5F37",
           "#87ADBC",
           "#C52041",
           "#BACAB8",
           "#8A73DD",
           "#C18578",
           "#E934C8",
           "#4E609C",
           "#8B0585",
           "#74935C",
           "#7CC423",
           "#0097E9",
           "#39C2D8",
           "#1002E7",
           "#C59134",
           "#7EED4B",
           "#5A725A",
           "#B6FF17",
           "#70BCFC",
           "#0CE071",
           "#457857",
           "#C995F4",
           "#6DEA10",
           "#2C9927",
           "#4E3CFA",
           "#688506",
           "#4403B2",
           "#E10C80",
           "#82B518",
           "#4C6479",
           "#621E23",
           "#1ADAEB",
           "#FC10E5",
           "#029504",
           "#B8771F",
           "#D00658",
           "#7F9C06",
           "#33DA6A",
           "#A7AA84",
           "#6B97A2",
           "#BBCBDC",
           "#089B55",
           "#714D8F",
           "#FBBD6B",
           "#992326",
           "#65B070",
           "#C0A2C8",
           "#0567CE",
           "#D4033A",
           "#973A3D",
           "#FDC191",
           "#57E04E",
           "#65B734",
           "#A8ADF1",
           "#0B7E13",
           "#CA1CA3",
           "#EE37B6",
           "#38236D",
           "#C1EE5C",
           "#54A5D7",
           "#CD3268",
           "#162606",
           "#07FE9C",
           "#9A6CCD",
           "#6A34D7",
           "#5DC12E",
           "#E032F2",
           "#ACFB72",
           "#952B57",
           "#635A8A",
           "#D08EEB",
           "#F8C0C3",
           "#CBD125",
           "#2F2AA4",
           "#DD728B",
           "#8391FD",
           "#73F91D",
           "#87221E",
           "#F1CE46",
           "#991651",
           "#94D03D",
           "#EDE15B",
           "#C39755",
           "#8DE800",
           "#DCFD17",
           "#026F72",
           "#E4648D",
           "#0FA54D",
           "#0C531F",
           "#571601",
           "#4E25E2",
           "#327FF5",
           "#30A2A9",
           "#73FA02",
           "#0BDB89",
           "#9778CE",
           "#D2C950",
           "#BCD280"
          ],
          "line": {
           "color": "rgb(8, 48, 107)",
           "width": 1.5
          }
         },
         "opacity": 0.7,
         "type": "bar",
         "x": [
          "Productivity",
          "Music",
          "Photo & Video",
          "Business",
          "Health & Fitness",
          "Games",
          "Weather",
          "Shopping",
          "Reference",
          "Travel",
          "Education",
          "Medical",
          "Utilities",
          "Entertainment",
          "Food & Drink",
          "Social Networking",
          "Sports",
          "News",
          "Lifestyle",
          "Navigation",
          "Book",
          "Finance",
          "Catalogs"
         ],
         "y": [
          4.00561797752809,
          3.9782608695652173,
          3.8008595988538683,
          3.745614035087719,
          3.7,
          3.6850077679958573,
          3.5972222222222223,
          3.540983606557377,
          3.453125,
          3.376543209876543,
          3.376379690949227,
          3.369565217391304,
          3.278225806451613,
          3.2467289719626167,
          3.1825396825396823,
          2.9850299401197606,
          2.982456140350877,
          2.98,
          2.8055555555555554,
          2.6847826086956523,
          2.4776785714285716,
          2.4326923076923075,
          2.1
         ]
        }
       ],
       "layout": {
        "height": 500,
        "margin": {
         "l": 100
        },
        "template": {
         "data": {
          "bar": [
           {
            "error_x": {
             "color": "#2a3f5f"
            },
            "error_y": {
             "color": "#2a3f5f"
            },
            "marker": {
             "line": {
              "color": "#E5ECF6",
              "width": 0.5
             },
             "pattern": {
              "fillmode": "overlay",
              "size": 10,
              "solidity": 0.2
             }
            },
            "type": "bar"
           }
          ],
          "barpolar": [
           {
            "marker": {
             "line": {
              "color": "#E5ECF6",
              "width": 0.5
             },
             "pattern": {
              "fillmode": "overlay",
              "size": 10,
              "solidity": 0.2
             }
            },
            "type": "barpolar"
           }
          ],
          "carpet": [
           {
            "aaxis": {
             "endlinecolor": "#2a3f5f",
             "gridcolor": "white",
             "linecolor": "white",
             "minorgridcolor": "white",
             "startlinecolor": "#2a3f5f"
            },
            "baxis": {
             "endlinecolor": "#2a3f5f",
             "gridcolor": "white",
             "linecolor": "white",
             "minorgridcolor": "white",
             "startlinecolor": "#2a3f5f"
            },
            "type": "carpet"
           }
          ],
          "choropleth": [
           {
            "colorbar": {
             "outlinewidth": 0,
             "ticks": ""
            },
            "type": "choropleth"
           }
          ],
          "contour": [
           {
            "colorbar": {
             "outlinewidth": 0,
             "ticks": ""
            },
            "colorscale": [
             [
              0,
              "#0d0887"
             ],
             [
              0.1111111111111111,
              "#46039f"
             ],
             [
              0.2222222222222222,
              "#7201a8"
             ],
             [
              0.3333333333333333,
              "#9c179e"
             ],
             [
              0.4444444444444444,
              "#bd3786"
             ],
             [
              0.5555555555555556,
              "#d8576b"
             ],
             [
              0.6666666666666666,
              "#ed7953"
             ],
             [
              0.7777777777777778,
              "#fb9f3a"
             ],
             [
              0.8888888888888888,
              "#fdca26"
             ],
             [
              1,
              "#f0f921"
             ]
            ],
            "type": "contour"
           }
          ],
          "contourcarpet": [
           {
            "colorbar": {
             "outlinewidth": 0,
             "ticks": ""
            },
            "type": "contourcarpet"
           }
          ],
          "heatmap": [
           {
            "colorbar": {
             "outlinewidth": 0,
             "ticks": ""
            },
            "colorscale": [
             [
              0,
              "#0d0887"
             ],
             [
              0.1111111111111111,
              "#46039f"
             ],
             [
              0.2222222222222222,
              "#7201a8"
             ],
             [
              0.3333333333333333,
              "#9c179e"
             ],
             [
              0.4444444444444444,
              "#bd3786"
             ],
             [
              0.5555555555555556,
              "#d8576b"
             ],
             [
              0.6666666666666666,
              "#ed7953"
             ],
             [
              0.7777777777777778,
              "#fb9f3a"
             ],
             [
              0.8888888888888888,
              "#fdca26"
             ],
             [
              1,
              "#f0f921"
             ]
            ],
            "type": "heatmap"
           }
          ],
          "heatmapgl": [
           {
            "colorbar": {
             "outlinewidth": 0,
             "ticks": ""
            },
            "colorscale": [
             [
              0,
              "#0d0887"
             ],
             [
              0.1111111111111111,
              "#46039f"
             ],
             [
              0.2222222222222222,
              "#7201a8"
             ],
             [
              0.3333333333333333,
              "#9c179e"
             ],
             [
              0.4444444444444444,
              "#bd3786"
             ],
             [
              0.5555555555555556,
              "#d8576b"
             ],
             [
              0.6666666666666666,
              "#ed7953"
             ],
             [
              0.7777777777777778,
              "#fb9f3a"
             ],
             [
              0.8888888888888888,
              "#fdca26"
             ],
             [
              1,
              "#f0f921"
             ]
            ],
            "type": "heatmapgl"
           }
          ],
          "histogram": [
           {
            "marker": {
             "pattern": {
              "fillmode": "overlay",
              "size": 10,
              "solidity": 0.2
             }
            },
            "type": "histogram"
           }
          ],
          "histogram2d": [
           {
            "colorbar": {
             "outlinewidth": 0,
             "ticks": ""
            },
            "colorscale": [
             [
              0,
              "#0d0887"
             ],
             [
              0.1111111111111111,
              "#46039f"
             ],
             [
              0.2222222222222222,
              "#7201a8"
             ],
             [
              0.3333333333333333,
              "#9c179e"
             ],
             [
              0.4444444444444444,
              "#bd3786"
             ],
             [
              0.5555555555555556,
              "#d8576b"
             ],
             [
              0.6666666666666666,
              "#ed7953"
             ],
             [
              0.7777777777777778,
              "#fb9f3a"
             ],
             [
              0.8888888888888888,
              "#fdca26"
             ],
             [
              1,
              "#f0f921"
             ]
            ],
            "type": "histogram2d"
           }
          ],
          "histogram2dcontour": [
           {
            "colorbar": {
             "outlinewidth": 0,
             "ticks": ""
            },
            "colorscale": [
             [
              0,
              "#0d0887"
             ],
             [
              0.1111111111111111,
              "#46039f"
             ],
             [
              0.2222222222222222,
              "#7201a8"
             ],
             [
              0.3333333333333333,
              "#9c179e"
             ],
             [
              0.4444444444444444,
              "#bd3786"
             ],
             [
              0.5555555555555556,
              "#d8576b"
             ],
             [
              0.6666666666666666,
              "#ed7953"
             ],
             [
              0.7777777777777778,
              "#fb9f3a"
             ],
             [
              0.8888888888888888,
              "#fdca26"
             ],
             [
              1,
              "#f0f921"
             ]
            ],
            "type": "histogram2dcontour"
           }
          ],
          "mesh3d": [
           {
            "colorbar": {
             "outlinewidth": 0,
             "ticks": ""
            },
            "type": "mesh3d"
           }
          ],
          "parcoords": [
           {
            "line": {
             "colorbar": {
              "outlinewidth": 0,
              "ticks": ""
             }
            },
            "type": "parcoords"
           }
          ],
          "pie": [
           {
            "automargin": true,
            "type": "pie"
           }
          ],
          "scatter": [
           {
            "marker": {
             "colorbar": {
              "outlinewidth": 0,
              "ticks": ""
             }
            },
            "type": "scatter"
           }
          ],
          "scatter3d": [
           {
            "line": {
             "colorbar": {
              "outlinewidth": 0,
              "ticks": ""
             }
            },
            "marker": {
             "colorbar": {
              "outlinewidth": 0,
              "ticks": ""
             }
            },
            "type": "scatter3d"
           }
          ],
          "scattercarpet": [
           {
            "marker": {
             "colorbar": {
              "outlinewidth": 0,
              "ticks": ""
             }
            },
            "type": "scattercarpet"
           }
          ],
          "scattergeo": [
           {
            "marker": {
             "colorbar": {
              "outlinewidth": 0,
              "ticks": ""
             }
            },
            "type": "scattergeo"
           }
          ],
          "scattergl": [
           {
            "marker": {
             "colorbar": {
              "outlinewidth": 0,
              "ticks": ""
             }
            },
            "type": "scattergl"
           }
          ],
          "scattermapbox": [
           {
            "marker": {
             "colorbar": {
              "outlinewidth": 0,
              "ticks": ""
             }
            },
            "type": "scattermapbox"
           }
          ],
          "scatterpolar": [
           {
            "marker": {
             "colorbar": {
              "outlinewidth": 0,
              "ticks": ""
             }
            },
            "type": "scatterpolar"
           }
          ],
          "scatterpolargl": [
           {
            "marker": {
             "colorbar": {
              "outlinewidth": 0,
              "ticks": ""
             }
            },
            "type": "scatterpolargl"
           }
          ],
          "scatterternary": [
           {
            "marker": {
             "colorbar": {
              "outlinewidth": 0,
              "ticks": ""
             }
            },
            "type": "scatterternary"
           }
          ],
          "surface": [
           {
            "colorbar": {
             "outlinewidth": 0,
             "ticks": ""
            },
            "colorscale": [
             [
              0,
              "#0d0887"
             ],
             [
              0.1111111111111111,
              "#46039f"
             ],
             [
              0.2222222222222222,
              "#7201a8"
             ],
             [
              0.3333333333333333,
              "#9c179e"
             ],
             [
              0.4444444444444444,
              "#bd3786"
             ],
             [
              0.5555555555555556,
              "#d8576b"
             ],
             [
              0.6666666666666666,
              "#ed7953"
             ],
             [
              0.7777777777777778,
              "#fb9f3a"
             ],
             [
              0.8888888888888888,
              "#fdca26"
             ],
             [
              1,
              "#f0f921"
             ]
            ],
            "type": "surface"
           }
          ],
          "table": [
           {
            "cells": {
             "fill": {
              "color": "#EBF0F8"
             },
             "line": {
              "color": "white"
             }
            },
            "header": {
             "fill": {
              "color": "#C8D4E3"
             },
             "line": {
              "color": "white"
             }
            },
            "type": "table"
           }
          ]
         },
         "layout": {
          "annotationdefaults": {
           "arrowcolor": "#2a3f5f",
           "arrowhead": 0,
           "arrowwidth": 1
          },
          "autotypenumbers": "strict",
          "coloraxis": {
           "colorbar": {
            "outlinewidth": 0,
            "ticks": ""
           }
          },
          "colorscale": {
           "diverging": [
            [
             0,
             "#8e0152"
            ],
            [
             0.1,
             "#c51b7d"
            ],
            [
             0.2,
             "#de77ae"
            ],
            [
             0.3,
             "#f1b6da"
            ],
            [
             0.4,
             "#fde0ef"
            ],
            [
             0.5,
             "#f7f7f7"
            ],
            [
             0.6,
             "#e6f5d0"
            ],
            [
             0.7,
             "#b8e186"
            ],
            [
             0.8,
             "#7fbc41"
            ],
            [
             0.9,
             "#4d9221"
            ],
            [
             1,
             "#276419"
            ]
           ],
           "sequential": [
            [
             0,
             "#0d0887"
            ],
            [
             0.1111111111111111,
             "#46039f"
            ],
            [
             0.2222222222222222,
             "#7201a8"
            ],
            [
             0.3333333333333333,
             "#9c179e"
            ],
            [
             0.4444444444444444,
             "#bd3786"
            ],
            [
             0.5555555555555556,
             "#d8576b"
            ],
            [
             0.6666666666666666,
             "#ed7953"
            ],
            [
             0.7777777777777778,
             "#fb9f3a"
            ],
            [
             0.8888888888888888,
             "#fdca26"
            ],
            [
             1,
             "#f0f921"
            ]
           ],
           "sequentialminus": [
            [
             0,
             "#0d0887"
            ],
            [
             0.1111111111111111,
             "#46039f"
            ],
            [
             0.2222222222222222,
             "#7201a8"
            ],
            [
             0.3333333333333333,
             "#9c179e"
            ],
            [
             0.4444444444444444,
             "#bd3786"
            ],
            [
             0.5555555555555556,
             "#d8576b"
            ],
            [
             0.6666666666666666,
             "#ed7953"
            ],
            [
             0.7777777777777778,
             "#fb9f3a"
            ],
            [
             0.8888888888888888,
             "#fdca26"
            ],
            [
             1,
             "#f0f921"
            ]
           ]
          },
          "colorway": [
           "#636efa",
           "#EF553B",
           "#00cc96",
           "#ab63fa",
           "#FFA15A",
           "#19d3f3",
           "#FF6692",
           "#B6E880",
           "#FF97FF",
           "#FECB52"
          ],
          "font": {
           "color": "#2a3f5f"
          },
          "geo": {
           "bgcolor": "white",
           "lakecolor": "white",
           "landcolor": "#E5ECF6",
           "showlakes": true,
           "showland": true,
           "subunitcolor": "white"
          },
          "hoverlabel": {
           "align": "left"
          },
          "hovermode": "closest",
          "mapbox": {
           "style": "light"
          },
          "paper_bgcolor": "white",
          "plot_bgcolor": "#E5ECF6",
          "polar": {
           "angularaxis": {
            "gridcolor": "white",
            "linecolor": "white",
            "ticks": ""
           },
           "bgcolor": "#E5ECF6",
           "radialaxis": {
            "gridcolor": "white",
            "linecolor": "white",
            "ticks": ""
           }
          },
          "scene": {
           "xaxis": {
            "backgroundcolor": "#E5ECF6",
            "gridcolor": "white",
            "gridwidth": 2,
            "linecolor": "white",
            "showbackground": true,
            "ticks": "",
            "zerolinecolor": "white"
           },
           "yaxis": {
            "backgroundcolor": "#E5ECF6",
            "gridcolor": "white",
            "gridwidth": 2,
            "linecolor": "white",
            "showbackground": true,
            "ticks": "",
            "zerolinecolor": "white"
           },
           "zaxis": {
            "backgroundcolor": "#E5ECF6",
            "gridcolor": "white",
            "gridwidth": 2,
            "linecolor": "white",
            "showbackground": true,
            "ticks": "",
            "zerolinecolor": "white"
           }
          },
          "shapedefaults": {
           "line": {
            "color": "#2a3f5f"
           }
          },
          "ternary": {
           "aaxis": {
            "gridcolor": "white",
            "linecolor": "white",
            "ticks": ""
           },
           "baxis": {
            "gridcolor": "white",
            "linecolor": "white",
            "ticks": ""
           },
           "bgcolor": "#E5ECF6",
           "caxis": {
            "gridcolor": "white",
            "linecolor": "white",
            "ticks": ""
           }
          },
          "title": {
           "x": 0.05
          },
          "xaxis": {
           "automargin": true,
           "gridcolor": "white",
           "linecolor": "white",
           "ticks": "",
           "title": {
            "standoff": 15
           },
           "zerolinecolor": "white",
           "zerolinewidth": 2
          },
          "yaxis": {
           "automargin": true,
           "gridcolor": "white",
           "linecolor": "white",
           "ticks": "",
           "title": {
            "standoff": 15
           },
           "zerolinecolor": "white",
           "zerolinewidth": 2
          }
         }
        },
        "title": {
         "text": "User rating depending on Prime genre"
        },
        "width": 800,
        "xaxis": {
         "title": {
          "text": "Genre"
         }
        },
        "yaxis": {
         "title": {
          "text": "Mean User Rating"
         }
        }
       }
      },
      "text/html": [
       "<div>                            <div id=\"f6bfaedc-5244-4743-b755-c4efc4ebe9f3\" class=\"plotly-graph-div\" style=\"height:500px; width:800px;\"></div>            <script type=\"text/javascript\">                require([\"plotly\"], function(Plotly) {                    window.PLOTLYENV=window.PLOTLYENV || {};                                    if (document.getElementById(\"f6bfaedc-5244-4743-b755-c4efc4ebe9f3\")) {                    Plotly.newPlot(                        \"f6bfaedc-5244-4743-b755-c4efc4ebe9f3\",                        [{\"marker\":{\"color\":[\"#83C2C1\",\"#056347\",\"#BB5F37\",\"#87ADBC\",\"#C52041\",\"#BACAB8\",\"#8A73DD\",\"#C18578\",\"#E934C8\",\"#4E609C\",\"#8B0585\",\"#74935C\",\"#7CC423\",\"#0097E9\",\"#39C2D8\",\"#1002E7\",\"#C59134\",\"#7EED4B\",\"#5A725A\",\"#B6FF17\",\"#70BCFC\",\"#0CE071\",\"#457857\",\"#C995F4\",\"#6DEA10\",\"#2C9927\",\"#4E3CFA\",\"#688506\",\"#4403B2\",\"#E10C80\",\"#82B518\",\"#4C6479\",\"#621E23\",\"#1ADAEB\",\"#FC10E5\",\"#029504\",\"#B8771F\",\"#D00658\",\"#7F9C06\",\"#33DA6A\",\"#A7AA84\",\"#6B97A2\",\"#BBCBDC\",\"#089B55\",\"#714D8F\",\"#FBBD6B\",\"#992326\",\"#65B070\",\"#C0A2C8\",\"#0567CE\",\"#D4033A\",\"#973A3D\",\"#FDC191\",\"#57E04E\",\"#65B734\",\"#A8ADF1\",\"#0B7E13\",\"#CA1CA3\",\"#EE37B6\",\"#38236D\",\"#C1EE5C\",\"#54A5D7\",\"#CD3268\",\"#162606\",\"#07FE9C\",\"#9A6CCD\",\"#6A34D7\",\"#5DC12E\",\"#E032F2\",\"#ACFB72\",\"#952B57\",\"#635A8A\",\"#D08EEB\",\"#F8C0C3\",\"#CBD125\",\"#2F2AA4\",\"#DD728B\",\"#8391FD\",\"#73F91D\",\"#87221E\",\"#F1CE46\",\"#991651\",\"#94D03D\",\"#EDE15B\",\"#C39755\",\"#8DE800\",\"#DCFD17\",\"#026F72\",\"#E4648D\",\"#0FA54D\",\"#0C531F\",\"#571601\",\"#4E25E2\",\"#327FF5\",\"#30A2A9\",\"#73FA02\",\"#0BDB89\",\"#9778CE\",\"#D2C950\",\"#BCD280\"],\"line\":{\"color\":\"rgb(8, 48, 107)\",\"width\":1.5}},\"opacity\":0.7,\"type\":\"bar\",\"x\":[\"Productivity\",\"Music\",\"Photo & Video\",\"Business\",\"Health & Fitness\",\"Games\",\"Weather\",\"Shopping\",\"Reference\",\"Travel\",\"Education\",\"Medical\",\"Utilities\",\"Entertainment\",\"Food & Drink\",\"Social Networking\",\"Sports\",\"News\",\"Lifestyle\",\"Navigation\",\"Book\",\"Finance\",\"Catalogs\"],\"y\":[4.00561797752809,3.9782608695652173,3.8008595988538683,3.745614035087719,3.7,3.6850077679958573,3.5972222222222223,3.540983606557377,3.453125,3.376543209876543,3.376379690949227,3.369565217391304,3.278225806451613,3.2467289719626167,3.1825396825396823,2.9850299401197606,2.982456140350877,2.98,2.8055555555555554,2.6847826086956523,2.4776785714285716,2.4326923076923075,2.1]}],                        {\"height\":500,\"margin\":{\"l\":100},\"template\":{\"data\":{\"bar\":[{\"error_x\":{\"color\":\"#2a3f5f\"},\"error_y\":{\"color\":\"#2a3f5f\"},\"marker\":{\"line\":{\"color\":\"#E5ECF6\",\"width\":0.5},\"pattern\":{\"fillmode\":\"overlay\",\"size\":10,\"solidity\":0.2}},\"type\":\"bar\"}],\"barpolar\":[{\"marker\":{\"line\":{\"color\":\"#E5ECF6\",\"width\":0.5},\"pattern\":{\"fillmode\":\"overlay\",\"size\":10,\"solidity\":0.2}},\"type\":\"barpolar\"}],\"carpet\":[{\"aaxis\":{\"endlinecolor\":\"#2a3f5f\",\"gridcolor\":\"white\",\"linecolor\":\"white\",\"minorgridcolor\":\"white\",\"startlinecolor\":\"#2a3f5f\"},\"baxis\":{\"endlinecolor\":\"#2a3f5f\",\"gridcolor\":\"white\",\"linecolor\":\"white\",\"minorgridcolor\":\"white\",\"startlinecolor\":\"#2a3f5f\"},\"type\":\"carpet\"}],\"choropleth\":[{\"colorbar\":{\"outlinewidth\":0,\"ticks\":\"\"},\"type\":\"choropleth\"}],\"contour\":[{\"colorbar\":{\"outlinewidth\":0,\"ticks\":\"\"},\"colorscale\":[[0.0,\"#0d0887\"],[0.1111111111111111,\"#46039f\"],[0.2222222222222222,\"#7201a8\"],[0.3333333333333333,\"#9c179e\"],[0.4444444444444444,\"#bd3786\"],[0.5555555555555556,\"#d8576b\"],[0.6666666666666666,\"#ed7953\"],[0.7777777777777778,\"#fb9f3a\"],[0.8888888888888888,\"#fdca26\"],[1.0,\"#f0f921\"]],\"type\":\"contour\"}],\"contourcarpet\":[{\"colorbar\":{\"outlinewidth\":0,\"ticks\":\"\"},\"type\":\"contourcarpet\"}],\"heatmap\":[{\"colorbar\":{\"outlinewidth\":0,\"ticks\":\"\"},\"colorscale\":[[0.0,\"#0d0887\"],[0.1111111111111111,\"#46039f\"],[0.2222222222222222,\"#7201a8\"],[0.3333333333333333,\"#9c179e\"],[0.4444444444444444,\"#bd3786\"],[0.5555555555555556,\"#d8576b\"],[0.6666666666666666,\"#ed7953\"],[0.7777777777777778,\"#fb9f3a\"],[0.8888888888888888,\"#fdca26\"],[1.0,\"#f0f921\"]],\"type\":\"heatmap\"}],\"heatmapgl\":[{\"colorbar\":{\"outlinewidth\":0,\"ticks\":\"\"},\"colorscale\":[[0.0,\"#0d0887\"],[0.1111111111111111,\"#46039f\"],[0.2222222222222222,\"#7201a8\"],[0.3333333333333333,\"#9c179e\"],[0.4444444444444444,\"#bd3786\"],[0.5555555555555556,\"#d8576b\"],[0.6666666666666666,\"#ed7953\"],[0.7777777777777778,\"#fb9f3a\"],[0.8888888888888888,\"#fdca26\"],[1.0,\"#f0f921\"]],\"type\":\"heatmapgl\"}],\"histogram\":[{\"marker\":{\"pattern\":{\"fillmode\":\"overlay\",\"size\":10,\"solidity\":0.2}},\"type\":\"histogram\"}],\"histogram2d\":[{\"colorbar\":{\"outlinewidth\":0,\"ticks\":\"\"},\"colorscale\":[[0.0,\"#0d0887\"],[0.1111111111111111,\"#46039f\"],[0.2222222222222222,\"#7201a8\"],[0.3333333333333333,\"#9c179e\"],[0.4444444444444444,\"#bd3786\"],[0.5555555555555556,\"#d8576b\"],[0.6666666666666666,\"#ed7953\"],[0.7777777777777778,\"#fb9f3a\"],[0.8888888888888888,\"#fdca26\"],[1.0,\"#f0f921\"]],\"type\":\"histogram2d\"}],\"histogram2dcontour\":[{\"colorbar\":{\"outlinewidth\":0,\"ticks\":\"\"},\"colorscale\":[[0.0,\"#0d0887\"],[0.1111111111111111,\"#46039f\"],[0.2222222222222222,\"#7201a8\"],[0.3333333333333333,\"#9c179e\"],[0.4444444444444444,\"#bd3786\"],[0.5555555555555556,\"#d8576b\"],[0.6666666666666666,\"#ed7953\"],[0.7777777777777778,\"#fb9f3a\"],[0.8888888888888888,\"#fdca26\"],[1.0,\"#f0f921\"]],\"type\":\"histogram2dcontour\"}],\"mesh3d\":[{\"colorbar\":{\"outlinewidth\":0,\"ticks\":\"\"},\"type\":\"mesh3d\"}],\"parcoords\":[{\"line\":{\"colorbar\":{\"outlinewidth\":0,\"ticks\":\"\"}},\"type\":\"parcoords\"}],\"pie\":[{\"automargin\":true,\"type\":\"pie\"}],\"scatter\":[{\"marker\":{\"colorbar\":{\"outlinewidth\":0,\"ticks\":\"\"}},\"type\":\"scatter\"}],\"scatter3d\":[{\"line\":{\"colorbar\":{\"outlinewidth\":0,\"ticks\":\"\"}},\"marker\":{\"colorbar\":{\"outlinewidth\":0,\"ticks\":\"\"}},\"type\":\"scatter3d\"}],\"scattercarpet\":[{\"marker\":{\"colorbar\":{\"outlinewidth\":0,\"ticks\":\"\"}},\"type\":\"scattercarpet\"}],\"scattergeo\":[{\"marker\":{\"colorbar\":{\"outlinewidth\":0,\"ticks\":\"\"}},\"type\":\"scattergeo\"}],\"scattergl\":[{\"marker\":{\"colorbar\":{\"outlinewidth\":0,\"ticks\":\"\"}},\"type\":\"scattergl\"}],\"scattermapbox\":[{\"marker\":{\"colorbar\":{\"outlinewidth\":0,\"ticks\":\"\"}},\"type\":\"scattermapbox\"}],\"scatterpolar\":[{\"marker\":{\"colorbar\":{\"outlinewidth\":0,\"ticks\":\"\"}},\"type\":\"scatterpolar\"}],\"scatterpolargl\":[{\"marker\":{\"colorbar\":{\"outlinewidth\":0,\"ticks\":\"\"}},\"type\":\"scatterpolargl\"}],\"scatterternary\":[{\"marker\":{\"colorbar\":{\"outlinewidth\":0,\"ticks\":\"\"}},\"type\":\"scatterternary\"}],\"surface\":[{\"colorbar\":{\"outlinewidth\":0,\"ticks\":\"\"},\"colorscale\":[[0.0,\"#0d0887\"],[0.1111111111111111,\"#46039f\"],[0.2222222222222222,\"#7201a8\"],[0.3333333333333333,\"#9c179e\"],[0.4444444444444444,\"#bd3786\"],[0.5555555555555556,\"#d8576b\"],[0.6666666666666666,\"#ed7953\"],[0.7777777777777778,\"#fb9f3a\"],[0.8888888888888888,\"#fdca26\"],[1.0,\"#f0f921\"]],\"type\":\"surface\"}],\"table\":[{\"cells\":{\"fill\":{\"color\":\"#EBF0F8\"},\"line\":{\"color\":\"white\"}},\"header\":{\"fill\":{\"color\":\"#C8D4E3\"},\"line\":{\"color\":\"white\"}},\"type\":\"table\"}]},\"layout\":{\"annotationdefaults\":{\"arrowcolor\":\"#2a3f5f\",\"arrowhead\":0,\"arrowwidth\":1},\"autotypenumbers\":\"strict\",\"coloraxis\":{\"colorbar\":{\"outlinewidth\":0,\"ticks\":\"\"}},\"colorscale\":{\"diverging\":[[0,\"#8e0152\"],[0.1,\"#c51b7d\"],[0.2,\"#de77ae\"],[0.3,\"#f1b6da\"],[0.4,\"#fde0ef\"],[0.5,\"#f7f7f7\"],[0.6,\"#e6f5d0\"],[0.7,\"#b8e186\"],[0.8,\"#7fbc41\"],[0.9,\"#4d9221\"],[1,\"#276419\"]],\"sequential\":[[0.0,\"#0d0887\"],[0.1111111111111111,\"#46039f\"],[0.2222222222222222,\"#7201a8\"],[0.3333333333333333,\"#9c179e\"],[0.4444444444444444,\"#bd3786\"],[0.5555555555555556,\"#d8576b\"],[0.6666666666666666,\"#ed7953\"],[0.7777777777777778,\"#fb9f3a\"],[0.8888888888888888,\"#fdca26\"],[1.0,\"#f0f921\"]],\"sequentialminus\":[[0.0,\"#0d0887\"],[0.1111111111111111,\"#46039f\"],[0.2222222222222222,\"#7201a8\"],[0.3333333333333333,\"#9c179e\"],[0.4444444444444444,\"#bd3786\"],[0.5555555555555556,\"#d8576b\"],[0.6666666666666666,\"#ed7953\"],[0.7777777777777778,\"#fb9f3a\"],[0.8888888888888888,\"#fdca26\"],[1.0,\"#f0f921\"]]},\"colorway\":[\"#636efa\",\"#EF553B\",\"#00cc96\",\"#ab63fa\",\"#FFA15A\",\"#19d3f3\",\"#FF6692\",\"#B6E880\",\"#FF97FF\",\"#FECB52\"],\"font\":{\"color\":\"#2a3f5f\"},\"geo\":{\"bgcolor\":\"white\",\"lakecolor\":\"white\",\"landcolor\":\"#E5ECF6\",\"showlakes\":true,\"showland\":true,\"subunitcolor\":\"white\"},\"hoverlabel\":{\"align\":\"left\"},\"hovermode\":\"closest\",\"mapbox\":{\"style\":\"light\"},\"paper_bgcolor\":\"white\",\"plot_bgcolor\":\"#E5ECF6\",\"polar\":{\"angularaxis\":{\"gridcolor\":\"white\",\"linecolor\":\"white\",\"ticks\":\"\"},\"bgcolor\":\"#E5ECF6\",\"radialaxis\":{\"gridcolor\":\"white\",\"linecolor\":\"white\",\"ticks\":\"\"}},\"scene\":{\"xaxis\":{\"backgroundcolor\":\"#E5ECF6\",\"gridcolor\":\"white\",\"gridwidth\":2,\"linecolor\":\"white\",\"showbackground\":true,\"ticks\":\"\",\"zerolinecolor\":\"white\"},\"yaxis\":{\"backgroundcolor\":\"#E5ECF6\",\"gridcolor\":\"white\",\"gridwidth\":2,\"linecolor\":\"white\",\"showbackground\":true,\"ticks\":\"\",\"zerolinecolor\":\"white\"},\"zaxis\":{\"backgroundcolor\":\"#E5ECF6\",\"gridcolor\":\"white\",\"gridwidth\":2,\"linecolor\":\"white\",\"showbackground\":true,\"ticks\":\"\",\"zerolinecolor\":\"white\"}},\"shapedefaults\":{\"line\":{\"color\":\"#2a3f5f\"}},\"ternary\":{\"aaxis\":{\"gridcolor\":\"white\",\"linecolor\":\"white\",\"ticks\":\"\"},\"baxis\":{\"gridcolor\":\"white\",\"linecolor\":\"white\",\"ticks\":\"\"},\"bgcolor\":\"#E5ECF6\",\"caxis\":{\"gridcolor\":\"white\",\"linecolor\":\"white\",\"ticks\":\"\"}},\"title\":{\"x\":0.05},\"xaxis\":{\"automargin\":true,\"gridcolor\":\"white\",\"linecolor\":\"white\",\"ticks\":\"\",\"title\":{\"standoff\":15},\"zerolinecolor\":\"white\",\"zerolinewidth\":2},\"yaxis\":{\"automargin\":true,\"gridcolor\":\"white\",\"linecolor\":\"white\",\"ticks\":\"\",\"title\":{\"standoff\":15},\"zerolinecolor\":\"white\",\"zerolinewidth\":2}}},\"title\":{\"text\":\"User rating depending on Prime genre\"},\"width\":800,\"xaxis\":{\"title\":{\"text\":\"Genre\"}},\"yaxis\":{\"title\":{\"text\":\"Mean User Rating\"}}},                        {\"responsive\": true}                    ).then(function(){\n",
       "                            \n",
       "var gd = document.getElementById('f6bfaedc-5244-4743-b755-c4efc4ebe9f3');\n",
       "var x = new MutationObserver(function (mutations, observer) {{\n",
       "        var display = window.getComputedStyle(gd).display;\n",
       "        if (!display || display === 'none') {{\n",
       "            console.log([gd, 'removed!']);\n",
       "            Plotly.purge(gd);\n",
       "            observer.disconnect();\n",
       "        }}\n",
       "}});\n",
       "\n",
       "// Listen for the removal of the full notebook cells\n",
       "var notebookContainer = gd.closest('#notebook-container');\n",
       "if (notebookContainer) {{\n",
       "    x.observe(notebookContainer, {childList: true});\n",
       "}}\n",
       "\n",
       "// Listen for the clearing of the current output cell\n",
       "var outputEl = gd.closest('.output');\n",
       "if (outputEl) {{\n",
       "    x.observe(outputEl, {childList: true});\n",
       "}}\n",
       "\n",
       "                        })                };                });            </script>        </div>"
      ]
     },
     "metadata": {},
     "output_type": "display_data"
    }
   ],
   "source": [
    "cnt_srs = df_app[['prime_genre', 'user_rating']].groupby('prime_genre').mean()['user_rating'].sort_values(ascending=False)\n",
    "\n",
    "trace = go.Bar(\n",
    "    x = cnt_srs.index,\n",
    "    y = cnt_srs.values,\n",
    "    marker = dict(\n",
    "        color = random_color_generator(100),\n",
    "        line = dict(color='rgb(8, 48, 107)',\n",
    "                    width = 1.5)\n",
    "    ),\n",
    "    opacity = 0.7\n",
    ")\n",
    "data = [trace]\n",
    "\n",
    "layout = go.Layout(\n",
    "    title = 'User rating depending on Prime genre',\n",
    "    margin = dict(\n",
    "        l = 100\n",
    "    ),\n",
    "    xaxis = dict(\n",
    "        title = 'Genre'\n",
    "    ),\n",
    "    yaxis = dict(\n",
    "        title = 'Mean User Rating'\n",
    "    ),\n",
    "    width = 800,\n",
    "    height = 500\n",
    ")\n",
    "\n",
    "fig = go.Figure(data=data, layout=layout)\n",
    "py.iplot(fig)"
   ]
  },
  {
   "cell_type": "markdown",
   "id": "79e40657",
   "metadata": {},
   "source": [
    "With not considering 'isNotFree', The Apps for Productivity, Music and Photo & Vidio have higher mean user rating.\n",
    "The mean user rating of Book, Finance and Catalogs are less than 2.5.\n"
   ]
  },
  {
   "cell_type": "code",
   "execution_count": 26,
   "id": "0840cbc3",
   "metadata": {},
   "outputs": [
    {
     "data": {
      "application/vnd.plotly.v1+json": {
       "config": {
        "linkText": "Export to plot.ly",
        "plotlyServerURL": "https://plot.ly",
        "showLink": false
       },
       "data": [
        {
         "marker": {
          "color": [
           "#25D1B6",
           "#5BF127",
           "#B953BB",
           "#8FD58D",
           "#BF8D4E",
           "#29DD83",
           "#2ED3B5",
           "#05C3EF",
           "#B63243",
           "#905E26",
           "#EA549D",
           "#8B0A09",
           "#7698C5",
           "#FF3619",
           "#07F70A",
           "#EF3041",
           "#12D3F0",
           "#E4676A",
           "#EB02A9",
           "#FC81FD",
           "#073C5D",
           "#9705D2",
           "#5054A9",
           "#EFD753",
           "#F2563C",
           "#DFC7FB",
           "#2C1F19",
           "#51FCA0",
           "#AC9D3F",
           "#0F54A5",
           "#2880D8",
           "#D33531",
           "#AB9443",
           "#3AA19E",
           "#510805",
           "#C1DEE1",
           "#E5D152",
           "#C42734",
           "#55500A",
           "#0193BE",
           "#354218",
           "#648663",
           "#D0284C",
           "#C1A696",
           "#0346CC",
           "#CF1341",
           "#5A5589",
           "#485129",
           "#DC7A2B",
           "#80B7C8",
           "#32525A",
           "#90C7A0",
           "#262EF0",
           "#EDABEE",
           "#154B2F",
           "#0BDD1A",
           "#017301",
           "#9428A9",
           "#F1E52E",
           "#B0B1A3",
           "#4CD145",
           "#A0B2C4",
           "#8C343F",
           "#031098",
           "#9805A5",
           "#99463E",
           "#6F5ED2",
           "#9A4308",
           "#57B75A",
           "#78E791",
           "#AEB931",
           "#102EC6",
           "#74C0DD",
           "#CCE847",
           "#78643B",
           "#B9C104",
           "#FB9C02",
           "#6B50CD",
           "#D62CA7",
           "#E51989",
           "#99A7A6",
           "#A2691E",
           "#428485",
           "#E9151F",
           "#BC35AE",
           "#BB0D59",
           "#00A640",
           "#AA6C63",
           "#40B959",
           "#6EDF01",
           "#5D4EC9",
           "#49102E",
           "#E9C8F3",
           "#4AB2D2",
           "#23F8CB",
           "#0E3C37",
           "#EDD90A",
           "#55346E",
           "#0D0E18",
           "#4AA40A"
          ],
          "line": {
           "color": "rgb(8, 48, 107)",
           "width": 1.5
          }
         },
         "opacity": 0.7,
         "type": "bar",
         "x": [
          "Productivity",
          "Music",
          "Photo & Video",
          "Health & Fitness",
          "Shopping",
          "Games",
          "Business",
          "Education",
          "Utilities",
          "Travel",
          "Reference",
          "Weather",
          "Entertainment",
          "Food & Drink",
          "Social Networking",
          "Sports",
          "News",
          "Medical",
          "Lifestyle",
          "Finance",
          "Navigation",
          "Catalogs",
          "Book"
         ],
         "xaxis": "x",
         "y": [
          3.9596774193548385,
          3.9402985074626864,
          3.7934131736526946,
          3.5789473684210527,
          3.5330578512396693,
          3.5285777580859548,
          3.5,
          3.484848484848485,
          3.4541284403669725,
          3.375,
          3.3,
          3.2580645161290325,
          3.1482035928143715,
          3.0348837209302326,
          2.9965034965034967,
          2.9177215189873418,
          2.8793103448275863,
          2.875,
          2.5904255319148937,
          2.2202380952380953,
          2.2,
          1.8333333333333333,
          1.5984848484848484
         ],
         "yaxis": "y"
        },
        {
         "marker": {
          "color": [
           "#F39C2C",
           "#F3C870",
           "#D83BBB",
           "#F68D06",
           "#FE3BDA",
           "#FEA374",
           "#07EB1C",
           "#0EAFC3",
           "#C9B138",
           "#66011C",
           "#13EEBE",
           "#786BC6",
           "#37EED4",
           "#79A73E",
           "#7AFE04",
           "#DB6D78",
           "#231E66",
           "#C7939E",
           "#1EFC3D",
           "#D2529E",
           "#FE7202",
           "#273BB0",
           "#68F7C2",
           "#DD8DD4",
           "#71C436",
           "#938E2E",
           "#913274",
           "#BB254E",
           "#B33DAA",
           "#54100B",
           "#6D35FE",
           "#CD1A01",
           "#30B816",
           "#C840BD",
           "#B7E966",
           "#6FF70B",
           "#59F4D0",
           "#68AA0A",
           "#1DABED",
           "#7A60B6",
           "#3C5FE7",
           "#5AED51",
           "#D789CC",
           "#3F55E9",
           "#53F393",
           "#CEB72E",
           "#394C8C",
           "#10A65E",
           "#ECEE67",
           "#F945D8",
           "#BC5015",
           "#472E68",
           "#2D0266",
           "#172A3F",
           "#AE6CCD",
           "#4B1C6A",
           "#59C1F5",
           "#74C57E",
           "#59749C",
           "#26203E",
           "#07489E",
           "#CEADF6",
           "#887EE0",
           "#034DF0",
           "#854939",
           "#E3EEE4",
           "#C6D7DB",
           "#CA0D8F",
           "#226D4B",
           "#BBF7CE",
           "#016FA2",
           "#DCE1BC",
           "#9613E2",
           "#99AB78",
           "#1E27D8",
           "#A2943F",
           "#DF8EE7",
           "#9B45C9",
           "#269C32",
           "#21FF1C",
           "#3F909B",
           "#4BF766",
           "#0C22EB",
           "#C5ED4D",
           "#751796",
           "#809684",
           "#8FCF3B",
           "#833902",
           "#979F6E",
           "#A7EF4A",
           "#FA4117",
           "#04E666",
           "#C423C5",
           "#1AE6BA",
           "#761CE1",
           "#E6A66D",
           "#E7D65D",
           "#B33AD2",
           "#BA574A",
           "#CF0276"
          ],
          "line": {
           "color": "rgb(8, 48, 107)",
           "width": 1.5
          }
         },
         "opacity": 0.7,
         "type": "bar",
         "x": [
          "Catalogs",
          "Shopping",
          "Productivity",
          "Music",
          "Games",
          "Business",
          "Weather",
          "Photo & Video",
          "Health & Fitness",
          "Book",
          "Medical",
          "Reference",
          "Food & Drink",
          "Entertainment",
          "Travel",
          "Education",
          "Finance",
          "News",
          "Lifestyle",
          "Utilities",
          "Sports",
          "Navigation",
          "Social Networking"
         ],
         "xaxis": "x2",
         "y": [
          4.5,
          4.5,
          4.030172413793103,
          4.014084507042254,
          3.9049844236760123,
          3.8783783783783785,
          3.8536585365853657,
          3.8076923076923075,
          3.7884615384615383,
          3.739130434782609,
          3.6333333333333333,
          3.522727272727273,
          3.5,
          3.41044776119403,
          3.38,
          3.3317757009345796,
          3.325,
          3.323529411764706,
          3.21,
          3.1402877697841727,
          3.1285714285714286,
          3.0576923076923075,
          2.9166666666666665
         ],
         "yaxis": "y2"
        },
        {
         "name": "Free",
         "opacity": 0.7,
         "type": "bar",
         "x": [
          "Productivity",
          "Music",
          "Photo & Video",
          "Health & Fitness",
          "Shopping",
          "Games",
          "Business",
          "Education",
          "Utilities",
          "Travel",
          "Reference",
          "Weather",
          "Entertainment",
          "Food & Drink",
          "Social Networking",
          "Sports",
          "News",
          "Medical",
          "Lifestyle",
          "Finance",
          "Navigation",
          "Catalogs",
          "Book"
         ],
         "xaxis": "x3",
         "y": [
          3.9596774193548385,
          3.9402985074626864,
          3.7934131736526946,
          3.5789473684210527,
          3.5330578512396693,
          3.5285777580859548,
          3.5,
          3.484848484848485,
          3.4541284403669725,
          3.375,
          3.3,
          3.2580645161290325,
          3.1482035928143715,
          3.0348837209302326,
          2.9965034965034967,
          2.9177215189873418,
          2.8793103448275863,
          2.875,
          2.5904255319148937,
          2.2202380952380953,
          2.2,
          1.8333333333333333,
          1.5984848484848484
         ],
         "yaxis": "y3"
        },
        {
         "name": "Not-Free",
         "opacity": 0.7,
         "type": "bar",
         "x": [
          "Catalogs",
          "Shopping",
          "Productivity",
          "Music",
          "Games",
          "Business",
          "Weather",
          "Photo & Video",
          "Health & Fitness",
          "Book",
          "Medical",
          "Reference",
          "Food & Drink",
          "Entertainment",
          "Travel",
          "Education",
          "Finance",
          "News",
          "Lifestyle",
          "Utilities",
          "Sports",
          "Navigation",
          "Social Networking"
         ],
         "xaxis": "x3",
         "y": [
          4.5,
          4.5,
          4.030172413793103,
          4.014084507042254,
          3.9049844236760123,
          3.8783783783783785,
          3.8536585365853657,
          3.8076923076923075,
          3.7884615384615383,
          3.739130434782609,
          3.6333333333333333,
          3.522727272727273,
          3.5,
          3.41044776119403,
          3.38,
          3.3317757009345796,
          3.325,
          3.323529411764706,
          3.21,
          3.1402877697841727,
          3.1285714285714286,
          3.0576923076923075,
          2.9166666666666665
         ],
         "yaxis": "y3"
        }
       ],
       "layout": {
        "annotations": [
         {
          "font": {
           "size": 16
          },
          "showarrow": false,
          "text": "(1) Mean user rating of Free",
          "x": 0.225,
          "xanchor": "center",
          "xref": "paper",
          "y": 1,
          "yanchor": "bottom",
          "yref": "paper"
         },
         {
          "font": {
           "size": 16
          },
          "showarrow": false,
          "text": "(2) Mean user rating of Not-Free",
          "x": 0.775,
          "xanchor": "center",
          "xref": "paper",
          "y": 1,
          "yanchor": "bottom",
          "yref": "paper"
         },
         {
          "font": {
           "size": 16
          },
          "showarrow": false,
          "text": "(3) Grouped barplot containing Free(green) and Not-Free(red)",
          "x": 0.5,
          "xanchor": "center",
          "xref": "paper",
          "y": 0.375,
          "yanchor": "bottom",
          "yref": "paper"
         }
        ],
        "height": 800,
        "showlegend": false,
        "template": {
         "data": {
          "bar": [
           {
            "error_x": {
             "color": "#2a3f5f"
            },
            "error_y": {
             "color": "#2a3f5f"
            },
            "marker": {
             "line": {
              "color": "#E5ECF6",
              "width": 0.5
             },
             "pattern": {
              "fillmode": "overlay",
              "size": 10,
              "solidity": 0.2
             }
            },
            "type": "bar"
           }
          ],
          "barpolar": [
           {
            "marker": {
             "line": {
              "color": "#E5ECF6",
              "width": 0.5
             },
             "pattern": {
              "fillmode": "overlay",
              "size": 10,
              "solidity": 0.2
             }
            },
            "type": "barpolar"
           }
          ],
          "carpet": [
           {
            "aaxis": {
             "endlinecolor": "#2a3f5f",
             "gridcolor": "white",
             "linecolor": "white",
             "minorgridcolor": "white",
             "startlinecolor": "#2a3f5f"
            },
            "baxis": {
             "endlinecolor": "#2a3f5f",
             "gridcolor": "white",
             "linecolor": "white",
             "minorgridcolor": "white",
             "startlinecolor": "#2a3f5f"
            },
            "type": "carpet"
           }
          ],
          "choropleth": [
           {
            "colorbar": {
             "outlinewidth": 0,
             "ticks": ""
            },
            "type": "choropleth"
           }
          ],
          "contour": [
           {
            "colorbar": {
             "outlinewidth": 0,
             "ticks": ""
            },
            "colorscale": [
             [
              0,
              "#0d0887"
             ],
             [
              0.1111111111111111,
              "#46039f"
             ],
             [
              0.2222222222222222,
              "#7201a8"
             ],
             [
              0.3333333333333333,
              "#9c179e"
             ],
             [
              0.4444444444444444,
              "#bd3786"
             ],
             [
              0.5555555555555556,
              "#d8576b"
             ],
             [
              0.6666666666666666,
              "#ed7953"
             ],
             [
              0.7777777777777778,
              "#fb9f3a"
             ],
             [
              0.8888888888888888,
              "#fdca26"
             ],
             [
              1,
              "#f0f921"
             ]
            ],
            "type": "contour"
           }
          ],
          "contourcarpet": [
           {
            "colorbar": {
             "outlinewidth": 0,
             "ticks": ""
            },
            "type": "contourcarpet"
           }
          ],
          "heatmap": [
           {
            "colorbar": {
             "outlinewidth": 0,
             "ticks": ""
            },
            "colorscale": [
             [
              0,
              "#0d0887"
             ],
             [
              0.1111111111111111,
              "#46039f"
             ],
             [
              0.2222222222222222,
              "#7201a8"
             ],
             [
              0.3333333333333333,
              "#9c179e"
             ],
             [
              0.4444444444444444,
              "#bd3786"
             ],
             [
              0.5555555555555556,
              "#d8576b"
             ],
             [
              0.6666666666666666,
              "#ed7953"
             ],
             [
              0.7777777777777778,
              "#fb9f3a"
             ],
             [
              0.8888888888888888,
              "#fdca26"
             ],
             [
              1,
              "#f0f921"
             ]
            ],
            "type": "heatmap"
           }
          ],
          "heatmapgl": [
           {
            "colorbar": {
             "outlinewidth": 0,
             "ticks": ""
            },
            "colorscale": [
             [
              0,
              "#0d0887"
             ],
             [
              0.1111111111111111,
              "#46039f"
             ],
             [
              0.2222222222222222,
              "#7201a8"
             ],
             [
              0.3333333333333333,
              "#9c179e"
             ],
             [
              0.4444444444444444,
              "#bd3786"
             ],
             [
              0.5555555555555556,
              "#d8576b"
             ],
             [
              0.6666666666666666,
              "#ed7953"
             ],
             [
              0.7777777777777778,
              "#fb9f3a"
             ],
             [
              0.8888888888888888,
              "#fdca26"
             ],
             [
              1,
              "#f0f921"
             ]
            ],
            "type": "heatmapgl"
           }
          ],
          "histogram": [
           {
            "marker": {
             "pattern": {
              "fillmode": "overlay",
              "size": 10,
              "solidity": 0.2
             }
            },
            "type": "histogram"
           }
          ],
          "histogram2d": [
           {
            "colorbar": {
             "outlinewidth": 0,
             "ticks": ""
            },
            "colorscale": [
             [
              0,
              "#0d0887"
             ],
             [
              0.1111111111111111,
              "#46039f"
             ],
             [
              0.2222222222222222,
              "#7201a8"
             ],
             [
              0.3333333333333333,
              "#9c179e"
             ],
             [
              0.4444444444444444,
              "#bd3786"
             ],
             [
              0.5555555555555556,
              "#d8576b"
             ],
             [
              0.6666666666666666,
              "#ed7953"
             ],
             [
              0.7777777777777778,
              "#fb9f3a"
             ],
             [
              0.8888888888888888,
              "#fdca26"
             ],
             [
              1,
              "#f0f921"
             ]
            ],
            "type": "histogram2d"
           }
          ],
          "histogram2dcontour": [
           {
            "colorbar": {
             "outlinewidth": 0,
             "ticks": ""
            },
            "colorscale": [
             [
              0,
              "#0d0887"
             ],
             [
              0.1111111111111111,
              "#46039f"
             ],
             [
              0.2222222222222222,
              "#7201a8"
             ],
             [
              0.3333333333333333,
              "#9c179e"
             ],
             [
              0.4444444444444444,
              "#bd3786"
             ],
             [
              0.5555555555555556,
              "#d8576b"
             ],
             [
              0.6666666666666666,
              "#ed7953"
             ],
             [
              0.7777777777777778,
              "#fb9f3a"
             ],
             [
              0.8888888888888888,
              "#fdca26"
             ],
             [
              1,
              "#f0f921"
             ]
            ],
            "type": "histogram2dcontour"
           }
          ],
          "mesh3d": [
           {
            "colorbar": {
             "outlinewidth": 0,
             "ticks": ""
            },
            "type": "mesh3d"
           }
          ],
          "parcoords": [
           {
            "line": {
             "colorbar": {
              "outlinewidth": 0,
              "ticks": ""
             }
            },
            "type": "parcoords"
           }
          ],
          "pie": [
           {
            "automargin": true,
            "type": "pie"
           }
          ],
          "scatter": [
           {
            "marker": {
             "colorbar": {
              "outlinewidth": 0,
              "ticks": ""
             }
            },
            "type": "scatter"
           }
          ],
          "scatter3d": [
           {
            "line": {
             "colorbar": {
              "outlinewidth": 0,
              "ticks": ""
             }
            },
            "marker": {
             "colorbar": {
              "outlinewidth": 0,
              "ticks": ""
             }
            },
            "type": "scatter3d"
           }
          ],
          "scattercarpet": [
           {
            "marker": {
             "colorbar": {
              "outlinewidth": 0,
              "ticks": ""
             }
            },
            "type": "scattercarpet"
           }
          ],
          "scattergeo": [
           {
            "marker": {
             "colorbar": {
              "outlinewidth": 0,
              "ticks": ""
             }
            },
            "type": "scattergeo"
           }
          ],
          "scattergl": [
           {
            "marker": {
             "colorbar": {
              "outlinewidth": 0,
              "ticks": ""
             }
            },
            "type": "scattergl"
           }
          ],
          "scattermapbox": [
           {
            "marker": {
             "colorbar": {
              "outlinewidth": 0,
              "ticks": ""
             }
            },
            "type": "scattermapbox"
           }
          ],
          "scatterpolar": [
           {
            "marker": {
             "colorbar": {
              "outlinewidth": 0,
              "ticks": ""
             }
            },
            "type": "scatterpolar"
           }
          ],
          "scatterpolargl": [
           {
            "marker": {
             "colorbar": {
              "outlinewidth": 0,
              "ticks": ""
             }
            },
            "type": "scatterpolargl"
           }
          ],
          "scatterternary": [
           {
            "marker": {
             "colorbar": {
              "outlinewidth": 0,
              "ticks": ""
             }
            },
            "type": "scatterternary"
           }
          ],
          "surface": [
           {
            "colorbar": {
             "outlinewidth": 0,
             "ticks": ""
            },
            "colorscale": [
             [
              0,
              "#0d0887"
             ],
             [
              0.1111111111111111,
              "#46039f"
             ],
             [
              0.2222222222222222,
              "#7201a8"
             ],
             [
              0.3333333333333333,
              "#9c179e"
             ],
             [
              0.4444444444444444,
              "#bd3786"
             ],
             [
              0.5555555555555556,
              "#d8576b"
             ],
             [
              0.6666666666666666,
              "#ed7953"
             ],
             [
              0.7777777777777778,
              "#fb9f3a"
             ],
             [
              0.8888888888888888,
              "#fdca26"
             ],
             [
              1,
              "#f0f921"
             ]
            ],
            "type": "surface"
           }
          ],
          "table": [
           {
            "cells": {
             "fill": {
              "color": "#EBF0F8"
             },
             "line": {
              "color": "white"
             }
            },
            "header": {
             "fill": {
              "color": "#C8D4E3"
             },
             "line": {
              "color": "white"
             }
            },
            "type": "table"
           }
          ]
         },
         "layout": {
          "annotationdefaults": {
           "arrowcolor": "#2a3f5f",
           "arrowhead": 0,
           "arrowwidth": 1
          },
          "autotypenumbers": "strict",
          "coloraxis": {
           "colorbar": {
            "outlinewidth": 0,
            "ticks": ""
           }
          },
          "colorscale": {
           "diverging": [
            [
             0,
             "#8e0152"
            ],
            [
             0.1,
             "#c51b7d"
            ],
            [
             0.2,
             "#de77ae"
            ],
            [
             0.3,
             "#f1b6da"
            ],
            [
             0.4,
             "#fde0ef"
            ],
            [
             0.5,
             "#f7f7f7"
            ],
            [
             0.6,
             "#e6f5d0"
            ],
            [
             0.7,
             "#b8e186"
            ],
            [
             0.8,
             "#7fbc41"
            ],
            [
             0.9,
             "#4d9221"
            ],
            [
             1,
             "#276419"
            ]
           ],
           "sequential": [
            [
             0,
             "#0d0887"
            ],
            [
             0.1111111111111111,
             "#46039f"
            ],
            [
             0.2222222222222222,
             "#7201a8"
            ],
            [
             0.3333333333333333,
             "#9c179e"
            ],
            [
             0.4444444444444444,
             "#bd3786"
            ],
            [
             0.5555555555555556,
             "#d8576b"
            ],
            [
             0.6666666666666666,
             "#ed7953"
            ],
            [
             0.7777777777777778,
             "#fb9f3a"
            ],
            [
             0.8888888888888888,
             "#fdca26"
            ],
            [
             1,
             "#f0f921"
            ]
           ],
           "sequentialminus": [
            [
             0,
             "#0d0887"
            ],
            [
             0.1111111111111111,
             "#46039f"
            ],
            [
             0.2222222222222222,
             "#7201a8"
            ],
            [
             0.3333333333333333,
             "#9c179e"
            ],
            [
             0.4444444444444444,
             "#bd3786"
            ],
            [
             0.5555555555555556,
             "#d8576b"
            ],
            [
             0.6666666666666666,
             "#ed7953"
            ],
            [
             0.7777777777777778,
             "#fb9f3a"
            ],
            [
             0.8888888888888888,
             "#fdca26"
            ],
            [
             1,
             "#f0f921"
            ]
           ]
          },
          "colorway": [
           "#636efa",
           "#EF553B",
           "#00cc96",
           "#ab63fa",
           "#FFA15A",
           "#19d3f3",
           "#FF6692",
           "#B6E880",
           "#FF97FF",
           "#FECB52"
          ],
          "font": {
           "color": "#2a3f5f"
          },
          "geo": {
           "bgcolor": "white",
           "lakecolor": "white",
           "landcolor": "#E5ECF6",
           "showlakes": true,
           "showland": true,
           "subunitcolor": "white"
          },
          "hoverlabel": {
           "align": "left"
          },
          "hovermode": "closest",
          "mapbox": {
           "style": "light"
          },
          "paper_bgcolor": "white",
          "plot_bgcolor": "#E5ECF6",
          "polar": {
           "angularaxis": {
            "gridcolor": "white",
            "linecolor": "white",
            "ticks": ""
           },
           "bgcolor": "#E5ECF6",
           "radialaxis": {
            "gridcolor": "white",
            "linecolor": "white",
            "ticks": ""
           }
          },
          "scene": {
           "xaxis": {
            "backgroundcolor": "#E5ECF6",
            "gridcolor": "white",
            "gridwidth": 2,
            "linecolor": "white",
            "showbackground": true,
            "ticks": "",
            "zerolinecolor": "white"
           },
           "yaxis": {
            "backgroundcolor": "#E5ECF6",
            "gridcolor": "white",
            "gridwidth": 2,
            "linecolor": "white",
            "showbackground": true,
            "ticks": "",
            "zerolinecolor": "white"
           },
           "zaxis": {
            "backgroundcolor": "#E5ECF6",
            "gridcolor": "white",
            "gridwidth": 2,
            "linecolor": "white",
            "showbackground": true,
            "ticks": "",
            "zerolinecolor": "white"
           }
          },
          "shapedefaults": {
           "line": {
            "color": "#2a3f5f"
           }
          },
          "ternary": {
           "aaxis": {
            "gridcolor": "white",
            "linecolor": "white",
            "ticks": ""
           },
           "baxis": {
            "gridcolor": "white",
            "linecolor": "white",
            "ticks": ""
           },
           "bgcolor": "#E5ECF6",
           "caxis": {
            "gridcolor": "white",
            "linecolor": "white",
            "ticks": ""
           }
          },
          "title": {
           "x": 0.05
          },
          "xaxis": {
           "automargin": true,
           "gridcolor": "white",
           "linecolor": "white",
           "ticks": "",
           "title": {
            "standoff": 15
           },
           "zerolinecolor": "white",
           "zerolinewidth": 2
          },
          "yaxis": {
           "automargin": true,
           "gridcolor": "white",
           "linecolor": "white",
           "ticks": "",
           "title": {
            "standoff": 15
           },
           "zerolinecolor": "white",
           "zerolinewidth": 2
          }
         }
        },
        "width": 800,
        "xaxis": {
         "anchor": "y",
         "domain": [
          0,
          0.45
         ]
        },
        "xaxis2": {
         "anchor": "y2",
         "domain": [
          0.55,
          1
         ]
        },
        "xaxis3": {
         "anchor": "y3",
         "domain": [
          0,
          1
         ]
        },
        "yaxis": {
         "anchor": "x",
         "domain": [
          0.625,
          1
         ],
         "title": {
          "text": "Mean User Rating"
         }
        },
        "yaxis2": {
         "anchor": "x2",
         "domain": [
          0.625,
          1
         ],
         "title": {
          "text": "Mean User Rating"
         }
        },
        "yaxis3": {
         "anchor": "x3",
         "domain": [
          0,
          0.375
         ],
         "title": {
          "text": "Mean User Rating"
         }
        }
       }
      },
      "text/html": [
       "<div>                            <div id=\"083209a7-a52d-40f7-882d-2ba618f13290\" class=\"plotly-graph-div\" style=\"height:800px; width:800px;\"></div>            <script type=\"text/javascript\">                require([\"plotly\"], function(Plotly) {                    window.PLOTLYENV=window.PLOTLYENV || {};                                    if (document.getElementById(\"083209a7-a52d-40f7-882d-2ba618f13290\")) {                    Plotly.newPlot(                        \"083209a7-a52d-40f7-882d-2ba618f13290\",                        [{\"marker\":{\"color\":[\"#25D1B6\",\"#5BF127\",\"#B953BB\",\"#8FD58D\",\"#BF8D4E\",\"#29DD83\",\"#2ED3B5\",\"#05C3EF\",\"#B63243\",\"#905E26\",\"#EA549D\",\"#8B0A09\",\"#7698C5\",\"#FF3619\",\"#07F70A\",\"#EF3041\",\"#12D3F0\",\"#E4676A\",\"#EB02A9\",\"#FC81FD\",\"#073C5D\",\"#9705D2\",\"#5054A9\",\"#EFD753\",\"#F2563C\",\"#DFC7FB\",\"#2C1F19\",\"#51FCA0\",\"#AC9D3F\",\"#0F54A5\",\"#2880D8\",\"#D33531\",\"#AB9443\",\"#3AA19E\",\"#510805\",\"#C1DEE1\",\"#E5D152\",\"#C42734\",\"#55500A\",\"#0193BE\",\"#354218\",\"#648663\",\"#D0284C\",\"#C1A696\",\"#0346CC\",\"#CF1341\",\"#5A5589\",\"#485129\",\"#DC7A2B\",\"#80B7C8\",\"#32525A\",\"#90C7A0\",\"#262EF0\",\"#EDABEE\",\"#154B2F\",\"#0BDD1A\",\"#017301\",\"#9428A9\",\"#F1E52E\",\"#B0B1A3\",\"#4CD145\",\"#A0B2C4\",\"#8C343F\",\"#031098\",\"#9805A5\",\"#99463E\",\"#6F5ED2\",\"#9A4308\",\"#57B75A\",\"#78E791\",\"#AEB931\",\"#102EC6\",\"#74C0DD\",\"#CCE847\",\"#78643B\",\"#B9C104\",\"#FB9C02\",\"#6B50CD\",\"#D62CA7\",\"#E51989\",\"#99A7A6\",\"#A2691E\",\"#428485\",\"#E9151F\",\"#BC35AE\",\"#BB0D59\",\"#00A640\",\"#AA6C63\",\"#40B959\",\"#6EDF01\",\"#5D4EC9\",\"#49102E\",\"#E9C8F3\",\"#4AB2D2\",\"#23F8CB\",\"#0E3C37\",\"#EDD90A\",\"#55346E\",\"#0D0E18\",\"#4AA40A\"],\"line\":{\"color\":\"rgb(8, 48, 107)\",\"width\":1.5}},\"opacity\":0.7,\"type\":\"bar\",\"x\":[\"Productivity\",\"Music\",\"Photo & Video\",\"Health & Fitness\",\"Shopping\",\"Games\",\"Business\",\"Education\",\"Utilities\",\"Travel\",\"Reference\",\"Weather\",\"Entertainment\",\"Food & Drink\",\"Social Networking\",\"Sports\",\"News\",\"Medical\",\"Lifestyle\",\"Finance\",\"Navigation\",\"Catalogs\",\"Book\"],\"xaxis\":\"x\",\"y\":[3.9596774193548385,3.9402985074626864,3.7934131736526946,3.5789473684210527,3.5330578512396693,3.5285777580859548,3.5,3.484848484848485,3.4541284403669725,3.375,3.3,3.2580645161290325,3.1482035928143715,3.0348837209302326,2.9965034965034967,2.9177215189873418,2.8793103448275863,2.875,2.5904255319148937,2.2202380952380953,2.2,1.8333333333333333,1.5984848484848484],\"yaxis\":\"y\"},{\"marker\":{\"color\":[\"#F39C2C\",\"#F3C870\",\"#D83BBB\",\"#F68D06\",\"#FE3BDA\",\"#FEA374\",\"#07EB1C\",\"#0EAFC3\",\"#C9B138\",\"#66011C\",\"#13EEBE\",\"#786BC6\",\"#37EED4\",\"#79A73E\",\"#7AFE04\",\"#DB6D78\",\"#231E66\",\"#C7939E\",\"#1EFC3D\",\"#D2529E\",\"#FE7202\",\"#273BB0\",\"#68F7C2\",\"#DD8DD4\",\"#71C436\",\"#938E2E\",\"#913274\",\"#BB254E\",\"#B33DAA\",\"#54100B\",\"#6D35FE\",\"#CD1A01\",\"#30B816\",\"#C840BD\",\"#B7E966\",\"#6FF70B\",\"#59F4D0\",\"#68AA0A\",\"#1DABED\",\"#7A60B6\",\"#3C5FE7\",\"#5AED51\",\"#D789CC\",\"#3F55E9\",\"#53F393\",\"#CEB72E\",\"#394C8C\",\"#10A65E\",\"#ECEE67\",\"#F945D8\",\"#BC5015\",\"#472E68\",\"#2D0266\",\"#172A3F\",\"#AE6CCD\",\"#4B1C6A\",\"#59C1F5\",\"#74C57E\",\"#59749C\",\"#26203E\",\"#07489E\",\"#CEADF6\",\"#887EE0\",\"#034DF0\",\"#854939\",\"#E3EEE4\",\"#C6D7DB\",\"#CA0D8F\",\"#226D4B\",\"#BBF7CE\",\"#016FA2\",\"#DCE1BC\",\"#9613E2\",\"#99AB78\",\"#1E27D8\",\"#A2943F\",\"#DF8EE7\",\"#9B45C9\",\"#269C32\",\"#21FF1C\",\"#3F909B\",\"#4BF766\",\"#0C22EB\",\"#C5ED4D\",\"#751796\",\"#809684\",\"#8FCF3B\",\"#833902\",\"#979F6E\",\"#A7EF4A\",\"#FA4117\",\"#04E666\",\"#C423C5\",\"#1AE6BA\",\"#761CE1\",\"#E6A66D\",\"#E7D65D\",\"#B33AD2\",\"#BA574A\",\"#CF0276\"],\"line\":{\"color\":\"rgb(8, 48, 107)\",\"width\":1.5}},\"opacity\":0.7,\"type\":\"bar\",\"x\":[\"Catalogs\",\"Shopping\",\"Productivity\",\"Music\",\"Games\",\"Business\",\"Weather\",\"Photo & Video\",\"Health & Fitness\",\"Book\",\"Medical\",\"Reference\",\"Food & Drink\",\"Entertainment\",\"Travel\",\"Education\",\"Finance\",\"News\",\"Lifestyle\",\"Utilities\",\"Sports\",\"Navigation\",\"Social Networking\"],\"xaxis\":\"x2\",\"y\":[4.5,4.5,4.030172413793103,4.014084507042254,3.9049844236760123,3.8783783783783785,3.8536585365853657,3.8076923076923075,3.7884615384615383,3.739130434782609,3.6333333333333333,3.522727272727273,3.5,3.41044776119403,3.38,3.3317757009345796,3.325,3.323529411764706,3.21,3.1402877697841727,3.1285714285714286,3.0576923076923075,2.9166666666666665],\"yaxis\":\"y2\"},{\"name\":\"Free\",\"opacity\":0.7,\"type\":\"bar\",\"x\":[\"Productivity\",\"Music\",\"Photo & Video\",\"Health & Fitness\",\"Shopping\",\"Games\",\"Business\",\"Education\",\"Utilities\",\"Travel\",\"Reference\",\"Weather\",\"Entertainment\",\"Food & Drink\",\"Social Networking\",\"Sports\",\"News\",\"Medical\",\"Lifestyle\",\"Finance\",\"Navigation\",\"Catalogs\",\"Book\"],\"xaxis\":\"x3\",\"y\":[3.9596774193548385,3.9402985074626864,3.7934131736526946,3.5789473684210527,3.5330578512396693,3.5285777580859548,3.5,3.484848484848485,3.4541284403669725,3.375,3.3,3.2580645161290325,3.1482035928143715,3.0348837209302326,2.9965034965034967,2.9177215189873418,2.8793103448275863,2.875,2.5904255319148937,2.2202380952380953,2.2,1.8333333333333333,1.5984848484848484],\"yaxis\":\"y3\"},{\"name\":\"Not-Free\",\"opacity\":0.7,\"type\":\"bar\",\"x\":[\"Catalogs\",\"Shopping\",\"Productivity\",\"Music\",\"Games\",\"Business\",\"Weather\",\"Photo & Video\",\"Health & Fitness\",\"Book\",\"Medical\",\"Reference\",\"Food & Drink\",\"Entertainment\",\"Travel\",\"Education\",\"Finance\",\"News\",\"Lifestyle\",\"Utilities\",\"Sports\",\"Navigation\",\"Social Networking\"],\"xaxis\":\"x3\",\"y\":[4.5,4.5,4.030172413793103,4.014084507042254,3.9049844236760123,3.8783783783783785,3.8536585365853657,3.8076923076923075,3.7884615384615383,3.739130434782609,3.6333333333333333,3.522727272727273,3.5,3.41044776119403,3.38,3.3317757009345796,3.325,3.323529411764706,3.21,3.1402877697841727,3.1285714285714286,3.0576923076923075,2.9166666666666665],\"yaxis\":\"y3\"}],                        {\"annotations\":[{\"font\":{\"size\":16},\"showarrow\":false,\"text\":\"(1) Mean user rating of Free\",\"x\":0.225,\"xanchor\":\"center\",\"xref\":\"paper\",\"y\":1.0,\"yanchor\":\"bottom\",\"yref\":\"paper\"},{\"font\":{\"size\":16},\"showarrow\":false,\"text\":\"(2) Mean user rating of Not-Free\",\"x\":0.775,\"xanchor\":\"center\",\"xref\":\"paper\",\"y\":1.0,\"yanchor\":\"bottom\",\"yref\":\"paper\"},{\"font\":{\"size\":16},\"showarrow\":false,\"text\":\"(3) Grouped barplot containing Free(green) and Not-Free(red)\",\"x\":0.5,\"xanchor\":\"center\",\"xref\":\"paper\",\"y\":0.375,\"yanchor\":\"bottom\",\"yref\":\"paper\"}],\"height\":800,\"showlegend\":false,\"template\":{\"data\":{\"bar\":[{\"error_x\":{\"color\":\"#2a3f5f\"},\"error_y\":{\"color\":\"#2a3f5f\"},\"marker\":{\"line\":{\"color\":\"#E5ECF6\",\"width\":0.5},\"pattern\":{\"fillmode\":\"overlay\",\"size\":10,\"solidity\":0.2}},\"type\":\"bar\"}],\"barpolar\":[{\"marker\":{\"line\":{\"color\":\"#E5ECF6\",\"width\":0.5},\"pattern\":{\"fillmode\":\"overlay\",\"size\":10,\"solidity\":0.2}},\"type\":\"barpolar\"}],\"carpet\":[{\"aaxis\":{\"endlinecolor\":\"#2a3f5f\",\"gridcolor\":\"white\",\"linecolor\":\"white\",\"minorgridcolor\":\"white\",\"startlinecolor\":\"#2a3f5f\"},\"baxis\":{\"endlinecolor\":\"#2a3f5f\",\"gridcolor\":\"white\",\"linecolor\":\"white\",\"minorgridcolor\":\"white\",\"startlinecolor\":\"#2a3f5f\"},\"type\":\"carpet\"}],\"choropleth\":[{\"colorbar\":{\"outlinewidth\":0,\"ticks\":\"\"},\"type\":\"choropleth\"}],\"contour\":[{\"colorbar\":{\"outlinewidth\":0,\"ticks\":\"\"},\"colorscale\":[[0.0,\"#0d0887\"],[0.1111111111111111,\"#46039f\"],[0.2222222222222222,\"#7201a8\"],[0.3333333333333333,\"#9c179e\"],[0.4444444444444444,\"#bd3786\"],[0.5555555555555556,\"#d8576b\"],[0.6666666666666666,\"#ed7953\"],[0.7777777777777778,\"#fb9f3a\"],[0.8888888888888888,\"#fdca26\"],[1.0,\"#f0f921\"]],\"type\":\"contour\"}],\"contourcarpet\":[{\"colorbar\":{\"outlinewidth\":0,\"ticks\":\"\"},\"type\":\"contourcarpet\"}],\"heatmap\":[{\"colorbar\":{\"outlinewidth\":0,\"ticks\":\"\"},\"colorscale\":[[0.0,\"#0d0887\"],[0.1111111111111111,\"#46039f\"],[0.2222222222222222,\"#7201a8\"],[0.3333333333333333,\"#9c179e\"],[0.4444444444444444,\"#bd3786\"],[0.5555555555555556,\"#d8576b\"],[0.6666666666666666,\"#ed7953\"],[0.7777777777777778,\"#fb9f3a\"],[0.8888888888888888,\"#fdca26\"],[1.0,\"#f0f921\"]],\"type\":\"heatmap\"}],\"heatmapgl\":[{\"colorbar\":{\"outlinewidth\":0,\"ticks\":\"\"},\"colorscale\":[[0.0,\"#0d0887\"],[0.1111111111111111,\"#46039f\"],[0.2222222222222222,\"#7201a8\"],[0.3333333333333333,\"#9c179e\"],[0.4444444444444444,\"#bd3786\"],[0.5555555555555556,\"#d8576b\"],[0.6666666666666666,\"#ed7953\"],[0.7777777777777778,\"#fb9f3a\"],[0.8888888888888888,\"#fdca26\"],[1.0,\"#f0f921\"]],\"type\":\"heatmapgl\"}],\"histogram\":[{\"marker\":{\"pattern\":{\"fillmode\":\"overlay\",\"size\":10,\"solidity\":0.2}},\"type\":\"histogram\"}],\"histogram2d\":[{\"colorbar\":{\"outlinewidth\":0,\"ticks\":\"\"},\"colorscale\":[[0.0,\"#0d0887\"],[0.1111111111111111,\"#46039f\"],[0.2222222222222222,\"#7201a8\"],[0.3333333333333333,\"#9c179e\"],[0.4444444444444444,\"#bd3786\"],[0.5555555555555556,\"#d8576b\"],[0.6666666666666666,\"#ed7953\"],[0.7777777777777778,\"#fb9f3a\"],[0.8888888888888888,\"#fdca26\"],[1.0,\"#f0f921\"]],\"type\":\"histogram2d\"}],\"histogram2dcontour\":[{\"colorbar\":{\"outlinewidth\":0,\"ticks\":\"\"},\"colorscale\":[[0.0,\"#0d0887\"],[0.1111111111111111,\"#46039f\"],[0.2222222222222222,\"#7201a8\"],[0.3333333333333333,\"#9c179e\"],[0.4444444444444444,\"#bd3786\"],[0.5555555555555556,\"#d8576b\"],[0.6666666666666666,\"#ed7953\"],[0.7777777777777778,\"#fb9f3a\"],[0.8888888888888888,\"#fdca26\"],[1.0,\"#f0f921\"]],\"type\":\"histogram2dcontour\"}],\"mesh3d\":[{\"colorbar\":{\"outlinewidth\":0,\"ticks\":\"\"},\"type\":\"mesh3d\"}],\"parcoords\":[{\"line\":{\"colorbar\":{\"outlinewidth\":0,\"ticks\":\"\"}},\"type\":\"parcoords\"}],\"pie\":[{\"automargin\":true,\"type\":\"pie\"}],\"scatter\":[{\"marker\":{\"colorbar\":{\"outlinewidth\":0,\"ticks\":\"\"}},\"type\":\"scatter\"}],\"scatter3d\":[{\"line\":{\"colorbar\":{\"outlinewidth\":0,\"ticks\":\"\"}},\"marker\":{\"colorbar\":{\"outlinewidth\":0,\"ticks\":\"\"}},\"type\":\"scatter3d\"}],\"scattercarpet\":[{\"marker\":{\"colorbar\":{\"outlinewidth\":0,\"ticks\":\"\"}},\"type\":\"scattercarpet\"}],\"scattergeo\":[{\"marker\":{\"colorbar\":{\"outlinewidth\":0,\"ticks\":\"\"}},\"type\":\"scattergeo\"}],\"scattergl\":[{\"marker\":{\"colorbar\":{\"outlinewidth\":0,\"ticks\":\"\"}},\"type\":\"scattergl\"}],\"scattermapbox\":[{\"marker\":{\"colorbar\":{\"outlinewidth\":0,\"ticks\":\"\"}},\"type\":\"scattermapbox\"}],\"scatterpolar\":[{\"marker\":{\"colorbar\":{\"outlinewidth\":0,\"ticks\":\"\"}},\"type\":\"scatterpolar\"}],\"scatterpolargl\":[{\"marker\":{\"colorbar\":{\"outlinewidth\":0,\"ticks\":\"\"}},\"type\":\"scatterpolargl\"}],\"scatterternary\":[{\"marker\":{\"colorbar\":{\"outlinewidth\":0,\"ticks\":\"\"}},\"type\":\"scatterternary\"}],\"surface\":[{\"colorbar\":{\"outlinewidth\":0,\"ticks\":\"\"},\"colorscale\":[[0.0,\"#0d0887\"],[0.1111111111111111,\"#46039f\"],[0.2222222222222222,\"#7201a8\"],[0.3333333333333333,\"#9c179e\"],[0.4444444444444444,\"#bd3786\"],[0.5555555555555556,\"#d8576b\"],[0.6666666666666666,\"#ed7953\"],[0.7777777777777778,\"#fb9f3a\"],[0.8888888888888888,\"#fdca26\"],[1.0,\"#f0f921\"]],\"type\":\"surface\"}],\"table\":[{\"cells\":{\"fill\":{\"color\":\"#EBF0F8\"},\"line\":{\"color\":\"white\"}},\"header\":{\"fill\":{\"color\":\"#C8D4E3\"},\"line\":{\"color\":\"white\"}},\"type\":\"table\"}]},\"layout\":{\"annotationdefaults\":{\"arrowcolor\":\"#2a3f5f\",\"arrowhead\":0,\"arrowwidth\":1},\"autotypenumbers\":\"strict\",\"coloraxis\":{\"colorbar\":{\"outlinewidth\":0,\"ticks\":\"\"}},\"colorscale\":{\"diverging\":[[0,\"#8e0152\"],[0.1,\"#c51b7d\"],[0.2,\"#de77ae\"],[0.3,\"#f1b6da\"],[0.4,\"#fde0ef\"],[0.5,\"#f7f7f7\"],[0.6,\"#e6f5d0\"],[0.7,\"#b8e186\"],[0.8,\"#7fbc41\"],[0.9,\"#4d9221\"],[1,\"#276419\"]],\"sequential\":[[0.0,\"#0d0887\"],[0.1111111111111111,\"#46039f\"],[0.2222222222222222,\"#7201a8\"],[0.3333333333333333,\"#9c179e\"],[0.4444444444444444,\"#bd3786\"],[0.5555555555555556,\"#d8576b\"],[0.6666666666666666,\"#ed7953\"],[0.7777777777777778,\"#fb9f3a\"],[0.8888888888888888,\"#fdca26\"],[1.0,\"#f0f921\"]],\"sequentialminus\":[[0.0,\"#0d0887\"],[0.1111111111111111,\"#46039f\"],[0.2222222222222222,\"#7201a8\"],[0.3333333333333333,\"#9c179e\"],[0.4444444444444444,\"#bd3786\"],[0.5555555555555556,\"#d8576b\"],[0.6666666666666666,\"#ed7953\"],[0.7777777777777778,\"#fb9f3a\"],[0.8888888888888888,\"#fdca26\"],[1.0,\"#f0f921\"]]},\"colorway\":[\"#636efa\",\"#EF553B\",\"#00cc96\",\"#ab63fa\",\"#FFA15A\",\"#19d3f3\",\"#FF6692\",\"#B6E880\",\"#FF97FF\",\"#FECB52\"],\"font\":{\"color\":\"#2a3f5f\"},\"geo\":{\"bgcolor\":\"white\",\"lakecolor\":\"white\",\"landcolor\":\"#E5ECF6\",\"showlakes\":true,\"showland\":true,\"subunitcolor\":\"white\"},\"hoverlabel\":{\"align\":\"left\"},\"hovermode\":\"closest\",\"mapbox\":{\"style\":\"light\"},\"paper_bgcolor\":\"white\",\"plot_bgcolor\":\"#E5ECF6\",\"polar\":{\"angularaxis\":{\"gridcolor\":\"white\",\"linecolor\":\"white\",\"ticks\":\"\"},\"bgcolor\":\"#E5ECF6\",\"radialaxis\":{\"gridcolor\":\"white\",\"linecolor\":\"white\",\"ticks\":\"\"}},\"scene\":{\"xaxis\":{\"backgroundcolor\":\"#E5ECF6\",\"gridcolor\":\"white\",\"gridwidth\":2,\"linecolor\":\"white\",\"showbackground\":true,\"ticks\":\"\",\"zerolinecolor\":\"white\"},\"yaxis\":{\"backgroundcolor\":\"#E5ECF6\",\"gridcolor\":\"white\",\"gridwidth\":2,\"linecolor\":\"white\",\"showbackground\":true,\"ticks\":\"\",\"zerolinecolor\":\"white\"},\"zaxis\":{\"backgroundcolor\":\"#E5ECF6\",\"gridcolor\":\"white\",\"gridwidth\":2,\"linecolor\":\"white\",\"showbackground\":true,\"ticks\":\"\",\"zerolinecolor\":\"white\"}},\"shapedefaults\":{\"line\":{\"color\":\"#2a3f5f\"}},\"ternary\":{\"aaxis\":{\"gridcolor\":\"white\",\"linecolor\":\"white\",\"ticks\":\"\"},\"baxis\":{\"gridcolor\":\"white\",\"linecolor\":\"white\",\"ticks\":\"\"},\"bgcolor\":\"#E5ECF6\",\"caxis\":{\"gridcolor\":\"white\",\"linecolor\":\"white\",\"ticks\":\"\"}},\"title\":{\"x\":0.05},\"xaxis\":{\"automargin\":true,\"gridcolor\":\"white\",\"linecolor\":\"white\",\"ticks\":\"\",\"title\":{\"standoff\":15},\"zerolinecolor\":\"white\",\"zerolinewidth\":2},\"yaxis\":{\"automargin\":true,\"gridcolor\":\"white\",\"linecolor\":\"white\",\"ticks\":\"\",\"title\":{\"standoff\":15},\"zerolinecolor\":\"white\",\"zerolinewidth\":2}}},\"width\":800,\"xaxis\":{\"anchor\":\"y\",\"domain\":[0.0,0.45]},\"xaxis2\":{\"anchor\":\"y2\",\"domain\":[0.55,1.0]},\"xaxis3\":{\"anchor\":\"y3\",\"domain\":[0.0,1.0]},\"yaxis\":{\"anchor\":\"x\",\"domain\":[0.625,1.0],\"title\":{\"text\":\"Mean User Rating\"}},\"yaxis2\":{\"anchor\":\"x2\",\"domain\":[0.625,1.0],\"title\":{\"text\":\"Mean User Rating\"}},\"yaxis3\":{\"anchor\":\"x3\",\"domain\":[0.0,0.375],\"title\":{\"text\":\"Mean User Rating\"}}},                        {\"responsive\": true}                    ).then(function(){\n",
       "                            \n",
       "var gd = document.getElementById('083209a7-a52d-40f7-882d-2ba618f13290');\n",
       "var x = new MutationObserver(function (mutations, observer) {{\n",
       "        var display = window.getComputedStyle(gd).display;\n",
       "        if (!display || display === 'none') {{\n",
       "            console.log([gd, 'removed!']);\n",
       "            Plotly.purge(gd);\n",
       "            observer.disconnect();\n",
       "        }}\n",
       "}});\n",
       "\n",
       "// Listen for the removal of the full notebook cells\n",
       "var notebookContainer = gd.closest('#notebook-container');\n",
       "if (notebookContainer) {{\n",
       "    x.observe(notebookContainer, {childList: true});\n",
       "}}\n",
       "\n",
       "// Listen for the clearing of the current output cell\n",
       "var outputEl = gd.closest('.output');\n",
       "if (outputEl) {{\n",
       "    x.observe(outputEl, {childList: true});\n",
       "}}\n",
       "\n",
       "                        })                };                });            </script>        </div>"
      ]
     },
     "metadata": {},
     "output_type": "display_data"
    }
   ],
   "source": [
    "cnt_srs1 = df_app_free[['prime_genre', 'user_rating']].groupby('prime_genre').mean()['user_rating'].sort_values(ascending=False)\n",
    "text1 = ['{:.2f}%'.format(100 * (value / cnt_srs1.sum())) for value in cnt_srs1.values]\n",
    "\n",
    "trace1 = go.Bar(\n",
    "    x = cnt_srs1.index,\n",
    "    y = cnt_srs1.values,\n",
    "    marker = dict(\n",
    "        color = random_color_generator(100),\n",
    "        line = dict(color='rgb(8, 48, 107)',\n",
    "                    width = 1.5)\n",
    "    ),\n",
    "    opacity = 0.7\n",
    ")\n",
    "\n",
    "cnt_srs2 = df_app_notfree[['prime_genre', 'user_rating']].groupby('prime_genre').mean()['user_rating'].sort_values(ascending=False)\n",
    "text2 = ['{:.2f}%'.format(100 * (value / cnt_srs2.sum())) for value in cnt_srs2.values]\n",
    "\n",
    "trace2 = go.Bar(\n",
    "    x = cnt_srs2.index,\n",
    "    y = cnt_srs2.values,\n",
    "    marker = dict(\n",
    "        color = random_color_generator(100),\n",
    "        line = dict(color='rgb(8, 48, 107)',\n",
    "                    width = 1.5)\n",
    "    ),\n",
    "    opacity = 0.7\n",
    ")\n",
    "\n",
    "trace3 = go.Bar(\n",
    "    x = cnt_srs1.index,\n",
    "    y = cnt_srs1.values,\n",
    "    opacity = 0.7,\n",
    "    name='Free'\n",
    ")\n",
    "\n",
    "\n",
    "trace4 = go.Bar(\n",
    "    x = cnt_srs2.index,\n",
    "    y = cnt_srs2.values,\n",
    "    opacity = 0.7,\n",
    "    name='Not-Free'\n",
    ")\n",
    "\n",
    "\n",
    "\n",
    "fig = tools.make_subplots(rows=2, cols=2, specs = [[{}, {}], [{'colspan':2}, None]], \n",
    "                          subplot_titles=('(1) Mean user rating of Free', '(2) Mean user rating of Not-Free', \n",
    "                                          '(3) Grouped barplot containing Free(green) and Not-Free(red)'), print_grid=False)\n",
    "fig.append_trace(trace1, 1, 1)\n",
    "fig.append_trace(trace2, 1, 2)\n",
    "fig.append_trace(trace3, 2, 1)\n",
    "fig.append_trace(trace4, 2, 1)\n",
    "\n",
    "fig['layout']['yaxis1'].update(title='Mean User Rating')\n",
    "fig['layout']['yaxis2'].update(title='Mean User Rating')\n",
    "fig['layout']['yaxis3'].update(title='Mean User Rating')\n",
    "fig['layout'].update(showlegend=False, width=800, height=800)\n",
    "\n",
    "py.iplot(fig)"
   ]
  },
  {
   "cell_type": "markdown",
   "id": "653a538c",
   "metadata": {},
   "source": [
    "Figure 1\n",
    "\n",
    "For Free App, Top 3 is below.\n",
    "\n",
    "(1) Productivity (2) Music (3) Photo & Video\n",
    "\n",
    "Figure 2\n",
    "\n",
    "For Not-Free App, Top 3 is below\n",
    "\n",
    "(1) Catalogs (2) Shopping (3) Productivity\n",
    "\n",
    "Figure 3\n",
    "\n",
    "Book, Catalogs and Navigation Apps have much higher ratings when they are Not-free."
   ]
  },
  {
   "cell_type": "markdown",
   "id": "ce6a3b68",
   "metadata": {},
   "source": [
    "\n",
    "\n",
    "\n",
    "\n",
    "App size based on price_genre"
   ]
  },
  {
   "cell_type": "code",
   "execution_count": 27,
   "id": "4686c519",
   "metadata": {},
   "outputs": [
    {
     "data": {
      "application/vnd.plotly.v1+json": {
       "config": {
        "linkText": "Export to plot.ly",
        "plotlyServerURL": "https://plot.ly",
        "showLink": false
       },
       "data": [
        {
         "marker": {
          "color": [
           "#BEF6E4",
           "#953DE0",
           "#FC1A0C",
           "#DD69C5",
           "#DCB2DE",
           "#02AD79",
           "#C12953",
           "#2CA01F",
           "#F3F6BB",
           "#B067A0",
           "#4F5F23",
           "#21E0C4",
           "#6C42B0",
           "#82F962",
           "#D6A2D7",
           "#388389",
           "#85E3DA",
           "#C8EAC4",
           "#F33CED",
           "#4C049D",
           "#0C9703",
           "#1A6D60",
           "#6F5545",
           "#1820C6",
           "#2BE5B7",
           "#D1177D",
           "#21265A",
           "#7638FD",
           "#65B4B2",
           "#518F4F",
           "#3508D6",
           "#F2509F",
           "#EB30AF",
           "#53CC29",
           "#C42CC5",
           "#126A8A",
           "#621DDB",
           "#CE1E3A",
           "#F134B1",
           "#DE694E",
           "#78902B",
           "#858AD8",
           "#A362C1",
           "#F82242",
           "#FE2014",
           "#997FE9",
           "#BE2B38",
           "#45A227",
           "#715482",
           "#A846BD",
           "#9BE664",
           "#A253D6",
           "#FC7FA3",
           "#C1E1E7",
           "#24FA85",
           "#79F399",
           "#3EDA15",
           "#2CA304",
           "#31FA47",
           "#96C87E",
           "#15436B",
           "#84A44C",
           "#BC4425",
           "#F6019D",
           "#C0EC15",
           "#E83661",
           "#A48B14",
           "#BE81F5",
           "#09813F",
           "#E135E9",
           "#1C35B0",
           "#C005E8",
           "#8E44C7",
           "#8E6A26",
           "#C41431",
           "#BA8AE1",
           "#AF991C",
           "#56B1F5",
           "#206245",
           "#9AD164",
           "#3B0E19",
           "#EB4E52",
           "#92106E",
           "#D1C6E3",
           "#4F798E",
           "#FC6221",
           "#1579EB",
           "#41808D",
           "#178EE9",
           "#C04473",
           "#8472C9",
           "#4C92D7",
           "#AD1FC7",
           "#6DA14A",
           "#C24C11",
           "#F5A579",
           "#7D12CE",
           "#9EDAC5",
           "#716881",
           "#BC8C25"
          ],
          "line": {
           "color": "rgb(8, 48, 107)",
           "width": 1.5
          }
         },
         "opacity": 0.7,
         "type": "bar",
         "x": [
          "Medical",
          "Games",
          "Education",
          "Book",
          "Reference",
          "Music",
          "Navigation",
          "Entertainment",
          "Shopping",
          "Health & Fitness",
          "Travel",
          "Social Networking",
          "Sports",
          "Productivity",
          "Finance",
          "Food & Drink",
          "Photo & Video",
          "Business",
          "News",
          "Lifestyle",
          "Weather",
          "Utilities",
          "Catalogs"
         ],
         "y": [
          358.9525305706522,
          270.51763582032066,
          172.06594594951233,
          170.53663853236608,
          147.9746658205986,
          104.55669172259344,
          98.56651809941168,
          96.77764989906382,
          89.02247694672131,
          85.93238932291666,
          78.8754581404321,
          75.6954570416205,
          75.21970086348684,
          74.80682167310393,
          74.61152962537912,
          74.00035652281746,
          65.34758069931948,
          61.195843612938596,
          59.57684828440348,
          59.420077807373474,
          58.595065646701386,
          51.77503647727351,
          47.85693359375
         ]
        }
       ],
       "layout": {
        "height": 500,
        "margin": {
         "l": 100
        },
        "template": {
         "data": {
          "bar": [
           {
            "error_x": {
             "color": "#2a3f5f"
            },
            "error_y": {
             "color": "#2a3f5f"
            },
            "marker": {
             "line": {
              "color": "#E5ECF6",
              "width": 0.5
             },
             "pattern": {
              "fillmode": "overlay",
              "size": 10,
              "solidity": 0.2
             }
            },
            "type": "bar"
           }
          ],
          "barpolar": [
           {
            "marker": {
             "line": {
              "color": "#E5ECF6",
              "width": 0.5
             },
             "pattern": {
              "fillmode": "overlay",
              "size": 10,
              "solidity": 0.2
             }
            },
            "type": "barpolar"
           }
          ],
          "carpet": [
           {
            "aaxis": {
             "endlinecolor": "#2a3f5f",
             "gridcolor": "white",
             "linecolor": "white",
             "minorgridcolor": "white",
             "startlinecolor": "#2a3f5f"
            },
            "baxis": {
             "endlinecolor": "#2a3f5f",
             "gridcolor": "white",
             "linecolor": "white",
             "minorgridcolor": "white",
             "startlinecolor": "#2a3f5f"
            },
            "type": "carpet"
           }
          ],
          "choropleth": [
           {
            "colorbar": {
             "outlinewidth": 0,
             "ticks": ""
            },
            "type": "choropleth"
           }
          ],
          "contour": [
           {
            "colorbar": {
             "outlinewidth": 0,
             "ticks": ""
            },
            "colorscale": [
             [
              0,
              "#0d0887"
             ],
             [
              0.1111111111111111,
              "#46039f"
             ],
             [
              0.2222222222222222,
              "#7201a8"
             ],
             [
              0.3333333333333333,
              "#9c179e"
             ],
             [
              0.4444444444444444,
              "#bd3786"
             ],
             [
              0.5555555555555556,
              "#d8576b"
             ],
             [
              0.6666666666666666,
              "#ed7953"
             ],
             [
              0.7777777777777778,
              "#fb9f3a"
             ],
             [
              0.8888888888888888,
              "#fdca26"
             ],
             [
              1,
              "#f0f921"
             ]
            ],
            "type": "contour"
           }
          ],
          "contourcarpet": [
           {
            "colorbar": {
             "outlinewidth": 0,
             "ticks": ""
            },
            "type": "contourcarpet"
           }
          ],
          "heatmap": [
           {
            "colorbar": {
             "outlinewidth": 0,
             "ticks": ""
            },
            "colorscale": [
             [
              0,
              "#0d0887"
             ],
             [
              0.1111111111111111,
              "#46039f"
             ],
             [
              0.2222222222222222,
              "#7201a8"
             ],
             [
              0.3333333333333333,
              "#9c179e"
             ],
             [
              0.4444444444444444,
              "#bd3786"
             ],
             [
              0.5555555555555556,
              "#d8576b"
             ],
             [
              0.6666666666666666,
              "#ed7953"
             ],
             [
              0.7777777777777778,
              "#fb9f3a"
             ],
             [
              0.8888888888888888,
              "#fdca26"
             ],
             [
              1,
              "#f0f921"
             ]
            ],
            "type": "heatmap"
           }
          ],
          "heatmapgl": [
           {
            "colorbar": {
             "outlinewidth": 0,
             "ticks": ""
            },
            "colorscale": [
             [
              0,
              "#0d0887"
             ],
             [
              0.1111111111111111,
              "#46039f"
             ],
             [
              0.2222222222222222,
              "#7201a8"
             ],
             [
              0.3333333333333333,
              "#9c179e"
             ],
             [
              0.4444444444444444,
              "#bd3786"
             ],
             [
              0.5555555555555556,
              "#d8576b"
             ],
             [
              0.6666666666666666,
              "#ed7953"
             ],
             [
              0.7777777777777778,
              "#fb9f3a"
             ],
             [
              0.8888888888888888,
              "#fdca26"
             ],
             [
              1,
              "#f0f921"
             ]
            ],
            "type": "heatmapgl"
           }
          ],
          "histogram": [
           {
            "marker": {
             "pattern": {
              "fillmode": "overlay",
              "size": 10,
              "solidity": 0.2
             }
            },
            "type": "histogram"
           }
          ],
          "histogram2d": [
           {
            "colorbar": {
             "outlinewidth": 0,
             "ticks": ""
            },
            "colorscale": [
             [
              0,
              "#0d0887"
             ],
             [
              0.1111111111111111,
              "#46039f"
             ],
             [
              0.2222222222222222,
              "#7201a8"
             ],
             [
              0.3333333333333333,
              "#9c179e"
             ],
             [
              0.4444444444444444,
              "#bd3786"
             ],
             [
              0.5555555555555556,
              "#d8576b"
             ],
             [
              0.6666666666666666,
              "#ed7953"
             ],
             [
              0.7777777777777778,
              "#fb9f3a"
             ],
             [
              0.8888888888888888,
              "#fdca26"
             ],
             [
              1,
              "#f0f921"
             ]
            ],
            "type": "histogram2d"
           }
          ],
          "histogram2dcontour": [
           {
            "colorbar": {
             "outlinewidth": 0,
             "ticks": ""
            },
            "colorscale": [
             [
              0,
              "#0d0887"
             ],
             [
              0.1111111111111111,
              "#46039f"
             ],
             [
              0.2222222222222222,
              "#7201a8"
             ],
             [
              0.3333333333333333,
              "#9c179e"
             ],
             [
              0.4444444444444444,
              "#bd3786"
             ],
             [
              0.5555555555555556,
              "#d8576b"
             ],
             [
              0.6666666666666666,
              "#ed7953"
             ],
             [
              0.7777777777777778,
              "#fb9f3a"
             ],
             [
              0.8888888888888888,
              "#fdca26"
             ],
             [
              1,
              "#f0f921"
             ]
            ],
            "type": "histogram2dcontour"
           }
          ],
          "mesh3d": [
           {
            "colorbar": {
             "outlinewidth": 0,
             "ticks": ""
            },
            "type": "mesh3d"
           }
          ],
          "parcoords": [
           {
            "line": {
             "colorbar": {
              "outlinewidth": 0,
              "ticks": ""
             }
            },
            "type": "parcoords"
           }
          ],
          "pie": [
           {
            "automargin": true,
            "type": "pie"
           }
          ],
          "scatter": [
           {
            "marker": {
             "colorbar": {
              "outlinewidth": 0,
              "ticks": ""
             }
            },
            "type": "scatter"
           }
          ],
          "scatter3d": [
           {
            "line": {
             "colorbar": {
              "outlinewidth": 0,
              "ticks": ""
             }
            },
            "marker": {
             "colorbar": {
              "outlinewidth": 0,
              "ticks": ""
             }
            },
            "type": "scatter3d"
           }
          ],
          "scattercarpet": [
           {
            "marker": {
             "colorbar": {
              "outlinewidth": 0,
              "ticks": ""
             }
            },
            "type": "scattercarpet"
           }
          ],
          "scattergeo": [
           {
            "marker": {
             "colorbar": {
              "outlinewidth": 0,
              "ticks": ""
             }
            },
            "type": "scattergeo"
           }
          ],
          "scattergl": [
           {
            "marker": {
             "colorbar": {
              "outlinewidth": 0,
              "ticks": ""
             }
            },
            "type": "scattergl"
           }
          ],
          "scattermapbox": [
           {
            "marker": {
             "colorbar": {
              "outlinewidth": 0,
              "ticks": ""
             }
            },
            "type": "scattermapbox"
           }
          ],
          "scatterpolar": [
           {
            "marker": {
             "colorbar": {
              "outlinewidth": 0,
              "ticks": ""
             }
            },
            "type": "scatterpolar"
           }
          ],
          "scatterpolargl": [
           {
            "marker": {
             "colorbar": {
              "outlinewidth": 0,
              "ticks": ""
             }
            },
            "type": "scatterpolargl"
           }
          ],
          "scatterternary": [
           {
            "marker": {
             "colorbar": {
              "outlinewidth": 0,
              "ticks": ""
             }
            },
            "type": "scatterternary"
           }
          ],
          "surface": [
           {
            "colorbar": {
             "outlinewidth": 0,
             "ticks": ""
            },
            "colorscale": [
             [
              0,
              "#0d0887"
             ],
             [
              0.1111111111111111,
              "#46039f"
             ],
             [
              0.2222222222222222,
              "#7201a8"
             ],
             [
              0.3333333333333333,
              "#9c179e"
             ],
             [
              0.4444444444444444,
              "#bd3786"
             ],
             [
              0.5555555555555556,
              "#d8576b"
             ],
             [
              0.6666666666666666,
              "#ed7953"
             ],
             [
              0.7777777777777778,
              "#fb9f3a"
             ],
             [
              0.8888888888888888,
              "#fdca26"
             ],
             [
              1,
              "#f0f921"
             ]
            ],
            "type": "surface"
           }
          ],
          "table": [
           {
            "cells": {
             "fill": {
              "color": "#EBF0F8"
             },
             "line": {
              "color": "white"
             }
            },
            "header": {
             "fill": {
              "color": "#C8D4E3"
             },
             "line": {
              "color": "white"
             }
            },
            "type": "table"
           }
          ]
         },
         "layout": {
          "annotationdefaults": {
           "arrowcolor": "#2a3f5f",
           "arrowhead": 0,
           "arrowwidth": 1
          },
          "autotypenumbers": "strict",
          "coloraxis": {
           "colorbar": {
            "outlinewidth": 0,
            "ticks": ""
           }
          },
          "colorscale": {
           "diverging": [
            [
             0,
             "#8e0152"
            ],
            [
             0.1,
             "#c51b7d"
            ],
            [
             0.2,
             "#de77ae"
            ],
            [
             0.3,
             "#f1b6da"
            ],
            [
             0.4,
             "#fde0ef"
            ],
            [
             0.5,
             "#f7f7f7"
            ],
            [
             0.6,
             "#e6f5d0"
            ],
            [
             0.7,
             "#b8e186"
            ],
            [
             0.8,
             "#7fbc41"
            ],
            [
             0.9,
             "#4d9221"
            ],
            [
             1,
             "#276419"
            ]
           ],
           "sequential": [
            [
             0,
             "#0d0887"
            ],
            [
             0.1111111111111111,
             "#46039f"
            ],
            [
             0.2222222222222222,
             "#7201a8"
            ],
            [
             0.3333333333333333,
             "#9c179e"
            ],
            [
             0.4444444444444444,
             "#bd3786"
            ],
            [
             0.5555555555555556,
             "#d8576b"
            ],
            [
             0.6666666666666666,
             "#ed7953"
            ],
            [
             0.7777777777777778,
             "#fb9f3a"
            ],
            [
             0.8888888888888888,
             "#fdca26"
            ],
            [
             1,
             "#f0f921"
            ]
           ],
           "sequentialminus": [
            [
             0,
             "#0d0887"
            ],
            [
             0.1111111111111111,
             "#46039f"
            ],
            [
             0.2222222222222222,
             "#7201a8"
            ],
            [
             0.3333333333333333,
             "#9c179e"
            ],
            [
             0.4444444444444444,
             "#bd3786"
            ],
            [
             0.5555555555555556,
             "#d8576b"
            ],
            [
             0.6666666666666666,
             "#ed7953"
            ],
            [
             0.7777777777777778,
             "#fb9f3a"
            ],
            [
             0.8888888888888888,
             "#fdca26"
            ],
            [
             1,
             "#f0f921"
            ]
           ]
          },
          "colorway": [
           "#636efa",
           "#EF553B",
           "#00cc96",
           "#ab63fa",
           "#FFA15A",
           "#19d3f3",
           "#FF6692",
           "#B6E880",
           "#FF97FF",
           "#FECB52"
          ],
          "font": {
           "color": "#2a3f5f"
          },
          "geo": {
           "bgcolor": "white",
           "lakecolor": "white",
           "landcolor": "#E5ECF6",
           "showlakes": true,
           "showland": true,
           "subunitcolor": "white"
          },
          "hoverlabel": {
           "align": "left"
          },
          "hovermode": "closest",
          "mapbox": {
           "style": "light"
          },
          "paper_bgcolor": "white",
          "plot_bgcolor": "#E5ECF6",
          "polar": {
           "angularaxis": {
            "gridcolor": "white",
            "linecolor": "white",
            "ticks": ""
           },
           "bgcolor": "#E5ECF6",
           "radialaxis": {
            "gridcolor": "white",
            "linecolor": "white",
            "ticks": ""
           }
          },
          "scene": {
           "xaxis": {
            "backgroundcolor": "#E5ECF6",
            "gridcolor": "white",
            "gridwidth": 2,
            "linecolor": "white",
            "showbackground": true,
            "ticks": "",
            "zerolinecolor": "white"
           },
           "yaxis": {
            "backgroundcolor": "#E5ECF6",
            "gridcolor": "white",
            "gridwidth": 2,
            "linecolor": "white",
            "showbackground": true,
            "ticks": "",
            "zerolinecolor": "white"
           },
           "zaxis": {
            "backgroundcolor": "#E5ECF6",
            "gridcolor": "white",
            "gridwidth": 2,
            "linecolor": "white",
            "showbackground": true,
            "ticks": "",
            "zerolinecolor": "white"
           }
          },
          "shapedefaults": {
           "line": {
            "color": "#2a3f5f"
           }
          },
          "ternary": {
           "aaxis": {
            "gridcolor": "white",
            "linecolor": "white",
            "ticks": ""
           },
           "baxis": {
            "gridcolor": "white",
            "linecolor": "white",
            "ticks": ""
           },
           "bgcolor": "#E5ECF6",
           "caxis": {
            "gridcolor": "white",
            "linecolor": "white",
            "ticks": ""
           }
          },
          "title": {
           "x": 0.05
          },
          "xaxis": {
           "automargin": true,
           "gridcolor": "white",
           "linecolor": "white",
           "ticks": "",
           "title": {
            "standoff": 15
           },
           "zerolinecolor": "white",
           "zerolinewidth": 2
          },
          "yaxis": {
           "automargin": true,
           "gridcolor": "white",
           "linecolor": "white",
           "ticks": "",
           "title": {
            "standoff": 15
           },
           "zerolinecolor": "white",
           "zerolinewidth": 2
          }
         }
        },
        "title": {
         "text": "Mean App size(MB) depending on Prime genre"
        },
        "width": 800,
        "xaxis": {
         "title": {
          "text": "Genre"
         }
        },
        "yaxis": {
         "title": {
          "text": "Mean App size"
         }
        }
       }
      },
      "text/html": [
       "<div>                            <div id=\"3f489047-f015-49eb-b2c2-8f14a06b3de0\" class=\"plotly-graph-div\" style=\"height:500px; width:800px;\"></div>            <script type=\"text/javascript\">                require([\"plotly\"], function(Plotly) {                    window.PLOTLYENV=window.PLOTLYENV || {};                                    if (document.getElementById(\"3f489047-f015-49eb-b2c2-8f14a06b3de0\")) {                    Plotly.newPlot(                        \"3f489047-f015-49eb-b2c2-8f14a06b3de0\",                        [{\"marker\":{\"color\":[\"#BEF6E4\",\"#953DE0\",\"#FC1A0C\",\"#DD69C5\",\"#DCB2DE\",\"#02AD79\",\"#C12953\",\"#2CA01F\",\"#F3F6BB\",\"#B067A0\",\"#4F5F23\",\"#21E0C4\",\"#6C42B0\",\"#82F962\",\"#D6A2D7\",\"#388389\",\"#85E3DA\",\"#C8EAC4\",\"#F33CED\",\"#4C049D\",\"#0C9703\",\"#1A6D60\",\"#6F5545\",\"#1820C6\",\"#2BE5B7\",\"#D1177D\",\"#21265A\",\"#7638FD\",\"#65B4B2\",\"#518F4F\",\"#3508D6\",\"#F2509F\",\"#EB30AF\",\"#53CC29\",\"#C42CC5\",\"#126A8A\",\"#621DDB\",\"#CE1E3A\",\"#F134B1\",\"#DE694E\",\"#78902B\",\"#858AD8\",\"#A362C1\",\"#F82242\",\"#FE2014\",\"#997FE9\",\"#BE2B38\",\"#45A227\",\"#715482\",\"#A846BD\",\"#9BE664\",\"#A253D6\",\"#FC7FA3\",\"#C1E1E7\",\"#24FA85\",\"#79F399\",\"#3EDA15\",\"#2CA304\",\"#31FA47\",\"#96C87E\",\"#15436B\",\"#84A44C\",\"#BC4425\",\"#F6019D\",\"#C0EC15\",\"#E83661\",\"#A48B14\",\"#BE81F5\",\"#09813F\",\"#E135E9\",\"#1C35B0\",\"#C005E8\",\"#8E44C7\",\"#8E6A26\",\"#C41431\",\"#BA8AE1\",\"#AF991C\",\"#56B1F5\",\"#206245\",\"#9AD164\",\"#3B0E19\",\"#EB4E52\",\"#92106E\",\"#D1C6E3\",\"#4F798E\",\"#FC6221\",\"#1579EB\",\"#41808D\",\"#178EE9\",\"#C04473\",\"#8472C9\",\"#4C92D7\",\"#AD1FC7\",\"#6DA14A\",\"#C24C11\",\"#F5A579\",\"#7D12CE\",\"#9EDAC5\",\"#716881\",\"#BC8C25\"],\"line\":{\"color\":\"rgb(8, 48, 107)\",\"width\":1.5}},\"opacity\":0.7,\"type\":\"bar\",\"x\":[\"Medical\",\"Games\",\"Education\",\"Book\",\"Reference\",\"Music\",\"Navigation\",\"Entertainment\",\"Shopping\",\"Health & Fitness\",\"Travel\",\"Social Networking\",\"Sports\",\"Productivity\",\"Finance\",\"Food & Drink\",\"Photo & Video\",\"Business\",\"News\",\"Lifestyle\",\"Weather\",\"Utilities\",\"Catalogs\"],\"y\":[358.9525305706522,270.51763582032066,172.06594594951233,170.53663853236608,147.9746658205986,104.55669172259344,98.56651809941168,96.77764989906382,89.02247694672131,85.93238932291666,78.8754581404321,75.6954570416205,75.21970086348684,74.80682167310393,74.61152962537912,74.00035652281746,65.34758069931948,61.195843612938596,59.57684828440348,59.420077807373474,58.595065646701386,51.77503647727351,47.85693359375]}],                        {\"height\":500,\"margin\":{\"l\":100},\"template\":{\"data\":{\"bar\":[{\"error_x\":{\"color\":\"#2a3f5f\"},\"error_y\":{\"color\":\"#2a3f5f\"},\"marker\":{\"line\":{\"color\":\"#E5ECF6\",\"width\":0.5},\"pattern\":{\"fillmode\":\"overlay\",\"size\":10,\"solidity\":0.2}},\"type\":\"bar\"}],\"barpolar\":[{\"marker\":{\"line\":{\"color\":\"#E5ECF6\",\"width\":0.5},\"pattern\":{\"fillmode\":\"overlay\",\"size\":10,\"solidity\":0.2}},\"type\":\"barpolar\"}],\"carpet\":[{\"aaxis\":{\"endlinecolor\":\"#2a3f5f\",\"gridcolor\":\"white\",\"linecolor\":\"white\",\"minorgridcolor\":\"white\",\"startlinecolor\":\"#2a3f5f\"},\"baxis\":{\"endlinecolor\":\"#2a3f5f\",\"gridcolor\":\"white\",\"linecolor\":\"white\",\"minorgridcolor\":\"white\",\"startlinecolor\":\"#2a3f5f\"},\"type\":\"carpet\"}],\"choropleth\":[{\"colorbar\":{\"outlinewidth\":0,\"ticks\":\"\"},\"type\":\"choropleth\"}],\"contour\":[{\"colorbar\":{\"outlinewidth\":0,\"ticks\":\"\"},\"colorscale\":[[0.0,\"#0d0887\"],[0.1111111111111111,\"#46039f\"],[0.2222222222222222,\"#7201a8\"],[0.3333333333333333,\"#9c179e\"],[0.4444444444444444,\"#bd3786\"],[0.5555555555555556,\"#d8576b\"],[0.6666666666666666,\"#ed7953\"],[0.7777777777777778,\"#fb9f3a\"],[0.8888888888888888,\"#fdca26\"],[1.0,\"#f0f921\"]],\"type\":\"contour\"}],\"contourcarpet\":[{\"colorbar\":{\"outlinewidth\":0,\"ticks\":\"\"},\"type\":\"contourcarpet\"}],\"heatmap\":[{\"colorbar\":{\"outlinewidth\":0,\"ticks\":\"\"},\"colorscale\":[[0.0,\"#0d0887\"],[0.1111111111111111,\"#46039f\"],[0.2222222222222222,\"#7201a8\"],[0.3333333333333333,\"#9c179e\"],[0.4444444444444444,\"#bd3786\"],[0.5555555555555556,\"#d8576b\"],[0.6666666666666666,\"#ed7953\"],[0.7777777777777778,\"#fb9f3a\"],[0.8888888888888888,\"#fdca26\"],[1.0,\"#f0f921\"]],\"type\":\"heatmap\"}],\"heatmapgl\":[{\"colorbar\":{\"outlinewidth\":0,\"ticks\":\"\"},\"colorscale\":[[0.0,\"#0d0887\"],[0.1111111111111111,\"#46039f\"],[0.2222222222222222,\"#7201a8\"],[0.3333333333333333,\"#9c179e\"],[0.4444444444444444,\"#bd3786\"],[0.5555555555555556,\"#d8576b\"],[0.6666666666666666,\"#ed7953\"],[0.7777777777777778,\"#fb9f3a\"],[0.8888888888888888,\"#fdca26\"],[1.0,\"#f0f921\"]],\"type\":\"heatmapgl\"}],\"histogram\":[{\"marker\":{\"pattern\":{\"fillmode\":\"overlay\",\"size\":10,\"solidity\":0.2}},\"type\":\"histogram\"}],\"histogram2d\":[{\"colorbar\":{\"outlinewidth\":0,\"ticks\":\"\"},\"colorscale\":[[0.0,\"#0d0887\"],[0.1111111111111111,\"#46039f\"],[0.2222222222222222,\"#7201a8\"],[0.3333333333333333,\"#9c179e\"],[0.4444444444444444,\"#bd3786\"],[0.5555555555555556,\"#d8576b\"],[0.6666666666666666,\"#ed7953\"],[0.7777777777777778,\"#fb9f3a\"],[0.8888888888888888,\"#fdca26\"],[1.0,\"#f0f921\"]],\"type\":\"histogram2d\"}],\"histogram2dcontour\":[{\"colorbar\":{\"outlinewidth\":0,\"ticks\":\"\"},\"colorscale\":[[0.0,\"#0d0887\"],[0.1111111111111111,\"#46039f\"],[0.2222222222222222,\"#7201a8\"],[0.3333333333333333,\"#9c179e\"],[0.4444444444444444,\"#bd3786\"],[0.5555555555555556,\"#d8576b\"],[0.6666666666666666,\"#ed7953\"],[0.7777777777777778,\"#fb9f3a\"],[0.8888888888888888,\"#fdca26\"],[1.0,\"#f0f921\"]],\"type\":\"histogram2dcontour\"}],\"mesh3d\":[{\"colorbar\":{\"outlinewidth\":0,\"ticks\":\"\"},\"type\":\"mesh3d\"}],\"parcoords\":[{\"line\":{\"colorbar\":{\"outlinewidth\":0,\"ticks\":\"\"}},\"type\":\"parcoords\"}],\"pie\":[{\"automargin\":true,\"type\":\"pie\"}],\"scatter\":[{\"marker\":{\"colorbar\":{\"outlinewidth\":0,\"ticks\":\"\"}},\"type\":\"scatter\"}],\"scatter3d\":[{\"line\":{\"colorbar\":{\"outlinewidth\":0,\"ticks\":\"\"}},\"marker\":{\"colorbar\":{\"outlinewidth\":0,\"ticks\":\"\"}},\"type\":\"scatter3d\"}],\"scattercarpet\":[{\"marker\":{\"colorbar\":{\"outlinewidth\":0,\"ticks\":\"\"}},\"type\":\"scattercarpet\"}],\"scattergeo\":[{\"marker\":{\"colorbar\":{\"outlinewidth\":0,\"ticks\":\"\"}},\"type\":\"scattergeo\"}],\"scattergl\":[{\"marker\":{\"colorbar\":{\"outlinewidth\":0,\"ticks\":\"\"}},\"type\":\"scattergl\"}],\"scattermapbox\":[{\"marker\":{\"colorbar\":{\"outlinewidth\":0,\"ticks\":\"\"}},\"type\":\"scattermapbox\"}],\"scatterpolar\":[{\"marker\":{\"colorbar\":{\"outlinewidth\":0,\"ticks\":\"\"}},\"type\":\"scatterpolar\"}],\"scatterpolargl\":[{\"marker\":{\"colorbar\":{\"outlinewidth\":0,\"ticks\":\"\"}},\"type\":\"scatterpolargl\"}],\"scatterternary\":[{\"marker\":{\"colorbar\":{\"outlinewidth\":0,\"ticks\":\"\"}},\"type\":\"scatterternary\"}],\"surface\":[{\"colorbar\":{\"outlinewidth\":0,\"ticks\":\"\"},\"colorscale\":[[0.0,\"#0d0887\"],[0.1111111111111111,\"#46039f\"],[0.2222222222222222,\"#7201a8\"],[0.3333333333333333,\"#9c179e\"],[0.4444444444444444,\"#bd3786\"],[0.5555555555555556,\"#d8576b\"],[0.6666666666666666,\"#ed7953\"],[0.7777777777777778,\"#fb9f3a\"],[0.8888888888888888,\"#fdca26\"],[1.0,\"#f0f921\"]],\"type\":\"surface\"}],\"table\":[{\"cells\":{\"fill\":{\"color\":\"#EBF0F8\"},\"line\":{\"color\":\"white\"}},\"header\":{\"fill\":{\"color\":\"#C8D4E3\"},\"line\":{\"color\":\"white\"}},\"type\":\"table\"}]},\"layout\":{\"annotationdefaults\":{\"arrowcolor\":\"#2a3f5f\",\"arrowhead\":0,\"arrowwidth\":1},\"autotypenumbers\":\"strict\",\"coloraxis\":{\"colorbar\":{\"outlinewidth\":0,\"ticks\":\"\"}},\"colorscale\":{\"diverging\":[[0,\"#8e0152\"],[0.1,\"#c51b7d\"],[0.2,\"#de77ae\"],[0.3,\"#f1b6da\"],[0.4,\"#fde0ef\"],[0.5,\"#f7f7f7\"],[0.6,\"#e6f5d0\"],[0.7,\"#b8e186\"],[0.8,\"#7fbc41\"],[0.9,\"#4d9221\"],[1,\"#276419\"]],\"sequential\":[[0.0,\"#0d0887\"],[0.1111111111111111,\"#46039f\"],[0.2222222222222222,\"#7201a8\"],[0.3333333333333333,\"#9c179e\"],[0.4444444444444444,\"#bd3786\"],[0.5555555555555556,\"#d8576b\"],[0.6666666666666666,\"#ed7953\"],[0.7777777777777778,\"#fb9f3a\"],[0.8888888888888888,\"#fdca26\"],[1.0,\"#f0f921\"]],\"sequentialminus\":[[0.0,\"#0d0887\"],[0.1111111111111111,\"#46039f\"],[0.2222222222222222,\"#7201a8\"],[0.3333333333333333,\"#9c179e\"],[0.4444444444444444,\"#bd3786\"],[0.5555555555555556,\"#d8576b\"],[0.6666666666666666,\"#ed7953\"],[0.7777777777777778,\"#fb9f3a\"],[0.8888888888888888,\"#fdca26\"],[1.0,\"#f0f921\"]]},\"colorway\":[\"#636efa\",\"#EF553B\",\"#00cc96\",\"#ab63fa\",\"#FFA15A\",\"#19d3f3\",\"#FF6692\",\"#B6E880\",\"#FF97FF\",\"#FECB52\"],\"font\":{\"color\":\"#2a3f5f\"},\"geo\":{\"bgcolor\":\"white\",\"lakecolor\":\"white\",\"landcolor\":\"#E5ECF6\",\"showlakes\":true,\"showland\":true,\"subunitcolor\":\"white\"},\"hoverlabel\":{\"align\":\"left\"},\"hovermode\":\"closest\",\"mapbox\":{\"style\":\"light\"},\"paper_bgcolor\":\"white\",\"plot_bgcolor\":\"#E5ECF6\",\"polar\":{\"angularaxis\":{\"gridcolor\":\"white\",\"linecolor\":\"white\",\"ticks\":\"\"},\"bgcolor\":\"#E5ECF6\",\"radialaxis\":{\"gridcolor\":\"white\",\"linecolor\":\"white\",\"ticks\":\"\"}},\"scene\":{\"xaxis\":{\"backgroundcolor\":\"#E5ECF6\",\"gridcolor\":\"white\",\"gridwidth\":2,\"linecolor\":\"white\",\"showbackground\":true,\"ticks\":\"\",\"zerolinecolor\":\"white\"},\"yaxis\":{\"backgroundcolor\":\"#E5ECF6\",\"gridcolor\":\"white\",\"gridwidth\":2,\"linecolor\":\"white\",\"showbackground\":true,\"ticks\":\"\",\"zerolinecolor\":\"white\"},\"zaxis\":{\"backgroundcolor\":\"#E5ECF6\",\"gridcolor\":\"white\",\"gridwidth\":2,\"linecolor\":\"white\",\"showbackground\":true,\"ticks\":\"\",\"zerolinecolor\":\"white\"}},\"shapedefaults\":{\"line\":{\"color\":\"#2a3f5f\"}},\"ternary\":{\"aaxis\":{\"gridcolor\":\"white\",\"linecolor\":\"white\",\"ticks\":\"\"},\"baxis\":{\"gridcolor\":\"white\",\"linecolor\":\"white\",\"ticks\":\"\"},\"bgcolor\":\"#E5ECF6\",\"caxis\":{\"gridcolor\":\"white\",\"linecolor\":\"white\",\"ticks\":\"\"}},\"title\":{\"x\":0.05},\"xaxis\":{\"automargin\":true,\"gridcolor\":\"white\",\"linecolor\":\"white\",\"ticks\":\"\",\"title\":{\"standoff\":15},\"zerolinecolor\":\"white\",\"zerolinewidth\":2},\"yaxis\":{\"automargin\":true,\"gridcolor\":\"white\",\"linecolor\":\"white\",\"ticks\":\"\",\"title\":{\"standoff\":15},\"zerolinecolor\":\"white\",\"zerolinewidth\":2}}},\"title\":{\"text\":\"Mean App size(MB) depending on Prime genre\"},\"width\":800,\"xaxis\":{\"title\":{\"text\":\"Genre\"}},\"yaxis\":{\"title\":{\"text\":\"Mean App size\"}}},                        {\"responsive\": true}                    ).then(function(){\n",
       "                            \n",
       "var gd = document.getElementById('3f489047-f015-49eb-b2c2-8f14a06b3de0');\n",
       "var x = new MutationObserver(function (mutations, observer) {{\n",
       "        var display = window.getComputedStyle(gd).display;\n",
       "        if (!display || display === 'none') {{\n",
       "            console.log([gd, 'removed!']);\n",
       "            Plotly.purge(gd);\n",
       "            observer.disconnect();\n",
       "        }}\n",
       "}});\n",
       "\n",
       "// Listen for the removal of the full notebook cells\n",
       "var notebookContainer = gd.closest('#notebook-container');\n",
       "if (notebookContainer) {{\n",
       "    x.observe(notebookContainer, {childList: true});\n",
       "}}\n",
       "\n",
       "// Listen for the clearing of the current output cell\n",
       "var outputEl = gd.closest('.output');\n",
       "if (outputEl) {{\n",
       "    x.observe(outputEl, {childList: true});\n",
       "}}\n",
       "\n",
       "                        })                };                });            </script>        </div>"
      ]
     },
     "metadata": {},
     "output_type": "display_data"
    }
   ],
   "source": [
    "cnt_srs = df_app[['prime_genre', 'size_bytes_in_MB']].groupby('prime_genre').mean()['size_bytes_in_MB'].sort_values(ascending=False)\n",
    "text = ['{:.2f}'.format(value) for value in cnt_srs.values]\n",
    "\n",
    "trace = go.Bar(\n",
    "    x = cnt_srs.index,\n",
    "    y = cnt_srs.values,\n",
    "    marker = dict(\n",
    "        color = random_color_generator(100),\n",
    "        line = dict(color='rgb(8, 48, 107)',\n",
    "                    width = 1.5)\n",
    "    ),\n",
    "    opacity = 0.7\n",
    ")\n",
    "data = [trace]\n",
    "\n",
    "layout = go.Layout(\n",
    "    title = 'Mean App size(MB) depending on Prime genre',\n",
    "    margin = dict(\n",
    "        l = 100\n",
    "    ),\n",
    "    xaxis = dict(\n",
    "        title = 'Genre'\n",
    "    ),\n",
    "    yaxis = dict(\n",
    "        title = 'Mean App size'\n",
    "    ),\n",
    "    width = 800,\n",
    "    height = 500\n",
    ")\n",
    "\n",
    "fig = go.Figure(data=data, layout=layout)\n",
    "py.iplot(fig)\n"
   ]
  },
  {
   "cell_type": "markdown",
   "id": "442ded37",
   "metadata": {},
   "source": [
    "With not considering 'isNotFree', Medical App has the largest size of ~400MB, followed by Games(~300MB)."
   ]
  },
  {
   "cell_type": "code",
   "execution_count": 28,
   "id": "73be5d37",
   "metadata": {},
   "outputs": [
    {
     "data": {
      "application/vnd.plotly.v1+json": {
       "config": {
        "linkText": "Export to plot.ly",
        "plotlyServerURL": "https://plot.ly",
        "showLink": false
       },
       "data": [
        {
         "marker": {
          "color": [
           "#69703C",
           "#7C59E4",
           "#368E0C",
           "#900714",
           "#8654E5",
           "#DF57BF",
           "#ED9C2F",
           "#A8F2C5",
           "#C8C244",
           "#DC73D1",
           "#85180E",
           "#711D3E",
           "#617CEF",
           "#AF328D",
           "#2C7A5E",
           "#8563E1",
           "#242C04",
           "#68D543",
           "#53362F",
           "#5BA0B0",
           "#681A11",
           "#FC1140",
           "#4F321E",
           "#938697",
           "#F726BF",
           "#63CA3A",
           "#109878",
           "#6311B1",
           "#E4EEE1",
           "#E70942",
           "#1A2C68",
           "#A6EC24",
           "#7F896D",
           "#E59465",
           "#7C3E63",
           "#E78672",
           "#06EE3F",
           "#C4EE34",
           "#69C66B",
           "#9C5AF2",
           "#996790",
           "#43E6C4",
           "#FD034F",
           "#6175E3",
           "#C367A2",
           "#FFBF87",
           "#4295A6",
           "#8585C0",
           "#6C1D75",
           "#B3B702",
           "#0CD4E4",
           "#E7C615",
           "#41BA7A",
           "#5D896F",
           "#184726",
           "#850DF6",
           "#7C3F2F",
           "#E5E48D",
           "#D22395",
           "#B48501",
           "#82C359",
           "#44AB7E",
           "#716F42",
           "#19CEEC",
           "#80AD51",
           "#C8E4BD",
           "#073DA9",
           "#50E257",
           "#EB99F2",
           "#5B35C2",
           "#9A2FF7",
           "#60F949",
           "#3C1A04",
           "#3BA2BB",
           "#8E03F7",
           "#595A11",
           "#27185B",
           "#289FBE",
           "#AD86A0",
           "#43BFFD",
           "#DDFF7E",
           "#DB243B",
           "#C63E38",
           "#6935E1",
           "#88605F",
           "#DC6B0F",
           "#63C93C",
           "#07240F",
           "#A13DF3",
           "#2D2C61",
           "#2F7395",
           "#4F0845",
           "#095207",
           "#557554",
           "#07A9D8",
           "#ED986B",
           "#276F03",
           "#E8C9C9",
           "#198C30",
           "#1898F2"
          ],
          "line": {
           "color": "rgb(8, 48, 107)",
           "width": 1.5
          }
         },
         "opacity": 0.7,
         "text": [
          "8.78%",
          "7.62%",
          "6.73%",
          "5.67%",
          "5.14%",
          "4.55%",
          "4.47%",
          "4.40%",
          "4.33%",
          "4.29%",
          "3.99%",
          "3.96%",
          "3.91%",
          "3.87%",
          "3.86%",
          "3.74%",
          "3.38%",
          "3.25%",
          "3.13%",
          "3.08%",
          "3.07%",
          "2.71%",
          "2.06%"
         ],
         "type": "bar",
         "x": [
          "Games",
          "Medical",
          "Education",
          "Productivity",
          "Reference",
          "Entertainment",
          "Sports",
          "Health & Fitness",
          "Travel",
          "Shopping",
          "Music",
          "Social Networking",
          "Weather",
          "Photo & Video",
          "Navigation",
          "Finance",
          "Business",
          "Lifestyle",
          "News",
          "Food & Drink",
          "Utilities",
          "Book",
          "Catalogs"
         ],
         "xaxis": "x",
         "y": [
          183.33639524677025,
          159.0631103515625,
          140.52340899091777,
          118.43694871471774,
          107.264306640625,
          95.07582654781685,
          93.3737638449367,
          91.82524671052632,
          90.51407296316964,
          89.55219363378099,
          83.42404675839552,
          82.68625924303815,
          81.69080771169355,
          80.88016350112275,
          80.70543303489686,
          78.18763950892857,
          70.662548828125,
          67.93277302194149,
          65.35200026939656,
          64.29930505087209,
          64.1862277809633,
          56.69803503787879,
          43.081380208333336
         ],
         "yaxis": "y"
        },
        {
         "marker": {
          "color": [
           "#B8CE15",
           "#3DB8E8",
           "#431F15",
           "#B1F12F",
           "#C320E9",
           "#603343",
           "#690354",
           "#B8EFE4",
           "#7AEE85",
           "#CFCD29",
           "#59E1E9",
           "#53FDB5",
           "#8C8E59",
           "#575543",
           "#9009A6",
           "#A860BF",
           "#250D52",
           "#415975",
           "#C3E56D",
           "#03C0E6",
           "#53FDBF",
           "#E92849",
           "#E2BD03",
           "#5EF3E7",
           "#ACC81C",
           "#B625FB",
           "#BD424F",
           "#C17D56",
           "#1BF3D8",
           "#4E3E59",
           "#14137B",
           "#CCCD87",
           "#B1D09D",
           "#1D9106",
           "#06B05B",
           "#94A88C",
           "#98A02E",
           "#895212",
           "#8D9CD2",
           "#67B51A",
           "#0DE5A4",
           "#ED009B",
           "#21C929",
           "#FB7716",
           "#E71421",
           "#B8523B",
           "#D83BA8",
           "#901EFF",
           "#3DDD3A",
           "#25DB0C",
           "#6985A6",
           "#879D67",
           "#FF4494",
           "#52C25D",
           "#A03E38",
           "#22BF70",
           "#E548AB",
           "#B1336A",
           "#B01FA5",
           "#A72061",
           "#18B81E",
           "#375CCF",
           "#917674",
           "#60C798",
           "#592A6B",
           "#DF05F7",
           "#3E3327",
           "#4FF393",
           "#5CB3C7",
           "#D4EAFD",
           "#9052CD",
           "#E10823",
           "#1424BD",
           "#FEB124",
           "#11F5EB",
           "#EC7247",
           "#A8B0EA",
           "#957343",
           "#542AB6",
           "#A1661F",
           "#74926D",
           "#955BAE",
           "#96BA5C",
           "#366B2F",
           "#9EEBE3",
           "#0ACAA5",
           "#4DAF76",
           "#4F5E16",
           "#56983E",
           "#A3BBE3",
           "#30D275",
           "#E21A56",
           "#035F9E",
           "#540059",
           "#DD5E96",
           "#9DC9D9",
           "#D254D7",
           "#9C4FF4",
           "#D04B13",
           "#D1DE65"
          ],
          "line": {
           "color": "rgb(8, 48, 107)",
           "width": 1.5
          }
         },
         "opacity": 0.7,
         "text": [
          "17.38%",
          "14.68%",
          "12.46%",
          "6.91%",
          "6.22%",
          "4.65%",
          "4.19%",
          "3.72%",
          "3.54%",
          "3.39%",
          "3.05%",
          "2.22%",
          "2.09%",
          "1.97%",
          "1.92%",
          "1.91%",
          "1.62%",
          "1.57%",
          "1.54%",
          "1.49%",
          "1.28%",
          "1.27%",
          "0.93%"
         ],
         "type": "bar",
         "x": [
          "Medical",
          "Games",
          "Book",
          "Education",
          "Reference",
          "Music",
          "Navigation",
          "Entertainment",
          "Food & Drink",
          "Catalogs",
          "Health & Fitness",
          "Finance",
          "Business",
          "Travel",
          "Productivity",
          "Photo & Video",
          "Lifestyle",
          "Utilities",
          "Weather",
          "News",
          "Sports",
          "Social Networking",
          "Shopping"
         ],
         "xaxis": "x2",
         "y": [
          465.5602213541667,
          393.11455792281487,
          333.8702870244565,
          185.03670881099046,
          166.4793745387684,
          124.49876513951261,
          112.30581430288461,
          99.6055553683001,
          94.8576171875,
          90.8369140625,
          81.62607046274039,
          59.59186811447144,
          56.07870565878378,
          52.8049609375,
          51.48727101293103,
          51.09515582074176,
          43.41621080398559,
          42.04251955567504,
          41.132431402439025,
          39.87338857089772,
          34.24338727678571,
          34.04192725817362,
          24.9267578125
         ],
         "yaxis": "y2"
        },
        {
         "name": "Free",
         "opacity": 0.7,
         "text": [
          "8.78%",
          "7.62%",
          "6.73%",
          "5.67%",
          "5.14%",
          "4.55%",
          "4.47%",
          "4.40%",
          "4.33%",
          "4.29%",
          "3.99%",
          "3.96%",
          "3.91%",
          "3.87%",
          "3.86%",
          "3.74%",
          "3.38%",
          "3.25%",
          "3.13%",
          "3.08%",
          "3.07%",
          "2.71%",
          "2.06%"
         ],
         "type": "bar",
         "x": [
          "Games",
          "Medical",
          "Education",
          "Productivity",
          "Reference",
          "Entertainment",
          "Sports",
          "Health & Fitness",
          "Travel",
          "Shopping",
          "Music",
          "Social Networking",
          "Weather",
          "Photo & Video",
          "Navigation",
          "Finance",
          "Business",
          "Lifestyle",
          "News",
          "Food & Drink",
          "Utilities",
          "Book",
          "Catalogs"
         ],
         "xaxis": "x3",
         "y": [
          183.33639524677025,
          159.0631103515625,
          140.52340899091777,
          118.43694871471774,
          107.264306640625,
          95.07582654781685,
          93.3737638449367,
          91.82524671052632,
          90.51407296316964,
          89.55219363378099,
          83.42404675839552,
          82.68625924303815,
          81.69080771169355,
          80.88016350112275,
          80.70543303489686,
          78.18763950892857,
          70.662548828125,
          67.93277302194149,
          65.35200026939656,
          64.29930505087209,
          64.1862277809633,
          56.69803503787879,
          43.081380208333336
         ],
         "yaxis": "y3"
        },
        {
         "name": "Not-Free",
         "opacity": 0.7,
         "text": [
          "17.38%",
          "14.68%",
          "12.46%",
          "6.91%",
          "6.22%",
          "4.65%",
          "4.19%",
          "3.72%",
          "3.54%",
          "3.39%",
          "3.05%",
          "2.22%",
          "2.09%",
          "1.97%",
          "1.92%",
          "1.91%",
          "1.62%",
          "1.57%",
          "1.54%",
          "1.49%",
          "1.28%",
          "1.27%",
          "0.93%"
         ],
         "type": "bar",
         "x": [
          "Medical",
          "Games",
          "Book",
          "Education",
          "Reference",
          "Music",
          "Navigation",
          "Entertainment",
          "Food & Drink",
          "Catalogs",
          "Health & Fitness",
          "Finance",
          "Business",
          "Travel",
          "Productivity",
          "Photo & Video",
          "Lifestyle",
          "Utilities",
          "Weather",
          "News",
          "Sports",
          "Social Networking",
          "Shopping"
         ],
         "xaxis": "x3",
         "y": [
          465.5602213541667,
          393.11455792281487,
          333.8702870244565,
          185.03670881099046,
          166.4793745387684,
          124.49876513951261,
          112.30581430288461,
          99.6055553683001,
          94.8576171875,
          90.8369140625,
          81.62607046274039,
          59.59186811447144,
          56.07870565878378,
          52.8049609375,
          51.48727101293103,
          51.09515582074176,
          43.41621080398559,
          42.04251955567504,
          41.132431402439025,
          39.87338857089772,
          34.24338727678571,
          34.04192725817362,
          24.9267578125
         ],
         "yaxis": "y3"
        }
       ],
       "layout": {
        "annotations": [
         {
          "font": {
           "size": 16
          },
          "showarrow": false,
          "text": "(1) Mean App size(MB) of Free",
          "x": 0.225,
          "xanchor": "center",
          "xref": "paper",
          "y": 1,
          "yanchor": "bottom",
          "yref": "paper"
         },
         {
          "font": {
           "size": 16
          },
          "showarrow": false,
          "text": "(2) Mean App size(MB) of Not-Free",
          "x": 0.775,
          "xanchor": "center",
          "xref": "paper",
          "y": 1,
          "yanchor": "bottom",
          "yref": "paper"
         },
         {
          "font": {
           "size": 16
          },
          "showarrow": false,
          "text": "(3) Grouped barplot containing Free(green) and Not-Free(red)",
          "x": 0.5,
          "xanchor": "center",
          "xref": "paper",
          "y": 0.375,
          "yanchor": "bottom",
          "yref": "paper"
         }
        ],
        "height": 800,
        "showlegend": false,
        "template": {
         "data": {
          "bar": [
           {
            "error_x": {
             "color": "#2a3f5f"
            },
            "error_y": {
             "color": "#2a3f5f"
            },
            "marker": {
             "line": {
              "color": "#E5ECF6",
              "width": 0.5
             },
             "pattern": {
              "fillmode": "overlay",
              "size": 10,
              "solidity": 0.2
             }
            },
            "type": "bar"
           }
          ],
          "barpolar": [
           {
            "marker": {
             "line": {
              "color": "#E5ECF6",
              "width": 0.5
             },
             "pattern": {
              "fillmode": "overlay",
              "size": 10,
              "solidity": 0.2
             }
            },
            "type": "barpolar"
           }
          ],
          "carpet": [
           {
            "aaxis": {
             "endlinecolor": "#2a3f5f",
             "gridcolor": "white",
             "linecolor": "white",
             "minorgridcolor": "white",
             "startlinecolor": "#2a3f5f"
            },
            "baxis": {
             "endlinecolor": "#2a3f5f",
             "gridcolor": "white",
             "linecolor": "white",
             "minorgridcolor": "white",
             "startlinecolor": "#2a3f5f"
            },
            "type": "carpet"
           }
          ],
          "choropleth": [
           {
            "colorbar": {
             "outlinewidth": 0,
             "ticks": ""
            },
            "type": "choropleth"
           }
          ],
          "contour": [
           {
            "colorbar": {
             "outlinewidth": 0,
             "ticks": ""
            },
            "colorscale": [
             [
              0,
              "#0d0887"
             ],
             [
              0.1111111111111111,
              "#46039f"
             ],
             [
              0.2222222222222222,
              "#7201a8"
             ],
             [
              0.3333333333333333,
              "#9c179e"
             ],
             [
              0.4444444444444444,
              "#bd3786"
             ],
             [
              0.5555555555555556,
              "#d8576b"
             ],
             [
              0.6666666666666666,
              "#ed7953"
             ],
             [
              0.7777777777777778,
              "#fb9f3a"
             ],
             [
              0.8888888888888888,
              "#fdca26"
             ],
             [
              1,
              "#f0f921"
             ]
            ],
            "type": "contour"
           }
          ],
          "contourcarpet": [
           {
            "colorbar": {
             "outlinewidth": 0,
             "ticks": ""
            },
            "type": "contourcarpet"
           }
          ],
          "heatmap": [
           {
            "colorbar": {
             "outlinewidth": 0,
             "ticks": ""
            },
            "colorscale": [
             [
              0,
              "#0d0887"
             ],
             [
              0.1111111111111111,
              "#46039f"
             ],
             [
              0.2222222222222222,
              "#7201a8"
             ],
             [
              0.3333333333333333,
              "#9c179e"
             ],
             [
              0.4444444444444444,
              "#bd3786"
             ],
             [
              0.5555555555555556,
              "#d8576b"
             ],
             [
              0.6666666666666666,
              "#ed7953"
             ],
             [
              0.7777777777777778,
              "#fb9f3a"
             ],
             [
              0.8888888888888888,
              "#fdca26"
             ],
             [
              1,
              "#f0f921"
             ]
            ],
            "type": "heatmap"
           }
          ],
          "heatmapgl": [
           {
            "colorbar": {
             "outlinewidth": 0,
             "ticks": ""
            },
            "colorscale": [
             [
              0,
              "#0d0887"
             ],
             [
              0.1111111111111111,
              "#46039f"
             ],
             [
              0.2222222222222222,
              "#7201a8"
             ],
             [
              0.3333333333333333,
              "#9c179e"
             ],
             [
              0.4444444444444444,
              "#bd3786"
             ],
             [
              0.5555555555555556,
              "#d8576b"
             ],
             [
              0.6666666666666666,
              "#ed7953"
             ],
             [
              0.7777777777777778,
              "#fb9f3a"
             ],
             [
              0.8888888888888888,
              "#fdca26"
             ],
             [
              1,
              "#f0f921"
             ]
            ],
            "type": "heatmapgl"
           }
          ],
          "histogram": [
           {
            "marker": {
             "pattern": {
              "fillmode": "overlay",
              "size": 10,
              "solidity": 0.2
             }
            },
            "type": "histogram"
           }
          ],
          "histogram2d": [
           {
            "colorbar": {
             "outlinewidth": 0,
             "ticks": ""
            },
            "colorscale": [
             [
              0,
              "#0d0887"
             ],
             [
              0.1111111111111111,
              "#46039f"
             ],
             [
              0.2222222222222222,
              "#7201a8"
             ],
             [
              0.3333333333333333,
              "#9c179e"
             ],
             [
              0.4444444444444444,
              "#bd3786"
             ],
             [
              0.5555555555555556,
              "#d8576b"
             ],
             [
              0.6666666666666666,
              "#ed7953"
             ],
             [
              0.7777777777777778,
              "#fb9f3a"
             ],
             [
              0.8888888888888888,
              "#fdca26"
             ],
             [
              1,
              "#f0f921"
             ]
            ],
            "type": "histogram2d"
           }
          ],
          "histogram2dcontour": [
           {
            "colorbar": {
             "outlinewidth": 0,
             "ticks": ""
            },
            "colorscale": [
             [
              0,
              "#0d0887"
             ],
             [
              0.1111111111111111,
              "#46039f"
             ],
             [
              0.2222222222222222,
              "#7201a8"
             ],
             [
              0.3333333333333333,
              "#9c179e"
             ],
             [
              0.4444444444444444,
              "#bd3786"
             ],
             [
              0.5555555555555556,
              "#d8576b"
             ],
             [
              0.6666666666666666,
              "#ed7953"
             ],
             [
              0.7777777777777778,
              "#fb9f3a"
             ],
             [
              0.8888888888888888,
              "#fdca26"
             ],
             [
              1,
              "#f0f921"
             ]
            ],
            "type": "histogram2dcontour"
           }
          ],
          "mesh3d": [
           {
            "colorbar": {
             "outlinewidth": 0,
             "ticks": ""
            },
            "type": "mesh3d"
           }
          ],
          "parcoords": [
           {
            "line": {
             "colorbar": {
              "outlinewidth": 0,
              "ticks": ""
             }
            },
            "type": "parcoords"
           }
          ],
          "pie": [
           {
            "automargin": true,
            "type": "pie"
           }
          ],
          "scatter": [
           {
            "marker": {
             "colorbar": {
              "outlinewidth": 0,
              "ticks": ""
             }
            },
            "type": "scatter"
           }
          ],
          "scatter3d": [
           {
            "line": {
             "colorbar": {
              "outlinewidth": 0,
              "ticks": ""
             }
            },
            "marker": {
             "colorbar": {
              "outlinewidth": 0,
              "ticks": ""
             }
            },
            "type": "scatter3d"
           }
          ],
          "scattercarpet": [
           {
            "marker": {
             "colorbar": {
              "outlinewidth": 0,
              "ticks": ""
             }
            },
            "type": "scattercarpet"
           }
          ],
          "scattergeo": [
           {
            "marker": {
             "colorbar": {
              "outlinewidth": 0,
              "ticks": ""
             }
            },
            "type": "scattergeo"
           }
          ],
          "scattergl": [
           {
            "marker": {
             "colorbar": {
              "outlinewidth": 0,
              "ticks": ""
             }
            },
            "type": "scattergl"
           }
          ],
          "scattermapbox": [
           {
            "marker": {
             "colorbar": {
              "outlinewidth": 0,
              "ticks": ""
             }
            },
            "type": "scattermapbox"
           }
          ],
          "scatterpolar": [
           {
            "marker": {
             "colorbar": {
              "outlinewidth": 0,
              "ticks": ""
             }
            },
            "type": "scatterpolar"
           }
          ],
          "scatterpolargl": [
           {
            "marker": {
             "colorbar": {
              "outlinewidth": 0,
              "ticks": ""
             }
            },
            "type": "scatterpolargl"
           }
          ],
          "scatterternary": [
           {
            "marker": {
             "colorbar": {
              "outlinewidth": 0,
              "ticks": ""
             }
            },
            "type": "scatterternary"
           }
          ],
          "surface": [
           {
            "colorbar": {
             "outlinewidth": 0,
             "ticks": ""
            },
            "colorscale": [
             [
              0,
              "#0d0887"
             ],
             [
              0.1111111111111111,
              "#46039f"
             ],
             [
              0.2222222222222222,
              "#7201a8"
             ],
             [
              0.3333333333333333,
              "#9c179e"
             ],
             [
              0.4444444444444444,
              "#bd3786"
             ],
             [
              0.5555555555555556,
              "#d8576b"
             ],
             [
              0.6666666666666666,
              "#ed7953"
             ],
             [
              0.7777777777777778,
              "#fb9f3a"
             ],
             [
              0.8888888888888888,
              "#fdca26"
             ],
             [
              1,
              "#f0f921"
             ]
            ],
            "type": "surface"
           }
          ],
          "table": [
           {
            "cells": {
             "fill": {
              "color": "#EBF0F8"
             },
             "line": {
              "color": "white"
             }
            },
            "header": {
             "fill": {
              "color": "#C8D4E3"
             },
             "line": {
              "color": "white"
             }
            },
            "type": "table"
           }
          ]
         },
         "layout": {
          "annotationdefaults": {
           "arrowcolor": "#2a3f5f",
           "arrowhead": 0,
           "arrowwidth": 1
          },
          "autotypenumbers": "strict",
          "coloraxis": {
           "colorbar": {
            "outlinewidth": 0,
            "ticks": ""
           }
          },
          "colorscale": {
           "diverging": [
            [
             0,
             "#8e0152"
            ],
            [
             0.1,
             "#c51b7d"
            ],
            [
             0.2,
             "#de77ae"
            ],
            [
             0.3,
             "#f1b6da"
            ],
            [
             0.4,
             "#fde0ef"
            ],
            [
             0.5,
             "#f7f7f7"
            ],
            [
             0.6,
             "#e6f5d0"
            ],
            [
             0.7,
             "#b8e186"
            ],
            [
             0.8,
             "#7fbc41"
            ],
            [
             0.9,
             "#4d9221"
            ],
            [
             1,
             "#276419"
            ]
           ],
           "sequential": [
            [
             0,
             "#0d0887"
            ],
            [
             0.1111111111111111,
             "#46039f"
            ],
            [
             0.2222222222222222,
             "#7201a8"
            ],
            [
             0.3333333333333333,
             "#9c179e"
            ],
            [
             0.4444444444444444,
             "#bd3786"
            ],
            [
             0.5555555555555556,
             "#d8576b"
            ],
            [
             0.6666666666666666,
             "#ed7953"
            ],
            [
             0.7777777777777778,
             "#fb9f3a"
            ],
            [
             0.8888888888888888,
             "#fdca26"
            ],
            [
             1,
             "#f0f921"
            ]
           ],
           "sequentialminus": [
            [
             0,
             "#0d0887"
            ],
            [
             0.1111111111111111,
             "#46039f"
            ],
            [
             0.2222222222222222,
             "#7201a8"
            ],
            [
             0.3333333333333333,
             "#9c179e"
            ],
            [
             0.4444444444444444,
             "#bd3786"
            ],
            [
             0.5555555555555556,
             "#d8576b"
            ],
            [
             0.6666666666666666,
             "#ed7953"
            ],
            [
             0.7777777777777778,
             "#fb9f3a"
            ],
            [
             0.8888888888888888,
             "#fdca26"
            ],
            [
             1,
             "#f0f921"
            ]
           ]
          },
          "colorway": [
           "#636efa",
           "#EF553B",
           "#00cc96",
           "#ab63fa",
           "#FFA15A",
           "#19d3f3",
           "#FF6692",
           "#B6E880",
           "#FF97FF",
           "#FECB52"
          ],
          "font": {
           "color": "#2a3f5f"
          },
          "geo": {
           "bgcolor": "white",
           "lakecolor": "white",
           "landcolor": "#E5ECF6",
           "showlakes": true,
           "showland": true,
           "subunitcolor": "white"
          },
          "hoverlabel": {
           "align": "left"
          },
          "hovermode": "closest",
          "mapbox": {
           "style": "light"
          },
          "paper_bgcolor": "white",
          "plot_bgcolor": "#E5ECF6",
          "polar": {
           "angularaxis": {
            "gridcolor": "white",
            "linecolor": "white",
            "ticks": ""
           },
           "bgcolor": "#E5ECF6",
           "radialaxis": {
            "gridcolor": "white",
            "linecolor": "white",
            "ticks": ""
           }
          },
          "scene": {
           "xaxis": {
            "backgroundcolor": "#E5ECF6",
            "gridcolor": "white",
            "gridwidth": 2,
            "linecolor": "white",
            "showbackground": true,
            "ticks": "",
            "zerolinecolor": "white"
           },
           "yaxis": {
            "backgroundcolor": "#E5ECF6",
            "gridcolor": "white",
            "gridwidth": 2,
            "linecolor": "white",
            "showbackground": true,
            "ticks": "",
            "zerolinecolor": "white"
           },
           "zaxis": {
            "backgroundcolor": "#E5ECF6",
            "gridcolor": "white",
            "gridwidth": 2,
            "linecolor": "white",
            "showbackground": true,
            "ticks": "",
            "zerolinecolor": "white"
           }
          },
          "shapedefaults": {
           "line": {
            "color": "#2a3f5f"
           }
          },
          "ternary": {
           "aaxis": {
            "gridcolor": "white",
            "linecolor": "white",
            "ticks": ""
           },
           "baxis": {
            "gridcolor": "white",
            "linecolor": "white",
            "ticks": ""
           },
           "bgcolor": "#E5ECF6",
           "caxis": {
            "gridcolor": "white",
            "linecolor": "white",
            "ticks": ""
           }
          },
          "title": {
           "x": 0.05
          },
          "xaxis": {
           "automargin": true,
           "gridcolor": "white",
           "linecolor": "white",
           "ticks": "",
           "title": {
            "standoff": 15
           },
           "zerolinecolor": "white",
           "zerolinewidth": 2
          },
          "yaxis": {
           "automargin": true,
           "gridcolor": "white",
           "linecolor": "white",
           "ticks": "",
           "title": {
            "standoff": 15
           },
           "zerolinecolor": "white",
           "zerolinewidth": 2
          }
         }
        },
        "width": 800,
        "xaxis": {
         "anchor": "y",
         "domain": [
          0,
          0.45
         ]
        },
        "xaxis2": {
         "anchor": "y2",
         "domain": [
          0.55,
          1
         ]
        },
        "xaxis3": {
         "anchor": "y3",
         "domain": [
          0,
          1
         ]
        },
        "yaxis": {
         "anchor": "x",
         "domain": [
          0.625,
          1
         ],
         "title": {
          "text": "Mean App size(MB)"
         }
        },
        "yaxis2": {
         "anchor": "x2",
         "domain": [
          0.625,
          1
         ],
         "title": {
          "text": "Mean App size(MB)"
         }
        },
        "yaxis3": {
         "anchor": "x3",
         "domain": [
          0,
          0.375
         ],
         "title": {
          "text": "Mean App size(MB)"
         }
        }
       }
      },
      "text/html": [
       "<div>                            <div id=\"55557c6b-5201-4852-a3a0-5040f2e506a3\" class=\"plotly-graph-div\" style=\"height:800px; width:800px;\"></div>            <script type=\"text/javascript\">                require([\"plotly\"], function(Plotly) {                    window.PLOTLYENV=window.PLOTLYENV || {};                                    if (document.getElementById(\"55557c6b-5201-4852-a3a0-5040f2e506a3\")) {                    Plotly.newPlot(                        \"55557c6b-5201-4852-a3a0-5040f2e506a3\",                        [{\"marker\":{\"color\":[\"#69703C\",\"#7C59E4\",\"#368E0C\",\"#900714\",\"#8654E5\",\"#DF57BF\",\"#ED9C2F\",\"#A8F2C5\",\"#C8C244\",\"#DC73D1\",\"#85180E\",\"#711D3E\",\"#617CEF\",\"#AF328D\",\"#2C7A5E\",\"#8563E1\",\"#242C04\",\"#68D543\",\"#53362F\",\"#5BA0B0\",\"#681A11\",\"#FC1140\",\"#4F321E\",\"#938697\",\"#F726BF\",\"#63CA3A\",\"#109878\",\"#6311B1\",\"#E4EEE1\",\"#E70942\",\"#1A2C68\",\"#A6EC24\",\"#7F896D\",\"#E59465\",\"#7C3E63\",\"#E78672\",\"#06EE3F\",\"#C4EE34\",\"#69C66B\",\"#9C5AF2\",\"#996790\",\"#43E6C4\",\"#FD034F\",\"#6175E3\",\"#C367A2\",\"#FFBF87\",\"#4295A6\",\"#8585C0\",\"#6C1D75\",\"#B3B702\",\"#0CD4E4\",\"#E7C615\",\"#41BA7A\",\"#5D896F\",\"#184726\",\"#850DF6\",\"#7C3F2F\",\"#E5E48D\",\"#D22395\",\"#B48501\",\"#82C359\",\"#44AB7E\",\"#716F42\",\"#19CEEC\",\"#80AD51\",\"#C8E4BD\",\"#073DA9\",\"#50E257\",\"#EB99F2\",\"#5B35C2\",\"#9A2FF7\",\"#60F949\",\"#3C1A04\",\"#3BA2BB\",\"#8E03F7\",\"#595A11\",\"#27185B\",\"#289FBE\",\"#AD86A0\",\"#43BFFD\",\"#DDFF7E\",\"#DB243B\",\"#C63E38\",\"#6935E1\",\"#88605F\",\"#DC6B0F\",\"#63C93C\",\"#07240F\",\"#A13DF3\",\"#2D2C61\",\"#2F7395\",\"#4F0845\",\"#095207\",\"#557554\",\"#07A9D8\",\"#ED986B\",\"#276F03\",\"#E8C9C9\",\"#198C30\",\"#1898F2\"],\"line\":{\"color\":\"rgb(8, 48, 107)\",\"width\":1.5}},\"opacity\":0.7,\"text\":[\"8.78%\",\"7.62%\",\"6.73%\",\"5.67%\",\"5.14%\",\"4.55%\",\"4.47%\",\"4.40%\",\"4.33%\",\"4.29%\",\"3.99%\",\"3.96%\",\"3.91%\",\"3.87%\",\"3.86%\",\"3.74%\",\"3.38%\",\"3.25%\",\"3.13%\",\"3.08%\",\"3.07%\",\"2.71%\",\"2.06%\"],\"type\":\"bar\",\"x\":[\"Games\",\"Medical\",\"Education\",\"Productivity\",\"Reference\",\"Entertainment\",\"Sports\",\"Health & Fitness\",\"Travel\",\"Shopping\",\"Music\",\"Social Networking\",\"Weather\",\"Photo & Video\",\"Navigation\",\"Finance\",\"Business\",\"Lifestyle\",\"News\",\"Food & Drink\",\"Utilities\",\"Book\",\"Catalogs\"],\"xaxis\":\"x\",\"y\":[183.33639524677025,159.0631103515625,140.52340899091777,118.43694871471774,107.264306640625,95.07582654781685,93.3737638449367,91.82524671052632,90.51407296316964,89.55219363378099,83.42404675839552,82.68625924303815,81.69080771169355,80.88016350112275,80.70543303489686,78.18763950892857,70.662548828125,67.93277302194149,65.35200026939656,64.29930505087209,64.1862277809633,56.69803503787879,43.081380208333336],\"yaxis\":\"y\"},{\"marker\":{\"color\":[\"#B8CE15\",\"#3DB8E8\",\"#431F15\",\"#B1F12F\",\"#C320E9\",\"#603343\",\"#690354\",\"#B8EFE4\",\"#7AEE85\",\"#CFCD29\",\"#59E1E9\",\"#53FDB5\",\"#8C8E59\",\"#575543\",\"#9009A6\",\"#A860BF\",\"#250D52\",\"#415975\",\"#C3E56D\",\"#03C0E6\",\"#53FDBF\",\"#E92849\",\"#E2BD03\",\"#5EF3E7\",\"#ACC81C\",\"#B625FB\",\"#BD424F\",\"#C17D56\",\"#1BF3D8\",\"#4E3E59\",\"#14137B\",\"#CCCD87\",\"#B1D09D\",\"#1D9106\",\"#06B05B\",\"#94A88C\",\"#98A02E\",\"#895212\",\"#8D9CD2\",\"#67B51A\",\"#0DE5A4\",\"#ED009B\",\"#21C929\",\"#FB7716\",\"#E71421\",\"#B8523B\",\"#D83BA8\",\"#901EFF\",\"#3DDD3A\",\"#25DB0C\",\"#6985A6\",\"#879D67\",\"#FF4494\",\"#52C25D\",\"#A03E38\",\"#22BF70\",\"#E548AB\",\"#B1336A\",\"#B01FA5\",\"#A72061\",\"#18B81E\",\"#375CCF\",\"#917674\",\"#60C798\",\"#592A6B\",\"#DF05F7\",\"#3E3327\",\"#4FF393\",\"#5CB3C7\",\"#D4EAFD\",\"#9052CD\",\"#E10823\",\"#1424BD\",\"#FEB124\",\"#11F5EB\",\"#EC7247\",\"#A8B0EA\",\"#957343\",\"#542AB6\",\"#A1661F\",\"#74926D\",\"#955BAE\",\"#96BA5C\",\"#366B2F\",\"#9EEBE3\",\"#0ACAA5\",\"#4DAF76\",\"#4F5E16\",\"#56983E\",\"#A3BBE3\",\"#30D275\",\"#E21A56\",\"#035F9E\",\"#540059\",\"#DD5E96\",\"#9DC9D9\",\"#D254D7\",\"#9C4FF4\",\"#D04B13\",\"#D1DE65\"],\"line\":{\"color\":\"rgb(8, 48, 107)\",\"width\":1.5}},\"opacity\":0.7,\"text\":[\"17.38%\",\"14.68%\",\"12.46%\",\"6.91%\",\"6.22%\",\"4.65%\",\"4.19%\",\"3.72%\",\"3.54%\",\"3.39%\",\"3.05%\",\"2.22%\",\"2.09%\",\"1.97%\",\"1.92%\",\"1.91%\",\"1.62%\",\"1.57%\",\"1.54%\",\"1.49%\",\"1.28%\",\"1.27%\",\"0.93%\"],\"type\":\"bar\",\"x\":[\"Medical\",\"Games\",\"Book\",\"Education\",\"Reference\",\"Music\",\"Navigation\",\"Entertainment\",\"Food & Drink\",\"Catalogs\",\"Health & Fitness\",\"Finance\",\"Business\",\"Travel\",\"Productivity\",\"Photo & Video\",\"Lifestyle\",\"Utilities\",\"Weather\",\"News\",\"Sports\",\"Social Networking\",\"Shopping\"],\"xaxis\":\"x2\",\"y\":[465.5602213541667,393.11455792281487,333.8702870244565,185.03670881099046,166.4793745387684,124.49876513951261,112.30581430288461,99.6055553683001,94.8576171875,90.8369140625,81.62607046274039,59.59186811447144,56.07870565878378,52.8049609375,51.48727101293103,51.09515582074176,43.41621080398559,42.04251955567504,41.132431402439025,39.87338857089772,34.24338727678571,34.04192725817362,24.9267578125],\"yaxis\":\"y2\"},{\"name\":\"Free\",\"opacity\":0.7,\"text\":[\"8.78%\",\"7.62%\",\"6.73%\",\"5.67%\",\"5.14%\",\"4.55%\",\"4.47%\",\"4.40%\",\"4.33%\",\"4.29%\",\"3.99%\",\"3.96%\",\"3.91%\",\"3.87%\",\"3.86%\",\"3.74%\",\"3.38%\",\"3.25%\",\"3.13%\",\"3.08%\",\"3.07%\",\"2.71%\",\"2.06%\"],\"type\":\"bar\",\"x\":[\"Games\",\"Medical\",\"Education\",\"Productivity\",\"Reference\",\"Entertainment\",\"Sports\",\"Health & Fitness\",\"Travel\",\"Shopping\",\"Music\",\"Social Networking\",\"Weather\",\"Photo & Video\",\"Navigation\",\"Finance\",\"Business\",\"Lifestyle\",\"News\",\"Food & Drink\",\"Utilities\",\"Book\",\"Catalogs\"],\"xaxis\":\"x3\",\"y\":[183.33639524677025,159.0631103515625,140.52340899091777,118.43694871471774,107.264306640625,95.07582654781685,93.3737638449367,91.82524671052632,90.51407296316964,89.55219363378099,83.42404675839552,82.68625924303815,81.69080771169355,80.88016350112275,80.70543303489686,78.18763950892857,70.662548828125,67.93277302194149,65.35200026939656,64.29930505087209,64.1862277809633,56.69803503787879,43.081380208333336],\"yaxis\":\"y3\"},{\"name\":\"Not-Free\",\"opacity\":0.7,\"text\":[\"17.38%\",\"14.68%\",\"12.46%\",\"6.91%\",\"6.22%\",\"4.65%\",\"4.19%\",\"3.72%\",\"3.54%\",\"3.39%\",\"3.05%\",\"2.22%\",\"2.09%\",\"1.97%\",\"1.92%\",\"1.91%\",\"1.62%\",\"1.57%\",\"1.54%\",\"1.49%\",\"1.28%\",\"1.27%\",\"0.93%\"],\"type\":\"bar\",\"x\":[\"Medical\",\"Games\",\"Book\",\"Education\",\"Reference\",\"Music\",\"Navigation\",\"Entertainment\",\"Food & Drink\",\"Catalogs\",\"Health & Fitness\",\"Finance\",\"Business\",\"Travel\",\"Productivity\",\"Photo & Video\",\"Lifestyle\",\"Utilities\",\"Weather\",\"News\",\"Sports\",\"Social Networking\",\"Shopping\"],\"xaxis\":\"x3\",\"y\":[465.5602213541667,393.11455792281487,333.8702870244565,185.03670881099046,166.4793745387684,124.49876513951261,112.30581430288461,99.6055553683001,94.8576171875,90.8369140625,81.62607046274039,59.59186811447144,56.07870565878378,52.8049609375,51.48727101293103,51.09515582074176,43.41621080398559,42.04251955567504,41.132431402439025,39.87338857089772,34.24338727678571,34.04192725817362,24.9267578125],\"yaxis\":\"y3\"}],                        {\"annotations\":[{\"font\":{\"size\":16},\"showarrow\":false,\"text\":\"(1) Mean App size(MB) of Free\",\"x\":0.225,\"xanchor\":\"center\",\"xref\":\"paper\",\"y\":1.0,\"yanchor\":\"bottom\",\"yref\":\"paper\"},{\"font\":{\"size\":16},\"showarrow\":false,\"text\":\"(2) Mean App size(MB) of Not-Free\",\"x\":0.775,\"xanchor\":\"center\",\"xref\":\"paper\",\"y\":1.0,\"yanchor\":\"bottom\",\"yref\":\"paper\"},{\"font\":{\"size\":16},\"showarrow\":false,\"text\":\"(3) Grouped barplot containing Free(green) and Not-Free(red)\",\"x\":0.5,\"xanchor\":\"center\",\"xref\":\"paper\",\"y\":0.375,\"yanchor\":\"bottom\",\"yref\":\"paper\"}],\"height\":800,\"showlegend\":false,\"template\":{\"data\":{\"bar\":[{\"error_x\":{\"color\":\"#2a3f5f\"},\"error_y\":{\"color\":\"#2a3f5f\"},\"marker\":{\"line\":{\"color\":\"#E5ECF6\",\"width\":0.5},\"pattern\":{\"fillmode\":\"overlay\",\"size\":10,\"solidity\":0.2}},\"type\":\"bar\"}],\"barpolar\":[{\"marker\":{\"line\":{\"color\":\"#E5ECF6\",\"width\":0.5},\"pattern\":{\"fillmode\":\"overlay\",\"size\":10,\"solidity\":0.2}},\"type\":\"barpolar\"}],\"carpet\":[{\"aaxis\":{\"endlinecolor\":\"#2a3f5f\",\"gridcolor\":\"white\",\"linecolor\":\"white\",\"minorgridcolor\":\"white\",\"startlinecolor\":\"#2a3f5f\"},\"baxis\":{\"endlinecolor\":\"#2a3f5f\",\"gridcolor\":\"white\",\"linecolor\":\"white\",\"minorgridcolor\":\"white\",\"startlinecolor\":\"#2a3f5f\"},\"type\":\"carpet\"}],\"choropleth\":[{\"colorbar\":{\"outlinewidth\":0,\"ticks\":\"\"},\"type\":\"choropleth\"}],\"contour\":[{\"colorbar\":{\"outlinewidth\":0,\"ticks\":\"\"},\"colorscale\":[[0.0,\"#0d0887\"],[0.1111111111111111,\"#46039f\"],[0.2222222222222222,\"#7201a8\"],[0.3333333333333333,\"#9c179e\"],[0.4444444444444444,\"#bd3786\"],[0.5555555555555556,\"#d8576b\"],[0.6666666666666666,\"#ed7953\"],[0.7777777777777778,\"#fb9f3a\"],[0.8888888888888888,\"#fdca26\"],[1.0,\"#f0f921\"]],\"type\":\"contour\"}],\"contourcarpet\":[{\"colorbar\":{\"outlinewidth\":0,\"ticks\":\"\"},\"type\":\"contourcarpet\"}],\"heatmap\":[{\"colorbar\":{\"outlinewidth\":0,\"ticks\":\"\"},\"colorscale\":[[0.0,\"#0d0887\"],[0.1111111111111111,\"#46039f\"],[0.2222222222222222,\"#7201a8\"],[0.3333333333333333,\"#9c179e\"],[0.4444444444444444,\"#bd3786\"],[0.5555555555555556,\"#d8576b\"],[0.6666666666666666,\"#ed7953\"],[0.7777777777777778,\"#fb9f3a\"],[0.8888888888888888,\"#fdca26\"],[1.0,\"#f0f921\"]],\"type\":\"heatmap\"}],\"heatmapgl\":[{\"colorbar\":{\"outlinewidth\":0,\"ticks\":\"\"},\"colorscale\":[[0.0,\"#0d0887\"],[0.1111111111111111,\"#46039f\"],[0.2222222222222222,\"#7201a8\"],[0.3333333333333333,\"#9c179e\"],[0.4444444444444444,\"#bd3786\"],[0.5555555555555556,\"#d8576b\"],[0.6666666666666666,\"#ed7953\"],[0.7777777777777778,\"#fb9f3a\"],[0.8888888888888888,\"#fdca26\"],[1.0,\"#f0f921\"]],\"type\":\"heatmapgl\"}],\"histogram\":[{\"marker\":{\"pattern\":{\"fillmode\":\"overlay\",\"size\":10,\"solidity\":0.2}},\"type\":\"histogram\"}],\"histogram2d\":[{\"colorbar\":{\"outlinewidth\":0,\"ticks\":\"\"},\"colorscale\":[[0.0,\"#0d0887\"],[0.1111111111111111,\"#46039f\"],[0.2222222222222222,\"#7201a8\"],[0.3333333333333333,\"#9c179e\"],[0.4444444444444444,\"#bd3786\"],[0.5555555555555556,\"#d8576b\"],[0.6666666666666666,\"#ed7953\"],[0.7777777777777778,\"#fb9f3a\"],[0.8888888888888888,\"#fdca26\"],[1.0,\"#f0f921\"]],\"type\":\"histogram2d\"}],\"histogram2dcontour\":[{\"colorbar\":{\"outlinewidth\":0,\"ticks\":\"\"},\"colorscale\":[[0.0,\"#0d0887\"],[0.1111111111111111,\"#46039f\"],[0.2222222222222222,\"#7201a8\"],[0.3333333333333333,\"#9c179e\"],[0.4444444444444444,\"#bd3786\"],[0.5555555555555556,\"#d8576b\"],[0.6666666666666666,\"#ed7953\"],[0.7777777777777778,\"#fb9f3a\"],[0.8888888888888888,\"#fdca26\"],[1.0,\"#f0f921\"]],\"type\":\"histogram2dcontour\"}],\"mesh3d\":[{\"colorbar\":{\"outlinewidth\":0,\"ticks\":\"\"},\"type\":\"mesh3d\"}],\"parcoords\":[{\"line\":{\"colorbar\":{\"outlinewidth\":0,\"ticks\":\"\"}},\"type\":\"parcoords\"}],\"pie\":[{\"automargin\":true,\"type\":\"pie\"}],\"scatter\":[{\"marker\":{\"colorbar\":{\"outlinewidth\":0,\"ticks\":\"\"}},\"type\":\"scatter\"}],\"scatter3d\":[{\"line\":{\"colorbar\":{\"outlinewidth\":0,\"ticks\":\"\"}},\"marker\":{\"colorbar\":{\"outlinewidth\":0,\"ticks\":\"\"}},\"type\":\"scatter3d\"}],\"scattercarpet\":[{\"marker\":{\"colorbar\":{\"outlinewidth\":0,\"ticks\":\"\"}},\"type\":\"scattercarpet\"}],\"scattergeo\":[{\"marker\":{\"colorbar\":{\"outlinewidth\":0,\"ticks\":\"\"}},\"type\":\"scattergeo\"}],\"scattergl\":[{\"marker\":{\"colorbar\":{\"outlinewidth\":0,\"ticks\":\"\"}},\"type\":\"scattergl\"}],\"scattermapbox\":[{\"marker\":{\"colorbar\":{\"outlinewidth\":0,\"ticks\":\"\"}},\"type\":\"scattermapbox\"}],\"scatterpolar\":[{\"marker\":{\"colorbar\":{\"outlinewidth\":0,\"ticks\":\"\"}},\"type\":\"scatterpolar\"}],\"scatterpolargl\":[{\"marker\":{\"colorbar\":{\"outlinewidth\":0,\"ticks\":\"\"}},\"type\":\"scatterpolargl\"}],\"scatterternary\":[{\"marker\":{\"colorbar\":{\"outlinewidth\":0,\"ticks\":\"\"}},\"type\":\"scatterternary\"}],\"surface\":[{\"colorbar\":{\"outlinewidth\":0,\"ticks\":\"\"},\"colorscale\":[[0.0,\"#0d0887\"],[0.1111111111111111,\"#46039f\"],[0.2222222222222222,\"#7201a8\"],[0.3333333333333333,\"#9c179e\"],[0.4444444444444444,\"#bd3786\"],[0.5555555555555556,\"#d8576b\"],[0.6666666666666666,\"#ed7953\"],[0.7777777777777778,\"#fb9f3a\"],[0.8888888888888888,\"#fdca26\"],[1.0,\"#f0f921\"]],\"type\":\"surface\"}],\"table\":[{\"cells\":{\"fill\":{\"color\":\"#EBF0F8\"},\"line\":{\"color\":\"white\"}},\"header\":{\"fill\":{\"color\":\"#C8D4E3\"},\"line\":{\"color\":\"white\"}},\"type\":\"table\"}]},\"layout\":{\"annotationdefaults\":{\"arrowcolor\":\"#2a3f5f\",\"arrowhead\":0,\"arrowwidth\":1},\"autotypenumbers\":\"strict\",\"coloraxis\":{\"colorbar\":{\"outlinewidth\":0,\"ticks\":\"\"}},\"colorscale\":{\"diverging\":[[0,\"#8e0152\"],[0.1,\"#c51b7d\"],[0.2,\"#de77ae\"],[0.3,\"#f1b6da\"],[0.4,\"#fde0ef\"],[0.5,\"#f7f7f7\"],[0.6,\"#e6f5d0\"],[0.7,\"#b8e186\"],[0.8,\"#7fbc41\"],[0.9,\"#4d9221\"],[1,\"#276419\"]],\"sequential\":[[0.0,\"#0d0887\"],[0.1111111111111111,\"#46039f\"],[0.2222222222222222,\"#7201a8\"],[0.3333333333333333,\"#9c179e\"],[0.4444444444444444,\"#bd3786\"],[0.5555555555555556,\"#d8576b\"],[0.6666666666666666,\"#ed7953\"],[0.7777777777777778,\"#fb9f3a\"],[0.8888888888888888,\"#fdca26\"],[1.0,\"#f0f921\"]],\"sequentialminus\":[[0.0,\"#0d0887\"],[0.1111111111111111,\"#46039f\"],[0.2222222222222222,\"#7201a8\"],[0.3333333333333333,\"#9c179e\"],[0.4444444444444444,\"#bd3786\"],[0.5555555555555556,\"#d8576b\"],[0.6666666666666666,\"#ed7953\"],[0.7777777777777778,\"#fb9f3a\"],[0.8888888888888888,\"#fdca26\"],[1.0,\"#f0f921\"]]},\"colorway\":[\"#636efa\",\"#EF553B\",\"#00cc96\",\"#ab63fa\",\"#FFA15A\",\"#19d3f3\",\"#FF6692\",\"#B6E880\",\"#FF97FF\",\"#FECB52\"],\"font\":{\"color\":\"#2a3f5f\"},\"geo\":{\"bgcolor\":\"white\",\"lakecolor\":\"white\",\"landcolor\":\"#E5ECF6\",\"showlakes\":true,\"showland\":true,\"subunitcolor\":\"white\"},\"hoverlabel\":{\"align\":\"left\"},\"hovermode\":\"closest\",\"mapbox\":{\"style\":\"light\"},\"paper_bgcolor\":\"white\",\"plot_bgcolor\":\"#E5ECF6\",\"polar\":{\"angularaxis\":{\"gridcolor\":\"white\",\"linecolor\":\"white\",\"ticks\":\"\"},\"bgcolor\":\"#E5ECF6\",\"radialaxis\":{\"gridcolor\":\"white\",\"linecolor\":\"white\",\"ticks\":\"\"}},\"scene\":{\"xaxis\":{\"backgroundcolor\":\"#E5ECF6\",\"gridcolor\":\"white\",\"gridwidth\":2,\"linecolor\":\"white\",\"showbackground\":true,\"ticks\":\"\",\"zerolinecolor\":\"white\"},\"yaxis\":{\"backgroundcolor\":\"#E5ECF6\",\"gridcolor\":\"white\",\"gridwidth\":2,\"linecolor\":\"white\",\"showbackground\":true,\"ticks\":\"\",\"zerolinecolor\":\"white\"},\"zaxis\":{\"backgroundcolor\":\"#E5ECF6\",\"gridcolor\":\"white\",\"gridwidth\":2,\"linecolor\":\"white\",\"showbackground\":true,\"ticks\":\"\",\"zerolinecolor\":\"white\"}},\"shapedefaults\":{\"line\":{\"color\":\"#2a3f5f\"}},\"ternary\":{\"aaxis\":{\"gridcolor\":\"white\",\"linecolor\":\"white\",\"ticks\":\"\"},\"baxis\":{\"gridcolor\":\"white\",\"linecolor\":\"white\",\"ticks\":\"\"},\"bgcolor\":\"#E5ECF6\",\"caxis\":{\"gridcolor\":\"white\",\"linecolor\":\"white\",\"ticks\":\"\"}},\"title\":{\"x\":0.05},\"xaxis\":{\"automargin\":true,\"gridcolor\":\"white\",\"linecolor\":\"white\",\"ticks\":\"\",\"title\":{\"standoff\":15},\"zerolinecolor\":\"white\",\"zerolinewidth\":2},\"yaxis\":{\"automargin\":true,\"gridcolor\":\"white\",\"linecolor\":\"white\",\"ticks\":\"\",\"title\":{\"standoff\":15},\"zerolinecolor\":\"white\",\"zerolinewidth\":2}}},\"width\":800,\"xaxis\":{\"anchor\":\"y\",\"domain\":[0.0,0.45]},\"xaxis2\":{\"anchor\":\"y2\",\"domain\":[0.55,1.0]},\"xaxis3\":{\"anchor\":\"y3\",\"domain\":[0.0,1.0]},\"yaxis\":{\"anchor\":\"x\",\"domain\":[0.625,1.0],\"title\":{\"text\":\"Mean App size(MB)\"}},\"yaxis2\":{\"anchor\":\"x2\",\"domain\":[0.625,1.0],\"title\":{\"text\":\"Mean App size(MB)\"}},\"yaxis3\":{\"anchor\":\"x3\",\"domain\":[0.0,0.375],\"title\":{\"text\":\"Mean App size(MB)\"}}},                        {\"responsive\": true}                    ).then(function(){\n",
       "                            \n",
       "var gd = document.getElementById('55557c6b-5201-4852-a3a0-5040f2e506a3');\n",
       "var x = new MutationObserver(function (mutations, observer) {{\n",
       "        var display = window.getComputedStyle(gd).display;\n",
       "        if (!display || display === 'none') {{\n",
       "            console.log([gd, 'removed!']);\n",
       "            Plotly.purge(gd);\n",
       "            observer.disconnect();\n",
       "        }}\n",
       "}});\n",
       "\n",
       "// Listen for the removal of the full notebook cells\n",
       "var notebookContainer = gd.closest('#notebook-container');\n",
       "if (notebookContainer) {{\n",
       "    x.observe(notebookContainer, {childList: true});\n",
       "}}\n",
       "\n",
       "// Listen for the clearing of the current output cell\n",
       "var outputEl = gd.closest('.output');\n",
       "if (outputEl) {{\n",
       "    x.observe(outputEl, {childList: true});\n",
       "}}\n",
       "\n",
       "                        })                };                });            </script>        </div>"
      ]
     },
     "metadata": {},
     "output_type": "display_data"
    }
   ],
   "source": [
    "cnt_srs1 = df_app_free[['prime_genre', 'size_bytes_in_MB']].groupby('prime_genre').mean()['size_bytes_in_MB'].sort_values(ascending=False)\n",
    "text1 = ['{:.2f}%'.format(100 * (value / cnt_srs1.sum())) for value in cnt_srs1.values]\n",
    "\n",
    "trace1 = go.Bar(\n",
    "    x = cnt_srs1.index,\n",
    "    y = cnt_srs1.values,\n",
    "    text = text1,\n",
    "    marker = dict(\n",
    "        color = random_color_generator(100),\n",
    "        line = dict(color='rgb(8, 48, 107)',\n",
    "                    width = 1.5)\n",
    "    ),\n",
    "    opacity = 0.7\n",
    ")\n",
    "\n",
    "cnt_srs2 = df_app_notfree[['prime_genre', 'size_bytes_in_MB']].groupby('prime_genre').mean()['size_bytes_in_MB'].sort_values(ascending=False)\n",
    "text2 = ['{:.2f}%'.format(100 * (value / cnt_srs2.sum())) for value in cnt_srs2.values]\n",
    "\n",
    "trace2 = go.Bar(\n",
    "    x = cnt_srs2.index,\n",
    "    y = cnt_srs2.values,\n",
    "    text = text2,\n",
    "    marker = dict(\n",
    "        color = random_color_generator(100),\n",
    "        line = dict(color='rgb(8, 48, 107)',\n",
    "                    width = 1.5)\n",
    "    ),\n",
    "    opacity = 0.7\n",
    ")\n",
    "\n",
    "trace3 = go.Bar(\n",
    "    x = cnt_srs1.index,\n",
    "    y = cnt_srs1.values,\n",
    "    text = text1,\n",
    "    opacity = 0.7,\n",
    "    name='Free'\n",
    ")\n",
    "\n",
    "\n",
    "trace4 = go.Bar(\n",
    "    x = cnt_srs2.index,\n",
    "    y = cnt_srs2.values,\n",
    "    text = text2,\n",
    "    opacity = 0.7,\n",
    "    name='Not-Free'\n",
    ")\n",
    "\n",
    "\n",
    "\n",
    "fig = tools.make_subplots(rows=2, cols=2, specs = [[{}, {}], [{'colspan':2}, None]], subplot_titles=('Free', 'Not-Free', 'third'), print_grid=False)\n",
    "fig = tools.make_subplots(rows=2, cols=2, specs = [[{}, {}], [{'colspan':2}, None]], \n",
    "                          subplot_titles=('(1) Mean App size(MB) of Free', '(2) Mean App size(MB) of Not-Free', \n",
    "                                          '(3) Grouped barplot containing Free(green) and Not-Free(red)'), print_grid=False)\n",
    "\n",
    "fig.append_trace(trace1, 1, 1)\n",
    "fig.append_trace(trace2, 1, 2)\n",
    "fig.append_trace(trace3, 2, 1)\n",
    "fig.append_trace(trace4, 2, 1)\n",
    "\n",
    "fig['layout']['yaxis1'].update(title='Mean App size(MB)')\n",
    "fig['layout']['yaxis2'].update(title='Mean App size(MB)')\n",
    "fig['layout']['yaxis3'].update(title='Mean App size(MB)')\n",
    "fig['layout'].update(showlegend=False, width=800, height=800)\n",
    "\n",
    "py.iplot(fig)"
   ]
  },
  {
   "cell_type": "markdown",
   "id": "c13f1a76",
   "metadata": {},
   "source": [
    "Figure 1\n",
    "\n",
    "For Free App, Top 3 is below.\n",
    "(1) Games (2) Medical (3) Education\n",
    "\n",
    "Figure 2\n",
    "\n",
    "For Not-Free App, Top 3 is below\n",
    "(1) Medical (2) Games (3) Book\n",
    "\n",
    "Figure 3\n",
    "\n",
    "The bytesize of Not-Free Book, Catalogs and Medical Apps are more than 2 times than that of Free Book, Catalogs and Medical Apps.\n",
    "Because the service form of those 3 Apps is information, the price for Apps have a relationship with the amount of information.\n",
    "For Games, I think the price is responsible for high quality graphic, good interface, etc."
   ]
  },
  {
   "cell_type": "markdown",
   "id": "0f4429a6",
   "metadata": {},
   "source": [
    "App price based on prime_genre"
   ]
  },
  {
   "cell_type": "markdown",
   "id": "79e00698",
   "metadata": {},
   "source": [
    "Medical App is the most expensive, near to 9$.\n",
    "\n",
    "The Apps (Business, Reference, Music, Productivity, Navigation, Education) have the mean price near to 5$."
   ]
  },
  {
   "cell_type": "code",
   "execution_count": 30,
   "id": "96fb352c",
   "metadata": {},
   "outputs": [
    {
     "data": {
      "application/vnd.plotly.v1+json": {
       "config": {
        "linkText": "Export to plot.ly",
        "plotlyServerURL": "https://plot.ly",
        "showLink": false
       },
       "data": [
        {
         "marker": {
          "color": [
           "#85C2BE",
           "#E950D5",
           "#AAF034",
           "#F71428",
           "#8FC889",
           "#FF6A1C",
           "#F66B9D",
           "#D60F97",
           "#D2A086",
           "#B90C3E",
           "#B7C089",
           "#E26CA5",
           "#7BFE98",
           "#200190",
           "#C45708",
           "#D38018",
           "#7B5A59",
           "#E65988",
           "#287831",
           "#943C23",
           "#18FA09",
           "#A629EA",
           "#4E62CE",
           "#D209DE",
           "#98EB49",
           "#742596",
           "#235ACA",
           "#3D0C20",
           "#AB7C94",
           "#004D07",
           "#63420D",
           "#794068",
           "#B5322F",
           "#F6F8AE",
           "#6F47CA",
           "#107EF6",
           "#5EE781",
           "#FEF85F",
           "#EED9E8",
           "#3535C4",
           "#FB8E78",
           "#0BFB84",
           "#4DC48C",
           "#CB36BA",
           "#EC15B2",
           "#E97240",
           "#86C2FC",
           "#A3F4E7",
           "#E7838F",
           "#0A7D48",
           "#CE7810",
           "#98896C",
           "#4A7EE7",
           "#BF8F90",
           "#F84E98",
           "#FDDAB4",
           "#475689",
           "#B71A42",
           "#91A541",
           "#D23358",
           "#99A795",
           "#03847A",
           "#BA1B26",
           "#5A6EB0",
           "#F89BB1",
           "#BDBCA6",
           "#1B1FD0",
           "#571338",
           "#241F34",
           "#151C96",
           "#92B253",
           "#A62125",
           "#B88173",
           "#F6621E",
           "#600194",
           "#1A0E5D",
           "#E69070",
           "#A92C4B",
           "#705C2A",
           "#194551",
           "#DEC457",
           "#7DFFB8",
           "#F43298",
           "#EF7DBD",
           "#8C1286",
           "#E45784",
           "#F09E02",
           "#E7D5D1",
           "#BD2455",
           "#D537AD",
           "#1134DA",
           "#30F23E",
           "#D01EB3",
           "#2401EF",
           "#259C6B",
           "#B29769",
           "#034275",
           "#55DEAD",
           "#9BDFAD",
           "#2A229A"
          ],
          "line": {
           "color": "rgb(8, 48, 107)",
           "width": 1.5
          }
         },
         "opacity": 0.7,
         "text": [
          "12.18%",
          "8.51%",
          "7.23%",
          "7.13%",
          "6.61%",
          "6.37%",
          "6.02%",
          "5.15%",
          "4.43%",
          "3.95%",
          "3.29%",
          "3.12%",
          "3.00%",
          "2.81%",
          "2.66%",
          "2.56%",
          "2.55%",
          "2.31%",
          "2.14%",
          "2.14%",
          "2.07%",
          "1.98%",
          "1.80%"
         ],
         "type": "bar",
         "x": [
          "Medical",
          "Music",
          "Catalogs",
          "Business",
          "Navigation",
          "Reference",
          "Productivity",
          "Education",
          "Food & Drink",
          "Book",
          "Travel",
          "Games",
          "Health & Fitness",
          "Sports",
          "Utilities",
          "Photo & Video",
          "Weather",
          "Lifestyle",
          "Entertainment",
          "Social Networking",
          "News",
          "Finance",
          "Shopping"
         ],
         "y": [
          13.456666666666669,
          9.398450704225358,
          7.99,
          7.881891891891893,
          7.297692307692312,
          7.03545454545455,
          6.6451724137931105,
          5.684704049844246,
          4.889999999999998,
          4.3595652173913075,
          3.629999999999998,
          3.447943925233516,
          3.3169230769230817,
          3.104285714285712,
          2.93964028776979,
          2.8251648351648413,
          2.819268292682925,
          2.5499999999999985,
          2.3681094527363244,
          2.3650000000000007,
          2.284117647058824,
          2.1900000000000004,
          1.99
         ]
        }
       ],
       "layout": {
        "height": 500,
        "margin": {
         "l": 100
        },
        "template": {
         "data": {
          "bar": [
           {
            "error_x": {
             "color": "#2a3f5f"
            },
            "error_y": {
             "color": "#2a3f5f"
            },
            "marker": {
             "line": {
              "color": "#E5ECF6",
              "width": 0.5
             },
             "pattern": {
              "fillmode": "overlay",
              "size": 10,
              "solidity": 0.2
             }
            },
            "type": "bar"
           }
          ],
          "barpolar": [
           {
            "marker": {
             "line": {
              "color": "#E5ECF6",
              "width": 0.5
             },
             "pattern": {
              "fillmode": "overlay",
              "size": 10,
              "solidity": 0.2
             }
            },
            "type": "barpolar"
           }
          ],
          "carpet": [
           {
            "aaxis": {
             "endlinecolor": "#2a3f5f",
             "gridcolor": "white",
             "linecolor": "white",
             "minorgridcolor": "white",
             "startlinecolor": "#2a3f5f"
            },
            "baxis": {
             "endlinecolor": "#2a3f5f",
             "gridcolor": "white",
             "linecolor": "white",
             "minorgridcolor": "white",
             "startlinecolor": "#2a3f5f"
            },
            "type": "carpet"
           }
          ],
          "choropleth": [
           {
            "colorbar": {
             "outlinewidth": 0,
             "ticks": ""
            },
            "type": "choropleth"
           }
          ],
          "contour": [
           {
            "colorbar": {
             "outlinewidth": 0,
             "ticks": ""
            },
            "colorscale": [
             [
              0,
              "#0d0887"
             ],
             [
              0.1111111111111111,
              "#46039f"
             ],
             [
              0.2222222222222222,
              "#7201a8"
             ],
             [
              0.3333333333333333,
              "#9c179e"
             ],
             [
              0.4444444444444444,
              "#bd3786"
             ],
             [
              0.5555555555555556,
              "#d8576b"
             ],
             [
              0.6666666666666666,
              "#ed7953"
             ],
             [
              0.7777777777777778,
              "#fb9f3a"
             ],
             [
              0.8888888888888888,
              "#fdca26"
             ],
             [
              1,
              "#f0f921"
             ]
            ],
            "type": "contour"
           }
          ],
          "contourcarpet": [
           {
            "colorbar": {
             "outlinewidth": 0,
             "ticks": ""
            },
            "type": "contourcarpet"
           }
          ],
          "heatmap": [
           {
            "colorbar": {
             "outlinewidth": 0,
             "ticks": ""
            },
            "colorscale": [
             [
              0,
              "#0d0887"
             ],
             [
              0.1111111111111111,
              "#46039f"
             ],
             [
              0.2222222222222222,
              "#7201a8"
             ],
             [
              0.3333333333333333,
              "#9c179e"
             ],
             [
              0.4444444444444444,
              "#bd3786"
             ],
             [
              0.5555555555555556,
              "#d8576b"
             ],
             [
              0.6666666666666666,
              "#ed7953"
             ],
             [
              0.7777777777777778,
              "#fb9f3a"
             ],
             [
              0.8888888888888888,
              "#fdca26"
             ],
             [
              1,
              "#f0f921"
             ]
            ],
            "type": "heatmap"
           }
          ],
          "heatmapgl": [
           {
            "colorbar": {
             "outlinewidth": 0,
             "ticks": ""
            },
            "colorscale": [
             [
              0,
              "#0d0887"
             ],
             [
              0.1111111111111111,
              "#46039f"
             ],
             [
              0.2222222222222222,
              "#7201a8"
             ],
             [
              0.3333333333333333,
              "#9c179e"
             ],
             [
              0.4444444444444444,
              "#bd3786"
             ],
             [
              0.5555555555555556,
              "#d8576b"
             ],
             [
              0.6666666666666666,
              "#ed7953"
             ],
             [
              0.7777777777777778,
              "#fb9f3a"
             ],
             [
              0.8888888888888888,
              "#fdca26"
             ],
             [
              1,
              "#f0f921"
             ]
            ],
            "type": "heatmapgl"
           }
          ],
          "histogram": [
           {
            "marker": {
             "pattern": {
              "fillmode": "overlay",
              "size": 10,
              "solidity": 0.2
             }
            },
            "type": "histogram"
           }
          ],
          "histogram2d": [
           {
            "colorbar": {
             "outlinewidth": 0,
             "ticks": ""
            },
            "colorscale": [
             [
              0,
              "#0d0887"
             ],
             [
              0.1111111111111111,
              "#46039f"
             ],
             [
              0.2222222222222222,
              "#7201a8"
             ],
             [
              0.3333333333333333,
              "#9c179e"
             ],
             [
              0.4444444444444444,
              "#bd3786"
             ],
             [
              0.5555555555555556,
              "#d8576b"
             ],
             [
              0.6666666666666666,
              "#ed7953"
             ],
             [
              0.7777777777777778,
              "#fb9f3a"
             ],
             [
              0.8888888888888888,
              "#fdca26"
             ],
             [
              1,
              "#f0f921"
             ]
            ],
            "type": "histogram2d"
           }
          ],
          "histogram2dcontour": [
           {
            "colorbar": {
             "outlinewidth": 0,
             "ticks": ""
            },
            "colorscale": [
             [
              0,
              "#0d0887"
             ],
             [
              0.1111111111111111,
              "#46039f"
             ],
             [
              0.2222222222222222,
              "#7201a8"
             ],
             [
              0.3333333333333333,
              "#9c179e"
             ],
             [
              0.4444444444444444,
              "#bd3786"
             ],
             [
              0.5555555555555556,
              "#d8576b"
             ],
             [
              0.6666666666666666,
              "#ed7953"
             ],
             [
              0.7777777777777778,
              "#fb9f3a"
             ],
             [
              0.8888888888888888,
              "#fdca26"
             ],
             [
              1,
              "#f0f921"
             ]
            ],
            "type": "histogram2dcontour"
           }
          ],
          "mesh3d": [
           {
            "colorbar": {
             "outlinewidth": 0,
             "ticks": ""
            },
            "type": "mesh3d"
           }
          ],
          "parcoords": [
           {
            "line": {
             "colorbar": {
              "outlinewidth": 0,
              "ticks": ""
             }
            },
            "type": "parcoords"
           }
          ],
          "pie": [
           {
            "automargin": true,
            "type": "pie"
           }
          ],
          "scatter": [
           {
            "marker": {
             "colorbar": {
              "outlinewidth": 0,
              "ticks": ""
             }
            },
            "type": "scatter"
           }
          ],
          "scatter3d": [
           {
            "line": {
             "colorbar": {
              "outlinewidth": 0,
              "ticks": ""
             }
            },
            "marker": {
             "colorbar": {
              "outlinewidth": 0,
              "ticks": ""
             }
            },
            "type": "scatter3d"
           }
          ],
          "scattercarpet": [
           {
            "marker": {
             "colorbar": {
              "outlinewidth": 0,
              "ticks": ""
             }
            },
            "type": "scattercarpet"
           }
          ],
          "scattergeo": [
           {
            "marker": {
             "colorbar": {
              "outlinewidth": 0,
              "ticks": ""
             }
            },
            "type": "scattergeo"
           }
          ],
          "scattergl": [
           {
            "marker": {
             "colorbar": {
              "outlinewidth": 0,
              "ticks": ""
             }
            },
            "type": "scattergl"
           }
          ],
          "scattermapbox": [
           {
            "marker": {
             "colorbar": {
              "outlinewidth": 0,
              "ticks": ""
             }
            },
            "type": "scattermapbox"
           }
          ],
          "scatterpolar": [
           {
            "marker": {
             "colorbar": {
              "outlinewidth": 0,
              "ticks": ""
             }
            },
            "type": "scatterpolar"
           }
          ],
          "scatterpolargl": [
           {
            "marker": {
             "colorbar": {
              "outlinewidth": 0,
              "ticks": ""
             }
            },
            "type": "scatterpolargl"
           }
          ],
          "scatterternary": [
           {
            "marker": {
             "colorbar": {
              "outlinewidth": 0,
              "ticks": ""
             }
            },
            "type": "scatterternary"
           }
          ],
          "surface": [
           {
            "colorbar": {
             "outlinewidth": 0,
             "ticks": ""
            },
            "colorscale": [
             [
              0,
              "#0d0887"
             ],
             [
              0.1111111111111111,
              "#46039f"
             ],
             [
              0.2222222222222222,
              "#7201a8"
             ],
             [
              0.3333333333333333,
              "#9c179e"
             ],
             [
              0.4444444444444444,
              "#bd3786"
             ],
             [
              0.5555555555555556,
              "#d8576b"
             ],
             [
              0.6666666666666666,
              "#ed7953"
             ],
             [
              0.7777777777777778,
              "#fb9f3a"
             ],
             [
              0.8888888888888888,
              "#fdca26"
             ],
             [
              1,
              "#f0f921"
             ]
            ],
            "type": "surface"
           }
          ],
          "table": [
           {
            "cells": {
             "fill": {
              "color": "#EBF0F8"
             },
             "line": {
              "color": "white"
             }
            },
            "header": {
             "fill": {
              "color": "#C8D4E3"
             },
             "line": {
              "color": "white"
             }
            },
            "type": "table"
           }
          ]
         },
         "layout": {
          "annotationdefaults": {
           "arrowcolor": "#2a3f5f",
           "arrowhead": 0,
           "arrowwidth": 1
          },
          "autotypenumbers": "strict",
          "coloraxis": {
           "colorbar": {
            "outlinewidth": 0,
            "ticks": ""
           }
          },
          "colorscale": {
           "diverging": [
            [
             0,
             "#8e0152"
            ],
            [
             0.1,
             "#c51b7d"
            ],
            [
             0.2,
             "#de77ae"
            ],
            [
             0.3,
             "#f1b6da"
            ],
            [
             0.4,
             "#fde0ef"
            ],
            [
             0.5,
             "#f7f7f7"
            ],
            [
             0.6,
             "#e6f5d0"
            ],
            [
             0.7,
             "#b8e186"
            ],
            [
             0.8,
             "#7fbc41"
            ],
            [
             0.9,
             "#4d9221"
            ],
            [
             1,
             "#276419"
            ]
           ],
           "sequential": [
            [
             0,
             "#0d0887"
            ],
            [
             0.1111111111111111,
             "#46039f"
            ],
            [
             0.2222222222222222,
             "#7201a8"
            ],
            [
             0.3333333333333333,
             "#9c179e"
            ],
            [
             0.4444444444444444,
             "#bd3786"
            ],
            [
             0.5555555555555556,
             "#d8576b"
            ],
            [
             0.6666666666666666,
             "#ed7953"
            ],
            [
             0.7777777777777778,
             "#fb9f3a"
            ],
            [
             0.8888888888888888,
             "#fdca26"
            ],
            [
             1,
             "#f0f921"
            ]
           ],
           "sequentialminus": [
            [
             0,
             "#0d0887"
            ],
            [
             0.1111111111111111,
             "#46039f"
            ],
            [
             0.2222222222222222,
             "#7201a8"
            ],
            [
             0.3333333333333333,
             "#9c179e"
            ],
            [
             0.4444444444444444,
             "#bd3786"
            ],
            [
             0.5555555555555556,
             "#d8576b"
            ],
            [
             0.6666666666666666,
             "#ed7953"
            ],
            [
             0.7777777777777778,
             "#fb9f3a"
            ],
            [
             0.8888888888888888,
             "#fdca26"
            ],
            [
             1,
             "#f0f921"
            ]
           ]
          },
          "colorway": [
           "#636efa",
           "#EF553B",
           "#00cc96",
           "#ab63fa",
           "#FFA15A",
           "#19d3f3",
           "#FF6692",
           "#B6E880",
           "#FF97FF",
           "#FECB52"
          ],
          "font": {
           "color": "#2a3f5f"
          },
          "geo": {
           "bgcolor": "white",
           "lakecolor": "white",
           "landcolor": "#E5ECF6",
           "showlakes": true,
           "showland": true,
           "subunitcolor": "white"
          },
          "hoverlabel": {
           "align": "left"
          },
          "hovermode": "closest",
          "mapbox": {
           "style": "light"
          },
          "paper_bgcolor": "white",
          "plot_bgcolor": "#E5ECF6",
          "polar": {
           "angularaxis": {
            "gridcolor": "white",
            "linecolor": "white",
            "ticks": ""
           },
           "bgcolor": "#E5ECF6",
           "radialaxis": {
            "gridcolor": "white",
            "linecolor": "white",
            "ticks": ""
           }
          },
          "scene": {
           "xaxis": {
            "backgroundcolor": "#E5ECF6",
            "gridcolor": "white",
            "gridwidth": 2,
            "linecolor": "white",
            "showbackground": true,
            "ticks": "",
            "zerolinecolor": "white"
           },
           "yaxis": {
            "backgroundcolor": "#E5ECF6",
            "gridcolor": "white",
            "gridwidth": 2,
            "linecolor": "white",
            "showbackground": true,
            "ticks": "",
            "zerolinecolor": "white"
           },
           "zaxis": {
            "backgroundcolor": "#E5ECF6",
            "gridcolor": "white",
            "gridwidth": 2,
            "linecolor": "white",
            "showbackground": true,
            "ticks": "",
            "zerolinecolor": "white"
           }
          },
          "shapedefaults": {
           "line": {
            "color": "#2a3f5f"
           }
          },
          "ternary": {
           "aaxis": {
            "gridcolor": "white",
            "linecolor": "white",
            "ticks": ""
           },
           "baxis": {
            "gridcolor": "white",
            "linecolor": "white",
            "ticks": ""
           },
           "bgcolor": "#E5ECF6",
           "caxis": {
            "gridcolor": "white",
            "linecolor": "white",
            "ticks": ""
           }
          },
          "title": {
           "x": 0.05
          },
          "xaxis": {
           "automargin": true,
           "gridcolor": "white",
           "linecolor": "white",
           "ticks": "",
           "title": {
            "standoff": 15
           },
           "zerolinecolor": "white",
           "zerolinewidth": 2
          },
          "yaxis": {
           "automargin": true,
           "gridcolor": "white",
           "linecolor": "white",
           "ticks": "",
           "title": {
            "standoff": 15
           },
           "zerolinecolor": "white",
           "zerolinewidth": 2
          }
         }
        },
        "title": {
         "text": "Mean App price of Not-Free Apps"
        },
        "width": 800,
        "yaxis": {
         "title": {
          "text": "Mean App price"
         }
        }
       }
      },
      "text/html": [
       "<div>                            <div id=\"a6f2c08f-83ae-4186-83ad-db5c92a15d0a\" class=\"plotly-graph-div\" style=\"height:500px; width:800px;\"></div>            <script type=\"text/javascript\">                require([\"plotly\"], function(Plotly) {                    window.PLOTLYENV=window.PLOTLYENV || {};                                    if (document.getElementById(\"a6f2c08f-83ae-4186-83ad-db5c92a15d0a\")) {                    Plotly.newPlot(                        \"a6f2c08f-83ae-4186-83ad-db5c92a15d0a\",                        [{\"marker\":{\"color\":[\"#85C2BE\",\"#E950D5\",\"#AAF034\",\"#F71428\",\"#8FC889\",\"#FF6A1C\",\"#F66B9D\",\"#D60F97\",\"#D2A086\",\"#B90C3E\",\"#B7C089\",\"#E26CA5\",\"#7BFE98\",\"#200190\",\"#C45708\",\"#D38018\",\"#7B5A59\",\"#E65988\",\"#287831\",\"#943C23\",\"#18FA09\",\"#A629EA\",\"#4E62CE\",\"#D209DE\",\"#98EB49\",\"#742596\",\"#235ACA\",\"#3D0C20\",\"#AB7C94\",\"#004D07\",\"#63420D\",\"#794068\",\"#B5322F\",\"#F6F8AE\",\"#6F47CA\",\"#107EF6\",\"#5EE781\",\"#FEF85F\",\"#EED9E8\",\"#3535C4\",\"#FB8E78\",\"#0BFB84\",\"#4DC48C\",\"#CB36BA\",\"#EC15B2\",\"#E97240\",\"#86C2FC\",\"#A3F4E7\",\"#E7838F\",\"#0A7D48\",\"#CE7810\",\"#98896C\",\"#4A7EE7\",\"#BF8F90\",\"#F84E98\",\"#FDDAB4\",\"#475689\",\"#B71A42\",\"#91A541\",\"#D23358\",\"#99A795\",\"#03847A\",\"#BA1B26\",\"#5A6EB0\",\"#F89BB1\",\"#BDBCA6\",\"#1B1FD0\",\"#571338\",\"#241F34\",\"#151C96\",\"#92B253\",\"#A62125\",\"#B88173\",\"#F6621E\",\"#600194\",\"#1A0E5D\",\"#E69070\",\"#A92C4B\",\"#705C2A\",\"#194551\",\"#DEC457\",\"#7DFFB8\",\"#F43298\",\"#EF7DBD\",\"#8C1286\",\"#E45784\",\"#F09E02\",\"#E7D5D1\",\"#BD2455\",\"#D537AD\",\"#1134DA\",\"#30F23E\",\"#D01EB3\",\"#2401EF\",\"#259C6B\",\"#B29769\",\"#034275\",\"#55DEAD\",\"#9BDFAD\",\"#2A229A\"],\"line\":{\"color\":\"rgb(8, 48, 107)\",\"width\":1.5}},\"opacity\":0.7,\"text\":[\"12.18%\",\"8.51%\",\"7.23%\",\"7.13%\",\"6.61%\",\"6.37%\",\"6.02%\",\"5.15%\",\"4.43%\",\"3.95%\",\"3.29%\",\"3.12%\",\"3.00%\",\"2.81%\",\"2.66%\",\"2.56%\",\"2.55%\",\"2.31%\",\"2.14%\",\"2.14%\",\"2.07%\",\"1.98%\",\"1.80%\"],\"type\":\"bar\",\"x\":[\"Medical\",\"Music\",\"Catalogs\",\"Business\",\"Navigation\",\"Reference\",\"Productivity\",\"Education\",\"Food & Drink\",\"Book\",\"Travel\",\"Games\",\"Health & Fitness\",\"Sports\",\"Utilities\",\"Photo & Video\",\"Weather\",\"Lifestyle\",\"Entertainment\",\"Social Networking\",\"News\",\"Finance\",\"Shopping\"],\"y\":[13.456666666666669,9.398450704225358,7.99,7.881891891891893,7.297692307692312,7.03545454545455,6.6451724137931105,5.684704049844246,4.889999999999998,4.3595652173913075,3.629999999999998,3.447943925233516,3.3169230769230817,3.104285714285712,2.93964028776979,2.8251648351648413,2.819268292682925,2.5499999999999985,2.3681094527363244,2.3650000000000007,2.284117647058824,2.1900000000000004,1.99]}],                        {\"height\":500,\"margin\":{\"l\":100},\"template\":{\"data\":{\"bar\":[{\"error_x\":{\"color\":\"#2a3f5f\"},\"error_y\":{\"color\":\"#2a3f5f\"},\"marker\":{\"line\":{\"color\":\"#E5ECF6\",\"width\":0.5},\"pattern\":{\"fillmode\":\"overlay\",\"size\":10,\"solidity\":0.2}},\"type\":\"bar\"}],\"barpolar\":[{\"marker\":{\"line\":{\"color\":\"#E5ECF6\",\"width\":0.5},\"pattern\":{\"fillmode\":\"overlay\",\"size\":10,\"solidity\":0.2}},\"type\":\"barpolar\"}],\"carpet\":[{\"aaxis\":{\"endlinecolor\":\"#2a3f5f\",\"gridcolor\":\"white\",\"linecolor\":\"white\",\"minorgridcolor\":\"white\",\"startlinecolor\":\"#2a3f5f\"},\"baxis\":{\"endlinecolor\":\"#2a3f5f\",\"gridcolor\":\"white\",\"linecolor\":\"white\",\"minorgridcolor\":\"white\",\"startlinecolor\":\"#2a3f5f\"},\"type\":\"carpet\"}],\"choropleth\":[{\"colorbar\":{\"outlinewidth\":0,\"ticks\":\"\"},\"type\":\"choropleth\"}],\"contour\":[{\"colorbar\":{\"outlinewidth\":0,\"ticks\":\"\"},\"colorscale\":[[0.0,\"#0d0887\"],[0.1111111111111111,\"#46039f\"],[0.2222222222222222,\"#7201a8\"],[0.3333333333333333,\"#9c179e\"],[0.4444444444444444,\"#bd3786\"],[0.5555555555555556,\"#d8576b\"],[0.6666666666666666,\"#ed7953\"],[0.7777777777777778,\"#fb9f3a\"],[0.8888888888888888,\"#fdca26\"],[1.0,\"#f0f921\"]],\"type\":\"contour\"}],\"contourcarpet\":[{\"colorbar\":{\"outlinewidth\":0,\"ticks\":\"\"},\"type\":\"contourcarpet\"}],\"heatmap\":[{\"colorbar\":{\"outlinewidth\":0,\"ticks\":\"\"},\"colorscale\":[[0.0,\"#0d0887\"],[0.1111111111111111,\"#46039f\"],[0.2222222222222222,\"#7201a8\"],[0.3333333333333333,\"#9c179e\"],[0.4444444444444444,\"#bd3786\"],[0.5555555555555556,\"#d8576b\"],[0.6666666666666666,\"#ed7953\"],[0.7777777777777778,\"#fb9f3a\"],[0.8888888888888888,\"#fdca26\"],[1.0,\"#f0f921\"]],\"type\":\"heatmap\"}],\"heatmapgl\":[{\"colorbar\":{\"outlinewidth\":0,\"ticks\":\"\"},\"colorscale\":[[0.0,\"#0d0887\"],[0.1111111111111111,\"#46039f\"],[0.2222222222222222,\"#7201a8\"],[0.3333333333333333,\"#9c179e\"],[0.4444444444444444,\"#bd3786\"],[0.5555555555555556,\"#d8576b\"],[0.6666666666666666,\"#ed7953\"],[0.7777777777777778,\"#fb9f3a\"],[0.8888888888888888,\"#fdca26\"],[1.0,\"#f0f921\"]],\"type\":\"heatmapgl\"}],\"histogram\":[{\"marker\":{\"pattern\":{\"fillmode\":\"overlay\",\"size\":10,\"solidity\":0.2}},\"type\":\"histogram\"}],\"histogram2d\":[{\"colorbar\":{\"outlinewidth\":0,\"ticks\":\"\"},\"colorscale\":[[0.0,\"#0d0887\"],[0.1111111111111111,\"#46039f\"],[0.2222222222222222,\"#7201a8\"],[0.3333333333333333,\"#9c179e\"],[0.4444444444444444,\"#bd3786\"],[0.5555555555555556,\"#d8576b\"],[0.6666666666666666,\"#ed7953\"],[0.7777777777777778,\"#fb9f3a\"],[0.8888888888888888,\"#fdca26\"],[1.0,\"#f0f921\"]],\"type\":\"histogram2d\"}],\"histogram2dcontour\":[{\"colorbar\":{\"outlinewidth\":0,\"ticks\":\"\"},\"colorscale\":[[0.0,\"#0d0887\"],[0.1111111111111111,\"#46039f\"],[0.2222222222222222,\"#7201a8\"],[0.3333333333333333,\"#9c179e\"],[0.4444444444444444,\"#bd3786\"],[0.5555555555555556,\"#d8576b\"],[0.6666666666666666,\"#ed7953\"],[0.7777777777777778,\"#fb9f3a\"],[0.8888888888888888,\"#fdca26\"],[1.0,\"#f0f921\"]],\"type\":\"histogram2dcontour\"}],\"mesh3d\":[{\"colorbar\":{\"outlinewidth\":0,\"ticks\":\"\"},\"type\":\"mesh3d\"}],\"parcoords\":[{\"line\":{\"colorbar\":{\"outlinewidth\":0,\"ticks\":\"\"}},\"type\":\"parcoords\"}],\"pie\":[{\"automargin\":true,\"type\":\"pie\"}],\"scatter\":[{\"marker\":{\"colorbar\":{\"outlinewidth\":0,\"ticks\":\"\"}},\"type\":\"scatter\"}],\"scatter3d\":[{\"line\":{\"colorbar\":{\"outlinewidth\":0,\"ticks\":\"\"}},\"marker\":{\"colorbar\":{\"outlinewidth\":0,\"ticks\":\"\"}},\"type\":\"scatter3d\"}],\"scattercarpet\":[{\"marker\":{\"colorbar\":{\"outlinewidth\":0,\"ticks\":\"\"}},\"type\":\"scattercarpet\"}],\"scattergeo\":[{\"marker\":{\"colorbar\":{\"outlinewidth\":0,\"ticks\":\"\"}},\"type\":\"scattergeo\"}],\"scattergl\":[{\"marker\":{\"colorbar\":{\"outlinewidth\":0,\"ticks\":\"\"}},\"type\":\"scattergl\"}],\"scattermapbox\":[{\"marker\":{\"colorbar\":{\"outlinewidth\":0,\"ticks\":\"\"}},\"type\":\"scattermapbox\"}],\"scatterpolar\":[{\"marker\":{\"colorbar\":{\"outlinewidth\":0,\"ticks\":\"\"}},\"type\":\"scatterpolar\"}],\"scatterpolargl\":[{\"marker\":{\"colorbar\":{\"outlinewidth\":0,\"ticks\":\"\"}},\"type\":\"scatterpolargl\"}],\"scatterternary\":[{\"marker\":{\"colorbar\":{\"outlinewidth\":0,\"ticks\":\"\"}},\"type\":\"scatterternary\"}],\"surface\":[{\"colorbar\":{\"outlinewidth\":0,\"ticks\":\"\"},\"colorscale\":[[0.0,\"#0d0887\"],[0.1111111111111111,\"#46039f\"],[0.2222222222222222,\"#7201a8\"],[0.3333333333333333,\"#9c179e\"],[0.4444444444444444,\"#bd3786\"],[0.5555555555555556,\"#d8576b\"],[0.6666666666666666,\"#ed7953\"],[0.7777777777777778,\"#fb9f3a\"],[0.8888888888888888,\"#fdca26\"],[1.0,\"#f0f921\"]],\"type\":\"surface\"}],\"table\":[{\"cells\":{\"fill\":{\"color\":\"#EBF0F8\"},\"line\":{\"color\":\"white\"}},\"header\":{\"fill\":{\"color\":\"#C8D4E3\"},\"line\":{\"color\":\"white\"}},\"type\":\"table\"}]},\"layout\":{\"annotationdefaults\":{\"arrowcolor\":\"#2a3f5f\",\"arrowhead\":0,\"arrowwidth\":1},\"autotypenumbers\":\"strict\",\"coloraxis\":{\"colorbar\":{\"outlinewidth\":0,\"ticks\":\"\"}},\"colorscale\":{\"diverging\":[[0,\"#8e0152\"],[0.1,\"#c51b7d\"],[0.2,\"#de77ae\"],[0.3,\"#f1b6da\"],[0.4,\"#fde0ef\"],[0.5,\"#f7f7f7\"],[0.6,\"#e6f5d0\"],[0.7,\"#b8e186\"],[0.8,\"#7fbc41\"],[0.9,\"#4d9221\"],[1,\"#276419\"]],\"sequential\":[[0.0,\"#0d0887\"],[0.1111111111111111,\"#46039f\"],[0.2222222222222222,\"#7201a8\"],[0.3333333333333333,\"#9c179e\"],[0.4444444444444444,\"#bd3786\"],[0.5555555555555556,\"#d8576b\"],[0.6666666666666666,\"#ed7953\"],[0.7777777777777778,\"#fb9f3a\"],[0.8888888888888888,\"#fdca26\"],[1.0,\"#f0f921\"]],\"sequentialminus\":[[0.0,\"#0d0887\"],[0.1111111111111111,\"#46039f\"],[0.2222222222222222,\"#7201a8\"],[0.3333333333333333,\"#9c179e\"],[0.4444444444444444,\"#bd3786\"],[0.5555555555555556,\"#d8576b\"],[0.6666666666666666,\"#ed7953\"],[0.7777777777777778,\"#fb9f3a\"],[0.8888888888888888,\"#fdca26\"],[1.0,\"#f0f921\"]]},\"colorway\":[\"#636efa\",\"#EF553B\",\"#00cc96\",\"#ab63fa\",\"#FFA15A\",\"#19d3f3\",\"#FF6692\",\"#B6E880\",\"#FF97FF\",\"#FECB52\"],\"font\":{\"color\":\"#2a3f5f\"},\"geo\":{\"bgcolor\":\"white\",\"lakecolor\":\"white\",\"landcolor\":\"#E5ECF6\",\"showlakes\":true,\"showland\":true,\"subunitcolor\":\"white\"},\"hoverlabel\":{\"align\":\"left\"},\"hovermode\":\"closest\",\"mapbox\":{\"style\":\"light\"},\"paper_bgcolor\":\"white\",\"plot_bgcolor\":\"#E5ECF6\",\"polar\":{\"angularaxis\":{\"gridcolor\":\"white\",\"linecolor\":\"white\",\"ticks\":\"\"},\"bgcolor\":\"#E5ECF6\",\"radialaxis\":{\"gridcolor\":\"white\",\"linecolor\":\"white\",\"ticks\":\"\"}},\"scene\":{\"xaxis\":{\"backgroundcolor\":\"#E5ECF6\",\"gridcolor\":\"white\",\"gridwidth\":2,\"linecolor\":\"white\",\"showbackground\":true,\"ticks\":\"\",\"zerolinecolor\":\"white\"},\"yaxis\":{\"backgroundcolor\":\"#E5ECF6\",\"gridcolor\":\"white\",\"gridwidth\":2,\"linecolor\":\"white\",\"showbackground\":true,\"ticks\":\"\",\"zerolinecolor\":\"white\"},\"zaxis\":{\"backgroundcolor\":\"#E5ECF6\",\"gridcolor\":\"white\",\"gridwidth\":2,\"linecolor\":\"white\",\"showbackground\":true,\"ticks\":\"\",\"zerolinecolor\":\"white\"}},\"shapedefaults\":{\"line\":{\"color\":\"#2a3f5f\"}},\"ternary\":{\"aaxis\":{\"gridcolor\":\"white\",\"linecolor\":\"white\",\"ticks\":\"\"},\"baxis\":{\"gridcolor\":\"white\",\"linecolor\":\"white\",\"ticks\":\"\"},\"bgcolor\":\"#E5ECF6\",\"caxis\":{\"gridcolor\":\"white\",\"linecolor\":\"white\",\"ticks\":\"\"}},\"title\":{\"x\":0.05},\"xaxis\":{\"automargin\":true,\"gridcolor\":\"white\",\"linecolor\":\"white\",\"ticks\":\"\",\"title\":{\"standoff\":15},\"zerolinecolor\":\"white\",\"zerolinewidth\":2},\"yaxis\":{\"automargin\":true,\"gridcolor\":\"white\",\"linecolor\":\"white\",\"ticks\":\"\",\"title\":{\"standoff\":15},\"zerolinecolor\":\"white\",\"zerolinewidth\":2}}},\"title\":{\"text\":\"Mean App price of Not-Free Apps\"},\"width\":800,\"yaxis\":{\"title\":{\"text\":\"Mean App price\"}}},                        {\"responsive\": true}                    ).then(function(){\n",
       "                            \n",
       "var gd = document.getElementById('a6f2c08f-83ae-4186-83ad-db5c92a15d0a');\n",
       "var x = new MutationObserver(function (mutations, observer) {{\n",
       "        var display = window.getComputedStyle(gd).display;\n",
       "        if (!display || display === 'none') {{\n",
       "            console.log([gd, 'removed!']);\n",
       "            Plotly.purge(gd);\n",
       "            observer.disconnect();\n",
       "        }}\n",
       "}});\n",
       "\n",
       "// Listen for the removal of the full notebook cells\n",
       "var notebookContainer = gd.closest('#notebook-container');\n",
       "if (notebookContainer) {{\n",
       "    x.observe(notebookContainer, {childList: true});\n",
       "}}\n",
       "\n",
       "// Listen for the clearing of the current output cell\n",
       "var outputEl = gd.closest('.output');\n",
       "if (outputEl) {{\n",
       "    x.observe(outputEl, {childList: true});\n",
       "}}\n",
       "\n",
       "                        })                };                });            </script>        </div>"
      ]
     },
     "metadata": {},
     "output_type": "display_data"
    }
   ],
   "source": [
    "cnt_srs = df_app_notfree[['prime_genre', 'price']].groupby('prime_genre').mean()['price'].sort_values(ascending=False)\n",
    "text = ['{:.2f}%'.format(100 * (value / cnt_srs.sum())) for value in cnt_srs.values]\n",
    "\n",
    "trace = go.Bar(\n",
    "    x = cnt_srs.index,\n",
    "    y = cnt_srs.values,\n",
    "    text = text,\n",
    "    marker = dict(\n",
    "        color = random_color_generator(100),\n",
    "        line = dict(color='rgb(8, 48, 107)',\n",
    "                    width = 1.5)\n",
    "    ),\n",
    "    opacity = 0.7\n",
    ")\n",
    "data = [trace]\n",
    "\n",
    "layout = go.Layout(\n",
    "    title = 'Mean App price of Not-Free Apps',\n",
    "    margin = dict(\n",
    "        l = 100\n",
    "    ),\n",
    "    yaxis = dict(\n",
    "        title = 'Mean App price'\n",
    "    ),\n",
    "    width = 800,\n",
    "    height = 500\n",
    ")\n",
    "\n",
    "fig = go.Figure(data=data, layout=layout)\n",
    "py.iplot(fig)"
   ]
  },
  {
   "cell_type": "markdown",
   "id": "587252c9",
   "metadata": {},
   "source": [
    "When considering only Not-Free apps, Medical App is the most expensive, near to 14$."
   ]
  },
  {
   "cell_type": "markdown",
   "id": "28416d82",
   "metadata": {},
   "source": [
    "Rating change"
   ]
  },
  {
   "cell_type": "code",
   "execution_count": 31,
   "id": "477c4af2",
   "metadata": {},
   "outputs": [
    {
     "data": {
      "text/plain": [
       "<seaborn.axisgrid.FacetGrid at 0x24a48d06190>"
      ]
     },
     "execution_count": 31,
     "metadata": {},
     "output_type": "execute_result"
    },
    {
     "data": {
      "image/png": "[encoded data removed]",
      "text/plain": [
       "<Figure size 469.465x360 with 1 Axes>"
      ]
     },
     "metadata": {},
     "output_type": "display_data"
    }
   ],
   "source": [
    "sns.lmplot(x='user_rating', y='user_rating_ver', hue='isNotFree', data=df_app)"
   ]
  },
  {
   "cell_type": "markdown",
   "id": "cf275f41",
   "metadata": {},
   "source": [
    "Float columns"
   ]
  },
  {
   "cell_type": "code",
   "execution_count": 32,
   "id": "49acfa7b",
   "metadata": {},
   "outputs": [],
   "source": [
    "df_temp = df_app.drop('id', axis=1)"
   ]
  },
  {
   "cell_type": "code",
   "execution_count": 33,
   "id": "e274ee64",
   "metadata": {},
   "outputs": [
    {
     "data": {
      "application/vnd.plotly.v1+json": {
       "config": {
        "linkText": "Export to plot.ly",
        "plotlyServerURL": "https://plot.ly",
        "showLink": false
       },
       "data": [
        {
         "colorscale": [
          [
           0,
           "rgb(255,255,217)"
          ],
          [
           0.125,
           "rgb(237,248,177)"
          ],
          [
           0.25,
           "rgb(199,233,180)"
          ],
          [
           0.375,
           "rgb(127,205,187)"
          ],
          [
           0.5,
           "rgb(65,182,196)"
          ],
          [
           0.625,
           "rgb(29,145,192)"
          ],
          [
           0.75,
           "rgb(34,94,168)"
          ],
          [
           0.875,
           "rgb(37,52,148)"
          ],
          [
           1,
           "rgb(8,29,88)"
          ]
         ],
         "reversescale": false,
         "type": "heatmap",
         "x": [
          "size_bytes",
          "price",
          "rating_count_tot",
          "rating_count_ver",
          "user_rating",
          "user_rating_ver",
          "sup_devices.num",
          "ipadSc_urls.num",
          "lang.num",
          "vpp_lic",
          "size_bytes_in_MB",
          "isNotFree"
         ],
         "y": [
          "size_bytes",
          "price",
          "rating_count_tot",
          "rating_count_ver",
          "user_rating",
          "user_rating_ver",
          "sup_devices.num",
          "ipadSc_urls.num",
          "lang.num",
          "vpp_lic",
          "size_bytes_in_MB",
          "isNotFree"
         ],
         "z": [
          [
           1,
           0.18239187109377109,
           0.0044863166120605695,
           0.006337168735763308,
           0.0662557199780597,
           0.08607466359584602,
           -0.11834730034934503,
           0.15269738131628383,
           0.004614345935651448,
           -0.15041771628434716,
           1,
           0.1619794353792348
          ],
          [
           0.18239187109377109,
           1,
           -0.03904419411403824,
           -0.01801184178838811,
           0.04660100362142496,
           0.025173325443183157,
           -0.11536089052369806,
           0.06609956419542433,
           -0.00671336173181111,
           -0.029942472238369464,
           0.18239187109377106,
           0.33631665855433873
          ],
          [
           0.0044863166120605695,
           -0.03904419411403824,
           1,
           0.1636446033513867,
           0.0833099660459741,
           0.08874354725991247,
           0.008832323747474528,
           0.015734290510253903,
           0.13767471628149067,
           -0.000982322947934822,
           0.004486316612060569,
           -0.1028847317369536
          ],
          [
           0.006337168735763308,
           -0.01801184178838811,
           0.1636446033513867,
           1,
           0.06875413255961159,
           0.07784009563729259,
           0.037950664782105174,
           0.024333019931770426,
           0.013286934581891865,
           0.006460467135922623,
           0.0063371687357633094,
           -0.031604045251270654
          ],
          [
           0.0662557199780597,
           0.04660100362142496,
           0.0833099660459741,
           0.06875413255961159,
           1,
           0.7741398463935383,
           -0.04245146450458232,
           0.26567135727082464,
           0.17097627663919202,
           0.06981647675063532,
           0.0662557199780597,
           0.11247204690522926
          ],
          [
           0.08607466359584602,
           0.025173325443183157,
           0.08874354725991247,
           0.07784009563729259,
           0.7741398463935383,
           1,
           -0.018900718256185764,
           0.27573698416773296,
           0.17557961647839487,
           0.05009423550610718,
           0.08607466359584602,
           0.12163941634296856
          ],
          [
           -0.11834730034934503,
           -0.11536089052369806,
           0.008832323747474528,
           0.037950664782105174,
           -0.04245146450458232,
           -0.018900718256185764,
           1,
           -0.03772764358983549,
           -0.04168106666651238,
           -0.03710901452330434,
           -0.11834730034934512,
           -0.020199893156446
          ],
          [
           0.15269738131628383,
           0.06609956419542433,
           0.015734290510253903,
           0.024333019931770426,
           0.26567135727082464,
           0.27573698416773296,
           -0.03772764358983549,
           1,
           0.08837843356804786,
           0.07190052036533198,
           0.15269738131628385,
           0.0695524484757118
          ],
          [
           0.004614345935651448,
           -0.00671336173181111,
           0.13767471628149067,
           0.013286934581891865,
           0.17097627663919202,
           0.17557961647839487,
           -0.04168106666651238,
           0.08837843356804786,
           1,
           0.03247744967046179,
           0.004614345935651447,
           -0.04270345890292566
          ],
          [
           -0.15041771628434716,
           -0.029942472238369464,
           -0.000982322947934822,
           0.006460467135922623,
           0.06981647675063532,
           0.05009423550610718,
           -0.03710901452330434,
           0.07190052036533198,
           0.03247744967046179,
           1,
           -0.15041771628434722,
           -0.024213066058380264
          ],
          [
           1,
           0.18239187109377106,
           0.004486316612060569,
           0.0063371687357633094,
           0.0662557199780597,
           0.08607466359584602,
           -0.11834730034934512,
           0.15269738131628385,
           0.004614345935651447,
           -0.15041771628434722,
           1,
           0.1619794353792348
          ],
          [
           0.1619794353792348,
           0.33631665855433873,
           -0.1028847317369536,
           -0.031604045251270654,
           0.11247204690522926,
           0.12163941634296856,
           -0.020199893156446,
           0.0695524484757118,
           -0.04270345890292566,
           -0.024213066058380264,
           0.1619794353792348,
           1
          ]
         ]
        }
       ],
       "layout": {
        "height": 800,
        "margin": {
         "l": 100
        },
        "template": {
         "data": {
          "bar": [
           {
            "error_x": {
             "color": "#2a3f5f"
            },
            "error_y": {
             "color": "#2a3f5f"
            },
            "marker": {
             "line": {
              "color": "#E5ECF6",
              "width": 0.5
             },
             "pattern": {
              "fillmode": "overlay",
              "size": 10,
              "solidity": 0.2
             }
            },
            "type": "bar"
           }
          ],
          "barpolar": [
           {
            "marker": {
             "line": {
              "color": "#E5ECF6",
              "width": 0.5
             },
             "pattern": {
              "fillmode": "overlay",
              "size": 10,
              "solidity": 0.2
             }
            },
            "type": "barpolar"
           }
          ],
          "carpet": [
           {
            "aaxis": {
             "endlinecolor": "#2a3f5f",
             "gridcolor": "white",
             "linecolor": "white",
             "minorgridcolor": "white",
             "startlinecolor": "#2a3f5f"
            },
            "baxis": {
             "endlinecolor": "#2a3f5f",
             "gridcolor": "white",
             "linecolor": "white",
             "minorgridcolor": "white",
             "startlinecolor": "#2a3f5f"
            },
            "type": "carpet"
           }
          ],
          "choropleth": [
           {
            "colorbar": {
             "outlinewidth": 0,
             "ticks": ""
            },
            "type": "choropleth"
           }
          ],
          "contour": [
           {
            "colorbar": {
             "outlinewidth": 0,
             "ticks": ""
            },
            "colorscale": [
             [
              0,
              "#0d0887"
             ],
             [
              0.1111111111111111,
              "#46039f"
             ],
             [
              0.2222222222222222,
              "#7201a8"
             ],
             [
              0.3333333333333333,
              "#9c179e"
             ],
             [
              0.4444444444444444,
              "#bd3786"
             ],
             [
              0.5555555555555556,
              "#d8576b"
             ],
             [
              0.6666666666666666,
              "#ed7953"
             ],
             [
              0.7777777777777778,
              "#fb9f3a"
             ],
             [
              0.8888888888888888,
              "#fdca26"
             ],
             [
              1,
              "#f0f921"
             ]
            ],
            "type": "contour"
           }
          ],
          "contourcarpet": [
           {
            "colorbar": {
             "outlinewidth": 0,
             "ticks": ""
            },
            "type": "contourcarpet"
           }
          ],
          "heatmap": [
           {
            "colorbar": {
             "outlinewidth": 0,
             "ticks": ""
            },
            "colorscale": [
             [
              0,
              "#0d0887"
             ],
             [
              0.1111111111111111,
              "#46039f"
             ],
             [
              0.2222222222222222,
              "#7201a8"
             ],
             [
              0.3333333333333333,
              "#9c179e"
             ],
             [
              0.4444444444444444,
              "#bd3786"
             ],
             [
              0.5555555555555556,
              "#d8576b"
             ],
             [
              0.6666666666666666,
              "#ed7953"
             ],
             [
              0.7777777777777778,
              "#fb9f3a"
             ],
             [
              0.8888888888888888,
              "#fdca26"
             ],
             [
              1,
              "#f0f921"
             ]
            ],
            "type": "heatmap"
           }
          ],
          "heatmapgl": [
           {
            "colorbar": {
             "outlinewidth": 0,
             "ticks": ""
            },
            "colorscale": [
             [
              0,
              "#0d0887"
             ],
             [
              0.1111111111111111,
              "#46039f"
             ],
             [
              0.2222222222222222,
              "#7201a8"
             ],
             [
              0.3333333333333333,
              "#9c179e"
             ],
             [
              0.4444444444444444,
              "#bd3786"
             ],
             [
              0.5555555555555556,
              "#d8576b"
             ],
             [
              0.6666666666666666,
              "#ed7953"
             ],
             [
              0.7777777777777778,
              "#fb9f3a"
             ],
             [
              0.8888888888888888,
              "#fdca26"
             ],
             [
              1,
              "#f0f921"
             ]
            ],
            "type": "heatmapgl"
           }
          ],
          "histogram": [
           {
            "marker": {
             "pattern": {
              "fillmode": "overlay",
              "size": 10,
              "solidity": 0.2
             }
            },
            "type": "histogram"
           }
          ],
          "histogram2d": [
           {
            "colorbar": {
             "outlinewidth": 0,
             "ticks": ""
            },
            "colorscale": [
             [
              0,
              "#0d0887"
             ],
             [
              0.1111111111111111,
              "#46039f"
             ],
             [
              0.2222222222222222,
              "#7201a8"
             ],
             [
              0.3333333333333333,
              "#9c179e"
             ],
             [
              0.4444444444444444,
              "#bd3786"
             ],
             [
              0.5555555555555556,
              "#d8576b"
             ],
             [
              0.6666666666666666,
              "#ed7953"
             ],
             [
              0.7777777777777778,
              "#fb9f3a"
             ],
             [
              0.8888888888888888,
              "#fdca26"
             ],
             [
              1,
              "#f0f921"
             ]
            ],
            "type": "histogram2d"
           }
          ],
          "histogram2dcontour": [
           {
            "colorbar": {
             "outlinewidth": 0,
             "ticks": ""
            },
            "colorscale": [
             [
              0,
              "#0d0887"
             ],
             [
              0.1111111111111111,
              "#46039f"
             ],
             [
              0.2222222222222222,
              "#7201a8"
             ],
             [
              0.3333333333333333,
              "#9c179e"
             ],
             [
              0.4444444444444444,
              "#bd3786"
             ],
             [
              0.5555555555555556,
              "#d8576b"
             ],
             [
              0.6666666666666666,
              "#ed7953"
             ],
             [
              0.7777777777777778,
              "#fb9f3a"
             ],
             [
              0.8888888888888888,
              "#fdca26"
             ],
             [
              1,
              "#f0f921"
             ]
            ],
            "type": "histogram2dcontour"
           }
          ],
          "mesh3d": [
           {
            "colorbar": {
             "outlinewidth": 0,
             "ticks": ""
            },
            "type": "mesh3d"
           }
          ],
          "parcoords": [
           {
            "line": {
             "colorbar": {
              "outlinewidth": 0,
              "ticks": ""
             }
            },
            "type": "parcoords"
           }
          ],
          "pie": [
           {
            "automargin": true,
            "type": "pie"
           }
          ],
          "scatter": [
           {
            "marker": {
             "colorbar": {
              "outlinewidth": 0,
              "ticks": ""
             }
            },
            "type": "scatter"
           }
          ],
          "scatter3d": [
           {
            "line": {
             "colorbar": {
              "outlinewidth": 0,
              "ticks": ""
             }
            },
            "marker": {
             "colorbar": {
              "outlinewidth": 0,
              "ticks": ""
             }
            },
            "type": "scatter3d"
           }
          ],
          "scattercarpet": [
           {
            "marker": {
             "colorbar": {
              "outlinewidth": 0,
              "ticks": ""
             }
            },
            "type": "scattercarpet"
           }
          ],
          "scattergeo": [
           {
            "marker": {
             "colorbar": {
              "outlinewidth": 0,
              "ticks": ""
             }
            },
            "type": "scattergeo"
           }
          ],
          "scattergl": [
           {
            "marker": {
             "colorbar": {
              "outlinewidth": 0,
              "ticks": ""
             }
            },
            "type": "scattergl"
           }
          ],
          "scattermapbox": [
           {
            "marker": {
             "colorbar": {
              "outlinewidth": 0,
              "ticks": ""
             }
            },
            "type": "scattermapbox"
           }
          ],
          "scatterpolar": [
           {
            "marker": {
             "colorbar": {
              "outlinewidth": 0,
              "ticks": ""
             }
            },
            "type": "scatterpolar"
           }
          ],
          "scatterpolargl": [
           {
            "marker": {
             "colorbar": {
              "outlinewidth": 0,
              "ticks": ""
             }
            },
            "type": "scatterpolargl"
           }
          ],
          "scatterternary": [
           {
            "marker": {
             "colorbar": {
              "outlinewidth": 0,
              "ticks": ""
             }
            },
            "type": "scatterternary"
           }
          ],
          "surface": [
           {
            "colorbar": {
             "outlinewidth": 0,
             "ticks": ""
            },
            "colorscale": [
             [
              0,
              "#0d0887"
             ],
             [
              0.1111111111111111,
              "#46039f"
             ],
             [
              0.2222222222222222,
              "#7201a8"
             ],
             [
              0.3333333333333333,
              "#9c179e"
             ],
             [
              0.4444444444444444,
              "#bd3786"
             ],
             [
              0.5555555555555556,
              "#d8576b"
             ],
             [
              0.6666666666666666,
              "#ed7953"
             ],
             [
              0.7777777777777778,
              "#fb9f3a"
             ],
             [
              0.8888888888888888,
              "#fdca26"
             ],
             [
              1,
              "#f0f921"
             ]
            ],
            "type": "surface"
           }
          ],
          "table": [
           {
            "cells": {
             "fill": {
              "color": "#EBF0F8"
             },
             "line": {
              "color": "white"
             }
            },
            "header": {
             "fill": {
              "color": "#C8D4E3"
             },
             "line": {
              "color": "white"
             }
            },
            "type": "table"
           }
          ]
         },
         "layout": {
          "annotationdefaults": {
           "arrowcolor": "#2a3f5f",
           "arrowhead": 0,
           "arrowwidth": 1
          },
          "autotypenumbers": "strict",
          "coloraxis": {
           "colorbar": {
            "outlinewidth": 0,
            "ticks": ""
           }
          },
          "colorscale": {
           "diverging": [
            [
             0,
             "#8e0152"
            ],
            [
             0.1,
             "#c51b7d"
            ],
            [
             0.2,
             "#de77ae"
            ],
            [
             0.3,
             "#f1b6da"
            ],
            [
             0.4,
             "#fde0ef"
            ],
            [
             0.5,
             "#f7f7f7"
            ],
            [
             0.6,
             "#e6f5d0"
            ],
            [
             0.7,
             "#b8e186"
            ],
            [
             0.8,
             "#7fbc41"
            ],
            [
             0.9,
             "#4d9221"
            ],
            [
             1,
             "#276419"
            ]
           ],
           "sequential": [
            [
             0,
             "#0d0887"
            ],
            [
             0.1111111111111111,
             "#46039f"
            ],
            [
             0.2222222222222222,
             "#7201a8"
            ],
            [
             0.3333333333333333,
             "#9c179e"
            ],
            [
             0.4444444444444444,
             "#bd3786"
            ],
            [
             0.5555555555555556,
             "#d8576b"
            ],
            [
             0.6666666666666666,
             "#ed7953"
            ],
            [
             0.7777777777777778,
             "#fb9f3a"
            ],
            [
             0.8888888888888888,
             "#fdca26"
            ],
            [
             1,
             "#f0f921"
            ]
           ],
           "sequentialminus": [
            [
             0,
             "#0d0887"
            ],
            [
             0.1111111111111111,
             "#46039f"
            ],
            [
             0.2222222222222222,
             "#7201a8"
            ],
            [
             0.3333333333333333,
             "#9c179e"
            ],
            [
             0.4444444444444444,
             "#bd3786"
            ],
            [
             0.5555555555555556,
             "#d8576b"
            ],
            [
             0.6666666666666666,
             "#ed7953"
            ],
            [
             0.7777777777777778,
             "#fb9f3a"
            ],
            [
             0.8888888888888888,
             "#fdca26"
            ],
            [
             1,
             "#f0f921"
            ]
           ]
          },
          "colorway": [
           "#636efa",
           "#EF553B",
           "#00cc96",
           "#ab63fa",
           "#FFA15A",
           "#19d3f3",
           "#FF6692",
           "#B6E880",
           "#FF97FF",
           "#FECB52"
          ],
          "font": {
           "color": "#2a3f5f"
          },
          "geo": {
           "bgcolor": "white",
           "lakecolor": "white",
           "landcolor": "#E5ECF6",
           "showlakes": true,
           "showland": true,
           "subunitcolor": "white"
          },
          "hoverlabel": {
           "align": "left"
          },
          "hovermode": "closest",
          "mapbox": {
           "style": "light"
          },
          "paper_bgcolor": "white",
          "plot_bgcolor": "#E5ECF6",
          "polar": {
           "angularaxis": {
            "gridcolor": "white",
            "linecolor": "white",
            "ticks": ""
           },
           "bgcolor": "#E5ECF6",
           "radialaxis": {
            "gridcolor": "white",
            "linecolor": "white",
            "ticks": ""
           }
          },
          "scene": {
           "xaxis": {
            "backgroundcolor": "#E5ECF6",
            "gridcolor": "white",
            "gridwidth": 2,
            "linecolor": "white",
            "showbackground": true,
            "ticks": "",
            "zerolinecolor": "white"
           },
           "yaxis": {
            "backgroundcolor": "#E5ECF6",
            "gridcolor": "white",
            "gridwidth": 2,
            "linecolor": "white",
            "showbackground": true,
            "ticks": "",
            "zerolinecolor": "white"
           },
           "zaxis": {
            "backgroundcolor": "#E5ECF6",
            "gridcolor": "white",
            "gridwidth": 2,
            "linecolor": "white",
            "showbackground": true,
            "ticks": "",
            "zerolinecolor": "white"
           }
          },
          "shapedefaults": {
           "line": {
            "color": "#2a3f5f"
           }
          },
          "ternary": {
           "aaxis": {
            "gridcolor": "white",
            "linecolor": "white",
            "ticks": ""
           },
           "baxis": {
            "gridcolor": "white",
            "linecolor": "white",
            "ticks": ""
           },
           "bgcolor": "#E5ECF6",
           "caxis": {
            "gridcolor": "white",
            "linecolor": "white",
            "ticks": ""
           }
          },
          "title": {
           "x": 0.05
          },
          "xaxis": {
           "automargin": true,
           "gridcolor": "white",
           "linecolor": "white",
           "ticks": "",
           "title": {
            "standoff": 15
           },
           "zerolinecolor": "white",
           "zerolinewidth": 2
          },
          "yaxis": {
           "automargin": true,
           "gridcolor": "white",
           "linecolor": "white",
           "ticks": "",
           "title": {
            "standoff": 15
           },
           "zerolinecolor": "white",
           "zerolinewidth": 2
          }
         }
        },
        "title": {
         "text": "Pearson Correlation of float-type features"
        },
        "width": 800,
        "xaxis": {
         "ticks": ""
        },
        "yaxis": {
         "ticks": ""
        }
       }
      },
      "text/html": [
       "<div>                            <div id=\"5d724a2b-d0d5-4ec8-8382-9e54eb56e746\" class=\"plotly-graph-div\" style=\"height:800px; width:800px;\"></div>            <script type=\"text/javascript\">                require([\"plotly\"], function(Plotly) {                    window.PLOTLYENV=window.PLOTLYENV || {};                                    if (document.getElementById(\"5d724a2b-d0d5-4ec8-8382-9e54eb56e746\")) {                    Plotly.newPlot(                        \"5d724a2b-d0d5-4ec8-8382-9e54eb56e746\",                        [{\"colorscale\":[[0.0,\"rgb(255,255,217)\"],[0.125,\"rgb(237,248,177)\"],[0.25,\"rgb(199,233,180)\"],[0.375,\"rgb(127,205,187)\"],[0.5,\"rgb(65,182,196)\"],[0.625,\"rgb(29,145,192)\"],[0.75,\"rgb(34,94,168)\"],[0.875,\"rgb(37,52,148)\"],[1.0,\"rgb(8,29,88)\"]],\"reversescale\":false,\"type\":\"heatmap\",\"x\":[\"size_bytes\",\"price\",\"rating_count_tot\",\"rating_count_ver\",\"user_rating\",\"user_rating_ver\",\"sup_devices.num\",\"ipadSc_urls.num\",\"lang.num\",\"vpp_lic\",\"size_bytes_in_MB\",\"isNotFree\"],\"y\":[\"size_bytes\",\"price\",\"rating_count_tot\",\"rating_count_ver\",\"user_rating\",\"user_rating_ver\",\"sup_devices.num\",\"ipadSc_urls.num\",\"lang.num\",\"vpp_lic\",\"size_bytes_in_MB\",\"isNotFree\"],\"z\":[[1.0,0.18239187109377109,0.0044863166120605695,0.006337168735763308,0.0662557199780597,0.08607466359584602,-0.11834730034934503,0.15269738131628383,0.004614345935651448,-0.15041771628434716,1.0,0.1619794353792348],[0.18239187109377109,1.0,-0.03904419411403824,-0.01801184178838811,0.04660100362142496,0.025173325443183157,-0.11536089052369806,0.06609956419542433,-0.00671336173181111,-0.029942472238369464,0.18239187109377106,0.33631665855433873],[0.0044863166120605695,-0.03904419411403824,1.0,0.1636446033513867,0.0833099660459741,0.08874354725991247,0.008832323747474528,0.015734290510253903,0.13767471628149067,-0.000982322947934822,0.004486316612060569,-0.1028847317369536],[0.006337168735763308,-0.01801184178838811,0.1636446033513867,1.0,0.06875413255961159,0.07784009563729259,0.037950664782105174,0.024333019931770426,0.013286934581891865,0.006460467135922623,0.0063371687357633094,-0.031604045251270654],[0.0662557199780597,0.04660100362142496,0.0833099660459741,0.06875413255961159,1.0,0.7741398463935383,-0.04245146450458232,0.26567135727082464,0.17097627663919202,0.06981647675063532,0.0662557199780597,0.11247204690522926],[0.08607466359584602,0.025173325443183157,0.08874354725991247,0.07784009563729259,0.7741398463935383,1.0,-0.018900718256185764,0.27573698416773296,0.17557961647839487,0.05009423550610718,0.08607466359584602,0.12163941634296856],[-0.11834730034934503,-0.11536089052369806,0.008832323747474528,0.037950664782105174,-0.04245146450458232,-0.018900718256185764,1.0,-0.03772764358983549,-0.04168106666651238,-0.03710901452330434,-0.11834730034934512,-0.020199893156446],[0.15269738131628383,0.06609956419542433,0.015734290510253903,0.024333019931770426,0.26567135727082464,0.27573698416773296,-0.03772764358983549,1.0,0.08837843356804786,0.07190052036533198,0.15269738131628385,0.0695524484757118],[0.004614345935651448,-0.00671336173181111,0.13767471628149067,0.013286934581891865,0.17097627663919202,0.17557961647839487,-0.04168106666651238,0.08837843356804786,1.0,0.03247744967046179,0.004614345935651447,-0.04270345890292566],[-0.15041771628434716,-0.029942472238369464,-0.000982322947934822,0.006460467135922623,0.06981647675063532,0.05009423550610718,-0.03710901452330434,0.07190052036533198,0.03247744967046179,1.0,-0.15041771628434722,-0.024213066058380264],[1.0,0.18239187109377106,0.004486316612060569,0.0063371687357633094,0.0662557199780597,0.08607466359584602,-0.11834730034934512,0.15269738131628385,0.004614345935651447,-0.15041771628434722,1.0,0.1619794353792348],[0.1619794353792348,0.33631665855433873,-0.1028847317369536,-0.031604045251270654,0.11247204690522926,0.12163941634296856,-0.020199893156446,0.0695524484757118,-0.04270345890292566,-0.024213066058380264,0.1619794353792348,1.0]]}],                        {\"height\":800,\"margin\":{\"l\":100},\"template\":{\"data\":{\"bar\":[{\"error_x\":{\"color\":\"#2a3f5f\"},\"error_y\":{\"color\":\"#2a3f5f\"},\"marker\":{\"line\":{\"color\":\"#E5ECF6\",\"width\":0.5},\"pattern\":{\"fillmode\":\"overlay\",\"size\":10,\"solidity\":0.2}},\"type\":\"bar\"}],\"barpolar\":[{\"marker\":{\"line\":{\"color\":\"#E5ECF6\",\"width\":0.5},\"pattern\":{\"fillmode\":\"overlay\",\"size\":10,\"solidity\":0.2}},\"type\":\"barpolar\"}],\"carpet\":[{\"aaxis\":{\"endlinecolor\":\"#2a3f5f\",\"gridcolor\":\"white\",\"linecolor\":\"white\",\"minorgridcolor\":\"white\",\"startlinecolor\":\"#2a3f5f\"},\"baxis\":{\"endlinecolor\":\"#2a3f5f\",\"gridcolor\":\"white\",\"linecolor\":\"white\",\"minorgridcolor\":\"white\",\"startlinecolor\":\"#2a3f5f\"},\"type\":\"carpet\"}],\"choropleth\":[{\"colorbar\":{\"outlinewidth\":0,\"ticks\":\"\"},\"type\":\"choropleth\"}],\"contour\":[{\"colorbar\":{\"outlinewidth\":0,\"ticks\":\"\"},\"colorscale\":[[0.0,\"#0d0887\"],[0.1111111111111111,\"#46039f\"],[0.2222222222222222,\"#7201a8\"],[0.3333333333333333,\"#9c179e\"],[0.4444444444444444,\"#bd3786\"],[0.5555555555555556,\"#d8576b\"],[0.6666666666666666,\"#ed7953\"],[0.7777777777777778,\"#fb9f3a\"],[0.8888888888888888,\"#fdca26\"],[1.0,\"#f0f921\"]],\"type\":\"contour\"}],\"contourcarpet\":[{\"colorbar\":{\"outlinewidth\":0,\"ticks\":\"\"},\"type\":\"contourcarpet\"}],\"heatmap\":[{\"colorbar\":{\"outlinewidth\":0,\"ticks\":\"\"},\"colorscale\":[[0.0,\"#0d0887\"],[0.1111111111111111,\"#46039f\"],[0.2222222222222222,\"#7201a8\"],[0.3333333333333333,\"#9c179e\"],[0.4444444444444444,\"#bd3786\"],[0.5555555555555556,\"#d8576b\"],[0.6666666666666666,\"#ed7953\"],[0.7777777777777778,\"#fb9f3a\"],[0.8888888888888888,\"#fdca26\"],[1.0,\"#f0f921\"]],\"type\":\"heatmap\"}],\"heatmapgl\":[{\"colorbar\":{\"outlinewidth\":0,\"ticks\":\"\"},\"colorscale\":[[0.0,\"#0d0887\"],[0.1111111111111111,\"#46039f\"],[0.2222222222222222,\"#7201a8\"],[0.3333333333333333,\"#9c179e\"],[0.4444444444444444,\"#bd3786\"],[0.5555555555555556,\"#d8576b\"],[0.6666666666666666,\"#ed7953\"],[0.7777777777777778,\"#fb9f3a\"],[0.8888888888888888,\"#fdca26\"],[1.0,\"#f0f921\"]],\"type\":\"heatmapgl\"}],\"histogram\":[{\"marker\":{\"pattern\":{\"fillmode\":\"overlay\",\"size\":10,\"solidity\":0.2}},\"type\":\"histogram\"}],\"histogram2d\":[{\"colorbar\":{\"outlinewidth\":0,\"ticks\":\"\"},\"colorscale\":[[0.0,\"#0d0887\"],[0.1111111111111111,\"#46039f\"],[0.2222222222222222,\"#7201a8\"],[0.3333333333333333,\"#9c179e\"],[0.4444444444444444,\"#bd3786\"],[0.5555555555555556,\"#d8576b\"],[0.6666666666666666,\"#ed7953\"],[0.7777777777777778,\"#fb9f3a\"],[0.8888888888888888,\"#fdca26\"],[1.0,\"#f0f921\"]],\"type\":\"histogram2d\"}],\"histogram2dcontour\":[{\"colorbar\":{\"outlinewidth\":0,\"ticks\":\"\"},\"colorscale\":[[0.0,\"#0d0887\"],[0.1111111111111111,\"#46039f\"],[0.2222222222222222,\"#7201a8\"],[0.3333333333333333,\"#9c179e\"],[0.4444444444444444,\"#bd3786\"],[0.5555555555555556,\"#d8576b\"],[0.6666666666666666,\"#ed7953\"],[0.7777777777777778,\"#fb9f3a\"],[0.8888888888888888,\"#fdca26\"],[1.0,\"#f0f921\"]],\"type\":\"histogram2dcontour\"}],\"mesh3d\":[{\"colorbar\":{\"outlinewidth\":0,\"ticks\":\"\"},\"type\":\"mesh3d\"}],\"parcoords\":[{\"line\":{\"colorbar\":{\"outlinewidth\":0,\"ticks\":\"\"}},\"type\":\"parcoords\"}],\"pie\":[{\"automargin\":true,\"type\":\"pie\"}],\"scatter\":[{\"marker\":{\"colorbar\":{\"outlinewidth\":0,\"ticks\":\"\"}},\"type\":\"scatter\"}],\"scatter3d\":[{\"line\":{\"colorbar\":{\"outlinewidth\":0,\"ticks\":\"\"}},\"marker\":{\"colorbar\":{\"outlinewidth\":0,\"ticks\":\"\"}},\"type\":\"scatter3d\"}],\"scattercarpet\":[{\"marker\":{\"colorbar\":{\"outlinewidth\":0,\"ticks\":\"\"}},\"type\":\"scattercarpet\"}],\"scattergeo\":[{\"marker\":{\"colorbar\":{\"outlinewidth\":0,\"ticks\":\"\"}},\"type\":\"scattergeo\"}],\"scattergl\":[{\"marker\":{\"colorbar\":{\"outlinewidth\":0,\"ticks\":\"\"}},\"type\":\"scattergl\"}],\"scattermapbox\":[{\"marker\":{\"colorbar\":{\"outlinewidth\":0,\"ticks\":\"\"}},\"type\":\"scattermapbox\"}],\"scatterpolar\":[{\"marker\":{\"colorbar\":{\"outlinewidth\":0,\"ticks\":\"\"}},\"type\":\"scatterpolar\"}],\"scatterpolargl\":[{\"marker\":{\"colorbar\":{\"outlinewidth\":0,\"ticks\":\"\"}},\"type\":\"scatterpolargl\"}],\"scatterternary\":[{\"marker\":{\"colorbar\":{\"outlinewidth\":0,\"ticks\":\"\"}},\"type\":\"scatterternary\"}],\"surface\":[{\"colorbar\":{\"outlinewidth\":0,\"ticks\":\"\"},\"colorscale\":[[0.0,\"#0d0887\"],[0.1111111111111111,\"#46039f\"],[0.2222222222222222,\"#7201a8\"],[0.3333333333333333,\"#9c179e\"],[0.4444444444444444,\"#bd3786\"],[0.5555555555555556,\"#d8576b\"],[0.6666666666666666,\"#ed7953\"],[0.7777777777777778,\"#fb9f3a\"],[0.8888888888888888,\"#fdca26\"],[1.0,\"#f0f921\"]],\"type\":\"surface\"}],\"table\":[{\"cells\":{\"fill\":{\"color\":\"#EBF0F8\"},\"line\":{\"color\":\"white\"}},\"header\":{\"fill\":{\"color\":\"#C8D4E3\"},\"line\":{\"color\":\"white\"}},\"type\":\"table\"}]},\"layout\":{\"annotationdefaults\":{\"arrowcolor\":\"#2a3f5f\",\"arrowhead\":0,\"arrowwidth\":1},\"autotypenumbers\":\"strict\",\"coloraxis\":{\"colorbar\":{\"outlinewidth\":0,\"ticks\":\"\"}},\"colorscale\":{\"diverging\":[[0,\"#8e0152\"],[0.1,\"#c51b7d\"],[0.2,\"#de77ae\"],[0.3,\"#f1b6da\"],[0.4,\"#fde0ef\"],[0.5,\"#f7f7f7\"],[0.6,\"#e6f5d0\"],[0.7,\"#b8e186\"],[0.8,\"#7fbc41\"],[0.9,\"#4d9221\"],[1,\"#276419\"]],\"sequential\":[[0.0,\"#0d0887\"],[0.1111111111111111,\"#46039f\"],[0.2222222222222222,\"#7201a8\"],[0.3333333333333333,\"#9c179e\"],[0.4444444444444444,\"#bd3786\"],[0.5555555555555556,\"#d8576b\"],[0.6666666666666666,\"#ed7953\"],[0.7777777777777778,\"#fb9f3a\"],[0.8888888888888888,\"#fdca26\"],[1.0,\"#f0f921\"]],\"sequentialminus\":[[0.0,\"#0d0887\"],[0.1111111111111111,\"#46039f\"],[0.2222222222222222,\"#7201a8\"],[0.3333333333333333,\"#9c179e\"],[0.4444444444444444,\"#bd3786\"],[0.5555555555555556,\"#d8576b\"],[0.6666666666666666,\"#ed7953\"],[0.7777777777777778,\"#fb9f3a\"],[0.8888888888888888,\"#fdca26\"],[1.0,\"#f0f921\"]]},\"colorway\":[\"#636efa\",\"#EF553B\",\"#00cc96\",\"#ab63fa\",\"#FFA15A\",\"#19d3f3\",\"#FF6692\",\"#B6E880\",\"#FF97FF\",\"#FECB52\"],\"font\":{\"color\":\"#2a3f5f\"},\"geo\":{\"bgcolor\":\"white\",\"lakecolor\":\"white\",\"landcolor\":\"#E5ECF6\",\"showlakes\":true,\"showland\":true,\"subunitcolor\":\"white\"},\"hoverlabel\":{\"align\":\"left\"},\"hovermode\":\"closest\",\"mapbox\":{\"style\":\"light\"},\"paper_bgcolor\":\"white\",\"plot_bgcolor\":\"#E5ECF6\",\"polar\":{\"angularaxis\":{\"gridcolor\":\"white\",\"linecolor\":\"white\",\"ticks\":\"\"},\"bgcolor\":\"#E5ECF6\",\"radialaxis\":{\"gridcolor\":\"white\",\"linecolor\":\"white\",\"ticks\":\"\"}},\"scene\":{\"xaxis\":{\"backgroundcolor\":\"#E5ECF6\",\"gridcolor\":\"white\",\"gridwidth\":2,\"linecolor\":\"white\",\"showbackground\":true,\"ticks\":\"\",\"zerolinecolor\":\"white\"},\"yaxis\":{\"backgroundcolor\":\"#E5ECF6\",\"gridcolor\":\"white\",\"gridwidth\":2,\"linecolor\":\"white\",\"showbackground\":true,\"ticks\":\"\",\"zerolinecolor\":\"white\"},\"zaxis\":{\"backgroundcolor\":\"#E5ECF6\",\"gridcolor\":\"white\",\"gridwidth\":2,\"linecolor\":\"white\",\"showbackground\":true,\"ticks\":\"\",\"zerolinecolor\":\"white\"}},\"shapedefaults\":{\"line\":{\"color\":\"#2a3f5f\"}},\"ternary\":{\"aaxis\":{\"gridcolor\":\"white\",\"linecolor\":\"white\",\"ticks\":\"\"},\"baxis\":{\"gridcolor\":\"white\",\"linecolor\":\"white\",\"ticks\":\"\"},\"bgcolor\":\"#E5ECF6\",\"caxis\":{\"gridcolor\":\"white\",\"linecolor\":\"white\",\"ticks\":\"\"}},\"title\":{\"x\":0.05},\"xaxis\":{\"automargin\":true,\"gridcolor\":\"white\",\"linecolor\":\"white\",\"ticks\":\"\",\"title\":{\"standoff\":15},\"zerolinecolor\":\"white\",\"zerolinewidth\":2},\"yaxis\":{\"automargin\":true,\"gridcolor\":\"white\",\"linecolor\":\"white\",\"ticks\":\"\",\"title\":{\"standoff\":15},\"zerolinecolor\":\"white\",\"zerolinewidth\":2}}},\"title\":{\"text\":\"Pearson Correlation of float-type features\"},\"width\":800,\"xaxis\":{\"ticks\":\"\"},\"yaxis\":{\"ticks\":\"\"}},                        {\"responsive\": true}                    ).then(function(){\n",
       "                            \n",
       "var gd = document.getElementById('5d724a2b-d0d5-4ec8-8382-9e54eb56e746');\n",
       "var x = new MutationObserver(function (mutations, observer) {{\n",
       "        var display = window.getComputedStyle(gd).display;\n",
       "        if (!display || display === 'none') {{\n",
       "            console.log([gd, 'removed!']);\n",
       "            Plotly.purge(gd);\n",
       "            observer.disconnect();\n",
       "        }}\n",
       "}});\n",
       "\n",
       "// Listen for the removal of the full notebook cells\n",
       "var notebookContainer = gd.closest('#notebook-container');\n",
       "if (notebookContainer) {{\n",
       "    x.observe(notebookContainer, {childList: true});\n",
       "}}\n",
       "\n",
       "// Listen for the clearing of the current output cell\n",
       "var outputEl = gd.closest('.output');\n",
       "if (outputEl) {{\n",
       "    x.observe(outputEl, {childList: true});\n",
       "}}\n",
       "\n",
       "                        })                };                });            </script>        </div>"
      ]
     },
     "metadata": {},
     "output_type": "display_data"
    }
   ],
   "source": [
    "data = [\n",
    "    go.Heatmap(\n",
    "        z = df_temp.corr().values,\n",
    "        x = df_temp.corr().columns.values,\n",
    "        y = df_temp.corr().columns.values,\n",
    "        colorscale='YlGnBu',\n",
    "        reversescale=False,\n",
    "    )\n",
    "]\n",
    "\n",
    "layout = go.Layout(\n",
    "    title='Pearson Correlation of float-type features',\n",
    "    xaxis = dict(ticks=''),\n",
    "    yaxis = dict(ticks='' ),\n",
    "    width = 800, height = 800,\n",
    "    margin = dict(\n",
    "        l = 100\n",
    "    )\n",
    ")\n",
    "\n",
    "fig = go.Figure(data=data, layout=layout)\n",
    "py.iplot(fig, filename='labelled-heatmap')"
   ]
  },
  {
   "cell_type": "code",
   "execution_count": 34,
   "id": "a086659f",
   "metadata": {},
   "outputs": [],
   "source": [
    "df_corr = df_app.drop('id', axis=1).corr()"
   ]
  },
  {
   "cell_type": "code",
   "execution_count": 35,
   "id": "675b22f2",
   "metadata": {},
   "outputs": [
    {
     "data": {
      "text/plain": [
       "user_rating         1.000000\n",
       "user_rating_ver     0.774140\n",
       "ipadSc_urls.num     0.265671\n",
       "lang.num            0.170976\n",
       "isNotFree           0.112472\n",
       "rating_count_tot    0.083310\n",
       "vpp_lic             0.069816\n",
       "rating_count_ver    0.068754\n",
       "size_bytes          0.066256\n",
       "size_bytes_in_MB    0.066256\n",
       "price               0.046601\n",
       "sup_devices.num    -0.042451\n",
       "Name: user_rating, dtype: float64"
      ]
     },
     "execution_count": 35,
     "metadata": {},
     "output_type": "execute_result"
    }
   ],
   "source": [
    "df_corr['user_rating'].sort_values(ascending=False)"
   ]
  },
  {
   "cell_type": "code",
   "execution_count": 36,
   "id": "b763898d",
   "metadata": {},
   "outputs": [
    {
     "data": {
      "text/plain": [
       "price               1.000000\n",
       "isNotFree           0.336317\n",
       "size_bytes          0.182392\n",
       "size_bytes_in_MB    0.182392\n",
       "ipadSc_urls.num     0.066100\n",
       "user_rating         0.046601\n",
       "user_rating_ver     0.025173\n",
       "lang.num           -0.006713\n",
       "rating_count_ver   -0.018012\n",
       "vpp_lic            -0.029942\n",
       "rating_count_tot   -0.039044\n",
       "sup_devices.num    -0.115361\n",
       "Name: price, dtype: float64"
      ]
     },
     "execution_count": 36,
     "metadata": {},
     "output_type": "execute_result"
    }
   ],
   "source": [
    "df_corr['price'].sort_values(ascending=False)"
   ]
  },
  {
   "cell_type": "code",
   "execution_count": 37,
   "id": "e2527cde",
   "metadata": {},
   "outputs": [
    {
     "data": {
      "text/plain": [
       "<matplotlib.collections.PathCollection at 0x24a4a0d4c10>"
      ]
     },
     "execution_count": 37,
     "metadata": {},
     "output_type": "execute_result"
    },
    {
     "data": {
      "image/png": "[encoded data removed]",
      "text/plain": [
       "<Figure size 576x396 with 1 Axes>"
      ]
     },
     "metadata": {},
     "output_type": "display_data"
    }
   ],
   "source": [
    "plt.scatter(df_app['user_rating'], df_app['rating_count_ver'])"
   ]
  },
  {
   "cell_type": "markdown",
   "id": "5090ca80",
   "metadata": {},
   "source": [
    "Description"
   ]
  },
  {
   "cell_type": "code",
   "execution_count": 41,
   "id": "b659078c",
   "metadata": {},
   "outputs": [],
   "source": [
    "foo = df_app['app_desc'][0].split(' ')"
   ]
  },
  {
   "cell_type": "code",
   "execution_count": 46,
   "id": "90ff3907",
   "metadata": {},
   "outputs": [
    {
     "name": "stderr",
     "output_type": "stream",
     "text": [
      "[nltk_data] Downloading package punkt to\n",
      "[nltk_data]     C:\\Users\\周蓉\\AppData\\Roaming\\nltk_data...\n",
      "[nltk_data]   Package punkt is already up-to-date!\n",
      "[nltk_data] Downloading package stopwords to\n",
      "[nltk_data]     C:\\Users\\周蓉\\AppData\\Roaming\\nltk_data...\n",
      "[nltk_data]   Unzipping corpora\\stopwords.zip.\n"
     ]
    }
   ],
   "source": [
    "import nltk\n",
    "nltk.download('punkt')\n",
    "nltk.download('stopwords')\n",
    "from nltk.corpus import stopwords"
   ]
  },
  {
   "cell_type": "code",
   "execution_count": 47,
   "id": "cf27f9cb",
   "metadata": {},
   "outputs": [
    {
     "name": "stdout",
     "output_type": "stream",
     "text": [
      "Wall time: 4min 12s\n"
     ]
    }
   ],
   "source": [
    "%%time\n",
    "for i in range(df_app.shape[0]):\n",
    "    temp_desc = df_app['app_desc'][i]\n",
    "    temp_word_list = nltk.word_tokenize(temp_desc)\n",
    "    temp_word_list = [word.lower() for word in temp_word_list if word not in stopwords.words('english')]\n",
    "    for char in \" {}()#&[]^`´-_·@|¿?¡!'+*\\\"?.!/;:<>’•“”–»%■,\":\n",
    "        for ele in temp_word_list:\n",
    "            if char in ele:\n",
    "                temp_word_list.remove(ele)\n",
    "    fdist = nltk.FreqDist(temp_word_list)\n",
    "    temp_srs = pd.Series(fdist).sort_values(ascending=False)\n",
    "    try:\n",
    "        df_app.loc[i, 'most_freq_word_1'] = temp_srs.index[0]\n",
    "        df_app.loc[i, 'most_freq_word_2'] = temp_srs.index[1]\n",
    "        df_app.loc[i, 'most_freq_word_3'] = temp_srs.index[2]\n",
    "    except:\n",
    "        df_app.loc[i, 'most_freq_word_1'] = temp_srs.index[0]"
   ]
  },
  {
   "cell_type": "code",
   "execution_count": 48,
   "id": "667ab52a",
   "metadata": {},
   "outputs": [
    {
     "data": {
      "text/plain": [
       "<AxesSubplot:>"
      ]
     },
     "execution_count": 48,
     "metadata": {},
     "output_type": "execute_result"
    },
    {
     "data": {
      "image/png": "[encoded data removed]",
      "text/plain": [
       "<Figure size 576x396 with 1 Axes>"
      ]
     },
     "metadata": {},
     "output_type": "display_data"
    }
   ],
   "source": [
    "df_app.loc[df_app['user_rating'] > 4, 'most_freq_word_3'].value_counts().head(20).plot.bar()"
   ]
  },
  {
   "cell_type": "markdown",
   "id": "5c05956e",
   "metadata": {},
   "source": [
    "# Feature Engineering"
   ]
  },
  {
   "cell_type": "code",
   "execution_count": 49,
   "id": "4077e1b7",
   "metadata": {},
   "outputs": [],
   "source": [
    "from sklearn.metrics import confusion_matrix\n",
    "from sklearn.preprocessing import OneHotEncoder\n",
    "from sklearn.model_selection import train_test_split\n",
    "import xgboost as xgb"
   ]
  },
  {
   "cell_type": "code",
   "execution_count": 50,
   "id": "17dd75c9",
   "metadata": {},
   "outputs": [],
   "source": [
    "df_app['rating_count_before'] = df_app['rating_count_tot'] - df_app['rating_count_ver']\n"
   ]
  },
  {
   "cell_type": "code",
   "execution_count": 51,
   "id": "6666cbd5",
   "metadata": {},
   "outputs": [
    {
     "data": {
      "text/html": [
       "<div>\n",
       "<style scoped>\n",
       "    .dataframe tbody tr th:only-of-type {\n",
       "        vertical-align: middle;\n",
       "    }\n",
       "\n",
       "    .dataframe tbody tr th {\n",
       "        vertical-align: top;\n",
       "    }\n",
       "\n",
       "    .dataframe thead th {\n",
       "        text-align: right;\n",
       "    }\n",
       "</style>\n",
       "<table border=\"1\" class=\"dataframe\">\n",
       "  <thead>\n",
       "    <tr style=\"text-align: right;\">\n",
       "      <th></th>\n",
       "      <th>id</th>\n",
       "      <th>track_name</th>\n",
       "      <th>size_bytes</th>\n",
       "      <th>currency</th>\n",
       "      <th>price</th>\n",
       "      <th>rating_count_tot</th>\n",
       "      <th>rating_count_ver</th>\n",
       "      <th>user_rating</th>\n",
       "      <th>user_rating_ver</th>\n",
       "      <th>ver</th>\n",
       "      <th>...</th>\n",
       "      <th>ipadSc_urls.num</th>\n",
       "      <th>lang.num</th>\n",
       "      <th>vpp_lic</th>\n",
       "      <th>size_bytes_in_MB</th>\n",
       "      <th>isNotFree</th>\n",
       "      <th>app_desc</th>\n",
       "      <th>most_freq_word_1</th>\n",
       "      <th>most_freq_word_2</th>\n",
       "      <th>most_freq_word_3</th>\n",
       "      <th>rating_count_before</th>\n",
       "    </tr>\n",
       "  </thead>\n",
       "  <tbody>\n",
       "    <tr>\n",
       "      <th>0</th>\n",
       "      <td>281656475</td>\n",
       "      <td>PAC-MAN Premium</td>\n",
       "      <td>100788224</td>\n",
       "      <td>USD</td>\n",
       "      <td>3.99</td>\n",
       "      <td>21292</td>\n",
       "      <td>26</td>\n",
       "      <td>4.0</td>\n",
       "      <td>4.5</td>\n",
       "      <td>6.3.5</td>\n",
       "      <td>...</td>\n",
       "      <td>5</td>\n",
       "      <td>10</td>\n",
       "      <td>1</td>\n",
       "      <td>96.119141</td>\n",
       "      <td>1</td>\n",
       "      <td>SAVE 20%, now only $3.99 for a limited time!\\n...</td>\n",
       "      <td>new</td>\n",
       "      <td>game</td>\n",
       "      <td>mazes</td>\n",
       "      <td>21266</td>\n",
       "    </tr>\n",
       "    <tr>\n",
       "      <th>1</th>\n",
       "      <td>281796108</td>\n",
       "      <td>Evernote - stay organized</td>\n",
       "      <td>158578688</td>\n",
       "      <td>USD</td>\n",
       "      <td>0.00</td>\n",
       "      <td>161065</td>\n",
       "      <td>26</td>\n",
       "      <td>4.0</td>\n",
       "      <td>3.5</td>\n",
       "      <td>8.2.2</td>\n",
       "      <td>...</td>\n",
       "      <td>5</td>\n",
       "      <td>23</td>\n",
       "      <td>1</td>\n",
       "      <td>151.232422</td>\n",
       "      <td>0</td>\n",
       "      <td>Let Evernote change the way you organize your ...</td>\n",
       "      <td>evernote</td>\n",
       "      <td>notes</td>\n",
       "      <td>work</td>\n",
       "      <td>161039</td>\n",
       "    </tr>\n",
       "    <tr>\n",
       "      <th>2</th>\n",
       "      <td>281940292</td>\n",
       "      <td>WeatherBug - Local Weather, Radar, Maps, Alerts</td>\n",
       "      <td>100524032</td>\n",
       "      <td>USD</td>\n",
       "      <td>0.00</td>\n",
       "      <td>188583</td>\n",
       "      <td>2822</td>\n",
       "      <td>3.5</td>\n",
       "      <td>4.5</td>\n",
       "      <td>5.0.0</td>\n",
       "      <td>...</td>\n",
       "      <td>5</td>\n",
       "      <td>3</td>\n",
       "      <td>1</td>\n",
       "      <td>95.867188</td>\n",
       "      <td>0</td>\n",
       "      <td>Download the most popular free weather app pow...</td>\n",
       "      <td>weather</td>\n",
       "      <td>alerts</td>\n",
       "      <td>lightning</td>\n",
       "      <td>185761</td>\n",
       "    </tr>\n",
       "    <tr>\n",
       "      <th>3</th>\n",
       "      <td>282614216</td>\n",
       "      <td>eBay: Best App to Buy, Sell, Save! Online Shop...</td>\n",
       "      <td>128512000</td>\n",
       "      <td>USD</td>\n",
       "      <td>0.00</td>\n",
       "      <td>262241</td>\n",
       "      <td>649</td>\n",
       "      <td>4.0</td>\n",
       "      <td>4.5</td>\n",
       "      <td>5.10.0</td>\n",
       "      <td>...</td>\n",
       "      <td>5</td>\n",
       "      <td>9</td>\n",
       "      <td>1</td>\n",
       "      <td>122.558594</td>\n",
       "      <td>0</td>\n",
       "      <td>The eBay app is the best way to find anything ...</td>\n",
       "      <td>items</td>\n",
       "      <td>ebay</td>\n",
       "      <td>new</td>\n",
       "      <td>261592</td>\n",
       "    </tr>\n",
       "    <tr>\n",
       "      <th>4</th>\n",
       "      <td>282935706</td>\n",
       "      <td>Bible</td>\n",
       "      <td>92774400</td>\n",
       "      <td>USD</td>\n",
       "      <td>0.00</td>\n",
       "      <td>985920</td>\n",
       "      <td>5320</td>\n",
       "      <td>4.5</td>\n",
       "      <td>5.0</td>\n",
       "      <td>7.5.1</td>\n",
       "      <td>...</td>\n",
       "      <td>5</td>\n",
       "      <td>45</td>\n",
       "      <td>1</td>\n",
       "      <td>88.476562</td>\n",
       "      <td>0</td>\n",
       "      <td>On more than 250 million devices around the wo...</td>\n",
       "      <td>bible</td>\n",
       "      <td>the</td>\n",
       "      <td>app</td>\n",
       "      <td>980600</td>\n",
       "    </tr>\n",
       "  </tbody>\n",
       "</table>\n",
       "<p>5 rows × 23 columns</p>\n",
       "</div>"
      ],
      "text/plain": [
       "          id                                         track_name  size_bytes  \\\n",
       "0  281656475                                    PAC-MAN Premium   100788224   \n",
       "1  281796108                          Evernote - stay organized   158578688   \n",
       "2  281940292    WeatherBug - Local Weather, Radar, Maps, Alerts   100524032   \n",
       "3  282614216  eBay: Best App to Buy, Sell, Save! Online Shop...   128512000   \n",
       "4  282935706                                              Bible    92774400   \n",
       "\n",
       "  currency  price  rating_count_tot  rating_count_ver  user_rating  \\\n",
       "0      USD   3.99             21292                26          4.0   \n",
       "1      USD   0.00            161065                26          4.0   \n",
       "2      USD   0.00            188583              2822          3.5   \n",
       "3      USD   0.00            262241               649          4.0   \n",
       "4      USD   0.00            985920              5320          4.5   \n",
       "\n",
       "   user_rating_ver     ver  ... ipadSc_urls.num lang.num  vpp_lic  \\\n",
       "0              4.5   6.3.5  ...               5       10        1   \n",
       "1              3.5   8.2.2  ...               5       23        1   \n",
       "2              4.5   5.0.0  ...               5        3        1   \n",
       "3              4.5  5.10.0  ...               5        9        1   \n",
       "4              5.0   7.5.1  ...               5       45        1   \n",
       "\n",
       "   size_bytes_in_MB  isNotFree  \\\n",
       "0         96.119141          1   \n",
       "1        151.232422          0   \n",
       "2         95.867188          0   \n",
       "3        122.558594          0   \n",
       "4         88.476562          0   \n",
       "\n",
       "                                            app_desc  most_freq_word_1  \\\n",
       "0  SAVE 20%, now only $3.99 for a limited time!\\n...               new   \n",
       "1  Let Evernote change the way you organize your ...          evernote   \n",
       "2  Download the most popular free weather app pow...           weather   \n",
       "3  The eBay app is the best way to find anything ...             items   \n",
       "4  On more than 250 million devices around the wo...             bible   \n",
       "\n",
       "   most_freq_word_2 most_freq_word_3 rating_count_before  \n",
       "0              game            mazes               21266  \n",
       "1             notes             work              161039  \n",
       "2            alerts        lightning              185761  \n",
       "3              ebay              new              261592  \n",
       "4               the              app              980600  \n",
       "\n",
       "[5 rows x 23 columns]"
      ]
     },
     "execution_count": 51,
     "metadata": {},
     "output_type": "execute_result"
    }
   ],
   "source": [
    "df_app.head()"
   ]
  },
  {
   "cell_type": "code",
   "execution_count": 52,
   "id": "93e42dfe",
   "metadata": {},
   "outputs": [
    {
     "data": {
      "text/plain": [
       "<AxesSubplot:>"
      ]
     },
     "execution_count": 52,
     "metadata": {},
     "output_type": "execute_result"
    },
    {
     "data": {
      "image/png": "[encoded data removed]",
      "text/plain": [
       "<Figure size 576x396 with 1 Axes>"
      ]
     },
     "metadata": {},
     "output_type": "display_data"
    }
   ],
   "source": [
    "df_train = df_app[['size_bytes_in_MB', 'isNotFree', 'price', 'rating_count_before', 'sup_devices.num', 'ipadSc_urls.num', 'lang.num', 'vpp_lic', 'prime_genre']]\n",
    "target = df_app['user_rating']\n",
    "\n",
    "df_train = pd.get_dummies(df_train)\n",
    "\n",
    "def categorize_rating(x):\n",
    "    if x <= 4:\n",
    "        return 0\n",
    "    else:\n",
    "        return 1\n",
    "\n",
    "target = target.apply(categorize_rating)\n",
    "\n",
    "target.astype(str).hist()"
   ]
  },
  {
   "cell_type": "code",
   "execution_count": 53,
   "id": "63da9e83",
   "metadata": {},
   "outputs": [
    {
     "name": "stdout",
     "output_type": "stream",
     "text": [
      "X_train shape: (5757, 31)\n",
      "X_test shape: (1440, 31)\n"
     ]
    }
   ],
   "source": [
    "X_train, X_test, y_train, y_test = train_test_split(df_train.values, target, test_size=0.2, random_state=1989, stratify=target)\n",
    "\n",
    "print('X_train shape:', X_train.shape)\n",
    "print('X_test shape:', X_test.shape)"
   ]
  },
  {
   "cell_type": "markdown",
   "id": "68091025",
   "metadata": {},
   "source": [
    "# Prediction"
   ]
  },
  {
   "cell_type": "code",
   "execution_count": 54,
   "id": "81667649",
   "metadata": {},
   "outputs": [],
   "source": [
    "from sklearn.metrics import accuracy_score\n",
    "from sklearn.model_selection import KFold\n",
    "from sklearn.model_selection import cross_val_score, cross_validate"
   ]
  },
  {
   "cell_type": "code",
   "execution_count": 55,
   "id": "2d514245",
   "metadata": {},
   "outputs": [],
   "source": [
    "from sklearn.ensemble import RandomForestClassifier\n",
    "\n",
    "from xgboost import XGBClassifier"
   ]
  },
  {
   "cell_type": "code",
   "execution_count": 60,
   "id": "9847811a",
   "metadata": {},
   "outputs": [
    {
     "name": "stdout",
     "output_type": "stream",
     "text": [
      "[00:52:19] WARNING: C:/Users/Administrator/workspace/xgboost-win64_release_1.5.1/src/learner.cc:1115: Starting in XGBoost 1.3.0, the default evaluation metric used with the objective 'binary:logistic' was changed from 'error' to 'logloss'. Explicitly set eval_metric if you'd like to restore the old behavior.\n",
      "[00:52:19] WARNING: C:/Users/Administrator/workspace/xgboost-win64_release_1.5.1/src/learner.cc:1115: Starting in XGBoost 1.3.0, the default evaluation metric used with the objective 'binary:logistic' was changed from 'error' to 'logloss'. Explicitly set eval_metric if you'd like to restore the old behavior.\n",
      "[00:52:19] WARNING: C:/Users/Administrator/workspace/xgboost-win64_release_1.5.1/src/learner.cc:1115: Starting in XGBoost 1.3.0, the default evaluation metric used with the objective 'binary:logistic' was changed from 'error' to 'logloss'. Explicitly set eval_metric if you'd like to restore the old behavior.\n",
      "[00:52:19] WARNING: C:/Users/Administrator/workspace/xgboost-win64_release_1.5.1/src/learner.cc:1115: Starting in XGBoost 1.3.0, the default evaluation metric used with the objective 'binary:logistic' was changed from 'error' to 'logloss'. Explicitly set eval_metric if you'd like to restore the old behavior.\n",
      "[00:52:20] WARNING: C:/Users/Administrator/workspace/xgboost-win64_release_1.5.1/src/learner.cc:1115: Starting in XGBoost 1.3.0, the default evaluation metric used with the objective 'binary:logistic' was changed from 'error' to 'logloss'. Explicitly set eval_metric if you'd like to restore the old behavior.\n",
      "[00:52:20] WARNING: C:/Users/Administrator/workspace/xgboost-win64_release_1.5.1/src/learner.cc:1115: Starting in XGBoost 1.3.0, the default evaluation metric used with the objective 'binary:logistic' was changed from 'error' to 'logloss'. Explicitly set eval_metric if you'd like to restore the old behavior.\n",
      "[00:52:20] WARNING: C:/Users/Administrator/workspace/xgboost-win64_release_1.5.1/src/learner.cc:1115: Starting in XGBoost 1.3.0, the default evaluation metric used with the objective 'binary:logistic' was changed from 'error' to 'logloss'. Explicitly set eval_metric if you'd like to restore the old behavior.\n",
      "[00:52:20] WARNING: C:/Users/Administrator/workspace/xgboost-win64_release_1.5.1/src/learner.cc:1115: Starting in XGBoost 1.3.0, the default evaluation metric used with the objective 'binary:logistic' was changed from 'error' to 'logloss'. Explicitly set eval_metric if you'd like to restore the old behavior.\n",
      "[00:52:20] WARNING: C:/Users/Administrator/workspace/xgboost-win64_release_1.5.1/src/learner.cc:1115: Starting in XGBoost 1.3.0, the default evaluation metric used with the objective 'binary:logistic' was changed from 'error' to 'logloss'. Explicitly set eval_metric if you'd like to restore the old behavior.\n",
      "[00:52:20] WARNING: C:/Users/Administrator/workspace/xgboost-win64_release_1.5.1/src/learner.cc:1115: Starting in XGBoost 1.3.0, the default evaluation metric used with the objective 'binary:logistic' was changed from 'error' to 'logloss'. Explicitly set eval_metric if you'd like to restore the old behavior.\n"
     ]
    },
    {
     "data": {
      "text/html": [
       "<div>\n",
       "<style scoped>\n",
       "    .dataframe tbody tr th:only-of-type {\n",
       "        vertical-align: middle;\n",
       "    }\n",
       "\n",
       "    .dataframe tbody tr th {\n",
       "        vertical-align: top;\n",
       "    }\n",
       "\n",
       "    .dataframe thead th {\n",
       "        text-align: right;\n",
       "    }\n",
       "</style>\n",
       "<table border=\"1\" class=\"dataframe\">\n",
       "  <thead>\n",
       "    <tr style=\"text-align: right;\">\n",
       "      <th></th>\n",
       "      <th>Classfier_name</th>\n",
       "      <th>train_score</th>\n",
       "      <th>test_score</th>\n",
       "    </tr>\n",
       "  </thead>\n",
       "  <tbody>\n",
       "    <tr>\n",
       "      <th>0</th>\n",
       "      <td>RandomForestClassifier</td>\n",
       "      <td>0.674134</td>\n",
       "      <td>0.636806</td>\n",
       "    </tr>\n",
       "    <tr>\n",
       "      <th>1</th>\n",
       "      <td>XGBClassifier</td>\n",
       "      <td>0.679173</td>\n",
       "      <td>0.627083</td>\n",
       "    </tr>\n",
       "  </tbody>\n",
       "</table>\n",
       "</div>"
      ],
      "text/plain": [
       "           Classfier_name train_score test_score\n",
       "0  RandomForestClassifier    0.674134   0.636806\n",
       "1           XGBClassifier    0.679173   0.627083"
      ]
     },
     "execution_count": 60,
     "metadata": {},
     "output_type": "execute_result"
    }
   ],
   "source": [
    "models = [RandomForestClassifier(), XGBClassifier()]\n",
    "\n",
    "kfold = KFold(n_splits=5, random_state=1989,shuffle=True)\n",
    "clf_comparison = pd.DataFrame(columns=['Classfier_name', 'train_score', 'test_score'])\n",
    "for i, model in enumerate(models):\n",
    "    clf = model\n",
    "    cv_result = cross_validate(model, X_train, y_train, cv=kfold, scoring='accuracy')\n",
    "    cv_result2 = cross_validate(model, X_test, y_test, cv=kfold, scoring='accuracy')\n",
    "    clf_comparison.loc[i, 'Classfier_name'] = model.__class__.__name__\n",
    "    clf_comparison.loc[i, 'train_score'] = cv_result['test_score'].mean()\n",
    "    clf_comparison.loc[i, 'test_score'] = cv_result2['test_score'].mean()\n",
    "\n",
    "clf_comparison"
   ]
  },
  {
   "cell_type": "code",
   "execution_count": null,
   "id": "0e810528",
   "metadata": {},
   "outputs": [],
   "source": []
  }
 ],
 "metadata": {
  "kernelspec": {
   "display_name": "Python 3",
   "language": "python",
   "name": "python3"
  },
  "language_info": {
   "codemirror_mode": {
    "name": "ipython",
    "version": 3
   },
   "file_extension": ".py",
   "mimetype": "text/x-python",
   "name": "python",
   "nbconvert_exporter": "python",
   "pygments_lexer": "ipython3",
   "version": "3.8.8"
  },
  "toc": {
   "base_numbering": 1,
   "nav_menu": {},
   "number_sections": true,
   "sideBar": true,
   "skip_h1_title": false,
   "title_cell": "Table of Contents",
   "title_sidebar": "Contents",
   "toc_cell": true,
   "toc_position": {},
   "toc_section_display": true,
   "toc_window_display": true
  }
 },
 "nbformat": 4,
 "nbformat_minor": 5
}
